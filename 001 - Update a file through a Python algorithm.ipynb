{
 "cells": [
  {
   "cell_type": "markdown",
   "id": "5c68c296-ea56-4c50-9a48-e91c528c8cdd",
   "metadata": {
    "editable": true,
    "slideshow": {
     "slide_type": ""
    },
    "tags": []
   },
   "source": [
    "To pass this course item, you must complete the activity and receive at least 80%, or 8 out of 9 points, on the questions that follow. Once you have completed the activity and questions, review the feedback provided. You can learn more about graded and practice items in the [course overview](https://www.coursera.org/learn/automate-cybersecurity-tasks-with-python/supplement/yWxIY/course-7-overview).\n",
    "\n",
    "![](https://d3c33hcgiwev3.cloudfront.net/imageAssetProxy.v1/_iFsVlZ_QSyX7ZHRF7_KiA_82a94433177a4747b3aa9bdf07e710f1_image.png?expiry=1707436800000&hmac=KgCIpz_Y9xI6-0Pv2Ckr1CAYW6CSTN8jPLHX1hNYVrw)\n",
    "\n",
    "## Activity Overview\n",
    "\n",
    "![](https://d3c33hcgiwev3.cloudfront.net/imageAssetProxy.v1/0BkuimAaR629pW_V9rrJBA_1bffcb6ec43840699d526c4e0c72a8f1_image.png?expiry=1707436800000&hmac=spxYExcmNOpAj259q9lrD_V-YpOpBfkL7PwvWhYf-Ig)\n",
    "\n",
    "In this activity, you will create a new portfolio document to demonstrate your experience using Python to develop algorithms that involve opening files and parsing their contents. You can add this document to your cybersecurity portfolio, which you can share with prospective employers or recruiters. To review the importance of building a professional portfolio and options for creating your portfolio, read [Create a cybersecurity portfolio](https://www.coursera.org/learn/automate-cybersecurity-tasks-with-python/resources/Xku4r).\n",
    "\n",
    "To create your portfolio document, you will review a scenario and follow a series of steps. This scenario is connected to the [Create another algorithm](https://www.coursera.org/learn/automate-cybersecurity-tasks-with-python/ungradedLab/aeLOb/activity-create-another-algorithm) lab that you have just completed. You will explain the code you developed in that lab, and this will help you prepare for future job interviews and other steps in the hiring process.\n",
    "\n",
    "Be sure to complete this activity before moving on. The next course item will provide you with a completed exemplar to compare to your own work.\n",
    "\n",
    "## Scenario\n",
    "\n",
    "![](https://d3c33hcgiwev3.cloudfront.net/imageAssetProxy.v1/Dd-ubZOcRf65Mu7MYWsLHA_19203be28987439a8315f57d49a662f1_image.png?expiry=1707436800000&hmac=ttj-xdq_GCIv7JIo5O6WPbNSwkHIU5P2qolysAHWjDw)\n",
    "\n",
    "Review the following scenario. Then complete the step-by-step instructions.\n",
    "\n",
    "You are a security professional working at a health care company. As part of your job, you're required to regularly update a file that identifies the employees who can access restricted content. The contents of the file are based on who is working with personal patient records. Employees are restricted access based on their IP address. There is an allow list for IP addresses permitted to sign into the restricted subnetwork. There's also a remove list that identifies which employees you must remove from this allow list.\n",
    "\n",
    "Your task is to create an algorithm that uses Python code to check whether the allow list contains any IP addresses identified on the remove list. If so, you should remove those IP addresses from the file containing the allow list.\n",
    "\n",
    "**Note:** This scenario involves developing the same algorithm that is developed in Tasks 2-7 of the [Create another algorithm](https://www.coursera.org/learn/automate-cybersecurity-tasks-with-python/ungradedLab/aeLOb/activity-create-another-algorithm) lab. (You do not need to reference Task 1 and Tasks 8-10 of the lab to complete this portfolio activity.) You should revisit the lab to get screenshots to include in your portfolio document.\n",
    "\n",
    "## Step-By-Step Instructions\n",
    "\n",
    "![](https://d3c33hcgiwev3.cloudfront.net/imageAssetProxy.v1/Ibf8PEFFQCyKTYU_ygCXzQ_26de94f464ef486482faad09de1998f1_image.png?expiry=1707436800000&hmac=CRBkqeEfJGz4nIVxLenK_yjKwuRw5b-ym1gPs8PaEPQ)\n",
    "\n",
    "Follow the instructions to complete each step of the activity. Then, answer the 9 questions at the end of the activity before going to the next course item to compare your work to a completed exemplar."
   ]
  },
  {
   "cell_type": "markdown",
   "id": "513d3e3c-fe91-4d49-9e86-2e3409515924",
   "metadata": {},
   "source": [
    "\n",
    "### **Step 1: Access the template**\n",
    "\n",
    "To use the template for this course item, click the link and select _Use Template_. (In this step, you will just open the template. More instructions for how to use the template will be included in later steps.)\n",
    "\n",
    "Link to template: [Algorithm for file updates in Python](https://docs.google.com/document/d/1-Q-6rek0szuKKyRs_AAK5ro7cdmVlJD0yW2hpufvnfc/template/preview?resourcekey=0-XV3nkFwTldiFYpmrae81xw)\n",
    "\n",
    "OR\n",
    "\n",
    "If you don’t have a Google account, you can download the template directly from the following attachment.\n",
    "\n",
    "[](https://d3c33hcgiwev3.cloudfront.net/I1H-HQimQAmbXXJWnvsKsw_deac60be1957411cac89d0fea934aff1_Algorithm-for-file-updates-in-Python.docx?Expires=1707436800&Signature=gpUEy54UqY2bKOKCTczGsRLFORmRj5Qxk8bBCCZBWCzW7s7lt~FDQovrQrtSW0yNNlX5QL3e4FQolDo62VD3JU47paDBVseF4lTHfIGZBC5icgiLCRJJx7603YQVtcOxcexoFatyu~~FobE0PmFvzvYkxPsrk2i6F2uT7RsMsTg_&Key-Pair-Id=APKAJLTNE6QMUY6HBC5A)\n",
    "\n",
    "Algorithm for file updates in Python\n",
    "\n",
    "DOCX File"
   ]
  },
  {
   "cell_type": "code",
   "execution_count": null,
   "id": "e32eae04-e3e4-4b15-ac3b-b32680f3223d",
   "metadata": {},
   "outputs": [],
   "source": [
    "\n",
    "## Step 2: Access Suporting materials\n",
    "\n",
    "The following supporting material will help you complete this activity. The document **Instructions for including Python code** provides instructions and best practices for including samples of Python code in your portfolio activity. Keep it open as you proceed to the next steps.\n",
    "\n",
    "To use the supporting material for this course item, click the link and select _Use Template_.\n",
    "\n",
    "Link to supporting material: [Instructions for including Python code](https://docs.google.com/document/d/1tTVskxQNITcJUpJww89g9S7fjWtBQ70bpM_joqj_wAA/template/preview?usp=sharing&resourcekey=0-07GgZc_37Zqj6SFJi8CxSQ)\n",
    "\n",
    "OR\n",
    "\n",
    "If you don’t have a Google account, you can download the supporting material directly from the following attachment."
   ]
  },
  {
   "cell_type": "code",
   "execution_count": null,
   "id": "dad94b46-66c8-4f9a-88f5-0445b8d89ba2",
   "metadata": {},
   "outputs": [],
   "source": []
  }
 ],
 "metadata": {
  "kernelspec": {
   "display_name": "Python 3 (ipykernel)",
   "language": "python",
   "name": "python3"
  },
  "language_info": {
   "codemirror_mode": {
    "name": "ipython",
    "version": 3
   },
   "file_extension": ".py",
   "mimetype": "text/x-python",
   "name": "python",
   "nbconvert_exporter": "python",
   "pygments_lexer": "ipython3",
   "version": "3.11.7"
  }
 },
 "nbformat": 4,
 "nbformat_minor": 5
}
