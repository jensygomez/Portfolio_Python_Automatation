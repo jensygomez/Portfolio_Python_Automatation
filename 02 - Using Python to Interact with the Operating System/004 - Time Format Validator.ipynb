{
 "cells": [
  {
   "cell_type": "markdown",
   "metadata": {},
   "source": [
    "**Author:**       Jensy Gregorio Gómez \n",
    "---------------------------------------\n",
    "**Profession:**  IT Support Analyst and Automatation with Python\n",
    "\n",
    "**Date:**         09 March 2024     \n",
    "\n",
    "**Location:**     Vila Izabel, Curitiba/PR  \n",
    "\n",
    "\n",
    "---\n",
    "\n",
    "**Contacto:**\n",
    "\n",
    "- **Email:** [contact@jensygomez.us](mailto:contact@jensygomez.us)\n",
    "- **YouTube:** [Tu Canal de YouTube](https://www.youtube.com/@systechcwb826)\n",
    "- **LinkedIn:** [Tu Perfil de LinkedIn](https://www.linkedin.com/in/jensygomez/)\n",
    "\n",
    "\n"
   ]
  },
  {
   "cell_type": "markdown",
   "metadata": {},
   "source": [
    "# **Time Format Validator**\n",
    "\n",
    "**Statement:**\n",
    "The challenge is to create a function that validates whether a given string represents a valid time in 12-hour format, i.e., in the format \"hh:mm am/pm\". The function should return `True` if the string represents a valid time and `False` otherwise.\n",
    "\n",
    "**Step-by-Step:**\n",
    "1. **Function Definition:** We will create a function called `check_time` which takes a string `text` as an argument.\n",
    "2. **Regular Expression Pattern:** We will create a regular expression pattern that matches the 12-hour time format. The pattern will take into account the \"hh:mm am/pm\" format.\n",
    "3. **Pattern Matching:** We will use the `re.search()` function from the `re` library to search for the pattern in the provided text string.\n",
    "4. **Result Validation:** We will check if any match was found. If a match is found, we will return `True`; otherwise, we will return `False`.\n",
    "5. **Example Tests:** We will perform some tests with examples to ensure that the function works correctly."
   ]
  },
  {
   "cell_type": "code",
   "execution_count": null,
   "metadata": {},
   "outputs": [],
   "source": [
    "import re\n",
    "\n",
    "# Step 1: Define a function called check_time which takes a string 'text' as an argument\n",
    "\n",
    "\n",
    "    # Step 2: Regular Expression Pattern\n",
    "\n",
    "\n",
    "\n",
    "    # Step 3: Pattern Matching\n",
    "\n",
    "\n",
    "\n",
    "    # Step 4: Result Validation\n",
    "\n",
    "\n",
    "\n",
    "# Step 5: Example Tests\n",
    "print(check_time(\"12:45pm\"))    # True\n",
    "print(check_time(\"9:59 AM\"))     # True\n",
    "print(check_time(\"6:60am\"))      # False\n",
    "print(check_time(\"five o'clock\")) # False\n",
    "\n"
   ]
  }
 ],
 "metadata": {
  "kernelspec": {
   "display_name": "Python 3 (ipykernel)",
   "language": "python",
   "name": "python3"
  },
  "language_info": {
   "codemirror_mode": {
    "name": "ipython",
    "version": 3
   },
   "file_extension": ".py",
   "mimetype": "text/x-python",
   "name": "python",
   "nbconvert_exporter": "python",
   "pygments_lexer": "ipython3",
   "version": "3.10.12"
  }
 },
 "nbformat": 4,
 "nbformat_minor": 4
}
