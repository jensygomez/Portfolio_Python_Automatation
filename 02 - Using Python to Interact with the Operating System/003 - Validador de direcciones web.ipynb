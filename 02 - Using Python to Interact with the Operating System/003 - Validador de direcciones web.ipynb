{
 "cells": [
  {
   "cell_type": "markdown",
   "metadata": {},
   "source": [
    "**Author:**       Jensy Gregorio Gómez \n",
    "---------------------------------------\n",
    "**Profession:**  IT Support Analyst and Automatation with Python\n",
    "\n",
    "**Date:**         09 March 2024 \n",
    "\n",
    "**Resolved** 27 March 2024\n",
    "\n",
    "**Location:**     Vila Izabel, Curitiba/PR  \n",
    "\n",
    "\n",
    "---\n",
    "\n",
    "**Contacto:**\n",
    "\n",
    "- **Email:** [contact@jensygomez.us](mailto:contact@jensygomez.us)\n",
    "- **YouTube:** [Tu Canal de YouTube](https://www.youtube.com/@systechcwb826)\n",
    "- **LinkedIn:** [Tu Perfil de LinkedIn](https://www.linkedin.com/in/jensygomez/)\n",
    "\n",
    "\n"
   ]
  },
  {
   "cell_type": "markdown",
   "metadata": {},
   "source": [
    "**Título:** \n",
    "# Validador de direcciones web\n",
    "\n",
    "**Escenario:** Desarrollo de una herramienta para validar direcciones web.\n",
    "\n",
    "**Pasos a seguir:**\n",
    "\n",
    "1. **Definir el objetivo:** El objetivo es crear una función que valide si una cadena dada representa una dirección web válida.\n",
    "\n",
    "2. **Establecer el patrón de validación:** Utiliza expresiones regulares para definir el patrón de una dirección web válida. El patrón considera formatos comunes de direcciones web, incluyendo aquellos con o sin el prefijo \"www\".\n",
    "\n",
    "3. **Escribir la función:** Implementa una función llamada `check_web_address` que tome una cadena como entrada y devuelva un valor booleano indicando si la cadena representa una dirección web válida según el patrón establecido.\n",
    "\n",
    "4. **Prueba de la función:** Se proporcionan varios ejemplos de direcciones web para verificar si la función devuelve el resultado esperado. \n",
    "\n",
    "5. **Iteración y refinamiento:** Evaluar los resultados y, si es necesario, ajustar el patrón de validación para cubrir casos adicionales o corregir posibles errores.\n",
    "\n",
    "6. **Optimización y mantenimiento:** Una vez que la función esté completa y probada, se puede optimizar si es necesario y mantenerla para futuras actualizaciones si las reglas de validación de direcciones web cambian."
   ]
  },
  {
   "cell_type": "code",
   "execution_count": 3,
   "metadata": {},
   "outputs": [
    {
     "name": "stdout",
     "output_type": "stream",
     "text": [
      "True\n",
      "False\n",
      "True\n",
      "False\n",
      "True\n"
     ]
    }
   ],
   "source": [
    "import re\n",
    "\n",
    "# Step 1: Define the function check_web_address(text)\n",
    "# This function validates whether the provided text represents a valid web address\n",
    "\n",
    "    \n",
    "    # Step 2: Set the regular expression pattern\n",
    "    # The pattern matches optional \"www.\" prefix, alphanumeric characters, underscore (_), and hyphen (-),\n",
    "    # followed by a period (.), and then a domain with at least two or three alphabetic letters    \n",
    "\n",
    "\n",
    "    # Step 3: Search for the pattern in the given text\n",
    "    # Using re.search() to find the pattern within the text    \n",
    "    \n",
    "    # Step 5: Return the result\n",
    "    # Return True if a match is found, False otherwise\n",
    "\n",
    "\n",
    "\n",
    "# Step 6: Test the function\n",
    "print(check_web_address(\"gmail.com\")) # True\n",
    "print(check_web_address(\"www@google\")) # False\n",
    "print(check_web_address(\"www.Coursera.org\")) # True\n",
    "print(check_web_address(\"web-address.com/homepage\")) # False\n",
    "print(check_web_address(\"My_Favorite-Blog.US\")) # True\n"
   ]
  },
  {
   "cell_type": "code",
   "execution_count": 1,
   "metadata": {},
   "outputs": [
    {
     "name": "stdout",
     "output_type": "stream",
     "text": [
      "True\n",
      "False\n",
      "True\n",
      "False\n",
      "True\n"
     ]
    }
   ],
   "source": [
    "import re\n",
    "def check_web_address(text):\n",
    "    pattern = r\"^(www\\.)?[a-zA-Z0-9_-]+\\.[a-zA-Z]{2,3}$\"\n",
    "    match = re.search(pattern, text)\n",
    "    return bool(match)\n",
    "\n",
    "# Step 6: Test the function\n",
    "print(check_web_address(\"gmail.com\")) # True\n",
    "print(check_web_address(\"www@google\")) # False\n",
    "print(check_web_address(\"www.Coursera.org\")) # True\n",
    "print(check_web_address(\"web-address.com/homepage\")) # False\n",
    "print(check_web_address(\"My_Favorite-Blog.US\")) # True"
   ]
  }
 ],
 "metadata": {
  "kernelspec": {
   "display_name": "Python 3 (ipykernel)",
   "language": "python",
   "name": "python3"
  },
  "language_info": {
   "codemirror_mode": {
    "name": "ipython",
    "version": 3
   },
   "file_extension": ".py",
   "mimetype": "text/x-python",
   "name": "python",
   "nbconvert_exporter": "python",
   "pygments_lexer": "ipython3",
   "version": "3.11.7"
  }
 },
 "nbformat": 4,
 "nbformat_minor": 4
}
