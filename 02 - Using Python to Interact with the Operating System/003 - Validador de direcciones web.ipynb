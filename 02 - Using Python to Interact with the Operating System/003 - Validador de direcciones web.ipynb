{
 "cells": [
  {
   "cell_type": "markdown",
   "metadata": {},
   "source": [
    "**Author:**       Jensy Gregorio Gómez \n",
    "---------------------------------------\n",
    "**Profession:**  IT Support Analyst and Automatation with Python\n",
    "\n",
    "**Date:**         09 March 2024 \n",
    "\n",
    "**Resolved** 27 March 2024 --> 30 march 2024\n",
    "\n",
    "**Location:**     Vila Izabel, Curitiba/PR  \n",
    "\n",
    "\n",
    "---\n",
    "\n",
    "**Contacto:**\n",
    "\n",
    "- **Email:** [contact@jensygomez.us](mailto:contact@jensygomez.us)\n",
    "- **YouTube:** [Tu Canal de YouTube](https://www.youtube.com/@systechcwb826)\n",
    "- **LinkedIn:** [Tu Perfil de LinkedIn](https://www.linkedin.com/in/jensygomez/)\n",
    "\n",
    "\n"
   ]
  },
  {
   "cell_type": "markdown",
   "metadata": {},
   "source": [
    "**Título:** \n",
    "# Validador de Direcciones Web\n",
    "\n",
    "**Escenario: Comprobación de Direcciones Web**\n",
    "\n",
    "**Paso a Paso:**\n",
    "\n",
    "1. **Importación del Módulo y Definición de la Función:**\n",
    "   - Importar el módulo `re` para utilizar expresiones regulares.\n",
    "   - Definir una función llamada `check_web_address` que toma un parámetro `text`, que representa la dirección web a ser validada.\n",
    "\n",
    "2. **Definición del Patrón de Expresión Regular:**\n",
    "   - Crear un patrón de expresión regular que:\n",
    "     - Empieza con una cadena opcional \"www.\".\n",
    "     - Luego, contiene uno o más caracteres alfanuméricos, guiones bajos o guiones, seguidos de un punto.\n",
    "     - Después del punto, contiene de 2 a 3 letras mayúsculas o minúsculas.\n",
    "     - El uso de `r` antes de la cadena permite interpretarla como una cadena raw para evitar problemas de escape.\n",
    "\n",
    "3. **Búsqueda y Coincidencia:**\n",
    "   - Utilizar `re.search` para buscar coincidencias entre el patrón y el texto proporcionado.\n",
    "   - Almacenar el resultado de la búsqueda en la variable `match`.\n",
    "\n",
    "4. **Devolver el Resultado:**\n",
    "   - Devolver `True` si hay una coincidencia y `False` si no la hay.\n",
    "   - Utilizar `bool(match)` para convertir el resultado de la búsqueda en un valor booleano.\n",
    "\n",
    "5. **Pruebas:**\n",
    "   - Ejecutar la función `check_web_address` con diferentes direcciones web.\n",
    "   - Mostrar el resultado de cada llamada utilizando la función `print`.\n"
   ]
  },
  {
   "cell_type": "code",
   "execution_count": 5,
   "metadata": {},
   "outputs": [
    {
     "name": "stdout",
     "output_type": "stream",
     "text": [
      "True\n",
      "False\n",
      "True\n",
      "False\n",
      "True\n"
     ]
    }
   ],
   "source": [
    "# 1. **Importación del Módulo y Definición de la Función:**\n",
    "#    - Importar el módulo `re` para utilizar expresiones regulares.\n",
    "\n",
    "#    - Definir una función llamada `check_web_address` que toma un parámetro `text`, que representa la dirección web a ser validada.\n",
    "\n",
    "\n",
    "    # 2. **Definición del Patrón de Expresión Regular:**\n",
    "    #    - Crear un patrón de expresión regular que:\n",
    "    #      - Empieza con una cadena opcional \"www.\".\n",
    "    #      - Luego, contiene uno o más caracteres alfanuméricos, guiones bajos o guiones, seguidos de un punto.\n",
    "    #      - Después del punto, contiene de 2 a 3 letras mayúsculas o minúsculas.\n",
    "    #      - El uso de `r` antes de la cadena permite interpretarla como una cadena raw para evitar problemas de escape.\n",
    "\n",
    "\n",
    "\n",
    "    # 3. **Búsqueda y Coincidencia:**\n",
    "    #    - Utilizar `re.search` para buscar coincidencias entre el patrón y el texto proporcionado.\n",
    "    #    - Almacenar el resultado de la búsqueda en la variable `match`.\n",
    "\n",
    "\n",
    "    # 4. **Devolver el Resultado:**\n",
    "    #    - Devolver `True` si hay una coincidencia y `False` si no la hay.\n",
    "    #    - Utilizar `bool(match)` para convertir el resultado de la búsqueda en un valor booleano.\n",
    "\n",
    "# 5. **Pruebas:**\n",
    "#    - Ejecutar la función `check_web_address` con diferentes direcciones web.\n",
    "#    - Mostrar el resultado de cada llamada utilizando la función `print`.\n",
    "print(check_web_address(\"gmail.com\")) # True\n",
    "print(check_web_address(\"www@google\")) # False\n",
    "print(check_web_address(\"www.Coursera.org\")) # True\n",
    "print(check_web_address(\"web-address.com/homepage\")) # False\n",
    "print(check_web_address(\"My_Favorite-Blog.US\")) # True\n"
   ]
  },
  {
   "cell_type": "code",
   "execution_count": 4,
   "metadata": {},
   "outputs": [
    {
     "name": "stdout",
     "output_type": "stream",
     "text": [
      "True\n",
      "False\n",
      "True\n",
      "False\n",
      "True\n"
     ]
    }
   ],
   "source": [
    "import re\n",
    "def check_web_address(text):\n",
    "    pattern = r\"^(www\\.)?[a-zA-Z0-9_-]+\\.[a-zA-Z]{2,3}$\"\n",
    "    match = re.search(pattern, text)\n",
    "    return bool(match)\n",
    "\n",
    "# Step 6: Test the function\n",
    "print(check_web_address(\"gmail.com\")) # True\n",
    "print(check_web_address(\"www@google\")) # False\n",
    "print(check_web_address(\"www.Coursera.org\")) # True\n",
    "print(check_web_address(\"web-address.com/homepage\")) # False\n",
    "print(check_web_address(\"My_Favorite-Blog.US\")) # True"
   ]
  }
 ],
 "metadata": {
  "kernelspec": {
   "display_name": "Python 3 (ipykernel)",
   "language": "python",
   "name": "python3"
  },
  "language_info": {
   "codemirror_mode": {
    "name": "ipython",
    "version": 3
   },
   "file_extension": ".py",
   "mimetype": "text/x-python",
   "name": "python",
   "nbconvert_exporter": "python",
   "pygments_lexer": "ipython3",
   "version": "3.11.7"
  }
 },
 "nbformat": 4,
 "nbformat_minor": 4
}
