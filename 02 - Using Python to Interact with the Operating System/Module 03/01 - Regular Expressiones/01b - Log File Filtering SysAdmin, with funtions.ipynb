{
 "cells": [
  {
   "cell_type": "code",
   "execution_count": null,
   "metadata": {},
   "outputs": [],
   "source": []
  },
  {
   "cell_type": "markdown",
   "metadata": {},
   "source": [
    "**Author:**       Jensy Gregorio Gómez \n",
    "---------------------------------------\n",
    "**Profession:**  IT Support Analyst and Automatation with Python\n",
    "\n",
    "**Date:**         05 March 2024     \n",
    "\n",
    "**Location:**     Vila Izabel, Curitiba/PR  \n",
    "\n",
    "\n",
    "---\n",
    "\n",
    "**Contacto:**\n",
    "\n",
    "- **Email:** [contact@jensygomez.us](mailto:contact@jensygomez.us)\n",
    "- **YouTube:** [Tu Canal de YouTube](https://www.youtube.com/@systechcwb826)\n",
    "- **LinkedIn:** [Tu Perfil de LinkedIn](https://www.linkedin.com/in/jensygomez/)\n",
    "\n",
    "\n"
   ]
  },
  {
   "cell_type": "markdown",
   "metadata": {},
   "source": [
    "\n",
    " # **Log File Filtering as SysAdmin, With Functions**\n",
    "Description:\n",
    "Suppose you are a **system administrator** and you have a series of log files from different services on your system. You want to write a **Python script** that can filter the log files and display only the lines corresponding to certain types of events, using **regular expressions**.\n",
    "\n",
    "Tasks:\n",
    "1. Create a list of strings simulating the lines of a log file.\n",
    "2. Write a **Python function** that takes this list of strings and a **regular expression** as input, and returns only the lines that match the regular expression.\n",
    "3. Test the function with different regular expressions and observe the results.\n",
    "\n",
    "**Code Explanation:** Define a function `filter_log_lines` that takes a list of strings (`log_lines`) and a regular expression pattern (`regex_pattern`) as input. Use Python's `re` module to search for all lines that match the provided regular expression pattern. Include an example usage where log file lines are simulated and filtered using different regular expressions to find lines containing certain events such as \"ERROR\" or \"WARNING\" with a timestamp. This exercise can be expanded to include more test cases and more complex regular expressions according to the needs of the sysadmin."
   ]
  },
  {
   "cell_type": "markdown",
   "metadata": {},
   "source": [
    "# Step by Step With Functions:"
   ]
  },
  {
   "cell_type": "markdown",
   "metadata": {},
   "source": [
    "### **Step 1**: Import the `re` module to work with regular expressions."
   ]
  },
  {
   "cell_type": "code",
   "execution_count": null,
   "metadata": {},
   "outputs": [],
   "source": [
    "# Import the regular expression module\n"
   ]
  },
  {
   "cell_type": "markdown",
   "metadata": {},
   "source": [
    "### **Step 2**: Define a function to filter log lines using a regular expression.."
   ]
  },
  {
   "cell_type": "code",
   "execution_count": null,
   "metadata": {},
   "outputs": [],
   "source": [
    "#    Filter log lines based on a regular expression pattern.\n",
    "\n",
    "#    Args:\n",
    "#        log_lines (list): A list of strings representing log lines.\n",
    "#        regex_pattern (str): A regular expression pattern to match log lines.\n",
    "\n",
    "#    Returns:\n",
    "#        list: A list of log lines that match the regular expression pattern.\n",
    "\n",
    "\n",
    "    # Initialize an empty list to store filtered log lines\n",
    "\n",
    "    # Iterate through each log line\n",
    "\n",
    "        # Check if the regular expression pattern matches the current log line\n",
    "\n",
    "            # If there's a match, add the log line to the filtered list\n",
    "\n",
    "    # Return the list of filtered log lines\n",
    "\n"
   ]
  },
  {
   "cell_type": "markdown",
   "metadata": {},
   "source": [
    "### **Step 3**: Create a list of strings simulating log file lines."
   ]
  },
  {
   "cell_type": "code",
   "execution_count": null,
   "metadata": {},
   "outputs": [],
   "source": [
    "# Define a list of simulated log entries\n"
   ]
  },
  {
   "cell_type": "markdown",
   "metadata": {},
   "source": [
    "### **Step 4**: Define a regular expression pattern."
   ]
  },
  {
   "cell_type": "code",
   "execution_count": null,
   "metadata": {},
   "outputs": [],
   "source": [
    "# Define a regular expression pattern to match the string \"ERROR\"\n",
    "\n"
   ]
  },
  {
   "cell_type": "markdown",
   "metadata": {},
   "source": [
    "### **Step 5**: Call the `filter_log_lines` function with the list of log lines and the regular expression pattern as arguments."
   ]
  },
  {
   "cell_type": "code",
   "execution_count": null,
   "metadata": {},
   "outputs": [],
   "source": [
    "# Filter log lines based on the provided regular expression pattern\n",
    "\n",
    "# Iterate through each filtered log line\n",
    "\n",
    "    # Print the filtered log line\n"
   ]
  }
 ],
 "metadata": {
  "kernelspec": {
   "display_name": "Python 3 (ipykernel)",
   "language": "python",
   "name": "python3"
  },
  "language_info": {
   "codemirror_mode": {
    "name": "ipython",
    "version": 3
   },
   "file_extension": ".py",
   "mimetype": "text/x-python",
   "name": "python",
   "nbconvert_exporter": "python",
   "pygments_lexer": "ipython3",
   "version": "3.12.2"
  }
 },
 "nbformat": 4,
 "nbformat_minor": 2
}
