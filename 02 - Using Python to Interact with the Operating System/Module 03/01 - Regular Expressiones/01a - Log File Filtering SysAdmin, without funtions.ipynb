{
 "cells": [
  {
   "cell_type": "code",
   "execution_count": null,
   "metadata": {},
   "outputs": [],
   "source": []
  },
  {
   "cell_type": "markdown",
   "metadata": {},
   "source": [
    "**Author:**       Jensy Gregorio Gómez \n",
    "---------------------------------------\n",
    "**Profession:**  IT Support Analyst and Automatation with Python\n",
    "\n",
    "**Date:**         05 March 2024     \n",
    "\n",
    "**Location:**     Vila Izabel, Curitiba/PR  \n",
    "\n",
    "\n",
    "---\n",
    "\n",
    "**Contacto:**\n",
    "\n",
    "- **Email:** [contact@jensygomez.us](mailto:contact@jensygomez.us)\n",
    "- **YouTube:** [Tu Canal de YouTube](https://www.youtube.com/@systechcwb826)\n",
    "- **LinkedIn:** [Tu Perfil de LinkedIn](https://www.linkedin.com/in/jensygomez/)\n",
    "\n",
    "\n"
   ]
  },
  {
   "cell_type": "markdown",
   "metadata": {},
   "source": [
    "\n",
    " # **Log File Filtering as SysAdmin, Without Functions**\n",
    "Description:\n",
    "Suppose you are a **system administrator** and you have a series of log files from different services on your system. You want to write a **Python script** that can filter the log files and display only the lines corresponding to certain types of events, using **regular expressions**.\n",
    "\n",
    "Tasks:\n",
    "1. Create a list of strings simulating the lines of a log file.\n",
    "2. Write a **Python function** that takes this list of strings and a **regular expression** as input, and returns only the lines that match the regular expression.\n",
    "3. Test the function with different regular expressions and observe the results.\n",
    "\n",
    "**Code Explanation:** Define a function `filter_log_lines` that takes a list of strings (`log_lines`) and a regular expression pattern (`regex_pattern`) as input. Use Python's `re` module to search for all lines that match the provided regular expression pattern. Include an example usage where log file lines are simulated and filtered using different regular expressions to find lines containing certain events such as \"ERROR\" or \"WARNING\" with a timestamp. This exercise can be expanded to include more test cases and more complex regular expressions according to the needs of the sysadmin."
   ]
  },
  {
   "cell_type": "markdown",
   "metadata": {},
   "source": [
    "# Step by Step Without Functions:"
   ]
  },
  {
   "cell_type": "markdown",
   "metadata": {},
   "source": [
    "### **Step 1**: Import the `re` module to work with regular expressions."
   ]
  },
  {
   "cell_type": "code",
   "execution_count": null,
   "metadata": {},
   "outputs": [],
   "source": [
    "# Import the regular expression module\n"
   ]
  },
  {
   "cell_type": "markdown",
   "metadata": {},
   "source": [
    "### **Step 2**: Create a list of strings simulating log file lines."
   ]
  },
  {
   "cell_type": "code",
   "execution_count": null,
   "metadata": {},
   "outputs": [],
   "source": [
    "# Define a list of simulated log entries\n"
   ]
  },
  {
   "cell_type": "markdown",
   "metadata": {},
   "source": [
    "### **Step 3**: Define a regular expression pattern."
   ]
  },
  {
   "cell_type": "code",
   "execution_count": null,
   "metadata": {},
   "outputs": [],
   "source": [
    "# Define a regular expression pattern to match the string \"ERROR\"\n"
   ]
  },
  {
   "cell_type": "markdown",
   "metadata": {},
   "source": [
    "### **Step 4**: Iterate over the log file lines and use the `search()` method from the `re` library to look for matches with the regular expression pattern."
   ]
  },
  {
   "cell_type": "code",
   "execution_count": null,
   "metadata": {},
   "outputs": [],
   "source": [
    "# Iterate through each line in the list of log entries\n",
    "\n",
    "\n",
    "    # Check if the regular expression pattern matches the current line\n",
    "\n",
    "\n",
    "        # Print the line if it matches the pattern\n"
   ]
  },
  {
   "cell_type": "markdown",
   "metadata": {},
   "source": [
    "\n",
    "This code snippet iterates through each line in the list of log entries (`log_lines`). For each line, it uses the `re.search()` function from the `re` module to check if the regular expression pattern (`regex_pattern`) matches the current line. If a match is found, the line is printed."
   ]
  }
 ],
 "metadata": {
  "kernelspec": {
   "display_name": "Python 3 (ipykernel)",
   "language": "python",
   "name": "python3"
  },
  "language_info": {
   "codemirror_mode": {
    "name": "ipython",
    "version": 3
   },
   "file_extension": ".py",
   "mimetype": "text/x-python",
   "name": "python",
   "nbconvert_exporter": "python",
   "pygments_lexer": "ipython3",
   "version": "3.12.2"
  }
 },
 "nbformat": 4,
 "nbformat_minor": 2
}
