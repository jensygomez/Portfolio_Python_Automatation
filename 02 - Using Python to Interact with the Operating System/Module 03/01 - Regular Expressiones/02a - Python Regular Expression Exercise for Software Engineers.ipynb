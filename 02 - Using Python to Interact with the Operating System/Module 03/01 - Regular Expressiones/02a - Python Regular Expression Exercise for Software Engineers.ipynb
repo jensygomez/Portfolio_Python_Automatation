{
 "cells": [
  {
   "cell_type": "code",
   "execution_count": null,
   "metadata": {},
   "outputs": [],
   "source": []
  },
  {
   "cell_type": "markdown",
   "metadata": {},
   "source": [
    "**Author:**       Jensy Gregorio Gómez \n",
    "---------------------------------------\n",
    "**Profession:**  IT Support Analyst and Automatation with Python\n",
    "\n",
    "**Date:**         05 March 2024     \n",
    "\n",
    "**Location:**     Vila Izabel, Curitiba/PR  \n",
    "\n",
    "\n",
    "---\n",
    "\n",
    "**Contacto:**\n",
    "\n",
    "- **Email:** [contact@jensygomez.us](mailto:contact@jensygomez.us)\n",
    "- **YouTube:** [Tu Canal de YouTube](https://www.youtube.com/@systechcwb826)\n",
    "- **LinkedIn:** [Tu Perfil de LinkedIn](https://www.linkedin.com/in/jensygomez/)\n",
    "\n",
    "\n"
   ]
  },
  {
   "cell_type": "markdown",
   "metadata": {},
   "source": [
    "\n",
    " # **Python Regular Expression Exercise for Software Engineers, Without Funtions**\n",
    "Description:\n",
    "Suppose we have a text file called \"log.txt\" containing log lines with information about errors in a system. We want to extract all lines containing the word \"error\" anywhere in the text. Here's the code without functions:"
   ]
  },
  {
   "cell_type": "markdown",
   "metadata": {},
   "source": [
    "# Step by Step Without Functions:"
   ]
  },
  {
   "cell_type": "markdown",
   "metadata": {},
   "source": [
    "### **Step 1**: Import the `re` module to work with regular expressions."
   ]
  },
  {
   "cell_type": "code",
   "execution_count": null,
   "metadata": {},
   "outputs": [],
   "source": [
    "# Import the regular expression module\n"
   ]
  },
  {
   "cell_type": "markdown",
   "metadata": {},
   "source": [
    "### **Step 2**: # Open the log file.\n",
    "\n",
    "Explanation:\n",
    "\n",
    "-   `open()` is used to open the \"log.txt\" file in read mode (\"r\").\n",
    "-   A `with` block is used to ensure the file is properly closed after its use.\n",
    "-   `readlines()` reads all lines from the file and stores them in the list `lines`."
   ]
  },
  {
   "cell_type": "code",
   "execution_count": null,
   "metadata": {},
   "outputs": [],
   "source": [
    "# Open the log file\n",
    "\n",
    "    # Read all lines from the file\n"
   ]
  },
  {
   "cell_type": "markdown",
   "metadata": {},
   "source": [
    "### **Step 3**: Define the regular expression pattern\n",
    "\n",
    "\n",
    "Explanation:\n",
    "\n",
    "-   The `re` module is imported to work with regular expressions.\n",
    "-   A regular expression pattern `r'.*error.*'` is defined, which matches any line containing the word \"error\" anywhere in the line, ignoring case."
   ]
  },
  {
   "cell_type": "code",
   "execution_count": null,
   "metadata": {},
   "outputs": [],
   "source": [
    "# Regular expression pattern to find lines with the word \"error\"\n",
    "\n"
   ]
  },
  {
   "cell_type": "markdown",
   "metadata": {},
   "source": [
    "### **Step 4**: Filter lines matching the pattern\n",
    "\n",
    "\n",
    "Explanation:\n",
    "\n",
    "-   A list comprehension is used to iterate over all lines read from the file and apply the regular expression pattern.\n",
    "-   `pattern.match(line)` checks if the line matches the pattern.\n",
    "-   `line.strip()` is used to remove any leading or trailing whitespace from the line.\n",
    "-   Lines matching the pattern are stored in the `error_lines` list."
   ]
  },
  {
   "cell_type": "code",
   "execution_count": null,
   "metadata": {},
   "outputs": [],
   "source": [
    "# Filter lines that match the pattern\n",
    "\n"
   ]
  },
  {
   "cell_type": "markdown",
   "metadata": {},
   "source": [
    "### **Step 5**: Print lines containing the word \"error\"\n",
    "\n",
    "Explanation:\n",
    "\n",
    "-   It iterates over the `error_lines` list.\n",
    "-   Each line containing the word \"error\" is printed to the console."
   ]
  },
  {
   "cell_type": "code",
   "execution_count": null,
   "metadata": {},
   "outputs": [],
   "source": [
    "# Print lines containing the word \"error\"\n"
   ]
  }
 ],
 "metadata": {
  "kernelspec": {
   "display_name": "Python 3 (ipykernel)",
   "language": "python",
   "name": "python3"
  },
  "language_info": {
   "codemirror_mode": {
    "name": "ipython",
    "version": 3
   },
   "file_extension": ".py",
   "mimetype": "text/x-python",
   "name": "python",
   "nbconvert_exporter": "python",
   "pygments_lexer": "ipython3",
   "version": "3.12.2"
  }
 },
 "nbformat": 4,
 "nbformat_minor": 2
}
