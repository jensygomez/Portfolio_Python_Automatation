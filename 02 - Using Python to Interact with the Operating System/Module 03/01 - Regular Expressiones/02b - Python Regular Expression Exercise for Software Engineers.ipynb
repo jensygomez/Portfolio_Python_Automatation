{
 "cells": [
  {
   "cell_type": "code",
   "execution_count": null,
   "metadata": {},
   "outputs": [],
   "source": []
  },
  {
   "cell_type": "markdown",
   "metadata": {},
   "source": [
    "**Author:**       Jensy Gregorio Gómez \n",
    "---------------------------------------\n",
    "**Profession:**  IT Support Analyst and Automatation with Python\n",
    "\n",
    "**Date:**         05 March 2024     \n",
    "\n",
    "**Location:**     Vila Izabel, Curitiba/PR  \n",
    "\n",
    "\n",
    "---\n",
    "\n",
    "**Contacto:**\n",
    "\n",
    "- **Email:** [contact@jensygomez.us](mailto:contact@jensygomez.us)\n",
    "- **YouTube:** [Tu Canal de YouTube](https://www.youtube.com/@systechcwb826)\n",
    "- **LinkedIn:** [Tu Perfil de LinkedIn](https://www.linkedin.com/in/jensygomez/)\n",
    "\n",
    "\n"
   ]
  },
  {
   "cell_type": "markdown",
   "metadata": {},
   "source": [
    "\n",
    " # **Python Regular Expression Exercise for Software Engineers, With Funtions**\n",
    "Description:\n",
    "Suppose we have a text file called \"log.txt\" containing log lines with information about errors in a system. We want to extract all lines containing the word \"error\" anywhere in the text. Here's the code without functions:"
   ]
  },
  {
   "cell_type": "markdown",
   "metadata": {},
   "source": [
    "# Step by Step With Functions:"
   ]
  },
  {
   "cell_type": "markdown",
   "metadata": {},
   "source": [
    "### **Step 1**: Import the `re` module to work with regular expressions."
   ]
  },
  {
   "cell_type": "code",
   "execution_count": null,
   "metadata": {},
   "outputs": [],
   "source": [
    "# Import the regular expression module\n"
   ]
  },
  {
   "cell_type": "markdown",
   "metadata": {},
   "source": [
    "### **Step 2**: Define the find_lines_with_error function\n",
    "\n",
    "Explanation:\n",
    "\n",
    "\n",
    "This block defines a function called `find_lines_with_error`. This function takes an argument `file`, which is the name of the file to be processed. The function opens the file in read mode (`\"r\"`) and reads all the lines into a list called `lines`. Then, it uses a regular expression to search for lines containing the word \"error\" (ignoring case) and saves them into a list called `error_lines`. Finally, it returns this list."
   ]
  },
  {
   "cell_type": "code",
   "execution_count": null,
   "metadata": {},
   "outputs": [],
   "source": [
    "    # Open the file specified by the 'file' parameter in read mode ('r')\n",
    "\n",
    "        # Read all lines from the file and store them in the 'lines' list\n",
    "\n",
    "    # Define a regular expression pattern to match lines containing the word 'error',\n",
    "    # ignoring the case of the letters\n",
    "\n",
    "    # Create a list comprehension to filter lines that match the pattern and strip\n",
    "    # whitespace from each line, storing them in the 'error_lines' list\n",
    "\n",
    "    # Return the list of lines containing errors\n",
    "\n"
   ]
  },
  {
   "cell_type": "markdown",
   "metadata": {},
   "source": [
    "### **Step 3**: Define the main function\n",
    "\n",
    "\n",
    "Explanation:\n",
    "\n",
    "This block defines a function called main, which is the main function of the program. In this case, it simply sets the filename as \"log.txt\", calls the find_lines_with_error function to find error lines in that file, and then prints each error line."
   ]
  },
  {
   "cell_type": "code",
   "execution_count": null,
   "metadata": {},
   "outputs": [],
   "source": [
    "\n",
    "    # Set the filename to be processed\n",
    "\n",
    "    # Call the find_lines_with_error function to find error lines in the file\n",
    "\n",
    "    # Iterate over each error line and print it\n",
    "\n"
   ]
  },
  {
   "cell_type": "markdown",
   "metadata": {},
   "source": [
    "### **Step 4**: Execute the program if called directly\n",
    "\n",
    "\n",
    "Explanation:\n",
    "\n",
    "This block checks if the script is being executed directly (not imported as a module). If so, it calls the `main` function to start the program execution. This allows the script to be imported as a module in other scripts without automatically executing it."
   ]
  },
  {
   "cell_type": "code",
   "execution_count": null,
   "metadata": {},
   "outputs": [],
   "source": [
    "# Check if the script is being executed directly\n",
    "\n",
    "    # If so, call the main function to start the program execution\n",
    "\n"
   ]
  }
 ],
 "metadata": {
  "kernelspec": {
   "display_name": "Python 3 (ipykernel)",
   "language": "python",
   "name": "python3"
  },
  "language_info": {
   "codemirror_mode": {
    "name": "ipython",
    "version": 3
   },
   "file_extension": ".py",
   "mimetype": "text/x-python",
   "name": "python",
   "nbconvert_exporter": "python",
   "pygments_lexer": "ipython3",
   "version": "3.12.2"
  }
 },
 "nbformat": 4,
 "nbformat_minor": 2
}
