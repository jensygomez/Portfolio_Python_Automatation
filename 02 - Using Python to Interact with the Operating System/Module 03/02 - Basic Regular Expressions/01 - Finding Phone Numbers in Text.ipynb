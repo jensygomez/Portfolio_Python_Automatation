{
 "cells": [
  {
   "cell_type": "markdown",
   "metadata": {},
   "source": [
    "**Author:**       Jensy Gregorio Gómez \n",
    "---------------------------------------\n",
    "**Profession:**         IT Support Analyst and Automatation with Python\n",
    "\n",
    "**Creation date:**      06 March 2024     \n",
    "\n",
    "**Location:**           Vila Izabel, Curitiba/PR  \n",
    "\n",
    "\n",
    "---\n",
    "\n",
    "**Contacto:**\n",
    "\n",
    "- **Email:** [contact@jensygomez.us](mailto:contact@jensygomez.us)\n",
    "- **YouTube:** [Tu Canal de YouTube](https://www.youtube.com/@systechcwb826)\n",
    "- **LinkedIn:** [Tu Perfil de LinkedIn](https://www.linkedin.com/in/jensygomez/)\n",
    "\n",
    "\n"
   ]
  },
  {
   "cell_type": "markdown",
   "metadata": {},
   "source": [
    "# Finding Phone Numbers in Text\n",
    "\n",
    "#### Description:\n",
    "Write a Python program that can search and extract phone numbers from a given text using regular expressions. The program should first perform the search without using functions, and then it will be refactored to include functions and a main block.\n",
    "\n",
    "#### Step-by-Step:\n",
    "\n",
    "1. **Import the re Module**: Import the `re` module to use regular expressions.\n",
    "2. **Define the Input Text**: Define a text that contains phone numbers in various formats (e.g., (123) 456-7890, 123-456-7890, 123.456.7890, etc.).\n",
    "3. **Create the Regular Expression**: Create a regular expression that can recognize and capture phone numbers in different formats.\n",
    "4. **Find the Phone Numbers**: Use the regular expression to search and extract the phone numbers from the text.\n",
    "5. **Print the Found Numbers**: Print the phone numbers found in the text.\n",
    "\n",
    "#### Refactoring Steps:\n",
    "\n",
    "1. **Convert Code into Functions**: Convert each step of the code into a separate function, for example, one function to define the text, another to create the regular expression, another to search for the phone numbers, and another to print the results.\n",
    "2. **Create the Main Function**: Create a main function `main()` that calls the previously created functions in order.\n",
    "3. **Execute the Main Function**: Call the `main()` function to run the program.\n",
    "\n",
    "You can then refactor the code accordingly to practice your Python skills!"
   ]
  },
  {
   "cell_type": "markdown",
   "metadata": {},
   "source": [
    "\n",
    "### Step 1: **Import the `re` module**\n",
    "\n",
    "**Explanation:** Importing the `re` module allows us to use regular expressions in Python. The `re` module provides functions and methods for working with regular expressions."
   ]
  },
  {
   "cell_type": "code",
   "execution_count": 7,
   "metadata": {},
   "outputs": [],
   "source": [
    "# Step 1: Import the csv module\n"
   ]
  },
  {
   "cell_type": "markdown",
   "metadata": {},
   "source": [
    "### **Step 2**: Define the input text\n",
    "\n",
    "In this step, we define a variable `text` to store the input text. The input text is a multi-line string enclosed in triple quotes (`\"\"\"`). This allows us to include newline characters and special characters without escaping them explicitly. The `text` variable contains an example text with various phone number formats.\n",
    "\n",
    "By defining the input text, we provide the data on which we will perform the phone number extraction operation using regular expressions.\n",
    "\n"
   ]
  },
  {
   "cell_type": "code",
   "execution_count": null,
   "metadata": {},
   "outputs": [],
   "source": [
    "# Step 2: Define the input text\n",
    "\n"
   ]
  },
  {
   "cell_type": "markdown",
   "metadata": {},
   "source": [
    "### **Step 3**: Create the regular expression\n",
    "\n",
    "\n",
    "### Explanation:\n",
    "\n",
    "Regular expressions, often abbreviated as **regex**, are patterns used to match character combinations in strings.\n",
    "\n",
    "In this step, we utilize the `re.findall()` function to search for patterns in the text. The **pattern** we're using, defined as `pattern = r'\\(?\\d{3}\\)?[-.\\s]?\\d{3}[-.\\s]?\\d{4}'`, is constructed as follows:\n",
    "\n",
    "- `\\(` and `\\)` are used to match literal parentheses.\n",
    "- `\\d` matches any digit (0-9).\n",
    "- `{3}` specifies that the preceding `\\d` must occur exactly 3 times.\n",
    "- `[-.\\s]?` matches either a hyphen, a period, or whitespace (space).\n",
    "- `[-.\\s]?` allows for an optional occurrence of a hyphen, a period, or whitespace (space).\n",
    "- `\\d{3}` matches exactly three digits.\n",
    "- `[-.\\s]?` allows for another optional occurrence of a hyphen, a period, or whitespace (space).\n",
    "- `\\d{4}` matches exactly four digits.\n",
    "\n",
    "This pattern allows us to capture phone numbers in various formats, such as (123) 456-7890, 123-456-7890, 123.456.7890, etc."
   ]
  },
  {
   "cell_type": "code",
   "execution_count": 9,
   "metadata": {},
   "outputs": [],
   "source": [
    "# Step 3: Create the regular expression\n"
   ]
  },
  {
   "cell_type": "markdown",
   "metadata": {},
   "source": [
    "### **Step 4**:  Find phone numbers\n",
    "\n",
    "In this step, we use the `findall` function from the `re` module in Python to **search** for all occurrences of phone numbers in the given text. The `findall` function **extracts** all non-overlapping matches of the regular expression pattern from the text. This allows us to **retrieve** a list of all phone numbers present in the text. Finally, we store these found phone numbers in the variable `numbers` for further processing.\n"
   ]
  },
  {
   "cell_type": "code",
   "execution_count": 13,
   "metadata": {},
   "outputs": [],
   "source": [
    "# Step 4 Find phone numbers\n"
   ]
  },
  {
   "cell_type": "markdown",
   "metadata": {},
   "source": [
    "\n",
    "### Step 5: Print the found numbers\n",
    "\n",
    "In this step, we **print** the **found numbers** using a loop. First, we **iterate** over each **number** in the **list** of **numbers** found using the **regular expression**. Then, we **output** each **number** to the console using the `print` function. This step ensures that the **phone numbers** detected by the **regular expression** are **displayed** to the user for **inspection**."
   ]
  },
  {
   "cell_type": "code",
   "execution_count": 14,
   "metadata": {},
   "outputs": [
    {
     "name": "stdout",
     "output_type": "stream",
     "text": [
      "CVS file 'arquiveCSV' has been saved succesfully\n"
     ]
    }
   ],
   "source": [
    "# Step 5: Print the found numbers\n",
    "\n"
   ]
  },
  {
   "cell_type": "markdown",
   "metadata": {},
   "source": [
    "\n",
    "### Step 6: Transforming the Code into Functions and Creating the Main Function\n",
    "\n",
    "Refactoring the code into functions enhances readability, modularity, and maintainability of the codebase."
   ]
  },
  {
   "cell_type": "code",
   "execution_count": null,
   "metadata": {},
   "outputs": [],
   "source": [
    "import re\n",
    "\n",
    "# Step 1: Define the input text\n",
    "\n",
    "\n",
    "\n",
    "# Step 2: Create a regular expression pattern\n",
    "\n",
    "\n",
    "\n",
    "# Step 3: Find phone numbers in the given text\n",
    "\n",
    "\n",
    "\n",
    "# Step 4: Print the found phone numbers\n",
    "\n",
    "\n",
    "\n",
    "# Step 5: Define the main function\n",
    "\n",
    "\n",
    "\n",
    "# Step 6: Execute the main function if the script is run directly\n",
    "\n",
    "\n",
    "        \n"
   ]
  }
 ],
 "metadata": {
  "kernelspec": {
   "display_name": "Python 3 (ipykernel)",
   "language": "python",
   "name": "python3"
  },
  "language_info": {
   "codemirror_mode": {
    "name": "ipython",
    "version": 3
   },
   "file_extension": ".py",
   "mimetype": "text/x-python",
   "name": "python",
   "nbconvert_exporter": "python",
   "pygments_lexer": "ipython3",
   "version": "3.12.2"
  }
 },
 "nbformat": 4,
 "nbformat_minor": 2
}
