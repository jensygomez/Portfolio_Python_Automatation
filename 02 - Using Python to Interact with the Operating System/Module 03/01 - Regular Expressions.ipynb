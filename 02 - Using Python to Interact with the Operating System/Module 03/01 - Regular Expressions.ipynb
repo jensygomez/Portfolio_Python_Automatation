{
 "cells": [
  {
   "cell_type": "code",
   "execution_count": null,
   "metadata": {},
   "outputs": [],
   "source": []
  },
  {
   "cell_type": "markdown",
   "metadata": {},
   "source": [
    "**Author:**       Jensy Gregorio Gómez \n",
    "---------------------------------------\n",
    "**Profession:**  IT Support Analyst and Automatation with Python\n",
    "\n",
    "**Date:**         02 March 2024     \n",
    "\n",
    "**Location:**     Vila Izabel, Curitiba/PR  \n",
    "\n",
    "\n",
    "---\n",
    "\n",
    "**Contacto:**\n",
    "\n",
    "- **Email:** [contact@jensygomez.us](mailto:contact@jensygomez.us)\n",
    "- **YouTube:** [Tu Canal de YouTube](https://www.youtube.com/@systechcwb826)\n",
    "- **LinkedIn:** [Tu Perfil de LinkedIn](https://www.linkedin.com/in/jensygomez/)\n",
    "\n",
    "\n"
   ]
  },
  {
   "cell_type": "markdown",
   "metadata": {},
   "source": [
    "# Regular Expressions Exercise in Python\n",
    "\n",
    "In this exercise, we will practice using regular expressions in Python to validate and extract information from a given text.\n",
    "\n",
    "## Problem Description\n",
    "\n",
    "Imagine you have a dataset containing information about email addresses. Each line of the dataset has the following format:\n",
    "\n"
   ]
  },
  {
   "cell_type": "markdown",
   "metadata": {},
   "source": [
    "Name Surname email_address@domain.com"
   ]
  },
  {
   "cell_type": "markdown",
   "metadata": {},
   "source": [
    "\n",
    "Your task is to write a Python program that analyzes this dataset and performs the following operations:\n",
    "\n",
    "1. **Email Validation**: Verify if the email addresses in the dataset have a valid format. A valid email should have a name, a surname, an '@' symbol, and a valid domain. Names and surnames can contain letters and spaces, and the domain must have at least one dot and a valid domain extension.\n",
    "\n",
    "2. **Domain Extraction**: Extract and count the unique domains present in the dataset.\n",
    "\n",
    "## Example Dataset\n",
    "\n"
   ]
  },
  {
   "cell_type": "markdown",
   "metadata": {},
   "source": [
    "John Doe john.doe@example.com\n",
    "Alice Smith alice.smith@gmail.com\n",
    "Bob Johnson bob.johnson@example.org\n",
    "Anna Lee anna.lee@hotmail.com"
   ]
  },
  {
   "cell_type": "markdown",
   "metadata": {},
   "source": [
    "\n",
    "## Solution\n",
    "\n",
    "You can find a possible solution in the `email_validator.py` file attached in this repository. The program uses regular expressions to validate the email addresses and extract the unique domains present in the dataset.\n",
    "\n",
    "## Usage Instructions\n",
    "\n",
    "1. Download the `email_validator.py` file.\n",
    "2. Run the program in your Python environment.\n",
    "3. Adjust the input dataset as needed to test different cases.\n",
    "\n",
    "Have fun practicing regular expressions in Python!\n"
   ]
  },
  {
   "cell_type": "markdown",
   "metadata": {},
   "source": []
  }
 ],
 "metadata": {
  "kernelspec": {
   "display_name": "Python 3 (ipykernel)",
   "language": "python",
   "name": "python3"
  },
  "language_info": {
   "codemirror_mode": {
    "name": "ipython",
    "version": 3
   },
   "file_extension": ".py",
   "mimetype": "text/x-python",
   "name": "python",
   "nbconvert_exporter": "python",
   "pygments_lexer": "ipython3",
   "version": "3.12.2"
  }
 },
 "nbformat": 4,
 "nbformat_minor": 2
}
