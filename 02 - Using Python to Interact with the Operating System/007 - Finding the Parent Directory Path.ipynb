{
 "cells": [
  {
   "cell_type": "markdown",
   "metadata": {},
   "source": [
    "**Author:**       Jensy Gregorio Gómez \n",
    "---------------------------------------\n",
    "**Profession:**  IT Support Analyst and Automatation with Python\n",
    "\n",
    "**Date:**         11 March 2024     \n",
    "\n",
    "**Modified** 16 March 2024\n",
    "\n",
    "**Location:**     Vila Izabel, Curitiba/PR  \n",
    "\n",
    "\n",
    "---\n",
    "\n",
    "**Contacto:**\n",
    "\n",
    "- **Email:** [contact@jensygomez.us](mailto:contact@jensygomez.us)\n",
    "- **YouTube:** [Tu Canal de YouTube](https://www.youtube.com/@systechcwb826)\n",
    "- **LinkedIn:** [Tu Perfil de LinkedIn](https://www.linkedin.com/in/jensygomez/)\n",
    "\n",
    "\n"
   ]
  },
  {
   "cell_type": "markdown",
   "metadata": {},
   "source": [
    "# **Finding the Parent Directory Path**\n",
    "\n",
    "## Prompt:\n",
    "Write a Python function `parent_directory()` that finds the absolute path of the parent directory of the current working directory.\n",
    "\n",
    "## Step-by-step guide:\n",
    "1. Import the necessary module: `os`.\n",
    "2. Define a function named `parent_directory()` without any parameters.\n",
    "3. Inside the function:\n",
    "   - Use `os.getcwd()` to get the current working directory.\n",
    "   - Use `os.path.abspath()` to get the absolute path of the current working directory.\n",
    "   - Use `os.path.join()` with `os.pardir` to get the parent directory.\n",
    "   - Use `os.path.abspath()` again to get the absolute path of the parent directory.\n",
    "   - Return the absolute path of the parent directory.\n",
    "4. Outside the function, call `parent_directory()` and print the result.\n",
    "\n"
   ]
  },
  {
   "cell_type": "code",
   "execution_count": 1,
   "metadata": {},
   "outputs": [
    {
     "name": "stdout",
     "output_type": "stream",
     "text": [
      "/media/jensy/Dados/GitHub/Portfolio_Python_Automatation\n"
     ]
    }
   ],
   "source": [
    "# Step 1. Import the necessary module: `os`.\n",
    "\n",
    "\n",
    "# Step 2: Define a function named `parent_directory()` without any parameters.\n",
    "\n",
    "\n",
    "    # Step 3a: Use `os.getcwd()` to get the current working directory.\n",
    "\n",
    "\n",
    "    # Step 3b: Use `os.path.abspath()` to get the absolute path of the current working directory. \n",
    "    # Use `os.path.join()` with `os.pardir` to get the parent directory.\n",
    "\n",
    "\n",
    "\n",
    "# 3. Outside the function, call parent_directory() and print the result\n",
    "print(parent_directory())\n"
   ]
  },
  {
   "cell_type": "code",
   "execution_count": null,
   "metadata": {},
   "outputs": [],
   "source": [
    "import os\n",
    "\n",
    "def parent_directory():\n",
    "    current_dir = os.getcwd()\n",
    "    parent_dir = os.path.abspath(os.path.join(current_dir, os.pardir))\n",
    "    return parent_dir\n",
    "\n",
    "print(parent_directory())"
   ]
  }
 ],
 "metadata": {
  "kernelspec": {
   "display_name": "Python 3 (ipykernel)",
   "language": "python",
   "name": "python3"
  },
  "language_info": {
   "codemirror_mode": {
    "name": "ipython",
    "version": 3
   },
   "file_extension": ".py",
   "mimetype": "text/x-python",
   "name": "python",
   "nbconvert_exporter": "python",
   "pygments_lexer": "ipython3",
   "version": "3.12.2"
  }
 },
 "nbformat": 4,
 "nbformat_minor": 4
}
