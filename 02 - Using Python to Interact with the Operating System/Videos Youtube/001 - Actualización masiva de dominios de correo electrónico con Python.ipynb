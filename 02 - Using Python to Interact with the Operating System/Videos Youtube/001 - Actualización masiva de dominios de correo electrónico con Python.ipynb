{
 "cells": [
  {
   "cell_type": "markdown",
   "metadata": {},
   "source": [
    "**Author:**       Jensy Gregorio Gómez \n",
    "---------------------------------------\n",
    "**Profession:**  IT Support Analyst and Automatation with Python\n",
    "\n",
    "**Date:**         16 March 2024     \n",
    "\n",
    "**Location:**     Vila Izabel, Curitiba/PR  \n",
    "\n",
    "\n",
    "---\n",
    "\n",
    "**Contacto:**\n",
    "\n",
    "- **Email:** [contact@jensygomez.us](mailto:contact@jensygomez.us)\n",
    "- **YouTube:** [Tu Canal de YouTube](https://www.youtube.com/@systechcwb826)\n",
    "- **LinkedIn:** [Tu Perfil de LinkedIn](https://www.linkedin.com/in/jensygomez/)\n",
    "\n",
    "\n"
   ]
  },
  {
   "cell_type": "markdown",
   "metadata": {},
   "source": [
    "***"
   ]
  },
  {
   "cell_type": "markdown",
   "metadata": {},
   "source": [
    "# Actualización masiva de dominios de correo electrónico con Python\n"
   ]
  },
  {
   "cell_type": "markdown",
   "metadata": {},
   "source": [
    "En este video tutorial, aprenderás a usar **Python** para procesar y actualizar una lista de direcciones de **correo electrónico** en un archivo **CSV**. El código **Python** proporcionado te guiará a través del proceso de **reemplazar** un **dominio de correo electrónico antiguo** con uno **nuevo** en todas las direcciones de correo electrónico en el archivo **CSV**. ¡Sigue los pasos y mejora eficientemente tus listas de correo electrónico con este práctico script!\n"
   ]
  },
  {
   "cell_type": "markdown",
   "metadata": {},
   "source": [
    "\n",
    "### Bloque 1: Importación de módulos\n",
    "En este bloque, estamos importando dos módulos: el módulo de expresiones regulares (`re`) y el módulo de manejo de archivos CSV (`csv`). \n",
    "- **Explicación**: La importación del módulo `re` nos permite utilizar expresiones regulares, lo cual es útil para buscar patrones dentro de cadenas de texto. Por otro lado, la importación del módulo `csv` nos proporciona funcionalidades para leer y escribir archivos CSV, lo cual será fundamental si estamos trabajando con datos en formato CSV. Importar estos módulos al principio del script nos permite acceder a sus funciones a lo largo de todo el código sin necesidad de repetir la importación.\n",
    "- Este bloque es crucial para asegurarnos de que tenemos acceso a las funcionalidades necesarias para trabajar con expresiones regulares y archivos CSV a lo largo de nuestro código.\n"
   ]
  },
  {
   "cell_type": "code",
   "execution_count": null,
   "metadata": {},
   "outputs": [],
   "source": [
    "# Importa el módulo de expresiones regulares 're'\n",
    "\n",
    "\n",
    "# Importa el módulo de manejo de archivos CSV 'csv'\n"
   ]
  },
  {
   "cell_type": "markdown",
   "metadata": {},
   "source": [
    "***"
   ]
  },
  {
   "cell_type": "markdown",
   "metadata": {},
   "source": [
    "### Bloque 2: Definición de la función `contains_domain`\n",
    "En este bloque, definimos una función llamada `contains_domain` que verifica si una dirección de correo electrónico contiene un dominio específico.\n",
    "- **Explicación**: \n",
    "  - La función toma dos argumentos: `address` (la dirección de correo electrónico) y `domain` (el dominio que queremos verificar).\n",
    "  - La expresión regular `domain` se construye concatenando el patrón de dominio especificado con la dirección de correo electrónico proporcionada.\n",
    "  - La función utiliza la función `re.match()` para verificar si la dirección de correo electrónico coincide con el patrón de dominio. Si hay una coincidencia, devuelve `True`; de lo contrario, devuelve `False`.\n",
    "  - Esto es útil para validar direcciones de correo electrónico y realizar acciones específicas según el dominio que contengan.\n",
    "\n",
    "\n",
    "\n",
    "Este bloque es importante porque define una función que nos permitirá verificar si una dirección de correo electrónico contiene un dominio específico, lo cual puede ser útil en diversas situaciones de procesamiento de datos. La inclusión de una docstring proporciona información útil sobre el propósito y el comportamiento de la función."
   ]
  },
  {
   "cell_type": "code",
   "execution_count": null,
   "metadata": {},
   "outputs": [],
   "source": [
    "\n",
    "# Define la función para verificar si la dirección de correo electrónico contiene el dominio dado\n",
    "\n",
    "\n",
    "    # Returns True if the email address contains the given domain in the domain position, false if not.\n",
    "\n"
   ]
  },
  {
   "cell_type": "markdown",
   "metadata": {},
   "source": [
    "***"
   ]
  },
  {
   "cell_type": "markdown",
   "metadata": {},
   "source": [
    "### Bloque 3: Definición de la función `replace_domain`\n",
    "En este bloque, definimos una función llamada `replace_domain` que reemplaza un dominio antiguo por uno nuevo en una dirección de correo electrónico.\n",
    "- **Explicación**: \n",
    "  - La función toma tres argumentos: `address` (la dirección de correo electrónico), `old_domain` (el dominio que queremos reemplazar) y `new_domain` (el nuevo dominio).\n",
    "  - Se construye un patrón de expresión regular `old_domain_pattern` para identificar el dominio antiguo al final de la dirección de correo electrónico.\n",
    "  - Se utiliza la función `re.sub()` para reemplazar el dominio antiguo con el nuevo en la dirección de correo electrónico.\n",
    "  - La dirección modificada se devuelve como resultado de la función.\n",
    "  - Esto es útil para actualizar direcciones de correo electrónico cuando cambia el dominio.\n",
    "\n",
    "\n",
    "\n",
    "Este bloque es importante porque define una función que nos permite actualizar direcciones de correo electrónico, reemplazando un dominio antiguo por uno nuevo. Esto puede ser útil en situaciones donde se produce un cambio en el dominio de correo electrónico y se necesita actualizar automáticamente las direcciones existentes. La inclusión de una docstring proporciona información sobre el propósito y el comportamiento de la función."
   ]
  },
  {
   "cell_type": "code",
   "execution_count": null,
   "metadata": {},
   "outputs": [],
   "source": [
    "# Define la función para reemplazar el dominio antiguo con el nuevo en la dirección de correo electrónico, el\n",
    "\n",
    "    \n",
    "    #Replaces the old domain with the new domain in the received address.\"\"\"\n"
   ]
  },
  {
   "cell_type": "markdown",
   "metadata": {},
   "source": [
    "***"
   ]
  },
  {
   "cell_type": "markdown",
   "metadata": {},
   "source": [
    "### Bloque 4: Definición de la función principal `main()`\n",
    "En este bloque, definimos la función principal `main()` que procesa una lista de correos electrónicos, reemplazando cualquier instancia del dominio antiguo con el nuevo.\n",
    "- **Explicación**:\n",
    "  - La función comienza definiendo los dominios antiguo y nuevo, así como las ubicaciones de los archivos CSV de entrada y salida.\n",
    "  - Luego, inicializa listas para almacenar direcciones de correo electrónico con el dominio antiguo, direcciones de correo electrónico con el nuevo dominio y los datos de usuario.\n",
    "  - Abre el archivo CSV de entrada y extrae las direcciones de correo electrónico de los datos del usuario.\n",
    "  - Itera sobre las direcciones de correo electrónico y reemplaza el dominio antiguo con el nuevo.\n",
    "  - Reemplaza las direcciones de correo electrónico antiguas con las nuevas en los datos de usuario.\n",
    "  - Escribe los datos actualizados en un nuevo archivo CSV.\n",
    "  - Este bloque demuestra cómo se puede utilizar las funciones `contains_domain` y `replace_domain` definidas anteriormente para procesar datos y realizar modificaciones en masa.\n",
    "\n",
    "\n",
    "\n",
    "Este bloque es crucial ya que es donde se orquesta toda la funcionalidad previamente definida para procesar y actualizar las direcciones de correo electrónico en un archivo CSV. La función `main()` es el punto de entrada de nuestro programa y muestra cómo utilizar las funciones anteriores en conjunto para lograr un objetivo específico."
   ]
  },
  {
   "cell_type": "code",
   "execution_count": null,
   "metadata": {},
   "outputs": [],
   "source": [
    "# Define la función principal\n",
    "\n",
    "\n",
    "    #Processes the list of emails, replacing any instances of the old domain with the new domain.\n",
    "    \n",
    "    # Define los dominios antiguo y nuevo\n",
    "\n",
    "\n",
    "    \n",
    "    # Especifica la ubicación del archivo CSV\n",
    "\n",
    "\n",
    "    \n",
    "    # Especifica la ubicación del archivo de informe actualizado\n",
    "\n",
    "\n",
    "    \n",
    "    # Inicializa listas para almacenar direcciones de correo electrónico\n",
    "\n",
    "\n",
    "\n",
    "    \n",
    "    \n",
    "\n",
    "    # Abre el archivo CSV para lectura\n",
    "\n",
    "\n",
    "        # Lee los datos del archivo CSV\n",
    "\n",
    "\n",
    "        # Obtiene las direcciones de correo electrónico de los datos del usuario\n",
    "\n",
    "\n",
    "\n",
    "        # Itera sobre las direcciones de correo electrónico en el archivo CSV\n",
    "\n",
    "\n",
    "            # Si la dirección de correo electrónico contiene el dominio antiguo\n",
    "\n",
    "\n",
    "                # Agrega la dirección de correo electrónico a la lista de dominios antiguos\n",
    "\n",
    "\n",
    "                # Reemplaza el dominio antiguo con el nuevo\n",
    "\n",
    "\n",
    "                # Agrega la dirección de correo electrónico con el dominio nuevo a la lista\n",
    "\n",
    "\n",
    "\n",
    "        # Obtiene el índice de la columna de direcciones de correo electrónico en los datos del usuario\n",
    "\n",
    "\n",
    "\n",
    "\n",
    "\n",
    "        # Itera sobre los datos de usuario y reemplaza las direcciones de correo electrónico antiguas con las nuevas\n",
    "\n",
    "\n",
    "\n",
    "                # Si la dirección de correo electrónico del usuario coincide con el dominio antiguo\n",
    "\n",
    "\n",
    "                    # Reemplaza el dominio antiguo con el nuevo en los datos del usuario\n",
    "\n",
    "\n",
    "    # Cierra el archivo CSV\n",
    "\n",
    "\n",
    "    # Abre un nuevo archivo CSV para escribir los datos actualizados\n",
    "\n",
    "\n",
    "        # Crea un objeto escritor de CSV\n",
    "\n",
    "\n",
    "        # Escribe los datos actualizados en el archivo CSV\n",
    "\n",
    "\n",
    "        # Cierra el archivo de salida\n",
    "\n",
    "\n"
   ]
  },
  {
   "cell_type": "markdown",
   "metadata": {},
   "source": [
    "***"
   ]
  },
  {
   "cell_type": "markdown",
   "metadata": {},
   "source": [
    "\n",
    "### Bloque 5: Llamada a la función principal `main()`\n",
    "En este bloque, simplemente llamamos a la función principal `main()` para ejecutar todo el proceso de procesamiento y actualización de direcciones de correo electrónico en el archivo CSV.\n",
    "\n",
    "\n",
    "\n",
    "Este bloque es esencial ya que ejecuta toda la lógica definida en la función principal `main()`, lo que lleva a cabo el procesamiento de los datos y la actualización de las direcciones de correo electrónico en el archivo CSV. Sin esta llamada, el programa definido anteriormente no se ejecutaría y no se realizarían los cambios necesarios en el archivo CSV."
   ]
  },
  {
   "cell_type": "code",
   "execution_count": null,
   "metadata": {},
   "outputs": [],
   "source": [
    "\n",
    "# Llama a la función principal para ejecutar el procesamiento\n",
    "main()\n"
   ]
  }
 ],
 "metadata": {
  "kernelspec": {
   "display_name": "Python 3 (ipykernel)",
   "language": "python",
   "name": "python3"
  },
  "language_info": {
   "codemirror_mode": {
    "name": "ipython",
    "version": 3
   },
   "file_extension": ".py",
   "mimetype": "text/x-python",
   "name": "python",
   "nbconvert_exporter": "python",
   "pygments_lexer": "ipython3",
   "version": "3.10.12"
  }
 },
 "nbformat": 4,
 "nbformat_minor": 4
}
