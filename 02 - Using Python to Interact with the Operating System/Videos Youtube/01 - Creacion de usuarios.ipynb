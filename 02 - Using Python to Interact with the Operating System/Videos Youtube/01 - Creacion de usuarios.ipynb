{
 "cells": [
  {
   "cell_type": "markdown",
   "metadata": {},
   "source": [
    "**Author:**       Jensy Gregorio Gómez \n",
    "---------------------------------------\n",
    "**Profession:**  IT Support Analyst and Automatation with Python\n",
    "\n",
    "**Date:**         16 March 2024     \n",
    "\n",
    "**Location:**     Vila Izabel, Curitiba/PR  \n",
    "\n",
    "\n",
    "---\n",
    "\n",
    "**Contacto:**\n",
    "\n",
    "- **Email:** [contact@jensygomez.us](mailto:contact@jensygomez.us)\n",
    "- **YouTube:** [Tu Canal de YouTube](https://www.youtube.com/@systechcwb826)\n",
    "- **LinkedIn:** [Tu Perfil de LinkedIn](https://www.linkedin.com/in/jensygomez/)\n",
    "\n",
    "\n"
   ]
  },
  {
   "cell_type": "code",
   "execution_count": 6,
   "metadata": {},
   "outputs": [],
   "source": [
    "import csv\n",
    "import random\n",
    "\n",
    "def generate_users_csv(filename, num_users):\n",
    "    departments = ['TI', 'Vendas', 'Compras', 'Administração', 'Lider', 'Gestor', 'Coordinador', 'Gerente', 'CEO']\n",
    "    with open(filename, 'w', newline='') as csvfile:\n",
    "        fieldnames = ['Full Name', 'Email Address', 'Department', 'Phone Number', 'Address']\n",
    "        writer = csv.DictWriter(csvfile, fieldnames=fieldnames)\n",
    "        \n",
    "        writer.writeheader()\n",
    "        \n",
    "        # Lista de nombres y apellidos comunes\n",
    "        nombres = ['Juan', 'María', 'Pedro', 'Ana', 'Luis', 'Laura', 'Carlos', 'Sofía', 'Miguel', 'Lucía']\n",
    "        apellidos = ['González', 'Rodríguez', 'Fernández', 'López', 'Martínez', 'Sánchez', 'Pérez', 'Gómez', 'Díaz', 'Martín']\n",
    "        \n",
    "        # Lista de personajes históricos de Brasil\n",
    "        personajes_historicos = ['Tiradentes', 'Zumbi dos Palmares', 'Princesa Isabel', 'Dom Pedro I', 'Dom Pedro II', 'Getúlio Vargas', 'Machado de Assis', 'Juscelino Kubitschek', 'Chico Mendes', 'Oscar Niemeyer']\n",
    "        \n",
    "        for i in range(num_users):\n",
    "            nombre = random.choice(nombres)\n",
    "            apellido = random.choice(apellidos)\n",
    "            \n",
    "            full_name = f'{nombre} {apellido}'\n",
    "            email_address = f'{nombre.lower()}.{apellido.lower()}{i+1}@systech.br'\n",
    "            department = random.choice(departments)\n",
    "            \n",
    "            # Generar número de teléfono aleatorio\n",
    "            telefono = f'(41) 9{random.randint(100, 999)}-{random.randint(100, 999)}'\n",
    "            \n",
    "            # Seleccionar un personaje histórico de Brasil aleatoriamente\n",
    "            personaje_historico = random.choice(personajes_historicos)\n",
    "            address = f'Rua {personaje_historico} {random.randint(1, 100)}, Curitiba/PR'\n",
    "            \n",
    "            writer.writerow({'Full Name': full_name,\n",
    "                             'Email Address': email_address,\n",
    "                             'Department': department,\n",
    "                             'Phone Number': telefono,\n",
    "                             'Address': address})\n",
    "\n",
    "# Generar archivo CSV con 1000 usuarios ficticios\n",
    "generate_users_csv('users.csv', 1000)\n",
    "\n",
    "\n",
    "\n"
   ]
  }
 ],
 "metadata": {
  "kernelspec": {
   "display_name": "Python 3 (ipykernel)",
   "language": "python",
   "name": "python3"
  },
  "language_info": {
   "codemirror_mode": {
    "name": "ipython",
    "version": 3
   },
   "file_extension": ".py",
   "mimetype": "text/x-python",
   "name": "python",
   "nbconvert_exporter": "python",
   "pygments_lexer": "ipython3",
   "version": "3.12.2"
  }
 },
 "nbformat": 4,
 "nbformat_minor": 4
}
