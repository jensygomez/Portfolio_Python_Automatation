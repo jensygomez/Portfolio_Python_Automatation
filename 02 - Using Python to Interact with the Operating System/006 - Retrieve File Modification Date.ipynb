{
 "cells": [
  {
   "cell_type": "markdown",
   "metadata": {},
   "source": [
    "**Author:**       Jensy Gregorio Gómez \n",
    "---------------------------------------\n",
    "**Profession:**  IT Support Analyst and Automatation with Python\n",
    "\n",
    "**Date:**         10 March 2024     \n",
    "\n",
    "**Location:**     Vila Izabel, Curitiba/PR  \n",
    "\n",
    "\n",
    "---\n",
    "\n",
    "**Contacto:**\n",
    "\n",
    "- **Email:** [contact@jensygomez.us](mailto:contact@jensygomez.us)\n",
    "- **YouTube:** [Tu Canal de YouTube](https://www.youtube.com/@systechcwb826)\n",
    "- **LinkedIn:** [Tu Perfil de LinkedIn](https://www.linkedin.com/in/jensygomez/)\n",
    "\n",
    "\n"
   ]
  },
  {
   "cell_type": "markdown",
   "metadata": {},
   "source": [
    "\n",
    "# **Retrieve File Modification Date**\n",
    "\n",
    "**Statement:**\n",
    "Write a function called `file_date` that creates a file in the current working directory, checks the date it was modified, and returns only the date part in `yyyy-mm-dd` format.\n",
    "\n",
    "**Steps to Follow:**\n",
    "\n",
    "1. **Create the `file_date(filename)` function:** Define a function named `file_date` that takes the file name as an argument.\n",
    "\n",
    "2. **Create a file:** Within the function, create a new file with the provided name in the current working directory. Use the `open` command to create the file in write mode (`'w'`). If the file already exists, this step will overwrite it.\n",
    "\n",
    "3. **Get the modification date:** Use the `os.path.getmtime(filename)` function to retrieve the modification time of the file specified by its name `filename`. This returns a time value in seconds since the epoch (e.g., 1626217266.684181).\n",
    "\n",
    "4. **Convert time to readable date:** Use `datetime.datetime.fromtimestamp()` to convert the time obtained in the previous step into a `datetime` object.\n",
    "\n",
    "5. **Format the date:** Use the `strftime()` method to format the `datetime` object into a string with the \"yyyy-mm-dd\" format.\n",
    "\n",
    "6. **Return the date:** Return the formatted date according to the previous step.\n",
    "\n",
    "7. **Test the function:** Call the `file_date` function with the file name as an argument, and then print the result to verify that the function is correctly returning the modification date."
   ]
  },
  {
   "cell_type": "code",
   "execution_count": null,
   "metadata": {},
   "outputs": [],
   "source": [
    "import os\n",
    "import datetime\n",
    "\n",
    "# Step 1: Define a function named file_date that takes the file name as an argument.\n",
    "\n",
    "\n",
    "    \n",
    "    # Step 2: Create a new file with the provided name in the current working directory.\n",
    "\n",
    "\n",
    "    \n",
    "    # Step 3: Retrieve the modification time of the file specified by its name.\n",
    "\n",
    "    \n",
    "    # Step 4: Convert the modification time into a datetime object.\n",
    "\n",
    "    \n",
    "    # Step 5: Format the datetime object into a string with the \"yyyy-mm-dd\" format.\n",
    "\n",
    "    \n",
    "    # Step 6: Return the formatted date.\n",
    "\n",
    "\n",
    "# Step 7: Call the file_date function with a file name as an argument and print the result.\n",
    "\n",
    "print(file_date(\"newfile.txt\"))\n",
    "\n",
    "# Should be today's date in the format of yyyy-mm-dd\n"
   ]
  }
 ],
 "metadata": {
  "kernelspec": {
   "display_name": "Python 3 (ipykernel)",
   "language": "python",
   "name": "python3"
  },
  "language_info": {
   "codemirror_mode": {
    "name": "ipython",
    "version": 3
   },
   "file_extension": ".py",
   "mimetype": "text/x-python",
   "name": "python",
   "nbconvert_exporter": "python",
   "pygments_lexer": "ipython3",
   "version": "3.10.12"
  }
 },
 "nbformat": 4,
 "nbformat_minor": 4
}
