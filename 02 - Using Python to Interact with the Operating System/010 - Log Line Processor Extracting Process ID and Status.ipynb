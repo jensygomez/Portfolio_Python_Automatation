{
 "cells": [
  {
   "cell_type": "markdown",
   "metadata": {},
   "source": [
    "**Author:**       Jensy Gregorio Gómez \n",
    "---------------------------------------\n",
    "**Profession:**  IT Support Analyst and Automatation with Python\n",
    "\n",
    "**Date:**         15 March 2024     \n",
    "\n",
    "**Location:**     Vila Izabel, Curitiba/PR  \n",
    "\n",
    "\n",
    "---\n",
    "\n",
    "**Contacto:**\n",
    "\n",
    "- **Email:** [contact@jensygomez.us](mailto:contact@jensygomez.us)\n",
    "- **YouTube:** [Tu Canal de YouTube](https://www.youtube.com/@systechcwb826)\n",
    "- **LinkedIn:** [Tu Perfil de LinkedIn](https://www.linkedin.com/in/jensygomez/)\n",
    "\n",
    "\n"
   ]
  },
  {
   "cell_type": "markdown",
   "metadata": {},
   "source": [
    "\n",
    "**Title:** \n",
    "# Log Line Processor: Extracting Process ID and Status\n",
    "\n",
    "**Introduction:**\n",
    "In this Python exercise, you'll be tasked with creating a function that processes log lines and extracts process IDs (PIDs) along with their corresponding status. Log lines often contain valuable information about various processes running on a system, and being able to extract specific details like PIDs and statuses can be crucial for system monitoring and debugging.\n",
    "\n",
    "**Goal:**\n",
    "Create a Python function called `extract_pid` that takes a log line as input and extracts the process ID and status from it.\n",
    "\n",
    "**Step-by-Step Guide:**\n",
    "\n",
    "1. **Understand the log line format:** Before extracting information from log lines, it's essential to understand their format. Log lines typically contain timestamps, hostnames, process names, PIDs enclosed in square brackets, colons, and status messages.\n",
    "\n",
    "2. **Define the regular expression pattern:** Use Python's `re` module to define a regular expression pattern that matches the process ID and status in the log line. The pattern should capture the PID (a sequence of digits inside square brackets) followed by a colon, then capture the status (a sequence of word characters).\n",
    "\n",
    "3. **Extract PID and status:** Use the `re.search()` function to search for the pattern within the log line. If a match is found, extract the PID and status using the `group()` method of the `Match` object returned by `re.search()`.\n",
    "\n",
    "4. **Handle cases where no match is found:** If no match is found in the log line, return `None` to indicate that the PID and status couldn't be extracted.\n",
    "\n",
    "5. **Return the extracted information:** If a match is found, return a formatted string containing the extracted PID and status.\n",
    "\n",
    "6. **Test the function:** Write test cases to ensure that the `extract_pid` function works as expected for different types of log lines. Test cases should include scenarios where the log line contains valid PID and status information as well as cases where no PID or status is present.\n",
    "\n",
    "7. **Debug and refine:** If any test cases fail, debug the function by examining the regular expression pattern and its usage. Make adjustments as necessary to handle different variations in log line formats.\n",
    "\n",
    "8. **Conclusion:** Once the function passes all test cases and reliably extracts PID and status information from log lines, you've successfully completed the exercise. This function can now be used to process log files and extract valuable information for system monitoring and analysis."
   ]
  },
  {
   "cell_type": "code",
   "execution_count": null,
   "metadata": {},
   "outputs": [],
   "source": [
    "import re\n",
    "\n",
    "# Step 1: Define the function extract_pid that processes log lines and extracts process IDs (PIDs) along with their corresponding status.\n",
    "\n",
    "\n",
    "    # Step 2: Define a regular expression pattern that matches the process ID and status in the log line.\n",
    "\n",
    "\n",
    "    # Step 3: Use the re.search() function to search for the pattern within the log line.\n",
    "\n",
    "\n",
    "    # Step 4: Handle cases where no match is found.\n",
    "\n",
    "\n",
    "\n",
    "\n",
    "    # Step 5: Extract PID and status if a match is found.\n",
    "\n",
    "\n",
    "\n",
    "# Step 6: Test the function with different log lines to ensure it works as expected.\n",
    "print(extract_pid(\"July 31 07:51:48 mycomputer bad_process[12345]: ERROR Performing package upgrade\")) # 12345 (ERROR)\n",
    "print(extract_pid(\"99 elephants in a [cage]\")) # None\n",
    "print(extract_pid(\"A string that also has numbers [34567] but no uppercase message\")) # None\n",
    "print(extract_pid(\"July 31 08:08:08 mycomputer new_process[67890]: RUNNING Performing backup\")) # 67890 (RUNNING)\n"
   ]
  },
  {
   "cell_type": "code",
   "execution_count": null,
   "metadata": {},
   "outputs": [],
   "source": [
    "import re\n",
    "\n",
    "def extract_pid(log_line):\n",
    "    regex = r\"\\[(\\d+)\\]\\s*:\\s*(\\w+)\"\n",
    "    result = re.search(regex, log_line)\n",
    "    if result is None:\n",
    "        return None\n",
    "    return \"{} ({})\".format(result.group(1), result.group(2))\n",
    "\n",
    "print(extract_pid(\"July 31 07:51:48 mycomputer bad_process[12345]: ERROR Performing package upgrade\")) # 12345 (ERROR)\n",
    "print(extract_pid(\"99 elephants in a [cage]\")) # None\n",
    "print(extract_pid(\"A string that also has numbers [34567] but no uppercase message\")) # None\n",
    "print(extract_pid(\"July 31 08:08:08 mycomputer new_process[67890]: RUNNING Performing backup\")) # 67890 (RUNNING)\n"
   ]
  }
 ],
 "metadata": {
  "kernelspec": {
   "display_name": "Python 3 (ipykernel)",
   "language": "python",
   "name": "python3"
  },
  "language_info": {
   "codemirror_mode": {
    "name": "ipython",
    "version": 3
   },
   "file_extension": ".py",
   "mimetype": "text/x-python",
   "name": "python",
   "nbconvert_exporter": "python",
   "pygments_lexer": "ipython3",
   "version": "3.10.12"
  }
 },
 "nbformat": 4,
 "nbformat_minor": 4
}
