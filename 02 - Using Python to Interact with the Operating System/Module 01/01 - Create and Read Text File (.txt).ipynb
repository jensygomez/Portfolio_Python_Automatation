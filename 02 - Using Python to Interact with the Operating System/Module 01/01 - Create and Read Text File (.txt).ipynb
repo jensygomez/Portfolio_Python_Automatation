{
 "cells": [
  {
   "cell_type": "code",
   "execution_count": null,
   "metadata": {},
   "outputs": [],
   "source": []
  },
  {
   "cell_type": "markdown",
   "metadata": {},
   "source": [
    "**Author:**       Jensy Gregorio Gómez \n",
    "---------------------------------------\n",
    "**Profession:**  IT Support Analyst and Automatation with Python\n",
    "\n",
    "**Date:**         02 March 2024     \n",
    "\n",
    "**Location:**     Vila Izabel, Curitiba/PR  \n",
    "\n",
    "\n",
    "---\n",
    "\n",
    "**Contacto:**\n",
    "\n",
    "- **Email:** [contact@jensygomez.us](mailto:contact@jensygomez.us)\n",
    "- **YouTube:** [Tu Canal de YouTube](https://www.youtube.com/@systechcwb826)\n",
    "- **LinkedIn:** [Tu Perfil de LinkedIn](https://www.linkedin.com/in/jensygomez/)\n",
    "\n",
    "\n"
   ]
  },
  {
   "cell_type": "code",
   "execution_count": 2,
   "metadata": {},
   "outputs": [
    {
     "name": "stdout",
     "output_type": "stream",
     "text": [
      "['a', 'b', '4', 'd']\n"
     ]
    }
   ],
   "source": [
    "# Creating a list named my_list containing elements 'a', 'b', 'c', 'd'\n",
    "my_list = [\"a\", \"b\", \"c\", \"d\"]\n",
    "\n",
    "# Modifying the element at index 2 (zero-indexed) of my_list to be '4'\n",
    "my_list[2] = '4'\n",
    "\n",
    "# Printing the modified list\n",
    "print(my_list)\n"
   ]
  },
  {
   "cell_type": "code",
   "execution_count": null,
   "metadata": {},
   "outputs": [],
   "source": [
    "# This loop iterates through a range of numbers from 6 to 18 (inclusive) with a step of 3.\n",
    "for n in range(6, 18 + 1, 3):\n",
    "    # Multiply each number by 2 and print the result.\n",
    "    print(n * 2)\n"
   ]
  },
  {
   "cell_type": "code",
   "execution_count": null,
   "metadata": {},
   "outputs": [],
   "source": [
    "import re\n",
    "\n",
    "# Texto de ejemplo que contiene direcciones de correo electrónico\n",
    "texto = \"\"\"\n",
    "Ejemplo de texto que contiene direcciones de correo electrónico.\n",
    "Las direcciones pueden tener diferentes formatos, como:\n",
    "usuario1@example.com usuario2@subdominio.ejemplo.org\n",
    "nombre.apellido@empresa.co.uk\n",
    "correo_ejemplo123@dominio.com.mx\n",
    "\"\"\"\n",
    "\n",
    "# Patrón de expresión regular para buscar direcciones de correo electrónico\n",
    "patron_correo = r'\\b[A-Za-z0-9._%+-]+@[A-Za-z0-9.-]+\\.[A-Z|a-z]{2,}\\b'\n",
    "\n",
    "# Buscar todas las direcciones de correo electrónico en el texto\n",
    "direcciones_encontradas = re.findall(patron_correo, texto)\n",
    "\n",
    "# Imprimir las direcciones encontradas\n",
    "print(\"Direcciones de correo electrónico encontradas:\")\n",
    "for direccion in direcciones_encontradas:\n",
    "    print(direccion)"
   ]
  }
 ],
 "metadata": {
  "kernelspec": {
   "display_name": "Python 3 (ipykernel)",
   "language": "python",
   "name": "python3"
  },
  "language_info": {
   "codemirror_mode": {
    "name": "ipython",
    "version": 3
   },
   "file_extension": ".py",
   "mimetype": "text/x-python",
   "name": "python",
   "nbconvert_exporter": "python",
   "pygments_lexer": "ipython3",
   "version": "3.12.2"
  }
 },
 "nbformat": 4,
 "nbformat_minor": 2
}
