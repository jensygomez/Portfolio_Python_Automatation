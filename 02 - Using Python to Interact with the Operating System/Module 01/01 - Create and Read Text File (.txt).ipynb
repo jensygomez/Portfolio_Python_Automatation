{
 "cells": [
  {
   "cell_type": "code",
   "execution_count": null,
   "metadata": {},
   "outputs": [],
   "source": []
  },
  {
   "cell_type": "markdown",
   "metadata": {},
   "source": [
    "**Author:**       Jensy Gregorio Gómez \n",
    "---------------------------------------\n",
    "**Profession:**  IT Support Analyst and Automatation with Python\n",
    "\n",
    "**Date:**         02 March 2024     \n",
    "\n",
    "**Location:**     Vila Izabel, Curitiba/PR  \n",
    "\n",
    "\n",
    "---\n",
    "\n",
    "**Contacto:**\n",
    "\n",
    "- **Email:** [contact@jensygomez.us](mailto:contact@jensygomez.us)\n",
    "- **YouTube:** [Tu Canal de YouTube](https://www.youtube.com/@systechcwb826)\n",
    "- **LinkedIn:** [Tu Perfil de LinkedIn](https://www.linkedin.com/in/jensygomez/)\n",
    "\n",
    "\n"
   ]
  },
  {
   "cell_type": "markdown",
   "metadata": {},
   "source": [
    "\n",
    "### Create and Read Text File (.txt)\n",
    "\n",
    "**Exercise Description:** In this exercise, you will create a Python program that allows the user to input text and then saves that text to a text file (.txt). Afterward, the program will read the content of the file and print it to the screen.\n",
    "\n",
    "**Steps:**\n",
    "\n",
    "1.  Prompt the user to input the text they want to save to the file.\n",
    "2.  Open a text file in write mode.\n",
    "3.  Write the text entered by the user to the file.\n",
    "4.  Close the file.\n",
    "5.  Open the text file in read mode.\n",
    "6.  Read the content of the file.\n",
    "7.  Print the content of the file to the screen."
   ]
  },
  {
   "cell_type": "code",
   "execution_count": 3,
   "metadata": {},
   "outputs": [
    {
     "name": "stdout",
     "output_type": "stream",
     "text": [
      "The content the File is: \n",
      "Hello, I am writing my first solved problem with python\n"
     ]
    }
   ],
   "source": [
    "#Promt the user to input the filename\n",
    "file_name = input(\"Write the name the of file, with the extension (.txt)\")\n",
    "\n",
    "# Prompt the user to write the text about the file's content.\n",
    "content_file = input('Please, Write your text here. Thank you !!!')\n",
    "\n",
    "# Create and Wirte to a text file\n",
    "with open(file_name, \"w\") as file:\n",
    "    file.write(content_file)\n",
    "\n",
    "# Read and display the content of the file \n",
    "with open(file_name, \"r\") as file:\n",
    "    content = file.read()\n",
    "    print(\"The content the File is: \")\n",
    "    print(content)\n",
    "\n",
    "# Promt the user to input the text"
   ]
  }
 ],
 "metadata": {
  "kernelspec": {
   "display_name": "Python 3 (ipykernel)",
   "language": "python",
   "name": "python3"
  },
  "language_info": {
   "codemirror_mode": {
    "name": "ipython",
    "version": 3
   },
   "file_extension": ".py",
   "mimetype": "text/x-python",
   "name": "python",
   "nbconvert_exporter": "python",
   "pygments_lexer": "ipython3",
   "version": "3.12.2"
  }
 },
 "nbformat": 4,
 "nbformat_minor": 2
}
