{
 "cells": [
  {
   "cell_type": "markdown",
   "metadata": {},
   "source": [
    "**Author:**       Jensy Gregorio Gómez \n",
    "---------------------------------------\n",
    "**Profession:**         IT Support Analyst and Automatation with Python\n",
    "\n",
    "**Creation date:**      02 March 2024     \n",
    "**Update date:**        03 March 2024  \n",
    "\n",
    "**Location:**           Vila Izabel, Curitiba/PR  \n",
    "\n",
    "\n",
    "---\n",
    "\n",
    "**Contacto:**\n",
    "\n",
    "- **Email:** [contact@jensygomez.us](mailto:contact@jensygomez.us)\n",
    "- **YouTube:** [Tu Canal de YouTube](https://www.youtube.com/@systechcwb826)\n",
    "- **LinkedIn:** [Tu Perfil de LinkedIn](https://www.linkedin.com/in/jensygomez/)\n",
    "\n",
    "\n"
   ]
  },
  {
   "cell_type": "markdown",
   "metadata": {},
   "source": [
    "\n",
    "### reate and Read CSV File (.csv)\n",
    "\n",
    "**Exercise Description:** In this exercise, you will create a Python program that allows the user to input data in rows and columns, and then saves that data to a CSV file (.csv). Afterward, the program will read the content of the CSV file and print it to the screen.\n",
    "\n",
    "**Steps:**\n",
    "\n",
    "1.  Import the `csv` module.\n",
    "2.  Prompt the user to input the data in rows and columns.\n",
    "3.  Open a CSV file in write mode.\n",
    "4.  Create a CSV writer and write the data entered by the user to the CSV file.\n",
    "5.  Close the file.\n",
    "6.  Open the CSV file in read mode.\n",
    "7.  Create a CSV reader and read the content of the file.\n",
    "8.  Print the content of the CSV file to the screen."
   ]
  },
  {
   "cell_type": "markdown",
   "metadata": {},
   "source": [
    "### **Step 1:** Import the `csv` module\n",
    "\n",
    "\n",
    "Importing the `csv` module is essential when working with CSV files in Python. The `csv` module provides functions and classes that facilitate the reading, writing, and manipulation of data in CSV files. By importing this module, we ensure that we have access to all these necessary functionalities to handle CSV files efficiently and without errors. The common method to import the `csv` module is simply using the statement `import csv`."
   ]
  },
  {
   "cell_type": "code",
   "execution_count": 7,
   "metadata": {},
   "outputs": [],
   "source": [
    "# Import the csv module\n"
   ]
  },
  {
   "cell_type": "markdown",
   "metadata": {},
   "source": [
    "### **Step 2: Prompt** the user to **input data**\n",
    "\n",
    "In this step, **prompting** the user is crucial to **gather necessary information** for the program. It enables user interaction by **requesting data** needed for further processing. When **prompting** the user, ensure to provide **clear and concise instructions** regarding the type of data required and its format. This may include **clear prompts** and **examples** of the expected input format if necessary. Once the user provides the required data, the program can proceed to the next processing step.\n"
   ]
  },
  {
   "cell_type": "code",
   "execution_count": 8,
   "metadata": {},
   "outputs": [
    {
     "name": "stdout",
     "output_type": "stream",
     "text": [
      "Please, Enter data  in rows and columns. to stop, enter 'q'.\n"
     ]
    }
   ],
   "source": [
    "# Prompt the user to input data\n"
   ]
  },
  {
   "cell_type": "markdown",
   "metadata": {},
   "source": [
    "### **Step 3**: Initialize an **empty list** to **store** user input data.\n",
    "\n",
    "Initializing an **empty list** is crucial to **store** the user input data that will be collected later in the program. By creating this **empty list** at the outset, we are setting up the necessary data structure to **store** the user input before processing or writing it to a CSV file. This is achieved simply by creating an **empty list** using square brackets `[]`, providing a structure where the user's data can be **stored** and manipulated as needed in the script.\n"
   ]
  },
  {
   "cell_type": "code",
   "execution_count": 9,
   "metadata": {},
   "outputs": [],
   "source": [
    "# Initialize an empty list to store user input data.\n"
   ]
  },
  {
   "cell_type": "markdown",
   "metadata": {},
   "source": [
    "### **Step 4**: Split User Input and Append Elements to the 'data' List\n",
    "\n",
    "This step involves taking the user's input, expected to be a line of comma-separated data, and splitting it into individual elements. These elements are then appended to the 'data' list. Splitting the input is crucial for proper processing and storage before writing to the CSV file. Utilize the `split()` method on the user input string, which will break the string into substrings at each comma, resulting in a list of individual elements ready for appending.\n"
   ]
  },
  {
   "cell_type": "code",
   "execution_count": 13,
   "metadata": {},
   "outputs": [],
   "source": [
    "\n",
    "# Prompt the user to enter row data (comma-separated).\n",
    "# Continue prompting for data until the user enters an empty line.\n",
    "\n",
    "\n",
    "    # Split the user input by commas and append the elements to the 'data' list.\n",
    "  \n",
    "\n"
   ]
  },
  {
   "cell_type": "markdown",
   "metadata": {},
   "source": [
    "### **Step 5**: **Write** data to CSV file\n",
    "\n",
    "\n",
    "In this step, you proceed to write the collected data from the previous steps into a CSV file. First, you define the filename for the CSV file where the data will be stored. Then, you open the file in write mode, with the option `newline=''` to ensure compatibility across different operating systems.\n",
    "\n",
    "Next, you create a CSV writer object using the `csv.writer()` function, which facilitates writing data to the CSV file in the appropriate format. Once the writer object is created, you write the data to the CSV file using the `writerow()` method of the writer object.\n",
    "\n",
    "Finally, you print a message indicating that the data has been successfully written to the CSV file, providing feedback to the user about the successful execution of the task.\n"
   ]
  },
  {
   "cell_type": "code",
   "execution_count": 14,
   "metadata": {},
   "outputs": [
    {
     "name": "stdout",
     "output_type": "stream",
     "text": [
      "CVS file 'arquiveCSV' has been saved succesfully\n"
     ]
    }
   ],
   "source": [
    "# Write data to CSV file\n",
    "# Define the filename for the CSV file\n",
    "\n",
    "# Open the CSV file in write mode, creating it if it doesn't exist\n",
    "# Use 'newline='' to ensure compatibility across different systems\n",
    "\n",
    "    \n",
    "    # Create a CSV writer object\n",
    "    \n",
    "        \n",
    "    # Write the data to the CSV file\n",
    "    \n",
    "    \n",
    "\n",
    "# Print a message indicating that the data has been written to the CSV file\n",
    "\n"
   ]
  },
  {
   "cell_type": "markdown",
   "metadata": {},
   "source": [
    "\n",
    "### **Step 6**: **Read** data from CSV file\n",
    "\n",
    "In this step, we open the CSV file in read mode to read the data we have previously saved. This allows us to access the information stored in the CSV file and work with it in our program. We use a CSV reader object to handle reading the data efficiently, and then iterate over each row of the file to process it as needed in our program. It is essential to read the data correctly to perform further analysis, data manipulation, or visualization in our Python program."
   ]
  },
  {
   "cell_type": "code",
   "execution_count": null,
   "metadata": {},
   "outputs": [],
   "source": [
    "# Read data from CSV file\n",
    "# Open the CSV file in read mode\n",
    "\n",
    "\n",
    "    # Create a CSV reader object\n",
    "    \n",
    "    \n",
    "    # Print a message indicating the content of the CSV file\n",
    "    \n",
    "    \n",
    "    # Iterate over each row in the CSV file and print it\n",
    "    \n",
    "        \n"
   ]
  }
 ],
 "metadata": {
  "kernelspec": {
   "display_name": "Python 3 (ipykernel)",
   "language": "python",
   "name": "python3"
  },
  "language_info": {
   "codemirror_mode": {
    "name": "ipython",
    "version": 3
   },
   "file_extension": ".py",
   "mimetype": "text/x-python",
   "name": "python",
   "nbconvert_exporter": "python",
   "pygments_lexer": "ipython3",
   "version": "3.12.2"
  }
 },
 "nbformat": 4,
 "nbformat_minor": 2
}
