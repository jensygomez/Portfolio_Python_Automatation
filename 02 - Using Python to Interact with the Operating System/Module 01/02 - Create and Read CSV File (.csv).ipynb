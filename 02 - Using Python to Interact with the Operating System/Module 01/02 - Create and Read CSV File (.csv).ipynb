{
 "cells": [
  {
   "cell_type": "markdown",
   "metadata": {},
   "source": [
    "**Author:**       Jensy Gregorio Gómez \n",
    "---------------------------------------\n",
    "**Profession:**         IT Support Analyst and Automatation with Python\n",
    "\n",
    "**Creation date:**      02 March 2024     \n",
    "**Update date:**        03 March 2024  \n",
    "\n",
    "**Location:**           Vila Izabel, Curitiba/PR  \n",
    "\n",
    "\n",
    "---\n",
    "\n",
    "**Contacto:**\n",
    "\n",
    "- **Email:** [contact@jensygomez.us](mailto:contact@jensygomez.us)\n",
    "- **YouTube:** [Tu Canal de YouTube](https://www.youtube.com/@systechcwb826)\n",
    "- **LinkedIn:** [Tu Perfil de LinkedIn](https://www.linkedin.com/in/jensygomez/)\n",
    "\n",
    "\n"
   ]
  },
  {
   "cell_type": "markdown",
   "metadata": {},
   "source": [
    "\n",
    "### reate and Read CSV File (.csv)\n",
    "\n",
    "**Exercise Description:** In this exercise, you will create a Python program that allows the user to input data in rows and columns, and then saves that data to a CSV file (.csv). Afterward, the program will read the content of the CSV file and print it to the screen.\n",
    "\n",
    "**Steps:**\n",
    "\n",
    "1.  Import the `csv` module.\n",
    "2.  Prompt the user to input the data in rows and columns.\n",
    "3.  Open a CSV file in write mode.\n",
    "4.  Create a CSV writer and write the data entered by the user to the CSV file.\n",
    "5.  Close the file.\n",
    "6.  Open the CSV file in read mode.\n",
    "7.  Create a CSV reader and read the content of the file.\n",
    "8.  Print the content of the CSV file to the screen."
   ]
  },
  {
   "cell_type": "code",
   "execution_count": null,
   "metadata": {},
   "outputs": [],
   "source": [
    "# Import the csv module\n"
   ]
  },
  {
   "cell_type": "code",
   "execution_count": 1,
   "metadata": {},
   "outputs": [],
   "source": [
    "\n",
    "# Prompt the user to input data\n",
    "### YOUR CODE HERE ###\n",
    "\n",
    "\n",
    "# Initialize an empty list to store user input data.\n",
    "### YOUR CODE HERE ###\n",
    "\n",
    "\n",
    "# Prompt the user to enter row data (comma-separated).\n",
    "# Continue prompting for data until the user enters an empty line.\n",
    "### YOUR CODE HERE ###\n",
    "\n",
    "    # Split the user input by commas and append the elements to the 'data' list.\n",
    "    ### YOUR CODE HERE ###\n",
    "\n"
   ]
  },
  {
   "cell_type": "code",
   "execution_count": null,
   "metadata": {},
   "outputs": [],
   "source": [
    "# Write data to CSV file\n",
    "# Define the filename for the CSV file\n",
    "### YOUR CODE HERE ###\n",
    "\n",
    "\n",
    "# Open the CSV file in write mode, creating it if it doesn't exist\n",
    "# Use 'newline='' to ensure compatibility across different systems\n",
    "### YOUR CODE HERE ###\n",
    "\n",
    "\n",
    "    # Create a CSV writer object\n",
    "    ### YOUR CODE HERE ###\n",
    "    \n",
    "\n",
    "    # Write the data to the CSV file\n",
    "    ### YOUR CODE HERE ###\n",
    "    \n",
    "\n",
    "# Print a message indicating that the data has been written to the CSV file\n",
    "### YOUR CODE HERE ###"
   ]
  },
  {
   "cell_type": "code",
   "execution_count": null,
   "metadata": {},
   "outputs": [],
   "source": [
    "# Read data from CSV file\n",
    "# Open the CSV file in read mode\n",
    "### YOUR CODE HERE ###\n",
    "\n",
    "\n",
    "    # Create a CSV reader object\n",
    "    ### YOUR CODE HERE ###\n",
    "    \n",
    "\n",
    "    # Print a message indicating the content of the CSV file\n",
    "    ### YOUR CODE HERE ###\n",
    "    \n",
    "\n",
    "    # Iterate over each row in the CSV file and print it\n",
    "    ### YOUR CODE HERE ###\n",
    "        ### YOUR CODE HERE ###\n"
   ]
  }
 ],
 "metadata": {
  "kernelspec": {
   "display_name": "Python 3 (ipykernel)",
   "language": "python",
   "name": "python3"
  },
  "language_info": {
   "codemirror_mode": {
    "name": "ipython",
    "version": 3
   },
   "file_extension": ".py",
   "mimetype": "text/x-python",
   "name": "python",
   "nbconvert_exporter": "python",
   "pygments_lexer": "ipython3",
   "version": "3.12.2"
  }
 },
 "nbformat": 4,
 "nbformat_minor": 2
}
