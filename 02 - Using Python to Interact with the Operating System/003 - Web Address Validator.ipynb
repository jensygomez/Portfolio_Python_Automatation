{
 "cells": [
  {
   "cell_type": "markdown",
   "metadata": {},
   "source": [
    "**Author:**       Jensy Gregorio Gómez \n",
    "---------------------------------------\n",
    "**Profession:**  IT Support Analyst and Automatation with Python\n",
    "\n",
    "**Date:**         09 March 2024     \n",
    "\n",
    "**Location:**     Vila Izabel, Curitiba/PR  \n",
    "\n",
    "\n",
    "---\n",
    "\n",
    "**Contacto:**\n",
    "\n",
    "- **Email:** [contact@jensygomez.us](mailto:contact@jensygomez.us)\n",
    "- **YouTube:** [Tu Canal de YouTube](https://www.youtube.com/@systechcwb826)\n",
    "- **LinkedIn:** [Tu Perfil de LinkedIn](https://www.linkedin.com/in/jensygomez/)\n",
    "\n",
    "\n"
   ]
  },
  {
   "cell_type": "markdown",
   "metadata": {},
   "source": [
    "\n",
    "# **Title:** Web Address Validator\n",
    "\n",
    "**Prompt:**\n",
    "\n",
    "You are a developer tasked with creating a Python function to validate whether a given string represents a valid web address. The web address must meet specific criteria, such as the presence of a valid domain name and the absence of special characters that are not allowed in a standard web address.\n",
    "\n",
    "**Step-by-step:**\n",
    "\n",
    "1. **Define the function `check_web_address(text)`:** Begin by creating a Python function called `check_web_address` that takes a parameter `text`, representing the string to be validated as a web address.\n",
    "\n",
    "2. **Set the regular expression pattern:** Use Python's `re` module to define a regular expression pattern that matches the criteria of a valid web address. The pattern should take into account aspects such as the optional presence of the \"www.\" prefix, followed by alphanumeric characters, underscores (_), and hyphens (-), followed by a period (.), and then a domain with at least two or three alphabetic letters.\n",
    "\n",
    "3. **Search for the pattern in the given text:** Use the `re.search()` method to search for the pattern defined in the previous step within the text provided as an argument to the function.\n",
    "\n",
    "4. **Check the result of the search:** Check if the search returns a match object. If it does, it means that the string matches the defined pattern and is therefore a valid web address. Otherwise, the function should return `False`.\n",
    "\n",
    "5. **Return the result:** Return `True` if a match is found and `False` if no match is found.\n",
    "\n",
    "6. **Test the function:** Finally, test the function with various examples of valid and invalid web addresses to ensure it functions correctly."
   ]
  },
  {
   "cell_type": "code",
   "execution_count": 1,
   "metadata": {},
   "outputs": [
    {
     "name": "stdout",
     "output_type": "stream",
     "text": [
      "True\n",
      "False\n",
      "True\n",
      "False\n",
      "True\n"
     ]
    }
   ],
   "source": [
    "import re\n",
    "\n",
    "# Step 1: Define the function check_web_address(text)\n",
    "# This function validates whether the provided text represents a valid web address\n",
    "\n",
    "\n",
    "    \n",
    "    # Step 2: Set the regular expression pattern\n",
    "    # The pattern matches optional \"www.\" prefix, alphanumeric characters, underscore (_), and hyphen (-),\n",
    "    # followed by a period (.), and then a domain with at least two or three alphabetic letters    \n",
    "\n",
    "\n",
    "\n",
    "    # Step 3: Search for the pattern in the given text\n",
    "    # Using re.search() to find the pattern within the text    \n",
    "    \n",
    "    \n",
    "    \n",
    "    # Step 5: Return the result\n",
    "    # Return True if a match is found, False otherwise\n",
    "\n",
    "\n",
    "\n",
    "# Step 6: Test the function\n",
    "print(check_web_address(\"gmail.com\")) # True\n",
    "print(check_web_address(\"www@google\")) # False\n",
    "print(check_web_address(\"www.Coursera.org\")) # True\n",
    "print(check_web_address(\"web-address.com/homepage\")) # False\n",
    "print(check_web_address(\"My_Favorite-Blog.US\")) # True\n"
   ]
  }
 ],
 "metadata": {
  "kernelspec": {
   "display_name": "Python 3 (ipykernel)",
   "language": "python",
   "name": "python3"
  },
  "language_info": {
   "codemirror_mode": {
    "name": "ipython",
    "version": 3
   },
   "file_extension": ".py",
   "mimetype": "text/x-python",
   "name": "python",
   "nbconvert_exporter": "python",
   "pygments_lexer": "ipython3",
   "version": "3.10.12"
  }
 },
 "nbformat": 4,
 "nbformat_minor": 4
}
