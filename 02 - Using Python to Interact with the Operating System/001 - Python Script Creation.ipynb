{
 "cells": [
  {
   "cell_type": "markdown",
   "metadata": {},
   "source": [
    "**Author:**       Jensy Gregorio Gómez \n",
    "---------------------------------------\n",
    "**Profession:**  IT Support Analyst and Automatation with Python\n",
    "\n",
    "**Date:**         09 March 2024     \n",
    "\n",
    "**Location:**     Vila Izabel, Curitiba/PR  \n",
    "\n",
    "\n",
    "---\n",
    "\n",
    "**Contacto:**\n",
    "\n",
    "- **Email:** [contact@jensygomez.us](mailto:contact@jensygomez.us)\n",
    "- **YouTube:** [Tu Canal de YouTube](https://www.youtube.com/@systechcwb826)\n",
    "- **LinkedIn:** [Tu Perfil de LinkedIn](https://www.linkedin.com/in/jensygomez/)\n",
    "\n",
    "\n"
   ]
  },
  {
   "cell_type": "markdown",
   "metadata": {},
   "source": [
    "# **Python Script Creation**\n",
    "\n",
    "**Problem Statement:**\n",
    "The **objective** of this exercise is to create a Python function called `create_python_script` that takes a **file name** as an argument and generates a new Python script with an initial comment. Additionally, it should return the **size** of the created file.\n",
    "\n",
    "**Step-by-Step:**\n",
    "1. Define a function called `create_python_script` that takes a parameter `filename`, representing the **name** of the file to create.\n",
    "2. Create a string `comments` containing the initial comment for the Python script.\n",
    "3. Open the file specified by `filename` in write mode (`'w'`) using a `with` block to ensure the file is properly closed after use.\n",
    "4. Write the contents of the `comments` string to the newly created file.\n",
    "5. Use the `os.path.getsize()` function to obtain the **size** of the file in bytes.\n",
    "6. Return the file size as the result of the `create_python_script` function.\n",
    "7. Call the `create_python_script` function with the desired file name as an argument.\n",
    "8. Print the **size** of the file returned by the function.\n",
    "11. Print the result of the `countdown` function with different values to test its functionality."
   ]
  },
  {
   "cell_type": "code",
   "execution_count": 1,
   "metadata": {},
   "outputs": [
    {
     "name": "stdout",
     "output_type": "stream",
     "text": [
      "File size: 31\n"
     ]
    }
   ],
   "source": [
    "import os\n",
    "\n",
    "# Step 1: Define function with filename parameter\n",
    "\n",
    "    \n",
    "    \n",
    "    # Step 2: Create initial comment\n",
    "\n",
    "    \n",
    "    \n",
    "    # Step 3: Open file in write mode and write comments\n",
    "\n",
    "        \n",
    "    \n",
    "    # Step 5: Obtain size of the file\n",
    "\n",
    "    \n",
    "    \n",
    "    # Step 6: Return file size\n",
    "\n",
    "\n",
    "\n",
    "\n",
    "# Step 7: Call create_python_script function\n",
    "\n",
    "# Step 8: Print size of the file\n"
   ]
  }
 ],
 "metadata": {
  "kernelspec": {
   "display_name": "Python 3 (ipykernel)",
   "language": "python",
   "name": "python3"
  },
  "language_info": {
   "codemirror_mode": {
    "name": "ipython",
    "version": 3
   },
   "file_extension": ".py",
   "mimetype": "text/x-python",
   "name": "python",
   "nbconvert_exporter": "python",
   "pygments_lexer": "ipython3",
   "version": "3.10.12"
  }
 },
 "nbformat": 4,
 "nbformat_minor": 4
}
