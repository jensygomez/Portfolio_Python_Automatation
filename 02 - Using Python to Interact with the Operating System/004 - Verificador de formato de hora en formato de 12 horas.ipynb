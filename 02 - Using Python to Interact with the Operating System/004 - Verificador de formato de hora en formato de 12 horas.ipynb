{
 "cells": [
  {
   "cell_type": "markdown",
   "metadata": {},
   "source": [
    "**Author:**       Jensy Gregorio Gómez \n",
    "---------------------------------------\n",
    "**Profession:**  IT Support Analyst and Automatation with Python\n",
    "\n",
    "**Date:**         09 March 2024     \n",
    "\n",
    "**Resolved** 01 Abril 2024 --> 14 April 2024\n",
    "\n",
    "**Location:**     Vila Izabel, Curitiba/PR  \n",
    "\n",
    "\n",
    "---\n",
    "\n",
    "**Contacto:**\n",
    "\n",
    "- **Email:** [contact@jensygomez.us](mailto:contact@jensygomez.us)\n",
    "- **YouTube:** [Tu Canal de YouTube](https://www.youtube.com/@systechcwb826)\n",
    "- **LinkedIn:** [Tu Perfil de LinkedIn](https://www.linkedin.com/in/jensygomez/)\n",
    "\n",
    "\n"
   ]
  },
  {
   "cell_type": "markdown",
   "metadata": {},
   "source": [
    "**Título:** \n",
    "# Verificador de formato de hora en formato de 12 horas\n",
    "\n",
    "**Escenario:** \n",
    "Este código se utiliza para verificar si una cadena de texto proporcionada sigue el formato de hora en el reloj de 12 horas.\n",
    "\n",
    "**Paso a paso:**\n",
    "1. **Importar el módulo `re`:** El código comienza importando el módulo `re`, que proporciona funciones para trabajar con expresiones regulares en Python.\n",
    "   \n",
    "2. **Definir la función `check_time`:** Se define una función llamada `check_time` que toma un argumento `text`, que es la cadena de texto que se va a verificar.\n",
    "\n",
    "3. **Definir el patrón de expresión regular:** Se define un patrón de expresión regular llamado `pattern`, que captura el formato de hora en el reloj de 12 horas. El patrón consiste en lo siguiente:\n",
    "   - `^`: Coincide con el inicio de la cadena.\n",
    "   - `(1[0-2]|0?[1-9])`: Captura la hora, que puede ser de 1 a 12, con o sin un 0 inicial para horas menores de 10.\n",
    "   - `:`: Coincide con el separador de dos puntos.\n",
    "   - `([0-5][0-9])`: Captura los minutos, que deben estar entre 00 y 59.\n",
    "   - ` ?`: Coincide opcionalmente con un espacio en blanco después de los minutos.\n",
    "   - `([APap][mM])`: Captura la designación AM o PM, de forma opcional, sin importar la capitalización.\n",
    "   - `$`: Coincide con el final de la cadena.\n",
    "   \n",
    "4. **Realizar la coincidencia con el patrón:** Se utiliza `re.match()` para intentar coincidir el patrón con la cadena de texto proporcionada.\n",
    "\n",
    "5. **Retornar el resultado:** La función devuelve `True` si la coincidencia fue exitosa, indicando que la cadena de texto sigue el formato de hora en el reloj de 12 horas. De lo contrario, devuelve `False`.\n",
    "\n",
    "6. **Probar la función con diferentes cadenas de texto:** Se imprimen varios resultados de `check_time()` con diferentes cadenas de texto para verificar si la función funciona correctamente. Las salidas esperadas se comentan junto a las llamadas a la función para indicar si la verificación fue exitosa o no."
   ]
  },
  {
   "cell_type": "code",
   "execution_count": null,
   "metadata": {},
   "outputs": [],
   "source": [
    "# 1. Importar el módulo `re`: \n",
    "# El código comienza importando el módulo `re`, que proporciona funciones para trabajar con expresiones regulares en Python.\n",
    "\n",
    "\n",
    "# 2. Definir la función `check_time`:\n",
    "# Se define una función llamada `check_time` que toma un argumento `text`, \n",
    "# que es la cadena de texto que se va a verificar.\n",
    "\n",
    "\n",
    "    # 3. Definir el patrón de expresión regular:\n",
    "    # Se define un patrón de expresión regular llamado `pattern`, que captura el formato de hora en el reloj de 12 horas. El patrón consiste en lo siguiente:\n",
    "    #   - `^`: Coincide con el inicio de la cadena.\n",
    "    #   - `(1[0-2]|0?[1-9])`: Captura la hora, que puede ser de 1 a 12, con o sin un 0 inicial para horas menores de 10.\n",
    "    #   - `:`: Coincide con el separador de dos puntos.\n",
    "    #   - `([0-5][0-9])`: Captura los minutos, que deben estar entre 00 y 59.\n",
    "    #   - ` ?`: Coincide opcionalmente con un espacio en blanco después de los minutos.\n",
    "    #   - `([APap][mM])`: Captura la designación AM o PM, de forma opcional, sin importar la capitalización.\n",
    "    #   - `$`: Coincide con el final de la cadena.\n",
    "\n",
    "\n",
    "  \n",
    "\n",
    "    \n",
    "    # 4. Realizar la coincidencia con el patrón:\n",
    "    # Aignale a la variable (match), utilizando  `re.match()` \n",
    "    # para intentar coincidir el patrón con la cadena de texto proporcionada.\n",
    "\n",
    "\n",
    "    # 5. Retornar el resultado:\n",
    "    # La función devuelve `True` si la coincidencia fue exitosa, indicando que la cadena de texto sigue el formato de hora en el reloj de 12 horas. De lo contrario, devuelve `False`.\n",
    "\n",
    "# 6. **Probar la función con diferentes cadenas de texto:** Se imprimen varios resultados de `check_time()` con diferentes cadenas de texto para verificar si la función funciona correctamente. Las salidas esperadas se comentan junto a las llamadas a la función para indicar si la verificación fue exitosa o no.\n",
    "print(check_time(\"12:45pm\"))    # True\n",
    "print(check_time(\"9:59 AM\"))     # True\n",
    "print(check_time(\"6:60am\"))      # False\n",
    "print(check_time(\"five o'clock\")) # False"
   ]
  },
  {
   "cell_type": "code",
   "execution_count": 1,
   "metadata": {},
   "outputs": [
    {
     "name": "stdout",
     "output_type": "stream",
     "text": [
      "True\n",
      "True\n",
      "False\n",
      "False\n"
     ]
    }
   ],
   "source": [
    "import re\n",
    "\n",
    "def check_time(text):\n",
    "    pattern = r\"^(1[0-2]|0?[1-9]):([0-5][0-9]) ?([APap][mM])$\"\n",
    "    match = re.match(pattern, text)\n",
    "    return bool(match)\n",
    "\n",
    "print(check_time(\"12:45pm\"))    # True\n",
    "print(check_time(\"9:59 AM\"))     # True\n",
    "print(check_time(\"6:60am\"))      # False\n",
    "print(check_time(\"five o'clock\")) # False\n"
   ]
  }
 ],
 "metadata": {
  "kernelspec": {
   "display_name": "Python 3 (ipykernel)",
   "language": "python",
   "name": "python3"
  },
  "language_info": {
   "codemirror_mode": {
    "name": "ipython",
    "version": 3
   },
   "file_extension": ".py",
   "mimetype": "text/x-python",
   "name": "python",
   "nbconvert_exporter": "python",
   "pygments_lexer": "ipython3",
   "version": "3.11.8"
  }
 },
 "nbformat": 4,
 "nbformat_minor": 4
}
