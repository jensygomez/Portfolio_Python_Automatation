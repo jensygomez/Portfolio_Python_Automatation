{
 "cells": [
  {
   "cell_type": "markdown",
   "metadata": {},
   "source": [
    "**Author:**       Jensy Gregorio Gómez \n",
    "---------------------------------------\n",
    "**Profession:**         IT Support Analyst and Automatation with Python\n",
    "\n",
    "**Creation date:**      02 March 2024     \n",
    "**Update date:**        03 March 2024  \n",
    "\n",
    "**Location:**           Vila Izabel, Curitiba/PR  \n",
    "\n",
    "\n",
    "---\n",
    "\n",
    "**Contacto:**\n",
    "\n",
    "- **Email:** [contact@jensygomez.us](mailto:contact@jensygomez.us)\n",
    "- **YouTube:** [Tu Canal de YouTube](https://www.youtube.com/@systechcwb826)\n",
    "- **LinkedIn:** [Tu Perfil de LinkedIn](https://www.linkedin.com/in/jensygomez/)\n",
    "\n",
    "\n"
   ]
  },
  {
   "cell_type": "markdown",
   "metadata": {},
   "source": [
    "\n",
    "### Create and Read Text File (.txt)\n",
    "\n",
    "**Exercise Description:** In this exercise, you will create a Python program that allows the user to input text and then saves that text to a text file (.txt). Afterward, the program will read the content of the file and print it to the screen.\n",
    "\n",
    "**Steps:**\n",
    "\n",
    "1.  Prompt the user to input the text they want to save to the file.\n",
    "2.  Open a text file in write mode.\n",
    "3.  Write the text entered by the user to the file.\n",
    "4.  Open the text file in read mode.\n"
   ]
  },
  {
   "cell_type": "markdown",
   "metadata": {},
   "source": [
    "\n",
    "### Step 1: Prompt User Input\n",
    "\n",
    "**Explanation:** Prompting the user to input text is the **first step** in this program. By doing so, we **enable interaction** and allow the user to provide the content they want to save to the file. This input serves as the **data source** for the text file. Prompting for user input ensures **customization** and **flexibility** in the content that gets saved."
   ]
  },
  {
   "cell_type": "code",
   "execution_count": 1,
   "metadata": {},
   "outputs": [],
   "source": [
    "# Prompt the user to input the name of the file\n",
    "file_name = input(\"Please, Enter the name of your file. Thank you !!!\")"
   ]
  },
  {
   "cell_type": "markdown",
   "metadata": {},
   "source": [
    "### Step 2: Write Content to File\n",
    "\n",
    "**Explanation:** After opening the file in **write mode**, the next step is to **write** the content provided by the user to the file. This action **saves** the user's input into the file for later retrieval. Writing the content ensures that the **data is stored** in the file and can be accessed whenever needed."
   ]
  },
  {
   "cell_type": "code",
   "execution_count": null,
   "metadata": {},
   "outputs": [],
   "source": [
    "# Prompt the user to input the content for the file\n",
    "text_user = input(\"Escribe el contenido del Archivo\")\n",
    "    "
   ]
  },
  {
   "cell_type": "markdown",
   "metadata": {},
   "source": [
    "\n",
    "### Step 3: Open File in Write Mode\n",
    "\n",
    "**Explanation:** Opening the file in **write mode** is essential to **prepare** the file for writing data. This step ensures that we can **modify** the file's contents and **save** the user input. By opening the file in write mode, we gain **exclusive access** to it, allowing us to write data to it without interference from other processes."
   ]
  },
  {
   "cell_type": "code",
   "execution_count": null,
   "metadata": {},
   "outputs": [
    {
     "name": "stdout",
     "output_type": "stream",
     "text": [
      "Your text were solved to  test.txt\n"
     ]
    }
   ],
   "source": [
    "# Open the file in write mode and write the content\n",
    "with open(file_name, mode=\"w\") as file:\n",
    "    file.write(text_user)\n",
    "    print(\"Your text were solved to \", file_name)"
   ]
  },
  {
   "cell_type": "markdown",
   "metadata": {},
   "source": [
    "### Step 4: Open File in Read Mode\n",
    "\n",
    "**Explanation:** Opening the file in **read mode** is necessary to **retrieve** the content stored within it. This step allows us to **access** the data previously written to the file and **display** it to the user. By opening the file in read mode, we ensure that we can **view** the content without modifying it."
   ]
  },
  {
   "cell_type": "code",
   "execution_count": null,
   "metadata": {},
   "outputs": [
    {
     "name": "stdout",
     "output_type": "stream",
     "text": [
      "Son las diez de la noche\n"
     ]
    }
   ],
   "source": [
    "# Open the file in read mode to display its content\n",
    "with open(file_name, mode=\"r\") as file:\n",
    "    \n",
    "    print(file.read())"
   ]
  }
 ],
 "metadata": {
  "kernelspec": {
   "display_name": "Python 3 (ipykernel)",
   "language": "python",
   "name": "python3"
  },
  "language_info": {
   "codemirror_mode": {
    "name": "ipython",
    "version": 3
   },
   "file_extension": ".py",
   "mimetype": "text/x-python",
   "name": "python",
   "nbconvert_exporter": "python",
   "pygments_lexer": "ipython3",
   "version": "3.12.2"
  }
 },
 "nbformat": 4,
 "nbformat_minor": 2
}
