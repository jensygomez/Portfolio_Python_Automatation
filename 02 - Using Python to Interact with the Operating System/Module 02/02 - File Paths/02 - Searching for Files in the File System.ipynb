{
 "cells": [
  {
   "cell_type": "markdown",
   "metadata": {},
   "source": [
    "**Author:**       Jensy Gregorio Gómez \n",
    "---------------------------------------\n",
    "**Profession:**         IT Support Analyst and Automatation with Python\n",
    "\n",
    "**Creation date:**      03 March 2024     \n",
    "**Update date:**        03 March 2024  \n",
    "\n",
    "**Location:**           Vila Izabel, Curitiba/PR  \n",
    "\n",
    "\n",
    "---\n",
    "\n",
    "**Contacto:**\n",
    "\n",
    "- **Email:** [contact@jensygomez.us](mailto:contact@jensygomez.us)\n",
    "- **YouTube:** [Tu Canal de YouTube](https://www.youtube.com/@systechcwb826)\n",
    "- **LinkedIn:** [Tu Perfil de LinkedIn](https://www.linkedin.com/in/jensygomez/)\n",
    "\n",
    "\n"
   ]
  },
  {
   "cell_type": "markdown",
   "metadata": {},
   "source": [
    "\n",
    "# **Searching for Files in the File System:**\n",
    "\n",
    "Write a Python program that allows the user to enter part of a file name and then searches for that name throughout the entire file system. The program should print the full path of all files that match the search, including the file name and the folder it is located in. The user only needs to enter part of the file name, and the program will search for matches regardless of case.\n",
    "\n",
    "For example, if the user enters \"photo\" as part of the file name, the program should search for all files that contain the word \"photo\" in their name, such as \"photo1.jpg\", \"Vacation_Photos.png\", etc. The program should print the full path of each found file.\n",
    "\n",
    "**Steps to follow:**\n",
    "\n",
    "1. Prompt the user to enter part of the file name they want to search for in the file system.\n",
    "2. Convert the entered name to lowercase to facilitate comparison.\n",
    "3. Use the `os.walk()` function to traverse the entire file system starting from the root (`os.sep`).\n",
    "4. For each file found in the file system:\n",
    "   - Check if the name entered by the user is contained in the file name, ignoring case.\n",
    "   - If there is a match, print the full path of the file using `os.path.join(root, file)`.\n",
    "5. If no matches are found, print a message indicating that no files matching the entered name were found.\n",
    "6. End the search and display a program completion message."
   ]
  },
  {
   "cell_type": "markdown",
   "metadata": {},
   "source": [
    "\n",
    "### Step 1: Import Necessary Modules\n",
    "\n",
    "**Explanation:** This step involves **importing** the necessary modules for the program to function properly. By importing the `os` module, we gain access to various functions and methods that allow us to interact with the **operating system**, including navigating the **file system**. The `os` module provides essential tools for performing **file-related operations**, which are crucial for implementing the **file search** functionality in the program. Therefore, importing the `os` module at the beginning ensures that these functionalities are available throughout the program.\n"
   ]
  },
  {
   "cell_type": "code",
   "execution_count": 14,
   "metadata": {},
   "outputs": [],
   "source": [
    "# Import the OS module\n",
    "import os\n",
    "\n"
   ]
  },
  {
   "cell_type": "markdown",
   "metadata": {},
   "source": [
    "### Step 2: Prompt User Input\n",
    "\n",
    "**Explanation:** This step involves prompting the user to input part of the file name they want to search for in the file system. By using the `input()` function, we request user input, enabling interaction with the program. The message `\"Enter part of the file name you want to search for:\"` serves as a prompt, providing guidance to the user on what information to input. Additionally, using the `.lower()` method on the input ensures that the entered text is converted to lowercase, facilitating case-insensitive matching during the file search process. This step allows the user to specify the search criteria, ensuring customization and flexibility in the search operation.\n"
   ]
  },
  {
   "cell_type": "code",
   "execution_count": 15,
   "metadata": {},
   "outputs": [],
   "source": [
    "# Prompts the user to enter a portion of the file name they wish to search for,\n",
    "# and stores the input in lowercase.\n",
    "# This makes string comparison case-insensitive,\n",
    "# allowing for consistent matching regardless of the user's input case.\n",
    "nombre_archivo = input(\"Enter part of the file name you want to search for: \").lower()\n"
   ]
  },
  {
   "cell_type": "markdown",
   "metadata": {},
   "source": [
    "\n",
    "### Step 3: Display Search Message\n",
    "\n",
    "**Explanation:** This step involves displaying a message to inform the user that the program is searching for files in the entire file system. By printing the message `\"Searching for [nombre_archivo] in the entire file system...\"`, we provide feedback to the user, indicating that the search operation is in progress. The `nombre_archivo` variable contains part of the file name entered by the user for the search. This message enhances the user experience by providing visibility into the program's activities and reassuring the user that the search is underway."
   ]
  },
  {
   "cell_type": "code",
   "execution_count": 16,
   "metadata": {},
   "outputs": [
    {
     "name": "stdout",
     "output_type": "stream",
     "text": [
      "Searching for samuelelias in the entire file system...\n"
     ]
    }
   ],
   "source": [
    "# Displays a message indicating that the program is searching for the specified filename in the entire file system.\n",
    "print(\"Searching for\", nombre_archivo, \"in the entire file system...\")\n"
   ]
  },
  {
   "cell_type": "markdown",
   "metadata": {},
   "source": [
    "\n",
    "### Step 4: Search File System\n",
    "\n",
    "**Explanation:** This step involves searching the entire file system for files that match the specified search criteria. We utilize the `os.walk()` function to traverse the file system recursively, starting from the root directory (`os.sep`). The `os.walk()` function returns a tuple containing the root directory, a list of directories, and a list of files in each directory. \n",
    "\n",
    "Within the nested loops, we iterate over each file found in the file system. For each file, we check if the `nombre_archivo` (part of the file name entered by the user, converted to lowercase) is contained within the file name (also converted to lowercase). If there is a match, we print a message indicating that the file is found, along with the full path of the file using `os.path.join(root, file)`. \n",
    "\n",
    "This step ensures that all files matching the search criteria are identified and their paths are displayed to the user, allowing them to locate the desired files easily."
   ]
  },
  {
   "cell_type": "code",
   "execution_count": 21,
   "metadata": {},
   "outputs": [
    {
     "name": "stdout",
     "output_type": "stream",
     "text": [
      "File samuelelias not found\n"
     ]
    }
   ],
   "source": [
    "for root, dirs, files in os.walk(os.sep):\n",
    "    for file in files:\n",
    "        if nombre_archivo in file.lower():\n",
    "            print(\"File found:\", os.path.join(root, file))\n",
    "        else:\n",
    "            break\n",
    "print(\"File {} not found\".format(nombre_archivo))"
   ]
  }
 ],
 "metadata": {
  "kernelspec": {
   "display_name": "Python 3 (ipykernel)",
   "language": "python",
   "name": "python3"
  },
  "language_info": {
   "codemirror_mode": {
    "name": "ipython",
    "version": 3
   },
   "file_extension": ".py",
   "mimetype": "text/x-python",
   "name": "python",
   "nbconvert_exporter": "python",
   "pygments_lexer": "ipython3",
   "version": "3.12.2"
  }
 },
 "nbformat": 4,
 "nbformat_minor": 2
}
