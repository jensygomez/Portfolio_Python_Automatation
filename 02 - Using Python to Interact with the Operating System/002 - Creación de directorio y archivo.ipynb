{
 "cells": [
  {
   "cell_type": "markdown",
   "metadata": {},
   "source": [
    "**Author:**       Jensy Gregorio Gómez \n",
    "---------------------------------------\n",
    "**Profession:**  IT Support Analyst and Automatation with Python\n",
    "\n",
    "**Date:**         09 March 2024  \n",
    "\n",
    "**Modified** 13 March 2024 --> 27 March 2024 --> 13 May 2024\n",
    "\n",
    "**Location:**     Vila Izabel, Curitiba/PR  \n",
    "\n",
    "\n",
    "---\n",
    "\n",
    "**Contacto:**\n",
    "\n",
    "- **Email:** [contact@jensygomez.us](mailto:contact@jensygomez.us)\n",
    "- **YouTube:** [Tu Canal de YouTube](https://www.youtube.com/@systechcwb826)\n",
    "- **LinkedIn:** [Tu Perfil de LinkedIn](https://www.linkedin.com/in/jensygomez/)\n",
    "\n",
    "\n"
   ]
  },
  {
   "cell_type": "markdown",
   "metadata": {},
   "source": [
    "\n",
    "**Título:** \n",
    "# Creación de directorio y archivo\n",
    "\n",
    "**Escenario:** En un entorno de programación, a menudo es necesario crear directorios y archivos para organizar y almacenar datos de manera eficiente. Este script proporciona una función que permite crear un nuevo directorio y un archivo dentro de ese directorio.\n",
    "\n",
    "**Pasos a seguir:**\n",
    "1. **Importación de módulos:** El código importa el módulo `os`, que proporciona funciones para interactuar con el sistema operativo, como crear directorios y archivos.\n",
    "   \n",
    "2. **Definición de la función:** Se define una función llamada `new_directory` que toma dos parámetros: `directory` (directorio) y `filename` (nombre del archivo). Esta función crea un nuevo directorio si no existe y luego crea un archivo dentro de ese directorio con el nombre especificado.\n",
    "   \n",
    "3. **Verificación de existencia del directorio:** La función verifica si el directorio especificado ya existe utilizando la función `os.path.isdir()`. Si el directorio no existe, se crea utilizando `os.mkdir()`.\n",
    "   \n",
    "4. **Cambio de directorio:** Luego, el directorio de trabajo se cambia al nuevo directorio creado utilizando `os.chdir()`.\n",
    "   \n",
    "5. **Creación del archivo:** Se utiliza una instrucción `with` para abrir el archivo en modo escritura (`'w'`). Dentro de este bloque, se crea un archivo vacío utilizando la instrucción `pass`.\n",
    "   \n",
    "6. **Retorno de la lista de archivos:** Finalmente, se devuelve una lista de los archivos en el directorio recién creado utilizando `os.listdir()`.\n",
    "   \n",
    "7. **Ejemplo de uso:** Se proporciona un ejemplo de uso donde se especifica el nombre del directorio y el nombre del archivo. Luego, se imprime la lista de archivos en el nuevo directorio creado utilizando la función `new_directory`.\n",
    "\n"
   ]
  },
  {
   "cell_type": "code",
   "execution_count": null,
   "metadata": {},
   "outputs": [],
   "source": [
    "# 1.  El código importa el módulo `os`, que proporciona funciones para interactuar con el sistema operativo, como crear directorios y archivos.\n",
    "\n",
    "\n",
    "# 2. Se define una función llamada `new_directory` que toma dos parámetros: `directory` (directorio) y `filename` (nombre del archivo). \n",
    "# Esta función crea un nuevo directorio si no existe y luego crea un archivo dentro de ese directorio con el nombre especificado.\n",
    "\n",
    "    # 3. La función verifica sí el directorio especificado ya existe utilizando la función `os.path.isdir()`. \n",
    "\n",
    "        # Si el directorio no existe, se crea utilizando `os.mkdir()`.\n",
    "\n",
    "    # 4. Luego, el directorio de trabajo se cambia al nuevo directorio creado utilizando `os.chdir()`.\n",
    "\n",
    "    # 5. Se utiliza una instrucción `with` para abrir el archivo en modo escritura (`'w'`). \n",
    "\n",
    "        # Dentro de este bloque, se crea un archivo vacío utilizando la instrucción `pass`.\n",
    "\n",
    "    # 6. Finalmente, se devuelve una lista de los archivos en el directorio recién creado utilizando `os.listdir()`.\n",
    "\n",
    "\n",
    "\n",
    "# 7. Se proporciona un ejemplo de uso donde se especifica el nombre del directorio y el nombre del archivo. Luego, se imprime la lista de archivos en el nuevo directorio creado utilizando la función `new_directory`.\n"
   ]
  },
  {
   "cell_type": "code",
   "execution_count": null,
   "metadata": {},
   "outputs": [],
   "source": [
    "import os\n",
    "\n",
    "def new_directory(directory, filename):\n",
    "    if not os.path.isdir(directory):\n",
    "        os.mkdir(directory)\n",
    "    \n",
    "    os.chdir(directory)\n",
    "    \n",
    "    with open(filename, 'w') as file:\n",
    "        pass\n",
    "    \n",
    "    return os.listdir()\n",
    "\n",
    "# Example usage:\n",
    "directory_name = \"my_directory\"\n",
    "file_name = \"my_file.txt\"\n",
    "print(\"Files in new directory:\", new_directory(directory_name, file_name))\n"
   ]
  }
 ],
 "metadata": {
  "kernelspec": {
   "display_name": "Python 3 (ipykernel)",
   "language": "python",
   "name": "python3"
  },
  "language_info": {
   "codemirror_mode": {
    "name": "ipython",
    "version": 3
   },
   "file_extension": ".py",
   "mimetype": "text/x-python",
   "name": "python",
   "nbconvert_exporter": "python",
   "pygments_lexer": "ipython3",
   "version": "3.11.7"
  }
 },
 "nbformat": 4,
 "nbformat_minor": 4
}
