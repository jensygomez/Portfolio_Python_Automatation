{
 "cells": [
  {
   "cell_type": "markdown",
   "metadata": {},
   "source": [
    "**Author:**       Jensy Gregorio Gómez \n",
    "---------------------------------------\n",
    "**Profession:**  IT Support Analyst and Automatation with Python\n",
    "\n",
    "**Date:**         09 March 2024     \n",
    "\n",
    "**Location:**     Vila Izabel, Curitiba/PR  \n",
    "\n",
    "\n",
    "---\n",
    "\n",
    "**Contacto:**\n",
    "\n",
    "- **Email:** [contact@jensygomez.us](mailto:contact@jensygomez.us)\n",
    "- **YouTube:** [Tu Canal de YouTube](https://www.youtube.com/@systechcwb826)\n",
    "- **LinkedIn:** [Tu Perfil de LinkedIn](https://www.linkedin.com/in/jensygomez/)\n",
    "\n",
    "\n"
   ]
  },
  {
   "cell_type": "markdown",
   "metadata": {},
   "source": [
    "\n",
    "# **Updating a Zip Code Validator to Include Nine-Digit Codes**\n",
    "\n",
    "### Statement:\n",
    "The development department of a company has implemented a zip code validator for an address management system. However, the current system only recognizes five-digit zip codes and cannot handle extended zip codes, which include nine digits with an optional hyphen. Your task is to update this validator so that it can correctly recognize and validate both five-digit and nine-digit zip codes, including the possibility of the latter having four additional digits after the hyphen.\n",
    "\n",
    "### Step-by-Step:\n",
    "1. **Identify the Limitation of the Validator:**\n",
    "   - Observe the current operation of the zip code validator and note that it only recognizes five-digit zip codes.\n",
    "2. **Understand the Structure of Zip Codes:**\n",
    "   - Recognize that zip codes can have two formats: five digits (XXXXX) or nine digits (XXXXX-XXXX).\n",
    "3. **Update the Regular Expression:**\n",
    "   - Modify the current regular expression to recognize five-digit zip codes followed optionally by a hyphen and four additional digits.\n",
    "   - Use `\\s` to ensure the zip code is preceded by at least one space.\n",
    "   - Employ `\\d{5}` to capture the first five digits.\n",
    "   - Include `(?:-\\d{4})?` to optionally identify a hyphen followed by four additional digits.\n",
    "   - Use `\\b` to ensure the zip code ends at a word boundary.\n",
    "4. **Update the Validation Function:**\n",
    "   - Modify the validation function to use the new updated regular expression.\n",
    "5. **Test with Test Cases:**\n",
    "   - Execute the validation function with various test cases including five and nine-digit zip codes to verify that the validator works correctly in both cases.\n",
    "6. **Review and Refine:**\n",
    "   - Verify that the validator properly handles all test cases and make adjustments as necessary to ensure optimal functionality."
   ]
  },
  {
   "cell_type": "code",
   "execution_count": null,
   "metadata": {},
   "outputs": [],
   "source": [
    "import re\n",
    "\n",
    "# Step 1: Identify the Limitation of the Validator\n",
    "# The current validator only recognizes five-digit zip codes. \n",
    "\n",
    "# Step 2: Understand the Structure of Zip Codes\n",
    "# Zip codes can have two formats: five digits (XXXXX) or nine digits (XXXXX-XXXX).\n",
    "\n",
    "# Step 3: Update the Regular Expression\n",
    "def correct_function(text):\n",
    "    result = re.search(r\"\\s\\d{5}(?:-\\d{4})?\\b\", text)  # Updated regex pattern\n",
    "    return result is not None\n",
    "\n",
    "# Step 4: Update the Validation Function\n",
    "def check_zip_code(text):\n",
    "    return correct_function(text)  # Call the correct_function\n",
    "\n",
    "# Step 5: Test with Test Cases\n",
    "# Call the check_zip_code function with test cases\n",
    "print(check_zip_code(\"The zip codes for New York are 10001 thru 11104.\"))  # True\n",
    "print(check_zip_code(\"90210 is a TV show\"))  # False (no space before 90210)\n",
    "print(check_zip_code(\"Their address is: 123 Main Street, Anytown, AZ 85258-0001.\"))  # True\n",
    "print(check_zip_code(\"The Parliament of Canada is at 111 Wellington St, Ottawa, ON K1A0A9.\"))  # False\n"
   ]
  }
 ],
 "metadata": {
  "kernelspec": {
   "display_name": "Python 3 (ipykernel)",
   "language": "python",
   "name": "python3"
  },
  "language_info": {
   "codemirror_mode": {
    "name": "ipython",
    "version": 3
   },
   "file_extension": ".py",
   "mimetype": "text/x-python",
   "name": "python",
   "nbconvert_exporter": "python",
   "pygments_lexer": "ipython3",
   "version": "3.10.12"
  }
 },
 "nbformat": 4,
 "nbformat_minor": 4
}
