{
 "cells": [
  {
   "cell_type": "markdown",
   "metadata": {},
   "source": [
    "**Author:**       Jensy Gregorio Gómez \n",
    "---------------------------------------\n",
    "**Profession:**  IT Support Analyst and Automatation with Python\n",
    "\n",
    "**Date:**         09 March 2024  \n",
    "\n",
    "**Modified** 12 March 2024 --> 23 March 2024 --> 02 May 2024 \n",
    "\n",
    "**Location:**     Vila Izabel, Curitiba/PR  \n",
    "\n",
    "\n",
    "---\n",
    "\n",
    "**Contacto:**\n",
    "\n",
    "- **Email:** [contact@jensygomez.us](mailto:contact@jensygomez.us)\n",
    "- **YouTube:** [Tu Canal de YouTube](https://www.youtube.com/@systechcwb826)\n",
    "- **LinkedIn:** [Tu Perfil de LinkedIn](https://www.linkedin.com/in/jensygomez/)\n",
    "\n",
    "\n"
   ]
  },
  {
   "cell_type": "code",
   "execution_count": null,
   "metadata": {},
   "outputs": [],
   "source": []
  },
  {
   "cell_type": "markdown",
   "metadata": {},
   "source": [
    "**Título:** \n",
    "# Creación de un script Python con comentarios de autoría\n",
    "\n",
    "**Escenario:** Un desarrollador desea **automatizar** la creación de scripts Python con comentarios de autoría para facilitar el inicio de nuevos proyectos o scripts.\n",
    "Pasos a seguir:\n",
    "\n",
    "1. **Importar** el módulo `os` para interactuar con el sistema operativo.\n",
    "2. **Definir** una función llamada `create_python_script` que acepte el nombre del archivo como argumento. \"`filename`\"\n",
    "3. Dentro de la función, **definir** una cadena de texto `comments` que contenga los comentarios estándar de un script Python, incluyendo el nombre del autor.\n",
    "4. **Abrir** el archivo especificado en modo escritura y **escribir** los comentarios en él.\n",
    "5. **Obtener** el tamaño del archivo recién creado utilizando la función `os.path.getsize`. Utilizando la variable `file_size`\n",
    "6. **Devolver** el tamaño del archivo. Que esta en la Variable `file_size`\n",
    "7. **Especificar** el nombre del archivo deseado.\n",
    "8. **Llamar** a la función `create_python_script` con el nombre del archivo como argumento.\n",
    "9. **Imprimir** un mensaje indicando que el archivo se creó correctamente.\n",
    "10. **Imprimir** el tamaño del archivo recién creado."
   ]
  },
  {
   "cell_type": "code",
   "execution_count": null,
   "metadata": {},
   "outputs": [],
   "source": [
    "# Importa el módulo os para interactuar con el sistema operativo\n",
    "\n",
    "# Define una función llamada create_python_script que toma un parámetro filename\n",
    "\n",
    "    # Crea una cadena de texto con comentarios\n",
    "\n",
    "    # Abre el archivo con el nombre especificado en modo escritura (\"w\") y lo asigna a la variable file\n",
    "\n",
    "        # Escribe la cadena de texto en el archivo\n",
    "\n",
    "        \n",
    "        # Obtiene el tamaño del archivo utilizando la función getsize del módulo os y\n",
    "        # lo asigna a la variable file_size\n",
    "\n",
    "        # Retorna el tamaño del archivo\n",
    "\n",
    "\n",
    "# Nombre del archivo a crear\n",
    "\n",
    "# Llama a la función create_python_script con el nombre del archivo y asigna el tamaño del archivo retornado a la variable file_size\n",
    "\n",
    "# Imprime un mensaje indicando que el archivo ha sido creado exitosamente\n",
    "\n",
    "# Imprime el nombre del archivo y su tamaño en kilobytes\n",
    "\n",
    "         "
   ]
  },
  {
   "cell_type": "code",
   "execution_count": null,
   "metadata": {},
   "outputs": [],
   "source": [
    "import os\n",
    "def create_python_script(filename):\n",
    "    comments = \"Mi name is Jensy Gomez, Today is March\"\n",
    "    with open(filename, mode=\"w\") as file:\n",
    "        file.write(comments)\n",
    "        file_size = os.path.getsize(filename)\n",
    "        return file_size\n",
    "    \n",
    "filename = \"test.txt\"\n",
    "file_size = create_python_script(filename)\n",
    "print(\"file created exitosamente\")\n",
    "print(f\"El Tamano del {filename} es de {file_size} KB\")\n",
    "\n",
    "\n"
   ]
  }
 ],
 "metadata": {
  "kernelspec": {
   "display_name": "Python 3 (ipykernel)",
   "language": "python",
   "name": "python3"
  },
  "language_info": {
   "codemirror_mode": {
    "name": "ipython",
    "version": 3
   },
   "file_extension": ".py",
   "mimetype": "text/x-python",
   "name": "python",
   "nbconvert_exporter": "python",
   "pygments_lexer": "ipython3",
   "version": "3.11.7"
  }
 },
 "nbformat": 4,
 "nbformat_minor": 4
}
