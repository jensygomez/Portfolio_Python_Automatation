{
 "cells": [
  {
   "cell_type": "markdown",
   "metadata": {},
   "source": [
    "**Author:**       Jensy Gregorio Gómez \n",
    "---------------------------------------\n",
    "**Profession:**  IT Support Analyst and Automatation with Python\n",
    "\n",
    "**Date:**         09 March 2024     \n",
    "\n",
    "**Location:**     Vila Izabel, Curitiba/PR  \n",
    "\n",
    "\n",
    "---\n",
    "\n",
    "**Contacto:**\n",
    "\n",
    "- **Email:** [contact@jensygomez.us](mailto:contact@jensygomez.us)\n",
    "- **YouTube:** [Tu Canal de YouTube](https://www.youtube.com/@systechcwb826)\n",
    "- **LinkedIn:** [Tu Perfil de LinkedIn](https://www.linkedin.com/in/jensygomez/)\n",
    "\n",
    "\n"
   ]
  },
  {
   "cell_type": "markdown",
   "metadata": {},
   "source": [
    "\n",
    "# **Creating a Directory and File in Python**\n",
    "\n",
    "**Prompt:**\n",
    "Write a function called `new_directory` that takes two arguments: `directory` and `filename`. This function should create a new directory with the specified name in `directory`, if it doesn't already exist. Then, within this new directory, it should create a file with the specified name in `filename`. Finally, the function should return the list of files within the new directory.\n",
    "\n",
    "**Step-by-step:**\n",
    "1. Check if the directory specified in the `directory` argument already exists using the `os.path.isdir(directory)` function.\n",
    "2. If the directory doesn't exist, create a new one with the name specified in `directory` using `os.mkdir(directory)`.\n",
    "3. Change the current working directory to the newly created directory using `os.chdir(directory)`.\n",
    "4. Open a file with the name specified in `filename` in write mode using `with open(filename, 'w') as file:`.\n",
    "5. Return the list of files in the new directory using `os.listdir()` after creating the file."
   ]
  },
  {
   "cell_type": "code",
   "execution_count": 1,
   "metadata": {},
   "outputs": [
    {
     "name": "stdout",
     "output_type": "stream",
     "text": [
      "['script.py']\n"
     ]
    }
   ],
   "source": [
    "import os\n",
    "\n",
    "# Paso 1: Define the function called new_directory\n",
    "\n",
    "\n",
    "    # Paso 2: Check if the directory already exists\n",
    "\n",
    "\n",
    "        # If it doesn't, create the directory\n",
    "\n",
    "\n",
    "        \n",
    "    # Paso 3: Change the current working directory to the new directory\n",
    "\n",
    "\n",
    "    \n",
    "    # Paso 4: Create the new file inside the new directory\n",
    "\n",
    "\n",
    "    \n",
    "    # Paso 5: Return the list of files in the new directory\n",
    "\n",
    "\n",
    "\n",
    "# Example usage:\n",
    "print(new_directory(\"PythonPrograms\", \"script.py\"))\n"
   ]
  }
 ],
 "metadata": {
  "kernelspec": {
   "display_name": "Python 3 (ipykernel)",
   "language": "python",
   "name": "python3"
  },
  "language_info": {
   "codemirror_mode": {
    "name": "ipython",
    "version": 3
   },
   "file_extension": ".py",
   "mimetype": "text/x-python",
   "name": "python",
   "nbconvert_exporter": "python",
   "pygments_lexer": "ipython3",
   "version": "3.10.12"
  }
 },
 "nbformat": 4,
 "nbformat_minor": 4
}
