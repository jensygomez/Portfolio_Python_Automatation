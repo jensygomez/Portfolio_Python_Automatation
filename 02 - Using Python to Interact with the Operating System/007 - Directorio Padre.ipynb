{
 "cells": [
  {
   "cell_type": "markdown",
   "metadata": {},
   "source": [
    "**Author:**       Jensy Gregorio Gómez \n",
    "---------------------------------------\n",
    "**Profession:**  IT Support Analyst and Automatation with Python\n",
    "\n",
    "**Date:**         11 March 2024     \n",
    "\n",
    "**Modified** 16 March 2024 --> 02 April 2024\n",
    "\n",
    "**Location:**     Vila Izabel, Curitiba/PR  \n",
    "\n",
    "\n",
    "---\n",
    "\n",
    "**Contacto:**\n",
    "\n",
    "- **Email:** [contact@jensygomez.us](mailto:contact@jensygomez.us)\n",
    "- **YouTube:** [Tu Canal de YouTube](https://www.youtube.com/@systechcwb826)\n",
    "- **LinkedIn:** [Tu Perfil de LinkedIn](https://www.linkedin.com/in/jensygomez/)\n",
    "\n",
    "\n"
   ]
  },
  {
   "cell_type": "markdown",
   "metadata": {},
   "source": [
    "**Título:** \n",
    "# Directorio Padre  \n",
    "**Escenario:** Obtener el directorio padre del directorio actual.  \n",
    "**Paso a paso:**\n",
    "\n",
    "1. **Importar el módulo `os`:**  \n",
    "   - El módulo `os` proporciona funciones para interactuar con el sistema operativo, incluyendo operaciones relacionadas con archivos y directorios.\n",
    "\n",
    "2. **Definir la función `parent_directory()`:**  \n",
    "   - Dentro de esta función:\n",
    "     - Obtener el directorio actual utilizando `os.getcwd()`.\n",
    "     - Obtener el directorio padre del directorio actual mediante `os.pardir`.\n",
    "     - Unir el directorio actual y el directorio padre usando `os.path.join()`.\n",
    "     - Obtener la ruta absoluta del directorio padre con `os.path.abspath()`.\n",
    "     - Retornar la ruta del directorio padre.\n",
    "\n",
    "3. **Llamar a la función `parent_directory()`:**  \n",
    "   - La función devolverá la ruta del directorio padre del directorio actual.\n",
    "   - Imprimir el resultado para mostrar la ruta del directorio padre."
   ]
  },
  {
   "cell_type": "code",
   "execution_count": null,
   "metadata": {},
   "outputs": [],
   "source": [
    "# 1. **Importar el módulo `os`:**  \n",
    "#    - El módulo `os` proporciona funciones para interactuar con el sistema operativo, \n",
    "#    - incluyendo operaciones relacionadas con archivos y directorios.\n",
    "\n",
    "# 2. **Definir la función `parent_directory()`:**  \n",
    "\n",
    "    #    - Dentro de esta función:\n",
    "    #    - Asignale a la Variable \"current_dir\" el directorio actual utilizando `os.getcwd()`. \n",
    "\n",
    "\n",
    "    #   - Asignale a la variable \"parent_dir\",la ruta absoluta del directorio padre con `os.path.abspath()`.\n",
    "    #   - Unir el directorio actual y el directorio padre usando `os.path.join()`.\n",
    "    #   - el directorio padre del directorio actual mediante `os.pardir`\n",
    "\n",
    "    #   - Retornar la ruta del directorio padre.\n",
    "\n",
    "\n",
    "# 3. **Llamar a la función `parent_directory()`:**  \n",
    "#    - La función devolverá la ruta del directorio padre del directorio actual.\n",
    "#    - Imprimir el resultado para mostrar la ruta del directorio padre.\n",
    "\n"
   ]
  },
  {
   "cell_type": "code",
   "execution_count": null,
   "metadata": {},
   "outputs": [],
   "source": [
    "import os\n",
    "\n",
    "def parent_directory():\n",
    "    current_dir = os.getcwd()\n",
    "    parent_dir = os.path.abspath(os.path.join(current_dir, os.pardir))\n",
    "    return parent_dir\n",
    "\n",
    "print(parent_directory())"
   ]
  }
 ],
 "metadata": {
  "kernelspec": {
   "display_name": "Python 3 (ipykernel)",
   "language": "python",
   "name": "python3"
  },
  "language_info": {
   "codemirror_mode": {
    "name": "ipython",
    "version": 3
   },
   "file_extension": ".py",
   "mimetype": "text/x-python",
   "name": "python",
   "nbconvert_exporter": "python",
   "pygments_lexer": "ipython3",
   "version": "3.11.7"
  }
 },
 "nbformat": 4,
 "nbformat_minor": 4
}
