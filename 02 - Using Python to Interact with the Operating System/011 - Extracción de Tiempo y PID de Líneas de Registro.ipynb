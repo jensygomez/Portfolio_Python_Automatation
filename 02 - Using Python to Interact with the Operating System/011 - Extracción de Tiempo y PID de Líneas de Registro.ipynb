{
 "cells": [
  {
   "cell_type": "markdown",
   "metadata": {},
   "source": [
    "**Author:**       Jensy Gregorio Gómez \n",
    "---------------------------------------\n",
    "**Profession:**  IT Support Analyst and Automatation with Python\n",
    "\n",
    "**Date:**         15 March 2024     \n",
    "\n",
    "**Location:**     Vila Izabel, Curitiba/PR  \n",
    "\n",
    "\n",
    "---\n",
    "\n",
    "**Contacto:**\n",
    "\n",
    "- **Email:** [contact@jensygomez.us](mailto:contact@jensygomez.us)\n",
    "- **YouTube:** [Tu Canal de YouTube](https://www.youtube.com/@systechcwb826)\n",
    "- **LinkedIn:** [Tu Perfil de LinkedIn](https://www.linkedin.com/in/jensygomez/)\n",
    "\n",
    "\n"
   ]
  },
  {
   "cell_type": "markdown",
   "metadata": {},
   "source": [
    "**Título:**\n",
    "# Extracción de Tiempo y PID de Líneas de Registro\n",
    "\n",
    "### Escenario:\n",
    "Un administrador de sistemas necesita extraer el tiempo y el identificador de proceso (PID) de las líneas de registro de diversos eventos en un sistema. Estas líneas de registro contienen información como la fecha, hora y el identificador único de proceso asociado a cada evento.\n",
    "\n",
    "### Paso a Paso:\n",
    "1. **Importar el módulo `re`:** Comenzamos importando el módulo `re`, que proporciona funciones para trabajar con expresiones regulares.\n",
    "\n",
    "2. **Definir la función `show_time_of_pid(line)`:** Esta función toma una línea de registro como entrada y extrae el tiempo y el PID de la misma utilizando expresiones regulares.\n",
    "\n",
    "3. **Definir el patrón de expresión regular:** Creamos un patrón de expresión regular utilizando la función `re.search()`. El patrón busca coincidencias de la forma \"MMM DD HH:MM:SS\" (donde MMM es el nombre del mes, DD es el día, HH:MM:SS son las horas, minutos y segundos) seguido de un número entre corchetes, que representa el PID.\n",
    "\n",
    "4. **Buscar coincidencias en la línea de registro:** Utilizamos `re.search()` para buscar el patrón definido en la línea de registro proporcionada como entrada.\n",
    "\n",
    "5. **Extraer el tiempo y el PID:** Si se encuentra una coincidencia, extraemos el tiempo y el PID utilizando `result.group(1)` para el tiempo y `result.group(2)` para el PID.\n",
    "\n",
    "6. **Retornar el resultado formateado:** Formateamos el resultado obtenido en el paso anterior en el formato deseado (tiempo seguido de \"pid:\" y el PID) y lo retornamos.\n",
    "\n",
    "7. **Imprimir los resultados de prueba:** Probamos la función `show_time_of_pid()` con varias líneas de registro para verificar su funcionamiento correcto.\n",
    "\n"
   ]
  },
  {
   "cell_type": "code",
   "execution_count": null,
   "metadata": {},
   "outputs": [],
   "source": [
    "# Importar el módulo 're' para trabajar con expresiones regulares\n",
    "\n",
    "\n",
    "\n",
    "# Definir una función llamada \"show_time_of_pid\" que toma \"line\", como una línea de registro como entrada\n",
    "\n",
    "    # Definir un patrón \"pattern\" de expresión regular para buscar el tiempo y el PID en la línea de registro\n",
    "    # (\\w{3}): Captura tres caracteres de palabra (letras) que representan el nombre del mes.\n",
    "    # \\d{1,2}: Captura uno o dos dígitos, que pueden representar el día del mes (p. ej., 1, 10, 25).\n",
    "    # \\d{2}:\\d{2}:\\d{2}: Captura el tiempo en formato HH:MM:SS, donde \\d{2} representa dos dígitos para horas, minutos y segundos, respectivamente.\n",
    "    # .*?: Esta parte busca cualquier cantidad de caracteres (incluyendo ninguno) de manera no codiciosa, asegurándose de no consumir el siguiente elemento del patrón (el PID) antes de que se haya encontrado.\n",
    "    # \\[(\\d+)\\]: Captura uno o más dígitos entre corchetes. Esto representa el PID (identificador de proceso), que es un número entero único asociado con el proceso que generó la línea de registro.\n",
    "\n",
    "\n",
    "\n",
    "    \n",
    "    # Utilizando la variable \"result\", puedes utilizar re.search() para buscar el patrón en la línea de registro y almacenar el resultado\n",
    "\n",
    "    \n",
    "    # Retornar el resultado formateado como tiempo y PID. formatado con {}\n",
    "\n"
   ]
  },
  {
   "cell_type": "code",
   "execution_count": 1,
   "metadata": {},
   "outputs": [
    {
     "name": "stdout",
     "output_type": "stream",
     "text": [
      "Jul 6 14:01:23 pid:29440\n",
      "Jul 6 14:02:08 pid:29187\n",
      "Jul 6 14:02:09 pid:29187\n",
      "Jul 6 14:03:01 pid:29440\n",
      "Jul 6 14:03:40 pid:29807\n",
      "Jul 6 14:04:01 pid:29440\n",
      "Jul 6 14:05:01 pid:29440\n"
     ]
    }
   ],
   "source": [
    "\n",
    "import re\n",
    "\n",
    "def show_time_of_pid(line):\n",
    "    pattern = r\"(\\w{3} \\d{1,2} \\d{2}:\\d{2}:\\d{2}).*?\\[(\\d+)\\]\"\n",
    "    result = re.search(pattern, line)\n",
    "    return f\"{result.group(1)} pid:{result.group(2)}\"\n",
    "\n",
    "# Pruebas\n",
    "print(show_time_of_pid(\"Jul 6 14:01:23 computer.name CRON[29440]: USER (good_user)\")) # Jul 6 14:01:23 pid:29440\n",
    "print(show_time_of_pid(\"Jul 6 14:02:08 computer.name jam_tag=psim[29187]: (UUID:006)\")) # Jul 6 14:02:08 pid:29187\n",
    "print(show_time_of_pid(\"Jul 6 14:02:09 computer.name jam_tag=psim[29187]: (UUID:007)\")) # Jul 6 14:02:09 pid:29187\n",
    "print(show_time_of_pid(\"Jul 6 14:03:01 computer.name CRON[29440]: USER (naughty_user)\")) # Jul 6 14:03:01 pid:29440\n",
    "print(show_time_of_pid(\"Jul 6 14:03:40 computer.name cacheclient[29807]: start syncing from \\\"0xDEADBEEF\\\"\")) # Jul 6 14:03:40 pid:29807\n",
    "print(show_time_of_pid(\"Jul 6 14:04:01 computer.name CRON[29440]: USER (naughty_user)\")) # Jul 6 14:04:01 pid:29440\n",
    "print(show_time_of_pid(\"Jul 6 14:05:01 computer.name CRON[29440]: USER (naughty_user)\")) # Jul 6 14:05:01 pid:29440"
   ]
  }
 ],
 "metadata": {
  "kernelspec": {
   "display_name": "Python 3 (ipykernel)",
   "language": "python",
   "name": "python3"
  },
  "language_info": {
   "codemirror_mode": {
    "name": "ipython",
    "version": 3
   },
   "file_extension": ".py",
   "mimetype": "text/x-python",
   "name": "python",
   "nbconvert_exporter": "python",
   "pygments_lexer": "ipython3",
   "version": "3.11.7"
  }
 },
 "nbformat": 4,
 "nbformat_minor": 4
}
