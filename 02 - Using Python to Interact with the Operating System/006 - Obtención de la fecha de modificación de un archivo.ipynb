{
 "cells": [
  {
   "cell_type": "markdown",
   "metadata": {},
   "source": [
    "**Author:**       Jensy Gregorio Gómez \n",
    "---------------------------------------\n",
    "**Profession:**  IT Support Analyst and Automatation with Python\n",
    "\n",
    "**Date:**         10 March 2024     \n",
    "\n",
    "**Modified** 14 March 2024 --> 27 March 2024\n",
    "\n",
    "**Location:**     Vila Izabel, Curitiba/PR  \n",
    "\n",
    "\n",
    "---\n",
    "\n",
    "**Contacto:**\n",
    "\n",
    "- **Email:** [contact@jensygomez.us](mailto:contact@jensygomez.us)\n",
    "- **YouTube:** [Tu Canal de YouTube](https://www.youtube.com/@systechcwb826)\n",
    "- **LinkedIn:** [Tu Perfil de LinkedIn](https://www.linkedin.com/in/jensygomez/)\n",
    "\n",
    "\n"
   ]
  },
  {
   "cell_type": "markdown",
   "metadata": {},
   "source": [
    "**Título:** \n",
    "# Obtención de la fecha de modificación de un archivo\n",
    "\n",
    "**Escenario:** En aplicaciones que manejan archivos, a veces es importante conocer la fecha en la que un archivo fue modificado por última vez. Este script proporciona una función que devuelve la fecha de modificación de un archivo en un formato legible para el usuario.\n",
    "\n",
    "**Pasos a seguir:**\n",
    "1. **Importación de módulos:** El código importa los módulos `os` y `datetime`. `os` se utiliza para obtener la fecha de modificación del archivo, mientras que `datetime` se utiliza para formatear la fecha en un formato legible.\n",
    "   \n",
    "2. **Definición de la función:** Se define una función llamada `file_date` que toma un parámetro `filename` (nombre del archivo).\n",
    "   \n",
    "3. **Creación del archivo:** Se utiliza una instrucción `with` para abrir el archivo especificado en modo escritura (`'w'`). Esto se hace para asegurarse de que el archivo exista antes de intentar obtener su fecha de modificación.\n",
    "   \n",
    "4. **Obtención de la fecha de modificación:** Se utiliza la función `os.path.getmtime()` para obtener la fecha de modificación del archivo en formato de marca de tiempo.\n",
    "   \n",
    "5. **Conversión de la marca de tiempo:** La marca de tiempo se convierte en un objeto `datetime` utilizando `datetime.datetime.fromtimestamp()`.\n",
    "   \n",
    "6. **Formateo de la fecha:** La fecha se formatea en el formato `YYYY-MM-DD` utilizando el método `strftime()` de la clase `datetime.datetime`.\n",
    "   \n",
    "7. **Retorno de la fecha formateada:** Se devuelve la fecha de modificación del archivo en formato legible.\n",
    "   \n",
    "8. **Ejemplo de uso:** Se llama a la función `file_date` con el nombre de un archivo (`newfile.txt`) y se imprime el resultado.\n",
    "\n"
   ]
  },
  {
   "cell_type": "code",
   "execution_count": null,
   "metadata": {},
   "outputs": [],
   "source": [
    "# 1. El código importa los módulos `os` y `datetime`.\n",
    "# `os` se utiliza para obtener la fecha de modificación del archivo, \n",
    "# mientras que `datetime` se utiliza para formatear la fecha en un formato legible.\n",
    " \n",
    "# 2. Se define una función llamada `file_date` que toma un parámetro `filename` (nombre del archivo).\n",
    "\n",
    "    # 3. Se utiliza una instrucción `with` para abrir el archivo especificado en modo escritura (`'w'`). \n",
    "    # Esto se hace para asegurarse de que el archivo exista antes de intentar obtener su fecha de modificación. (pas)\n",
    "        \n",
    "\n",
    "    # 4. Creamos las variable modification_date, y Se utiliza la función `os.path.getmtime()` \n",
    "    # para obtener la fecha de modificación del archivo en formato de marca de tiempo.\n",
    "    # 5. La marca de tiempo se convierte en un objeto `datetime` utilizando `datetime.datetime.fromtimestamp()`.\n",
    "    # 6. Creamo la variable format_date, recibe La fecha se formatea en el formato `YYYY-MM-DD` utilizando el método `strftime()` de la clase `datetime.datetime`.\n",
    "    # 7. Se devuelve la fecha de modificación del archivo en formato legible.\n",
    "# 8. Se llama a la función `file_date` con el nombre de un archivo (`newfile.txt`) y se imprime el resultado.\n",
    "\n",
    "\n",
    "# Should be today's date in the format of yyyy-mm-dd\n"
   ]
  },
  {
   "cell_type": "code",
   "execution_count": null,
   "metadata": {},
   "outputs": [],
   "source": [
    "import os\n",
    "import datetime\n",
    "\n",
    "def file_date(filename):\n",
    "    with open(filename, mode=\"w\"):\n",
    "        pass\n",
    "    \n",
    "    modification_date = os.path.getmtime(filename)\n",
    "    modification_date = datetime.datetime.fromtimestamp(modification_date)\n",
    "    format_date = modification_date.strftime('%Y-%m-%d')\n",
    "    \n",
    "    return format_date\n",
    "\n",
    "print(file_date(\"newfile.txt\"))\n"
   ]
  }
 ],
 "metadata": {
  "kernelspec": {
   "display_name": "Python 3 (ipykernel)",
   "language": "python",
   "name": "python3"
  },
  "language_info": {
   "codemirror_mode": {
    "name": "ipython",
    "version": 3
   },
   "file_extension": ".py",
   "mimetype": "text/x-python",
   "name": "python",
   "nbconvert_exporter": "python",
   "pygments_lexer": "ipython3",
   "version": "3.11.7"
  }
 },
 "nbformat": 4,
 "nbformat_minor": 4
}
