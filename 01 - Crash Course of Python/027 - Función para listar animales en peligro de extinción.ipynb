{
 "cells": [
  {
   "cell_type": "markdown",
   "metadata": {},
   "source": [
    "**Author:**       Jensy Gregorio Gómez \n",
    "---------------------------------------\n",
    "**Profession:**  IT Support Analyst and Automatation with Python\n",
    "\n",
    "**Date:**         29 March 2024     \n",
    "\n",
    "**Modified** \n",
    "\n",
    "**Location:**     Vila Izabel, Curitiba/PR  \n",
    "\n",
    "\n",
    "---\n",
    "\n",
    "**Contacto:**\n",
    "\n",
    "- **Email:** [contact@jensygomez.us](mailto:contact@jensygomez.us)\n",
    "- **YouTube:** [Tu Canal de YouTube](https://www.youtube.com/@systechcwb826)\n",
    "- **LinkedIn:** [Tu Perfil de LinkedIn](https://www.linkedin.com/in/jensygomez/)\n",
    "\n",
    "\n"
   ]
  },
  {
   "cell_type": "markdown",
   "metadata": {},
   "source": [
    "***"
   ]
  },
  {
   "cell_type": "markdown",
   "metadata": {},
   "source": [
    "**Título:** \n",
    "# Función para listar animales en peligro de extinción\n",
    "\n",
    "**Escenario:** Un programa para imprimir una lista de animales en peligro de extinción a partir de un diccionario que contiene el nombre del animal y su población.\n",
    "\n",
    "\n",
    "\n",
    "**Paso a paso detallado:**\n",
    "1. Se define una función llamada `endangered_animals` que toma un diccionario llamado `animal_dict` como argumento.\n",
    "2. Se inicializa una cadena vacía llamada `result` para almacenar el resultado final.\n",
    "3. Se inicia un bucle `for` que itera a través de cada elemento del diccionario `animal_dict`.\n",
    "4. En cada iteración del bucle, se obtiene el nombre del animal (`animal`) y su población (`population`).\n",
    "5. Se concatena el nombre del animal seguido de un salto de línea (`\"\\n\"`) a la cadena `result`.\n",
    "6. Una vez que se han iterado todos los elementos del diccionario, se retorna la cadena `result`.\n",
    "7. Se llama a la función `endangered_animals` con un diccionario que contiene los nombres y poblaciones de los animales en peligro de extinción.\n",
    "8. La función imprime el resultado, que es una lista de nombres de animales en peligro de extinción, cada uno en una línea separada."
   ]
  },
  {
   "cell_type": "code",
   "execution_count": null,
   "metadata": {},
   "outputs": [],
   "source": [
    "# 1. Se define una función llamada `endangered_animals` que toma un diccionario llamado `animal_dict` como argumento.\n",
    "\n",
    "    # 2. Se inicializa una cadena vacía llamada `result` para almacenar el resultado final.\n",
    "\n",
    "        # 3. Se inicia un bucle `for` que itera a través de cada elemento del diccionario `animal_dict`.\n",
    "        # 4. En cada iteración del bucle, se obtiene el nombre del animal (`animal`) y su población (`population`).\n",
    "\n",
    "            # 5. Se concatena el nombre del animal seguido de un salto de línea (`\"\\n\"`) a la cadena `result`.\n",
    "\n",
    "        # 6. Una vez que se han iterado todos los elementos del diccionario, se retorna la cadena `result`.\n",
    "\n",
    "\n",
    "# 7. Se llama a la función `endangered_animals` con un diccionario que contiene los nombres y poblaciones de los animales en peligro de extinción.\n",
    "# 8. La función imprime el resultado, que es una lista de nombres de animales en peligro de extinción, cada uno en una línea separada.\n",
    "print(endangered_animals({\"Javan Rhinoceros\": 60, \"Vaquita\": 10, \"Mountain Gorilla\": 200, \"Tiger\": 500}))"
   ]
  },
  {
   "cell_type": "code",
   "execution_count": null,
   "metadata": {},
   "outputs": [],
   "source": [
    "def endangered_animals(animal_dict):\n",
    "    result = \"\"\n",
    "    for animal, population in animal_dict.items():\n",
    "        result += animal + \"\\n\"\n",
    "    return result\n",
    "\n",
    "# Llamada a la función con un diccionario que contiene los nombres y poblaciones de los animales en peligro de extinción\n",
    "print(endangered_animals({\"Javan Rhinoceros\": 60, \"Vaquita\": 10, \"Mountain Gorilla\": 200, \"Tiger\": 500}))"
   ]
  }
 ],
 "metadata": {
  "kernelspec": {
   "display_name": "Python 3 (ipykernel)",
   "language": "python",
   "name": "python3"
  },
  "language_info": {
   "codemirror_mode": {
    "name": "ipython",
    "version": 3
   },
   "file_extension": ".py",
   "mimetype": "text/x-python",
   "name": "python",
   "nbconvert_exporter": "python",
   "pygments_lexer": "ipython3",
   "version": "3.11.7"
  }
 },
 "nbformat": 4,
 "nbformat_minor": 4
}
