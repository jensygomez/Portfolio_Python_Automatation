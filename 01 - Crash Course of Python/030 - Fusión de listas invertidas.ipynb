{
 "cells": [
  {
   "cell_type": "markdown",
   "metadata": {},
   "source": [
    "**Author:**       Jensy Gregorio Gómez \n",
    "---------------------------------------\n",
    "**Profession:**  IT Support Analyst and Automatation with Python\n",
    "\n",
    "**Date:**         02 April 2024     \n",
    "\n",
    "**Modified**  13 April 2024\n",
    "\n",
    "**Location:**     Vila Izabel, Curitiba/PR  \n",
    "\n",
    "\n",
    "---\n",
    "\n",
    "**Contacto:**\n",
    "\n",
    "- **Email:** [contact@jensygomez.us](mailto:contact@jensygomez.us)\n",
    "- **YouTube:** [Tu Canal de YouTube](https://www.youtube.com/@systechcwb826)\n",
    "- **LinkedIn:** [Tu Perfil de LinkedIn](https://www.linkedin.com/in/jensygomez/)\n",
    "\n",
    "\n"
   ]
  },
  {
   "cell_type": "markdown",
   "metadata": {},
   "source": [
    "***"
   ]
  },
  {
   "cell_type": "markdown",
   "metadata": {},
   "source": [
    "**Título:** \n",
    "# Fusión de listas invertidas  \n",
    "**Escenario:** Un programa que combina dos listas, invirtiendo una de ellas antes de la fusión.  \n",
    "**Paso a paso:**\n",
    "\n",
    "1. **Definir la función `combine_lists(list1, list2)`:**  \n",
    "   - Esta función toma dos listas como argumentos.\n",
    "   - Crea una lista vacía llamada `combined_list`.\n",
    "   - Invierte `list1` utilizando el método `reverse()`.\n",
    "   - Concatena `list2` con `list1` (invertida) y asigna el resultado a `combined_list`.\n",
    "   - Retorna `combined_list`.\n",
    "\n",
    "2. **Inicializar las listas `Jaimes_list` y `Drews_list`:**  \n",
    "   - `Jaimes_list` contiene los elementos \"Alma\", \"Chika\", \"Benjamin\", \"Jocelyn\" y \"Oakley\".\n",
    "   - `Drews_list` contiene los elementos \"Minna\", \"Carol\", \"Gunnar\" y \"Malena\".\n",
    "\n",
    "3. **Llamar a la función `combine_lists` con las listas `Jaimes_list` y `Drews_list`:**  \n",
    "   - La función combinará las dos listas, invirtiendo `Jaimes_list` antes de la combinación.\n",
    "   - Imprimir el resultado de la función para mostrar la lista combinada.\n",
    "\n"
   ]
  },
  {
   "cell_type": "code",
   "execution_count": 1,
   "metadata": {},
   "outputs": [
    {
     "name": "stdout",
     "output_type": "stream",
     "text": [
      "['ola', 'perdor', 'adlg', 'cualquircosa', 'juan', 'alma']\n"
     ]
    }
   ],
   "source": [
    "# 1. **Definir la función `combine_lists(list1, list2)`:**  \n",
    "#    - Esta función toma dos listas como argumentos.\n",
    "\n",
    "    #    - Crea una lista vacía llamada `combined_list`.\n",
    "\n",
    "    #    - Invierte `list1` utilizando el método `reverse()`.\n",
    "\n",
    "    #    - Concatena `list2` con `list1` (invertida) y asigna el resultado a `combined_list`.\n",
    "\n",
    "    #    - Retorna `combined_list`.\n",
    "\n",
    "\n",
    "# 2. **Inicializar las listas `Jaimes_list` y `Drews_list`:**  \n",
    "#    - `Jaimes_list` contiene los elementos \"Alma\", \"Chika\", \"Benjamin\", \"Jocelyn\" y \"Oakley\".\n",
    "\n",
    "#    - `Drews_list` contiene los elementos \"Minna\", \"Carol\", \"Gunnar\" y \"Malena\".\n",
    "\n",
    "\n",
    "\n",
    "# 3. **Llamar a la función `combine_lists` con las listas `Jaimes_list` y `Drews_list`:**  \n",
    "#    - La función combinará las dos listas, invirtiendo `Jaimes_list` antes de la combinación.\n",
    "#   - Imprimir el resultado de la función para mostrar la lista combinada.\n",
    "\n"
   ]
  },
  {
   "cell_type": "code",
   "execution_count": null,
   "metadata": {},
   "outputs": [],
   "source": [
    "def combine_lists(list1, list2):\n",
    "    combined_list = [] \n",
    "    list1.reverse() \n",
    "    combined_list = list2 + list1 \n",
    "    return combined_list\n",
    "\n",
    "Jaimes_list = [\"Alma\", \"Chika\", \"Benjamin\", \"Jocelyn\", \"Oakley\"]\n",
    "Drews_list = [\"Minna\", \"Carol\", \"Gunnar\", \"Malena\"]\n",
    "\n",
    "print(combine_lists(Jaimes_list, Drews_list))"
   ]
  }
 ],
 "metadata": {
  "kernelspec": {
   "display_name": "Python 3 (ipykernel)",
   "language": "python",
   "name": "python3"
  },
  "language_info": {
   "codemirror_mode": {
    "name": "ipython",
    "version": 3
   },
   "file_extension": ".py",
   "mimetype": "text/x-python",
   "name": "python",
   "nbconvert_exporter": "python",
   "pygments_lexer": "ipython3",
   "version": "3.11.8"
  }
 },
 "nbformat": 4,
 "nbformat_minor": 4
}
