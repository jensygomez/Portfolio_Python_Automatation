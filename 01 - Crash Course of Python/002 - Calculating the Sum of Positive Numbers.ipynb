{
 "cells": [
  {
   "cell_type": "code",
   "execution_count": null,
   "metadata": {},
   "outputs": [],
   "source": []
  },
  {
   "cell_type": "markdown",
   "metadata": {},
   "source": [
    "**Author:**       Jensy Gregorio Gómez \n",
    "---------------------------------------\n",
    "**Profession:**  IT Support Analyst and Automatation with Python\n",
    "\n",
    "**Date:**         06 March 2024     \n",
    "\n",
    "**Modifided** 10-03-24 --> 21 March 2024 --> 25 April 2024\n",
    "\n",
    "**Location:**     Vila Izabel, Curitiba/PR  \n",
    "\n",
    "\n",
    "---\n",
    "\n",
    "**Contacto:**\n",
    "\n",
    "- **Email:** [contact@jensygomez.us](mailto:contact@jensygomez.us)\n",
    "- **YouTube:** [Tu Canal de YouTube](https://www.youtube.com/@systechcwb826)\n",
    "- **LinkedIn:** [Tu Perfil de LinkedIn](https://www.linkedin.com/in/jensygomez/)\n",
    "\n",
    "\n"
   ]
  },
  {
   "cell_type": "markdown",
   "metadata": {},
   "source": [
    "\n",
    "**Título:** \n",
    "# Calculando la Suma de Números Positivos\n",
    "\n",
    "**Descripción del Escenario:**\n",
    "\n",
    "En este escenario, te enfrentarás a un desafío que te llevará a explorar el uso de funciones recursivas para calcular la suma de números positivos. Tu tarea consistirá en implementar una función llamada `sum_positive_numbers` que tome un número entero positivo `n` como argumento y calcule la suma de todos los números positivos desde 1 hasta `n`, inclusive.\n",
    "\n",
    "**Pasos a seguir:**\n",
    "\n",
    "1.  Define una función llamada `sum_positive_numbers` que tome un parámetro `n`.\n",
    "2.  Dentro de la función, utiliza una declaración condicional para verificar si `n` es menor que 1. Si es así, devuelve 0.\n",
    "3.  Si `n` es mayor o igual a 1, devuelve la suma de `n` y una llamada recursiva a `sum_positive_numbers` con el argumento `n - 1`.\n",
    "4.  Imprime el resultado de llamar a `sum_positive_numbers` con varios valores de `n` para probar la función.\n",
    "\n",
    "\n"
   ]
  },
  {
   "cell_type": "markdown",
   "metadata": {},
   "source": [
    "# Step by Step:"
   ]
  },
  {
   "cell_type": "code",
   "execution_count": 1,
   "metadata": {},
   "outputs": [
    {
     "name": "stdout",
     "output_type": "stream",
     "text": [
      "6\n",
      "15\n"
     ]
    }
   ],
   "source": [
    "# Define una función llamada sum_positive_numbers que toma un parámetro n.\n",
    "\n",
    "    # Verifica si n es menor que 1.\n",
    "\n",
    "        # Si n es menor que 1, devuelve 0.\n",
    "\n",
    "\n",
    "        # Si n no es menor que 1, devuelve la suma de n y la llamada recursiva a sum_positive_numbers con el argumento n - 1.\n",
    "\n",
    "\n",
    "# Imprime el resultado de llamar a sum_positive_numbers con el argumento 3 y muestra un comentario indicando el resultado esperado.\n",
    "\n",
    "\n",
    "# Imprime el resultado de llamar a sum_positive_numbers con el argumento 5 y muestra un comentario indicando el resultado esperado.\n",
    "\n",
    "\n"
   ]
  },
  {
   "cell_type": "code",
   "execution_count": 3,
   "metadata": {},
   "outputs": [
    {
     "name": "stdout",
     "output_type": "stream",
     "text": [
      "6\n",
      "15\n"
     ]
    }
   ],
   "source": [
    "def sum_positive_numbers(n):\n",
    "    if n < 1:\n",
    "        return 0\n",
    "    else:\n",
    "        return n + sum_positive_numbers(n - 1)\n",
    "\n",
    "print(sum_positive_numbers(3))  # Should be 6\n",
    "print(sum_positive_numbers(5))  # Should be 15\n"
   ]
  }
 ],
 "metadata": {
  "kernelspec": {
   "display_name": "Python 3 (ipykernel)",
   "language": "python",
   "name": "python3"
  },
  "language_info": {
   "codemirror_mode": {
    "name": "ipython",
    "version": 3
   },
   "file_extension": ".py",
   "mimetype": "text/x-python",
   "name": "python",
   "nbconvert_exporter": "python",
   "pygments_lexer": "ipython3",
   "version": "3.11.7"
  }
 },
 "nbformat": 4,
 "nbformat_minor": 2
}
