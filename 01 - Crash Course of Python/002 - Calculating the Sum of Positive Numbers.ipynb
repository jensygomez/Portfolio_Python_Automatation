{
 "cells": [
  {
   "cell_type": "code",
   "execution_count": null,
   "metadata": {},
   "outputs": [],
   "source": []
  },
  {
   "cell_type": "markdown",
   "metadata": {},
   "source": [
    "**Author:**       Jensy Gregorio Gómez \n",
    "---------------------------------------\n",
    "**Profession:**  IT Support Analyst and Automatation with Python\n",
    "\n",
    "**Date:**         06 March 2024     \n",
    "\n",
    "**Modifided** 10-03-24\n",
    "\n",
    "**Location:**     Vila Izabel, Curitiba/PR  \n",
    "\n",
    "\n",
    "---\n",
    "\n",
    "**Contacto:**\n",
    "\n",
    "- **Email:** [contact@jensygomez.us](mailto:contact@jensygomez.us)\n",
    "- **YouTube:** [Tu Canal de YouTube](https://www.youtube.com/@systechcwb826)\n",
    "- **LinkedIn:** [Tu Perfil de LinkedIn](https://www.linkedin.com/in/jensygomez/)\n",
    "\n",
    "\n"
   ]
  },
  {
   "cell_type": "markdown",
   "metadata": {},
   "source": [
    "\n",
    "# Calculating the Sum of Positive Numbers\n",
    "\n",
    "  \n",
    "\n",
    "## Prompt:\n",
    "\n",
    "Implement a function called `sum_positive_numbers` that takes a positive integer `n` as an argument. This function will calculate the sum of all positive numbers from 1 up to `n`, inclusive. Follow these steps to complete the exercise:\n",
    "\n",
    "**Step 1:** Define a function named `sum_positive_numbers` that takes a parameter `n`.\n",
    "\n",
    "**Step 2:** Within the function, use a conditional statement to check if `n` is less than 1. If so, return 0.\n",
    "\n",
    "**Step 3:** If `n` is greater than or equal to 1, return the sum of `n` and a recursive call to `sum_positive_numbers` with the argument `n - 1`. \n",
    "\n",
    "**Step 4:** Print the result of calling `sum_positive_numbers` with various values of `n` to test the function.\n",
    "\n",
    "\n",
    "For example:\n",
    "\n",
    "print(sum_positive_numbers(3)) # Should be 6\n",
    "\n",
    "print(sum_positive_numbers(5)) # Should be 15\n",
    "\n",
    "\n"
   ]
  },
  {
   "cell_type": "markdown",
   "metadata": {},
   "source": [
    "# Step by Step:"
   ]
  },
  {
   "cell_type": "code",
   "execution_count": 5,
   "metadata": {},
   "outputs": [
    {
     "name": "stdout",
     "output_type": "stream",
     "text": [
      "6\n",
      "15\n"
     ]
    }
   ],
   "source": [
    "# Step 1: Define a function named sum_positive_numbers that takes a parameter n\n",
    "\n",
    "\n",
    "    \n",
    "    # Step 2: Use a conditional statement to check if n is less than 1. If so, return 0\n",
    "\n",
    "\n",
    "    \n",
    "    # Step 3: If n is greater than or equal to 1, return the sum of n and a recursive call to sum_positive_numbers with the argument n - 1\n",
    "\n",
    "\n",
    "# Step 4: Print the result of calling sum_positive_numbers with various values of n to test the function\n",
    "\n",
    "\n",
    "print(sum_positive_numbers(3)) # Should be 6\n",
    "print(sum_positive_numbers(5)) # Should be 15\n"
   ]
  }
 ],
 "metadata": {
  "kernelspec": {
   "display_name": "Python 3 (ipykernel)",
   "language": "python",
   "name": "python3"
  },
  "language_info": {
   "codemirror_mode": {
    "name": "ipython",
    "version": 3
   },
   "file_extension": ".py",
   "mimetype": "text/x-python",
   "name": "python",
   "nbconvert_exporter": "python",
   "pygments_lexer": "ipython3",
   "version": "3.10.12"
  }
 },
 "nbformat": 4,
 "nbformat_minor": 2
}
