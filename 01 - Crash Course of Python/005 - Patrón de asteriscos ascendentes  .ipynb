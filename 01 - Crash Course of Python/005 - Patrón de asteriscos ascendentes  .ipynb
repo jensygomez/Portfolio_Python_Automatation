{
 "cells": [
  {
   "cell_type": "markdown",
   "metadata": {},
   "source": [
    "**Author:**       Jensy Gregorio Gómez \n",
    "---------------------------------------\n",
    "**Profession:**  IT Support Analyst and Automatation with Python\n",
    "\n",
    "**Date:**         09 March 2024     \n",
    "\n",
    "**Resolved** 13 March 2024  --> 26 March 2024\n",
    "\n",
    "**Location:**     Vila Izabel, Curitiba/PR  \n",
    "\n",
    "\n",
    "---\n",
    "\n",
    "**Contacto:**\n",
    "\n",
    "- **Email:** [contact@jensygomez.us](mailto:contact@jensygomez.us)\n",
    "- **YouTube:** [Tu Canal de YouTube](https://www.youtube.com/@systechcwb826)\n",
    "- **LinkedIn:** [Tu Perfil de LinkedIn](https://www.linkedin.com/in/jensygomez/)\n",
    "\n",
    "\n"
   ]
  },
  {
   "cell_type": "markdown",
   "metadata": {},
   "source": [
    "\n",
    "**Título:** \n",
    "# Patrón de asteriscos ascendentes  \n",
    "**Escenario:** Un programa Python para imprimir un patrón de asteriscos que aumenta en tamaño línea por línea.  \n",
    "**Paso a paso:**\n",
    "1. **Definición de la función:** Define una función llamada `print_ascending_asterisks` que toma un parámetro `n` que representa el número de líneas del patrón.\n",
    "2. **Bucle externo:** Utiliza un bucle `for` para iterar desde 1 hasta `n` (incluyendo `n`).\n",
    "3. **Bucle interno:** Dentro del bucle externo, utiliza otro bucle `for` para imprimir asteriscos en cada línea.\n",
    "4. **Impresión de asteriscos:** Imprime `i` asteriscos en cada línea, donde `i` varía desde 1 hasta el número de la línea actual.\n",
    "5. **Nueva línea:** Después de imprimir los asteriscos en una línea, imprime una nueva línea para pasar a la siguiente línea del patrón.\n",
    "6. **Llamadas a la función:** Fuera de la definición de la función, se imprime un mensaje para indicar el comienzo del patrón, seguido de llamadas a la función `print_ascending_asterisks` con diferentes valores (5 y 7 en este caso) para mostrar diferentes tamaños del patrón."
   ]
  },
  {
   "cell_type": "markdown",
   "metadata": {},
   "source": []
  },
  {
   "cell_type": "code",
   "execution_count": null,
   "metadata": {},
   "outputs": [],
   "source": [
    "# Define una función llamada `print_ascending_asterisks` que toma un parámetro `n` que representa el número de líneas del patrón.\n",
    "\n",
    "\n",
    "    # Utiliza un bucle `for` para iterar desde 1 hasta `n` (incluyendo `n`).\n",
    "    # usa la variable `i` dentro del bucle\n",
    "\n",
    "              \n",
    "        # Dentro del bucle externo, utiliza otro bucle `for` para imprimir asteriscos en cada línea.\n",
    "        # Utiliza `x` como variable del bucle for\n",
    "\n",
    "\n",
    "            #  Imprime `i` asteriscos en cada línea, donde `i` varía desde 1 hasta el número de la línea actual.\n",
    "\n",
    "\n",
    "        #  Después de imprimir los asteriscos en una línea, imprime una nueva línea para pasar a la siguiente línea del patrón.\n",
    "\n",
    "\n",
    "\n",
    "# Testing the function with different values of 'n'\n",
    "print(\"Ascending Asterisks Pattern:\")\n",
    "print_ascending_asterisks(5)\n",
    "print_ascending_asterisks(7)\n",
    "\n"
   ]
  },
  {
   "cell_type": "code",
   "execution_count": null,
   "metadata": {},
   "outputs": [],
   "source": [
    "def print_ascending_asterisks(n):\n",
    "    for i in range(1, n + 1):\n",
    "        for x in range(1, i + 1):\n",
    "            print(\"*\", end=\" \")\n",
    "        print()\n",
    "\n",
    "print(\"Ascending Asterisks Pattern:\")\n",
    "print_ascending_asterisks(5)\n",
    "print_ascending_asterisks(7)\n"
   ]
  }
 ],
 "metadata": {
  "kernelspec": {
   "display_name": "Python 3 (ipykernel)",
   "language": "python",
   "name": "python3"
  },
  "language_info": {
   "codemirror_mode": {
    "name": "ipython",
    "version": 3
   },
   "file_extension": ".py",
   "mimetype": "text/x-python",
   "name": "python",
   "nbconvert_exporter": "python",
   "pygments_lexer": "ipython3",
   "version": "3.11.7"
  }
 },
 "nbformat": 4,
 "nbformat_minor": 4
}
