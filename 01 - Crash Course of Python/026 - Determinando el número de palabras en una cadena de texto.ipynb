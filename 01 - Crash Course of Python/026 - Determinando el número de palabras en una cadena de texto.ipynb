{
 "cells": [
  {
   "cell_type": "markdown",
   "metadata": {},
   "source": [
    "**Author:**       Jensy Gregorio Gómez \n",
    "---------------------------------------\n",
    "**Profession:**  IT Support Analyst and Automatation with Python\n",
    "\n",
    "**Date:**         28 March 2024     \n",
    "\n",
    "**Modified**  02 April 2024\n",
    "\n",
    "**Location:**     Vila Izabel, Curitiba/PR  \n",
    "\n",
    "\n",
    "---\n",
    "\n",
    "**Contacto:**\n",
    "\n",
    "- **Email:** [contact@jensygomez.us](mailto:contact@jensygomez.us)\n",
    "- **YouTube:** [Tu Canal de YouTube](https://www.youtube.com/@systechcwb826)\n",
    "- **LinkedIn:** [Tu Perfil de LinkedIn](https://www.linkedin.com/in/jensygomez/)\n",
    "\n",
    "\n"
   ]
  },
  {
   "cell_type": "markdown",
   "metadata": {},
   "source": [
    "***"
   ]
  },
  {
   "cell_type": "markdown",
   "metadata": {},
   "source": [
    "**Título:** \n",
    "# Determinando el número de palabras en una cadena de texto\n",
    "\n",
    "**Escenario:**\n",
    "Imaginemos que estás desarrollando una aplicación que necesita analizar cadenas de texto y determinar cuántas palabras contiene cada una. Esta función es esencial para comprender y procesar el contenido de los textos ingresados por los usuarios. Como parte del desarrollo de esta funcionalidad, necesitas escribir una función llamada `string_words` que tomará una cadena de texto como entrada y devolverá el número de palabras en esa cadena.\n",
    "\n",
    "**Paso a paso detallado:**\n",
    "\n",
    "1. **Definir la función `string_words`:**\n",
    "   - Inicia creando una función llamada `string_words` que tomará un parámetro de entrada, que será la cadena de texto a analizar.\n",
    "\n",
    "2. **Utilizar el método `split()` para dividir la cadena en palabras:**\n",
    "   - Utiliza el método `split()` de Python para dividir la cadena en palabras. Este método dividirá la cadena utilizando espacios en blanco como delimitador y devolverá una lista de palabras.\n",
    "\n",
    "3. **Obtener la longitud de la lista resultante:**\n",
    "   - Usa la función `len()` para obtener la longitud de la lista de palabras resultante después de dividir la cadena. Esto te dará el número total de palabras en la cadena.\n",
    "\n",
    "4. **Devolver el número de palabras:**\n",
    "   - Finalmente, devuelve el número de palabras obtenido en el paso anterior como resultado de la función.\n",
    "\n",
    "5. **Probar la función con diferentes cadenas de texto:**\n",
    "   - Prueba la función `string_words` con diferentes cadenas de texto para asegurarte de que esté funcionando correctamente.\n",
    "   \n",
    "6. **Correcciones y ajustes (si es necesario):**\n",
    "   - Si la función no produce los resultados esperados en alguna de las pruebas, realiza las correcciones necesarias para garantizar su funcionamiento correcto.\n",
    "   \n",
    "7. **Implementar la función en tu aplicación:**\n",
    "   - Una vez que la función esté probada y funcionando correctamente, incorpórala en tu aplicación para que pueda ser utilizada según sea necesario."
   ]
  },
  {
   "cell_type": "code",
   "execution_count": null,
   "metadata": {},
   "outputs": [],
   "source": [
    "# 1. Definir la función `string_words`:\n",
    "#   - Inicia creando una función llamada `string_words` que tomará un parámetro de entrada, \n",
    "#   - que será la cadena de texto a analizar. (string)\n",
    "\n",
    "    # 2. Utilizar el método `split()` para dividir la cadena en palabras:\n",
    "    #   - Asignale a la variable (words_list), El método `split()` al argumento \"string\" \n",
    "    #    - Este método dividirá la cadena utilizando espacios en blanco como delimitador y devolverá una lista de palabras.\n",
    "\n",
    "\n",
    "    # 3. Obtener la longitud de la lista resultante:\n",
    "    #   - Asignale a la variable (num_words) Usa la función `len()` para obtener la longitud de \"words_list\n",
    "\n",
    "    # 4. Devolver el número de palabras:\n",
    "    #   - Finalmente, devuelve el número de palabras obtenido en el paso anterior como resultado de la función.\n",
    "\n",
    "\n",
    "# 5. Probar la función con diferentes cadenas de texto:\n",
    "# - Prueba la función `string_words` con diferentes cadenas de texto para asegurarte de que esté funcionando correctamente.\n",
    "\n",
    "\n"
   ]
  },
  {
   "cell_type": "code",
   "execution_count": 2,
   "metadata": {},
   "outputs": [
    {
     "name": "stdout",
     "output_type": "stream",
     "text": [
      "2\n",
      "3\n",
      "2\n",
      "4\n"
     ]
    }
   ],
   "source": [
    "def string_words(string):\n",
    "    words_list = string.split()\n",
    "    num_words = len(words_list)\n",
    "    return num_words\n",
    "\n",
    "\n",
    "print(string_words(\"Hello, World\")) # Should print 2\n",
    "print(string_words(\"Python is awesome\")) # Should print 3\n",
    "print(string_words(\"Keep going\")) # Should print 2\n",
    "print(string_words(\"Have a nice day\")) # Should print 4\n"
   ]
  }
 ],
 "metadata": {
  "kernelspec": {
   "display_name": "Python 3 (ipykernel)",
   "language": "python",
   "name": "python3"
  },
  "language_info": {
   "codemirror_mode": {
    "name": "ipython",
    "version": 3
   },
   "file_extension": ".py",
   "mimetype": "text/x-python",
   "name": "python",
   "nbconvert_exporter": "python",
   "pygments_lexer": "ipython3",
   "version": "3.11.7"
  }
 },
 "nbformat": 4,
 "nbformat_minor": 4
}
