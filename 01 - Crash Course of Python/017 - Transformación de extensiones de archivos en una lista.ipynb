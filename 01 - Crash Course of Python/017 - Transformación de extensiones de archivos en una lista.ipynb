{
 "cells": [
  {
   "cell_type": "markdown",
   "metadata": {},
   "source": [
    "**Author:**       Jensy Gregorio Gómez \n",
    "---------------------------------------\n",
    "**Profession:**  IT Support Analyst and Automatation with Python\n",
    "\n",
    "**Date:**         17 March 2024     \n",
    "\n",
    "**Resolved**  01 April 2024\n",
    "\n",
    "**Location:**     Vila Izabel, Curitiba/PR  \n",
    "\n",
    "\n",
    "---\n",
    "\n",
    "**Contacto:**\n",
    "\n",
    "- **Email:** [contact@jensygomez.us](mailto:contact@jensygomez.us)\n",
    "- **YouTube:** [Tu Canal de YouTube](https://www.youtube.com/@systechcwb826)\n",
    "- **LinkedIn:** [Tu Perfil de LinkedIn](https://www.linkedin.com/in/jensygomez/)\n",
    "\n",
    "\n"
   ]
  },
  {
   "cell_type": "markdown",
   "metadata": {},
   "source": [
    "***"
   ]
  },
  {
   "cell_type": "markdown",
   "metadata": {},
   "source": [
    "**Título:** \n",
    "# Transformación de extensiones de archivos en una lista\n",
    "\n",
    "**Escenario:**\n",
    "Imagina que eres un desarrollador de software que trabaja en un proyecto de refactorización de archivos. Te han asignado la tarea de modificar las extensiones de ciertos archivos en una lista dada. Esto es crucial para mantener la coherencia en el proyecto y garantizar que todos los archivos sigan una convención de nomenclatura específica. Para lograr esto, decides escribir un código en Python que transforme las extensiones de los archivos en la lista dada.\n",
    "\n",
    "Paso a paso del código:\n",
    "\n",
    "1. Inicializa una lista de nombres de archivos `filenames` que contiene una serie de nombres de archivos con diversas extensiones.\n",
    "   \n",
    "2. Define una lista vacía `new_filenames` para almacenar los nombres de archivos con extensiones modificadas.\n",
    "\n",
    "3. Itera a través de cada nombre de archivo en la lista `filenames` utilizando un bucle `for`.\n",
    "\n",
    "4. Dentro del bucle `for`, verifica si el nombre de archivo actual termina con la extensión \".hpp\" utilizando el método `endswith()`.\n",
    "\n",
    "5. Si el nombre de archivo termina con \".hpp\", reemplaza \".hpp\" con \".h\" utilizando el método `replace()` y agrega el nuevo nombre de archivo a la lista `new_filenames`.\n",
    "\n",
    "6. Si el nombre de archivo no termina con \".hpp\", simplemente agrega el nombre de archivo sin modificaciones a la lista `new_filenames`.\n",
    "\n",
    "7. Después de completar el bucle `for`, imprime la lista `new_filenames` que contiene los nombres de archivos con las extensiones modificadas.\n",
    "\n"
   ]
  },
  {
   "cell_type": "code",
   "execution_count": null,
   "metadata": {},
   "outputs": [],
   "source": [
    "# 1. Inicializa una lista de nombres de archivos `filenames` que contiene una serie de nombres de archivos con diversas extensiones.\n",
    "\n",
    "\n",
    "# 2. Define una lista vacía `new_filenames` para almacenar los nombres de archivos con extensiones modificadas.\n",
    "\n",
    "# 3. Itera a través de cada nombre de archivo (filename) en la lista `filenames` utilizando un bucle `for`.\n",
    "\n",
    "\n",
    "    # 4. Dentro del bucle `for`, verifica si el nombre de archivo actual termina con la extensión \".hpp\" \n",
    "    # utilizando el método `endswith()`.\n",
    "\n",
    "        # 5. Si el nombre de archivo termina con \".hpp\", reemplaza \".hpp\" con \".h\" utilizando el método `replace()`\n",
    "        # y agrega el nuevo nombre de archivo a la lista `new_filenames`.\n",
    "\n",
    "    # Condicional else\n",
    "        # 6. Si el nombre de archivo no termina con \".hpp\", \n",
    "        # simplemente agrega el nombre de archivo sin modificaciones a la lista `new_filenames`.\n",
    "\n",
    "# 7. Después de completar el bucle `for`, imprime la lista `new_filenames` \n",
    "# que contiene los nombres de archivos con las extensiones modificadas.\n"
   ]
  },
  {
   "cell_type": "markdown",
   "metadata": {},
   "source": [
    "***"
   ]
  },
  {
   "cell_type": "code",
   "execution_count": null,
   "metadata": {},
   "outputs": [],
   "source": [
    "filenames = [\"program.c\", \"stdio.hpp\", \"sample.hpp\", \"a.out\", \"math.hpp\", \"hpp.out\"]\n",
    "\n",
    "new_filenames = []\n",
    "for filename in filenames:\n",
    "    if filename.endswith(\"hpp\"):\n",
    "        new_filenames.append(filename.replace(\".hpp\", \".h\"))\n",
    "    else:\n",
    "        new_filenames.append(filename)\n",
    "\n",
    "print(new_filenames)\n"
   ]
  }
 ],
 "metadata": {
  "kernelspec": {
   "display_name": "Python 3 (ipykernel)",
   "language": "python",
   "name": "python3"
  },
  "language_info": {
   "codemirror_mode": {
    "name": "ipython",
    "version": 3
   },
   "file_extension": ".py",
   "mimetype": "text/x-python",
   "name": "python",
   "nbconvert_exporter": "python",
   "pygments_lexer": "ipython3",
   "version": "3.11.7"
  }
 },
 "nbformat": 4,
 "nbformat_minor": 4
}
