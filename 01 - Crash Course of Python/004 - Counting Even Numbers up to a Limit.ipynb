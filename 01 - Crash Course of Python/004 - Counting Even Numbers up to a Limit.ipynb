{
 "cells": [
  {
   "cell_type": "markdown",
   "metadata": {},
   "source": [
    "**Author:**       Jensy Gregorio Gómez \n",
    "---------------------------------------\n",
    "**Profession:**  IT Support Analyst and Automatation with Python\n",
    "\n",
    "**Date:**         08 March 2024  \n",
    "\n",
    "**Modified** 12 March 2024\n",
    "\n",
    "**Location:**     Vila Izabel, Curitiba/PR  \n",
    "\n",
    "\n",
    "---\n",
    "\n",
    "**Contacto:**\n",
    "\n",
    "- **Email:** [contact@jensygomez.us](mailto:contact@jensygomez.us)\n",
    "- **YouTube:** [Tu Canal de YouTube](https://www.youtube.com/@systechcwb826)\n",
    "- **LinkedIn:** [Tu Perfil de LinkedIn](https://www.linkedin.com/in/jensygomez/)\n",
    "\n",
    "\n"
   ]
  },
  {
   "cell_type": "markdown",
   "metadata": {},
   "source": [
    "\n",
    "# Counting Even Numbers up to a Limit\n",
    "\n",
    "**Statement:** Create a function called `even_numbers(n)` that **counts** how many **even numbers** exist in a sequence from 0 to the given **`n` number**, with 0 counting as an even number. For example, `even_numbers(25)` should return 13, as there are 13 even numbers in the range from 0 to 25.\n",
    "\n",
    "**Step-by-step:**\n",
    "\n",
    "1.  Begin by defining the function `even_numbers(n)` with a parameter `n`.\n",
    "2.  Initialize a variable **`count`** to keep track of the even numbers encountered and another variable **`current_number`** to hold the current number during the loop.\n",
    "3.  Use a **`while`** loop to iterate through the numbers from 0 to `n`, including `n`.\n",
    "4.  Within the loop, check if **`current_number`** is even using the modulo operator **`%`**.\n",
    "5.  If **`current_number`** is even, increment the **`count`** variable by 1.\n",
    "6.  Increment **`current_number`** by 1 in each iteration of the loop.\n",
    "7.  Once the loop has finished, return the value of **`count`**.\n",
    "8.  Test the function with different values of **`n`** to ensure it works correctly."
   ]
  },
  {
   "cell_type": "code",
   "execution_count": 1,
   "metadata": {},
   "outputs": [
    {
     "name": "stdout",
     "output_type": "stream",
     "text": [
      "13\n",
      "73\n",
      "501\n",
      "1\n"
     ]
    }
   ],
   "source": [
    "# Step 1: Begin by defining the function even_numbers(n) with a parameter n.\n",
    "\n",
    "    \n",
    "\n",
    "    # Step 2: Initialize a variable count to keep track of the even numbers encountered\n",
    "    # and another variable current_number to hold the current number during the loop.\n",
    "\n",
    "    \n",
    "    \n",
    "    # Step 3: Use a while loop to iterate through the numbers from 0 to n, including n.\n",
    "\n",
    "        \n",
    "        \n",
    "        # Step 4: Within the loop, check if current_number is even using the modulo operator %.\n",
    "\n",
    "            \n",
    "            \n",
    "            \n",
    "            # Step 5: If current_number is even, increment the count variable by 1.\n",
    "\n",
    "            \n",
    "        \n",
    "        # Step 6: Increment current_number by 1 in each iteration of the loop.\n",
    "\n",
    "        \n",
    "    \n",
    "    # Step 7: Once the loop has finished, return the value of count.\n",
    "\n",
    "\n",
    "# Step 8: Test the function with different values of n to ensure it works correctly.\n",
    "print(even_numbers(25))    # Should print 13\n",
    "print(even_numbers(144))   # Should print 73\n",
    "print(even_numbers(1000))  # Should print 501\n",
    "print(even_numbers(0))     # Should print 1\n"
   ]
  }
 ],
 "metadata": {
  "kernelspec": {
   "display_name": "Python 3 (ipykernel)",
   "language": "python",
   "name": "python3"
  },
  "language_info": {
   "codemirror_mode": {
    "name": "ipython",
    "version": 3
   },
   "file_extension": ".py",
   "mimetype": "text/x-python",
   "name": "python",
   "nbconvert_exporter": "python",
   "pygments_lexer": "ipython3",
   "version": "3.10.12"
  }
 },
 "nbformat": 4,
 "nbformat_minor": 4
}
