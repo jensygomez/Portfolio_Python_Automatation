{
 "cells": [
  {
   "cell_type": "markdown",
   "metadata": {},
   "source": [
    "**Author:**       Jensy Gregorio Gómez \n",
    "---------------------------------------\n",
    "**Profession:**  IT Support Analyst and Automatation with Python\n",
    "\n",
    "**Date:**         09 March 2024   \n",
    "\n",
    "**Modified** 12 March 2024 -> 20 March 2024\n",
    "\n",
    "**Location:**     Vila Izabel, Curitiba/PR  \n",
    "\n",
    "\n",
    "---\n",
    "\n",
    "**Contacto:**\n",
    "\n",
    "- **Email:** [contact@jensygomez.us](mailto:contact@jensygomez.us)\n",
    "- **YouTube:** [Tu Canal de YouTube](https://www.youtube.com/@systechcwb826)\n",
    "- **LinkedIn:** [Tu Perfil de LinkedIn](https://www.linkedin.com/in/jensygomez/)\n",
    "\n",
    "\n"
   ]
  },
  {
   "cell_type": "markdown",
   "metadata": {},
   "source": [
    "# **Countdown**\n",
    "\n",
    "**Statement:**\n",
    "Write a function called `countdown` that takes an integer `start` as an argument and returns a string representing the countdown from that number to zero. If the provided number is less than or equal to zero, the function should return \"`Cannot count down to 0`\".\n",
    "\n",
    "**Steps to create the `countdown` function:**\n",
    "\n",
    "1. Define the `countdown` function with a parameter `start`.\n",
    "2. Inside the function, initialize a variable `x` with the value of the `start` parameter.\n",
    "3. Check if `x` is greater than 0.\n",
    "4. If `x` is greater than 0, create a string `return_string` initialized with \"`Counting down to 0: `\".\n",
    "5. Use a `while` loop to count down to 0.\n",
    "6. Inside the loop, concatenate each number to the end of `return_string`.\n",
    "7. If `x` is greater than 0, add a comma after the number.\n",
    "8. Decrement `x` on each iteration of the loop.\n",
    "9. If `start` is less than or equal to 0, set `return_string` to \"`Cannot count down to 0`\".\n",
    "10. Return `return_string`.\n",
    "11. Print the result of the `countdown` function with different values to test its functionality."
   ]
  },
  {
   "cell_type": "code",
   "execution_count": 8,
   "metadata": {},
   "outputs": [
    {
     "name": "stdout",
     "output_type": "stream",
     "text": [
      "Counting to 0 10,9,8,7,6,5,4,3,2,1,0\n",
      "Counting to 0 2,1,0\n",
      "Cannot count down to 0\n"
     ]
    }
   ],
   "source": [
    "# Define la función countdown con el parámetro start\n",
    "    # Inicializa una variable x con el valor del parámetro start\n",
    "    # Verifica si x es mayor que 0\n",
    "        # Crea una cadena para contar hacia atrás\n",
    "        # Inicia un bucle while para contar hacia atrás hasta 0\n",
    "            # Concatena el número actual a return_string\n",
    "            # Verifica si el número actual es mayor que 1\n",
    "                # Agrega una coma después del número si no es el último\n",
    "            # Decrementa x\n",
    "    # Si start no es mayor que 0\n",
    "        # Establece return_string para indicar la imposibilidad de contar hacia atrás\n",
    "    # Devuelve la cadena de cuenta regresiva generada o el mensaje de error\n",
    "\n",
    "# Paso 11: Imprime el resultado de la función countdown con diferentes valores para probar su funcionalidad\n",
    "print(countdown(10))  # Debería ser \"Contando hacia atrás hasta 0: 10, 9, 8, 7, 6, 5, 4, 3, 2, 1, 0\"\n",
    "print(countdown(2))   # Debería ser \"Contando hacia atrás hasta 0: 2, 1, 0\"\n",
    "print(countdown(0))   # Debería ser \"No se puede contar hacia atrás hasta 0\"\n",
    "\n"
   ]
  },
  {
   "cell_type": "code",
   "execution_count": null,
   "metadata": {},
   "outputs": [],
   "source": [
    "def countdown(start):\n",
    "    x = start\n",
    "    if x > 0:\n",
    "        return_string = \"Counting down to 0: \"\n",
    "        while x > 0:\n",
    "            return_string += str(x)\n",
    "            if x > 1:\n",
    "                return_string += \", \"\n",
    "            x -= 1\n",
    "    else:\n",
    "        return_string = \"Cannot count down to 0\"\n",
    "    return return_string\n",
    "\n",
    "print(countdown(10))  # Should be \"Counting down to 0: 10, 9, 8, 7, 6, 5, 4, 3, 2, 1, 0\"\n",
    "print(countdown(2))   # Should be \"Counting down to 0: 2, 1, 0\"\n",
    "print(countdown(0))   # Should be \"Cannot count down to 0\"\n"
   ]
  }
 ],
 "metadata": {
  "kernelspec": {
   "display_name": "Python 3 (ipykernel)",
   "language": "python",
   "name": "python3"
  },
  "language_info": {
   "codemirror_mode": {
    "name": "ipython",
    "version": 3
   },
   "file_extension": ".py",
   "mimetype": "text/x-python",
   "name": "python",
   "nbconvert_exporter": "python",
   "pygments_lexer": "ipython3",
   "version": "3.10.12"
  }
 },
 "nbformat": 4,
 "nbformat_minor": 4
}
