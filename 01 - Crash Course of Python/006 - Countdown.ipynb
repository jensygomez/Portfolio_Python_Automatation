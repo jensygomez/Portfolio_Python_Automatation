{
 "cells": [
  {
   "cell_type": "markdown",
   "metadata": {},
   "source": [
    "**Author:**       Jensy Gregorio Gómez \n",
    "---------------------------------------\n",
    "**Profession:**  IT Support Analyst and Automatation with Python\n",
    "\n",
    "**Date:**         09 March 2024     \n",
    "\n",
    "**Location:**     Vila Izabel, Curitiba/PR  \n",
    "\n",
    "\n",
    "---\n",
    "\n",
    "**Contacto:**\n",
    "\n",
    "- **Email:** [contact@jensygomez.us](mailto:contact@jensygomez.us)\n",
    "- **YouTube:** [Tu Canal de YouTube](https://www.youtube.com/@systechcwb826)\n",
    "- **LinkedIn:** [Tu Perfil de LinkedIn](https://www.linkedin.com/in/jensygomez/)\n",
    "\n",
    "\n"
   ]
  },
  {
   "cell_type": "markdown",
   "metadata": {},
   "source": [
    "# **Countdown**\n",
    "\n",
    "**Statement:**\n",
    "Write a function called `countdown` that takes an integer `start` as an argument and returns a string representing the countdown from that number to zero. If the provided number is less than or equal to zero, the function should return \"`Cannot count down to 0`\".\n",
    "\n",
    "**Steps to create the `countdown` function:**\n",
    "\n",
    "1. Define the `countdown` function with a parameter `start`.\n",
    "2. Inside the function, initialize a variable `x` with the value of the `start` parameter.\n",
    "3. Check if `x` is greater than 0.\n",
    "4. If `x` is greater than 0, create a string `return_string` initialized with \"`Counting down to 0: `\".\n",
    "5. Use a `while` loop to count down to 0.\n",
    "6. Inside the loop, concatenate each number to the end of `return_string`.\n",
    "7. If `x` is greater than 0, add a comma after the number.\n",
    "8. Decrement `x` on each iteration of the loop.\n",
    "9. If `start` is less than or equal to 0, set `return_string` to \"`Cannot count down to 0`\".\n",
    "10. Return `return_string`.\n",
    "11. Print the result of the `countdown` function with different values to test its functionality."
   ]
  },
  {
   "cell_type": "code",
   "execution_count": 1,
   "metadata": {},
   "outputs": [
    {
     "name": "stdout",
     "output_type": "stream",
     "text": [
      "Counting down to 0: 10,9,8,7,6,5,4,3,2,1,0\n",
      "Counting down to 0: 2,1,0\n",
      "Cannot count down to 0\n"
     ]
    }
   ],
   "source": [
    "# Step 1: Define the countdown function with a parameter 'start'\n",
    "\n",
    "    # Step 2: Initialize variable 'x'\n",
    "\n",
    "   \n",
    "    # Step 3: Check if 'x' is greater than 0\n",
    "\n",
    "        \n",
    "        # Step 4: Create string 'return_string'\n",
    "\n",
    "        \n",
    "        \n",
    "        # Step 5: Use a while loop to count down to 0\n",
    "\n",
    "            \n",
    "            # Step 6: Concatenate each number to 'return_string'\n",
    "\n",
    "            \n",
    "            \n",
    "            # Step 7: Add a comma after the number if 'x' is greater than 0\n",
    "\n",
    "                \n",
    "\n",
    "                \n",
    "            # Step 8: Decrement 'x' on each iteration\n",
    "\n",
    "\n",
    "        # Step 9: Set 'return_string' to \"Cannot count down to 0\" if 'start' is less than or equal to 0\n",
    "\n",
    "    \n",
    "    # Step 10: Return 'return_string'\n",
    "\n",
    "\n",
    "# Step 11: Print the result of the countdown function with different values to test its functionality\n",
    "print(countdown(10))  # Should be \"Counting down to 0: 10,9,8,7,6,5,4,3,2,1,0\"\n",
    "print(countdown(2))   # Should be \"Counting down to 0: 2,1,0\"\n",
    "print(countdown(0))   # Should be \"Cannot count down to 0\"\n"
   ]
  }
 ],
 "metadata": {
  "kernelspec": {
   "display_name": "Python 3 (ipykernel)",
   "language": "python",
   "name": "python3"
  },
  "language_info": {
   "codemirror_mode": {
    "name": "ipython",
    "version": 3
   },
   "file_extension": ".py",
   "mimetype": "text/x-python",
   "name": "python",
   "nbconvert_exporter": "python",
   "pygments_lexer": "ipython3",
   "version": "3.10.12"
  }
 },
 "nbformat": 4,
 "nbformat_minor": 4
}
