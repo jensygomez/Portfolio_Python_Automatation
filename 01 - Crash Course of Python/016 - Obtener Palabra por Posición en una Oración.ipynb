{
 "cells": [
  {
   "cell_type": "markdown",
   "metadata": {},
   "source": [
    "**Author:**       Jensy Gregorio Gómez \n",
    "---------------------------------------\n",
    "**Profession:**  IT Support Analyst and Automatation with Python\n",
    "\n",
    "**Date:**         17 March 2024     \n",
    "\n",
    "**Resolved** 22 March 2024 --> 08 April 2024\n",
    "\n",
    "**Location:**     Vila Izabel, Curitiba/PR  \n",
    "\n",
    "\n",
    "---\n",
    "\n",
    "**Contacto:**\n",
    "\n",
    "- **Email:** [contact@jensygomez.us](mailto:contact@jensygomez.us)\n",
    "- **YouTube:** [Tu Canal de YouTube](https://www.youtube.com/@systechcwb826)\n",
    "- **LinkedIn:** [Tu Perfil de LinkedIn](https://www.linkedin.com/in/jensygomez/)\n",
    "\n",
    "\n"
   ]
  },
  {
   "cell_type": "markdown",
   "metadata": {},
   "source": [
    "**Título:** \n",
    "# Obtener Palabra por Posición en una Oración  \n",
    "**Escenario:** En un entorno de programación, se desea crear una función que permita obtener una palabra específica de una oración según su posición. Esta función tomará como entrada una cadena de texto que representa la oración y un número entero que indica la posición de la palabra que se quiere obtener.  \n",
    "**Paso a paso:**  \n",
    "1. Define una función llamada `get_word` que acepte dos parámetros: `sentence` (la cadena de texto que representa la oración) y `n` (la posición de la palabra que se quiere obtener).\n",
    "2. Verifica si `n` es mayor que 0. Si es verdadero, continúa con el siguiente paso; de lo contrario, retorna una cadena vacía.\n",
    "3. Divide la oración en palabras utilizando el método `split()` y almacena el resultado en la variable `words`.\n",
    "4. Verifica si `n` es menor o igual que la longitud de la lista de palabras (`words`). Si es verdadero, continúa con el siguiente paso; de lo contrario, retorna una cadena vacía.\n",
    "5. Retorna la palabra en la posición `n - 1` de la lista de palabras `words`.\n",
    "6. Si no se cumplen las condiciones anteriores, retorna una cadena vacía.\n",
    "7. Realiza algunas pruebas llamando a la función `get_word` con diferentes oraciones y posiciones para obtener palabras específicas."
   ]
  },
  {
   "cell_type": "code",
   "execution_count": 3,
   "metadata": {},
   "outputs": [
    {
     "name": "stdout",
     "output_type": "stream",
     "text": [
      " \n"
     ]
    }
   ],
   "source": [
    "# 1. Define una función llamada `get_word` que acepte dos parámetros: \n",
    "# `sentence` (la cadena de texto que representa la oración) y\n",
    "# `n` (la posición de la palabra que se quiere obtener).\n",
    "\n",
    "    # 2. Verifica si `n` es mayor que 0. Si es verdadero, continúa con el siguiente paso; \n",
    "    \n",
    "\n",
    "        # 3. Divide la oración en palabras utilizando el método `split()`\n",
    "        # y almacena el resultado en la variable `words`.de lo contrario, retorna una cadena vacía.\n",
    "\n",
    "        # 4. Verifica si `n` es menor o igual que la longitud de la lista de palabras (`words`). Si es verdadero, continúa con el siguiente paso; de lo contrario, retorna una cadena vacía.\n",
    "\n",
    "            # 5. Retorna la palabra en la posición `n - 1` de la lista de palabras `words`.\n",
    "\n",
    "    # 6. Si no se cumplen las condiciones anteriores, retorna una cadena vacía.\n",
    "\n",
    "# 7. Realiza algunas pruebas llamando a la función `get_word` con diferentes oraciones y posiciones para obtener palabras específicas.\n"
   ]
  },
  {
   "cell_type": "markdown",
   "metadata": {},
   "source": [
    "***"
   ]
  },
  {
   "cell_type": "code",
   "execution_count": null,
   "metadata": {},
   "outputs": [],
   "source": [
    "def get_word(sentence, n):\n",
    "    if n > 0:\n",
    "        words = sentence.split()\n",
    "        if n <= len(words):\n",
    "            return words[n - 1]\n",
    "    return \"\"\n",
    "\n",
    "print(get_word(\"This is a lesson about lists\", 4))\n",
    "print(get_word(\"This is a lesson about lists\", -4))\n",
    "print(get_word(\"Now we are cooking!\", 1))\n",
    "print(get_word(\"Now we are cooking!\", 5))\n"
   ]
  }
 ],
 "metadata": {
  "kernelspec": {
   "display_name": "Python 3 (ipykernel)",
   "language": "python",
   "name": "python3"
  },
  "language_info": {
   "codemirror_mode": {
    "name": "ipython",
    "version": 3
   },
   "file_extension": ".py",
   "mimetype": "text/x-python",
   "name": "python",
   "nbconvert_exporter": "python",
   "pygments_lexer": "ipython3",
   "version": "3.11.7"
  }
 },
 "nbformat": 4,
 "nbformat_minor": 4
}
