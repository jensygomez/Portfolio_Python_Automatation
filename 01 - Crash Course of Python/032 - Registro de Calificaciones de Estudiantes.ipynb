{
 "cells": [
  {
   "cell_type": "markdown",
   "metadata": {},
   "source": [
    "**Author:**       Jensy Gregorio Gómez \n",
    "---------------------------------------\n",
    "**Profession:**  IT Support Analyst and Automatation with Python\n",
    "\n",
    "**Date:**         17 March 2024     \n",
    "\n",
    "**Resolved** 05 April 2024\n",
    "\n",
    "**Location:**     Vila Izabel, Curitiba/PR  \n",
    "\n",
    "\n",
    "---\n",
    "\n",
    "**Contacto:**\n",
    "\n",
    "- **Email:** [contact@jensygomez.us](mailto:contact@jensygomez.us)\n",
    "- **YouTube:** [Tu Canal de YouTube](https://www.youtube.com/@systechcwb826)\n",
    "- **LinkedIn:** [Tu Perfil de LinkedIn](https://www.linkedin.com/in/jensygomez/)\n",
    "\n",
    "\n"
   ]
  },
  {
   "cell_type": "markdown",
   "metadata": {},
   "source": [
    "***"
   ]
  },
  {
   "cell_type": "markdown",
   "metadata": {},
   "source": [
    "**Título:** \n",
    "# Registro de Calificaciones de Estudiantes\n",
    "\n",
    "**Escenario:**\n",
    "Un profesor está desarrollando un programa para registrar las calificaciones de sus estudiantes. El programa utiliza una función llamada `student_grade`, que toma el nombre del estudiante y su calificación en un examen, y devuelve un mensaje formateado que indica la calificación obtenida.\n",
    "\n",
    "**Paso a Paso:**\n",
    "1. Se define una función llamada `student_grade` que toma dos parámetros: `name` (nombre del estudiante) y `grade` (calificación del estudiante).\n",
    "2. Dentro de la función, se utiliza el método `format` para formatear una cadena de texto que indica el nombre del estudiante y la calificación obtenida en el examen. El resultado se guarda en una variable.\n",
    "3. La función devuelve la cadena de texto formateada.\n",
    "4. Se llama a la función `student_grade` cuatro veces con diferentes nombres y calificaciones de estudiantes.\n",
    "5. En cada llamada, se imprime el mensaje devuelto por la función, indicando el nombre del estudiante y la calificación obtenida en el examen."
   ]
  },
  {
   "cell_type": "code",
   "execution_count": null,
   "metadata": {},
   "outputs": [],
   "source": [
    "# 1. Se define una función llamada `student_grade` \n",
    "# que toma dos parámetros: `name` (nombre del estudiante) y `grade` (calificación del estudiante).\n",
    "\n",
    "    # 2. Dentro de la función, se utiliza el método `format`\n",
    "    # para formatear una cadena de texto que indica el nombre del estudiante\n",
    "    # y la calificación obtenida en el examen. El resultado se guarda en una variable.\n",
    "    # 3. La función devuelve la cadena de texto formateada.\n",
    "\n",
    "# 4. Se llama a la función `student_grade` cuatro veces con diferentes nombres y calificaciones de estudiantes.\n",
    "# 5. En cada llamada, se imprime el mensaje devuelto por la función, indicando el nombre del estudiante y la calificación obtenida en el examen.\n",
    "print(student_grade(\"Reed\", 80))\n",
    "print(student_grade(\"Reed\", 80))\n",
    "print(student_grade(\"Paige\", 92))\n",
    "print(student_grade(\"Samuel\", 85))\n"
   ]
  },
  {
   "cell_type": "markdown",
   "metadata": {},
   "source": [
    "***"
   ]
  },
  {
   "cell_type": "code",
   "execution_count": null,
   "metadata": {},
   "outputs": [],
   "source": [
    "def student_grade(name, grade):\n",
    "    return \"{} received {}% on the exam\".format(name, grade)\n",
    "\n",
    "print(student_grade(\"Reed\", 80))\n",
    "print(student_grade(\"Reed\", 80))\n",
    "print(student_grade(\"Paige\", 92))\n",
    "print(student_grade(\"Samuel\", 85))\n"
   ]
  }
 ],
 "metadata": {
  "kernelspec": {
   "display_name": "Python 3 (ipykernel)",
   "language": "python",
   "name": "python3"
  },
  "language_info": {
   "codemirror_mode": {
    "name": "ipython",
    "version": 3
   },
   "file_extension": ".py",
   "mimetype": "text/x-python",
   "name": "python",
   "nbconvert_exporter": "python",
   "pygments_lexer": "ipython3",
   "version": "3.11.7"
  }
 },
 "nbformat": 4,
 "nbformat_minor": 4
}
