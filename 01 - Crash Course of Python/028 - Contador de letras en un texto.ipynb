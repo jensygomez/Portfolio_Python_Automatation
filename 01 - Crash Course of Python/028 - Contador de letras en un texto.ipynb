{
 "cells": [
  {
   "cell_type": "markdown",
   "metadata": {},
   "source": [
    "**Author:**       Jensy Gregorio Gómez \n",
    "---------------------------------------\n",
    "**Profession:**  IT Support Analyst and Automatation with Python\n",
    "\n",
    "**Date:**         29 March 2024     \n",
    "\n",
    "**Modified** 01 April 2024 --> 13 April 2024\n",
    "\n",
    "**Location:**     Vila Izabel, Curitiba/PR  \n",
    "\n",
    "\n",
    "---\n",
    "\n",
    "**Contacto:**\n",
    "\n",
    "- **Email:** [contact@jensygomez.us](mailto:contact@jensygomez.us)\n",
    "- **YouTube:** [Tu Canal de YouTube](https://www.youtube.com/@systechcwb826)\n",
    "- **LinkedIn:** [Tu Perfil de LinkedIn](https://www.linkedin.com/in/jensygomez/)\n",
    "\n",
    "\n"
   ]
  },
  {
   "cell_type": "markdown",
   "metadata": {},
   "source": [
    "***"
   ]
  },
  {
   "cell_type": "markdown",
   "metadata": {},
   "source": [
    "**Título:** \n",
    "# Contador de letras en un texto\n",
    "\n",
    "**Escenario:** Un programa que cuenta la frecuencia de cada letra en un texto dado y devuelve un diccionario con la letra como clave y el recuento como valor.\n",
    "\n",
    "\n",
    "\n",
    "**Paso a paso detallado:**\n",
    "1. Se define una función llamada `count_letters` que toma un argumento `text`, que es el texto en el que se contarán las letras.\n",
    "2. Se inicializa un diccionario vacío llamado `dictionary` para almacenar la frecuencia de cada letra.\n",
    "3. Se inicia un bucle `for` que itera a través de cada carácter en el texto convertido a minúsculas.\n",
    "4. Dentro del bucle, se verifica si el carácter es una letra del alfabeto utilizando el método `isalpha()`.\n",
    "5. Si el carácter es una letra, se procede a contar su frecuencia.\n",
    "6. Si el carácter no está presente en el diccionario, se agrega con un valor inicial de 0.\n",
    "7. Se incrementa el recuento de la letra en el diccionario.\n",
    "8. Una vez que se han procesado todos los caracteres del texto, se retorna el diccionario que contiene la frecuencia de cada letra.\n",
    "9. Se puede llamar a esta función pasando un texto como argumento y almacenar el resultado en una variable para su posterior uso."
   ]
  },
  {
   "cell_type": "code",
   "execution_count": 2,
   "metadata": {},
   "outputs": [
    {
     "name": "stdout",
     "output_type": "stream",
     "text": [
      "{'t': 2, 'h': 1, 'i': 2, 's': 3, 'a': 1, 'e': 3, 'n': 2, 'c': 1}\n"
     ]
    }
   ],
   "source": [
    "\n",
    "# 1. Se define una función llamada `count_letters` que toma un argumento `text`,\n",
    "# que es el texto en el que se contarán las letras.\n",
    "\n",
    "\n",
    "    # Se inicializa un diccionario vacío llamado `dictionary` para almacenar la frecuencia de cada letra.\n",
    "\n",
    "\n",
    "    # 3. Se inicia un bucle `for` que itera a través de cada carácter (char) en el texto convertido a minúsculas.\n",
    "\n",
    "        # 4. Dentro del bucle, se verifica si el carácter es una letra del alfabeto utilizando el método `isalpha()`.\n",
    "\n",
    "            # 6. Si el carácter no está presente en el diccionario, se agrega con un valor inicial de 0.\n",
    "\n",
    "\n",
    "                # se agrega con un valor inicial de 0.\n",
    "\n",
    "            \n",
    "            # 7. Se incrementa el recuento de la letra en el diccionario.\n",
    "\n",
    "    \n",
    "    # 8. Una vez que se han procesado todos los caracteres del texto, \n",
    "    # se retorna el diccionario que contiene la frecuencia de cada letra.\n",
    "\n",
    "# 9. Se puede llamar a esta función pasando un texto como argumento y almacenar el resultado en una variable para su posterior uso.\n",
    "\n"
   ]
  },
  {
   "cell_type": "code",
   "execution_count": null,
   "metadata": {},
   "outputs": [],
   "source": [
    "def count_letters(text):\n",
    "    dictionary = {}\n",
    "    for char in text.lower():\n",
    "        if char.isalpha():\n",
    "            if char not in dictionary:\n",
    "                dictionary[char] = 0\n",
    "            dictionary[char] += 1\n",
    "    return dictionary\n",
    "\n",
    "print(count_letters(\"AaBbCc\"))\n",
    "# Should be {'a': 2, 'b': 2, 'c': 2}\n",
    "print(count_letters(\"Math is fun! 2+2=4\"))\n",
    "# Should be {'m': 1, 'a': 1, 't': 1, 'h': 1, 'i': 1, 's': 1, 'f': 1, 'u': 1, 'n': 1}\n",
    "print(count_letters(\"This is a sentence.\"))\n",
    "# Should be {'t': 2, 'h': 1, 'i': 2, 's': 3, 'a': 1, 'e': 3, 'n': 2, 'c': 1}\n"
   ]
  }
 ],
 "metadata": {
  "kernelspec": {
   "display_name": "Python 3 (ipykernel)",
   "language": "python",
   "name": "python3"
  },
  "language_info": {
   "codemirror_mode": {
    "name": "ipython",
    "version": 3
   },
   "file_extension": ".py",
   "mimetype": "text/x-python",
   "name": "python",
   "nbconvert_exporter": "python",
   "pygments_lexer": "ipython3",
   "version": "3.11.8"
  }
 },
 "nbformat": 4,
 "nbformat_minor": 4
}
