{
 "cells": [
  {
   "cell_type": "markdown",
   "metadata": {},
   "source": [
    "**Author:**       Jensy Gregorio Gómez \n",
    "---------------------------------------\n",
    "**Profession:**  IT Support Analyst and Automatation with Python\n",
    "\n",
    "**Date:**         12 March 2024     \n",
    "\n",
    "**Location:**     Vila Izabel, Curitiba/PR  \n",
    "\n",
    "\n",
    "---\n",
    "\n",
    "**Contacto:**\n",
    "\n",
    "- **Email:** [contact@jensygomez.us](mailto:contact@jensygomez.us)\n",
    "- **YouTube:** [Tu Canal de YouTube](https://www.youtube.com/@systechcwb826)\n",
    "- **LinkedIn:** [Tu Perfil de LinkedIn](https://www.linkedin.com/in/jensygomez/)\n",
    "\n",
    "\n"
   ]
  },
  {
   "cell_type": "markdown",
   "metadata": {},
   "source": [
    "# **Exercise on Ascending and Descending Counting**\n",
    "\n",
    "**Statement:** Write a function called `ascending_descending_counter()` that takes two integers as arguments, `start` and `end`. This function should count from the start number to the end number, displaying an ascending sequence if `start` is less than `end`, and a descending sequence if `start` is greater than `end`. The result should be a string indicating the counting sequence.\n",
    "\n",
    "**Step-by-Step:**\n",
    "\n",
    "1.  Define a function named `ascending_descending_counter(start, end)`.\n",
    "2.  Check if the value of `start` is greater than the value of `end`. If so, set a return string as \"Descending count: \".\n",
    "3.  Otherwise, set the return string as \"Ascending count: \".\n",
    "4.  Start a while loop that continues while `start` is greater than `end` if you're counting down, or while `start` is less than `end` if you're counting up.\n",
    "5.  Inside the while loop, append the value of `start` to the return string.\n",
    "6.  If you're counting down, after appending the value, decrease `start` by 1.\n",
    "7.  If you're counting up, after appending the value, increase `start` by 1.\n",
    "8.  If `start` has not yet reached `end`, append a comma \",\" to the return string.\n",
    "9.  Once the loop has ended, return the return string.\n",
    "10.  Test the function with different values of `start` and `end` to ensure it works correctly.\n"
   ]
  },
  {
   "cell_type": "code",
   "execution_count": null,
   "metadata": {},
   "outputs": [],
   "source": [
    "\n",
    "    \n",
    "    # Step 1: Define a function named counter with start and stop as arguments\n",
    "\n",
    "            \n",
    "            \n",
    "            # Step 2: Start a while loop for counting down\n",
    "            \n",
    "\n",
    "            \n",
    "            # Step 3: Append the current number to the return_string\n",
    "            \n",
    "\n",
    "            \n",
    "            \n",
    "            # Step 4: Decrease start by 1 for counting down\n",
    "\n",
    "            \n",
    "            \n",
    "            # Step 5: Start a while loop for counting up\n",
    "            \n",
    "\n",
    "            \n",
    "            # Step 6: Append the current number to the return_string\n",
    "            \n",
    "\n",
    "            \n",
    "            \n",
    "            # Step 7: Increase start by 1 for counting up\n",
    "            \n",
    "\n",
    "# Step 8: Test the function with start=1 and stop=10. Expected output: \"Counting up: 1,2,3,4,5,6,7,8,9,10\"\n",
    "# Step 9: Test the function with start=2 and stop=1. Expected output: \"Counting down: 2,1\"  \n",
    "# Step 10: Test the function with start=5 and stop=5. Expected output: \"Counting up: 5\"\n"
   ]
  },
  {
   "cell_type": "code",
   "execution_count": null,
   "metadata": {},
   "outputs": [],
   "source": [
    "def counter(start, stop):\n",
    "    if start > stop:\n",
    "        return_string = \"Counting down: \"\n",
    "        while start >= stop:  \n",
    "            return_string += str(start)  \n",
    "            if start > stop:\n",
    "                return_string += \",\"\n",
    "            start -= 1  \n",
    "    else:\n",
    "        return_string = \"Counting up: \"\n",
    "        while start <= stop:  \n",
    "            return_string += str(start)  \n",
    "            if start < stop:\n",
    "                return_string += \",\"\n",
    "            start += 1  \n",
    "    return return_string\n",
    "\n",
    "print(counter(1, 10))  \n",
    "print(counter(2, 1))   \n",
    "print(counter(5, 5))   \n"
   ]
  }
 ],
 "metadata": {
  "kernelspec": {
   "display_name": "Python 3 (ipykernel)",
   "language": "python",
   "name": "python3"
  },
  "language_info": {
   "codemirror_mode": {
    "name": "ipython",
    "version": 3
   },
   "file_extension": ".py",
   "mimetype": "text/x-python",
   "name": "python",
   "nbconvert_exporter": "python",
   "pygments_lexer": "ipython3",
   "version": "3.10.12"
  }
 },
 "nbformat": 4,
 "nbformat_minor": 4
}
