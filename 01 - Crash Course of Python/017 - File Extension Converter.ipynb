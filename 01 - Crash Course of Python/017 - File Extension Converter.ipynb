{
 "cells": [
  {
   "cell_type": "markdown",
   "metadata": {},
   "source": [
    "**Author:**       Jensy Gregorio Gómez \n",
    "---------------------------------------\n",
    "**Profession:**  IT Support Analyst and Automatation with Python\n",
    "\n",
    "**Date:**         17 March 2024     \n",
    "\n",
    "**Resolved** 22 March 2024\n",
    "\n",
    "**Location:**     Vila Izabel, Curitiba/PR  \n",
    "\n",
    "\n",
    "---\n",
    "\n",
    "**Contacto:**\n",
    "\n",
    "- **Email:** [contact@jensygomez.us](mailto:contact@jensygomez.us)\n",
    "- **YouTube:** [Tu Canal de YouTube](https://www.youtube.com/@systechcwb826)\n",
    "- **LinkedIn:** [Tu Perfil de LinkedIn](https://www.linkedin.com/in/jensygomez/)\n",
    "\n",
    "\n"
   ]
  },
  {
   "cell_type": "markdown",
   "metadata": {},
   "source": [
    "***"
   ]
  },
  {
   "cell_type": "markdown",
   "metadata": {},
   "source": [
    "\n",
    "**Title:**\n",
    "# File Extension Converter\n",
    "\n",
    "\n",
    "Supongamos que tienes un **directorio** que contiene varios **archivos** con diferentes **extensiones**. El **objetivo** es procesar esta lista de **nombres de archivo** y generar una nueva lista de **nombres de archivo** donde cualquier archivo con **extensión** \".hpp\" se cambie a \".h\", manteniendo el resto de los **nombres de archivo** sin cambios.\n",
    "\n",
    "\n",
    "**Statement:**\n",
    "Convert \".hpp\" file extensions to \".h\" within a list of filenames.\n",
    "\n",
    "**Step-by-step:**\n",
    "1. **Initialize the list of filenames:**\n",
    "   Start by defining a list called `filenames`, which contains several filenames including different file extensions such as \".c\" and \".hpp\".\n",
    "\n",
    "2. **Generate new filenames:**\n",
    "   Use list comprehension to iterate over each filename in the `filenames` list.\n",
    "\n",
    "3. **Check file extension:**\n",
    "   For each filename, check if it ends with \".hpp\" using the `endswith()` method.\n",
    "\n",
    "4. **Replace extension if necessary:**\n",
    "   If a filename ends with \".hpp\", use the `replace()` method to replace \".hpp\" with \".h\".\n",
    "\n",
    "5. **Build the new list of filenames:**\n",
    "   Construct the new list of filenames based on the replacements made in the previous step.\n",
    "\n",
    "6. **Print the new filenames:**\n",
    "   Display the updated list of filenames, which now includes converted extensions.\n",
    "\n",
    "7. **Finish:**\n",
    "   Program execution ends after printing the new filenames."
   ]
  },
  {
   "cell_type": "code",
   "execution_count": 1,
   "metadata": {},
   "outputs": [
    {
     "name": "stdout",
     "output_type": "stream",
     "text": [
      "['program.c', 'stdio,h', 'sample,h', 'a.out', 'math,h', 'hpp.out']\n"
     ]
    }
   ],
   "source": [
    "# Step 1: Define the original list of filenames\n",
    "filenames = [\"program.c\", \"stdio.hpp\", \"sample.hpp\", \"a.out\", \"math.hpp\", \"hpp.out\"]\n",
    "\n",
    "# Step 2: Create an empty list to store the new filenames\n",
    "\n",
    "\n",
    "# Step 3: Iterate over each filename in the original list\n",
    "\n",
    "\n",
    "    # Step 4: Check if the filename has the \".hpp\" extension\n",
    "\n",
    "\n",
    "        # If it does, replace \".hpp\" with \".h\" and add to the new list\n",
    "\n",
    "\n",
    "    else:\n",
    "        # If not, keep the filename unchanged and add to the new list\n",
    "\n",
    "\n",
    "# Step 5: No explicit action taken here; just a placeholder for clarity\n",
    "\n",
    "# Step 6: Print the list of new filenames\n",
    "\n",
    "\n",
    "# Step 7: End of the program\n",
    "\n",
    "\n"
   ]
  },
  {
   "cell_type": "markdown",
   "metadata": {},
   "source": [
    "***"
   ]
  },
  {
   "cell_type": "code",
   "execution_count": 1,
   "metadata": {},
   "outputs": [
    {
     "name": "stdout",
     "output_type": "stream",
     "text": [
      "['program.c', 'stdio.h', 'sample.h', 'a.out', 'math.h', 'hpp.out']\n"
     ]
    }
   ],
   "source": [
    "filenames = [\"program.c\", \"stdio.hpp\", \"sample.hpp\", \"a.out\", \"math.hpp\", \"hpp.out\"]\n",
    "\n",
    "new_filenames = []\n",
    "for filename in filenames:\n",
    "    if filename.endswith(\"hpp\"):\n",
    "        new_filenames.append(filename.replace(\".hpp\", \".h\"))\n",
    "    else:\n",
    "        new_filenames.append(filename)\n",
    "\n",
    "print(new_filenames)\n"
   ]
  }
 ],
 "metadata": {
  "kernelspec": {
   "display_name": "Python 3 (ipykernel)",
   "language": "python",
   "name": "python3"
  },
  "language_info": {
   "codemirror_mode": {
    "name": "ipython",
    "version": 3
   },
   "file_extension": ".py",
   "mimetype": "text/x-python",
   "name": "python",
   "nbconvert_exporter": "python",
   "pygments_lexer": "ipython3",
   "version": "3.12.2"
  }
 },
 "nbformat": 4,
 "nbformat_minor": 4
}
