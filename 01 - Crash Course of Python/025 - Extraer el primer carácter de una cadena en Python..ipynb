{
 "cells": [
  {
   "cell_type": "markdown",
   "metadata": {},
   "source": [
    "**Author:**       Jensy Gregorio Gómez \n",
    "---------------------------------------\n",
    "**Profession:**  IT Support Analyst and Automatation with Python\n",
    "\n",
    "**Date:**         28 March 2024     \n",
    "\n",
    "**Modified** \n",
    "\n",
    "**Location:**     Vila Izabel, Curitiba/PR  \n",
    "\n",
    "\n",
    "---\n",
    "\n",
    "**Contacto:**\n",
    "\n",
    "- **Email:** [contact@jensygomez.us](mailto:contact@jensygomez.us)\n",
    "- **YouTube:** [Tu Canal de YouTube](https://www.youtube.com/@systechcwb826)\n",
    "- **LinkedIn:** [Tu Perfil de LinkedIn](https://www.linkedin.com/in/jensygomez/)\n",
    "\n",
    "\n"
   ]
  },
  {
   "cell_type": "markdown",
   "metadata": {},
   "source": [
    "***"
   ]
  },
  {
   "cell_type": "markdown",
   "metadata": {},
   "source": [
    "**Título:** \n",
    "# Extraer el primer carácter de una cadena en Python.\n",
    "\n",
    "**Escenario:**\n",
    "Supongamos que estás desarrollando un programa en Python y necesitas una función que te permita extraer el primer carácter de una cadena dada. Esto puede ser útil en diversas situaciones, como manipulación de cadenas, análisis de texto o procesamiento de datos.\n",
    "\n",
    "**Paso a paso:**\n",
    "\n",
    "1. **Definir la función `first_character`:**  \n",
    "   Comienza definiendo una función llamada `first_character` que tome una cadena como argumento.\n",
    "2. **Retornar el primer carácter:**  \n",
    "   En el cuerpo de la función, completa la declaración de retorno para devolver el primer carácter de la cadena utilizando la indexación de cadena `[0]`.\n",
    "3. **Probar la función con ejemplos:**  \n",
    "   Después de definir la función, es crucial verificar su funcionamiento. Utiliza la función `print` para mostrar el resultado de la función `first_character` con diferentes cadenas de entrada.\n",
    "4. **Ejecutar el código:**  \n",
    "   Ejecuta el script y observa los resultados impresos en la consola. Verifica que los primeros caracteres de las cadenas de prueba coincidan con los resultados esperados."
   ]
  },
  {
   "cell_type": "code",
   "execution_count": null,
   "metadata": {},
   "outputs": [],
   "source": [
    "# 1. Definir la función `first_character`:\n",
    "#    Comienza definiendo una función llamada `first_character` que tome una cadena como argumento (string)\n",
    "\n",
    "    # 2. Retornar el primer carácter:  \n",
    "    #    En el cuerpo de la función, completa la declaración de retorno para devolver el primer carácter de la cadena utilizando la indexación de cadena `[0]`.\n",
    "\n",
    "# 3. Probar la función con ejemplos:  \n",
    "#    Después de definir la función, es crucial verificar su funcionamiento. Utiliza la función `print` para mostrar el resultado de la función `first_character` con diferentes cadenas de entrada.\n"
   ]
  },
  {
   "cell_type": "code",
   "execution_count": null,
   "metadata": {},
   "outputs": [],
   "source": [
    "def first_character(string):\n",
    "    return string[0]\n",
    "\n",
    "print(first_character(\"Hello, World\")) # Should print H\n",
    "print(first_character(\"Python is awesome\")) # Should print P\n",
    "print(first_character(\"Keep going\")) # Should print K\n"
   ]
  }
 ],
 "metadata": {
  "kernelspec": {
   "display_name": "Python 3 (ipykernel)",
   "language": "python",
   "name": "python3"
  },
  "language_info": {
   "codemirror_mode": {
    "name": "ipython",
    "version": 3
   },
   "file_extension": ".py",
   "mimetype": "text/x-python",
   "name": "python",
   "nbconvert_exporter": "python",
   "pygments_lexer": "ipython3",
   "version": "3.11.7"
  }
 },
 "nbformat": 4,
 "nbformat_minor": 4
}
