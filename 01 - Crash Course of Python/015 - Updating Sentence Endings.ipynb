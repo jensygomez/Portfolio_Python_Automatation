{
 "cells": [
  {
   "cell_type": "markdown",
   "metadata": {},
   "source": [
    "**Author:**       Jensy Gregorio Gómez \n",
    "---------------------------------------\n",
    "**Profession:**  IT Support Analyst and Automatation with Python\n",
    "\n",
    "**Date:**         16 March 2024     \n",
    "\n",
    "**Location:**     Vila Izabel, Curitiba/PR  \n",
    "\n",
    "\n",
    "---\n",
    "\n",
    "**Contacto:**\n",
    "\n",
    "- **Email:** [contact@jensygomez.us](mailto:contact@jensygomez.us)\n",
    "- **YouTube:** [Tu Canal de YouTube](https://www.youtube.com/@systechcwb826)\n",
    "- **LinkedIn:** [Tu Perfil de LinkedIn](https://www.linkedin.com/in/jensygomez/)\n",
    "\n",
    "\n"
   ]
  },
  {
   "cell_type": "markdown",
   "metadata": {},
   "source": [
    "\n",
    "**Title:** \n",
    "# Updating Sentence Endings\n",
    "\n",
    "**Statement:**  \n",
    "You've been tasked with creating a function that updates the ending of a given sentence with a new substring. Your goal is to replace the old substring at the end of the sentence with the new substring provided.\n",
    "\n",
    "**Step-by-Step Guide:**\n",
    "\n",
    "1. **Define the Function:**  \n",
    "   Begin by defining a function named `replace_ending` that takes three parameters: `sentence`, `old`, and `new`.\n",
    "2. **Check Ending:**  \n",
    "   Inside the function, use the `endswith()` method to check if the `sentence` ends with the `old` substring.\n",
    "\n",
    "3. **Calculate Slicing Index:**  \n",
    "   If the `old` substring is found at the end of the `sentence`, calculate the slicing index `i`. This index is obtained by subtracting the length of the `old` substring from the length of the `sentence`.\n",
    "\n",
    "4. **Replace Ending:**  \n",
    "   With the slicing index `i`, slice the `sentence` up to the matched string at the end and combine it with the `new` substring.\n",
    "5. **Return Updated Sentence:**  \n",
    "   Return the `new_sentence` if the `old` substring is replaced successfully.\n",
    "\n",
    "6. **Fallback:**  \n",
    "   If the `old` substring is not found at the end of the `sentence`, return the original `sentence`.\n",
    "\n",
    "7. **Testing:**  \n",
    "   Test the function with different scenarios to ensure its correctness.\n",
    "\n",
    "8. **Finalization:**  \n",
    "   Ensure the function works as expected by running the provided test cases. Adjust the function as necessary to handle any edge cases or unexpected behavior."
   ]
  },
  {
   "cell_type": "code",
   "execution_count": null,
   "metadata": {},
   "outputs": [],
   "source": [
    "# Step 1: Define the Function\n",
    "# Begin by defining a function named replace_ending\n",
    "# that takes three parameters: sentence, old, and new\n",
    "    \n",
    "    \n",
    "    \n",
    "    # Step 2: Check Ending\n",
    "    # Inside the function, use the endswith() method\n",
    "    # to check if the sentence ends with the old substring\n",
    "\n",
    "\n",
    "        \n",
    "        # Step 3: Calculate Slicing Index\n",
    "        # If the old substring is found at the end of the sentence,\n",
    "        # calculate the slicing index i.\n",
    "        # This index is obtained by subtracting the length of\n",
    "        # the old substring from the length of the sentence.\n",
    "\n",
    "\n",
    "        \n",
    "        # Step 4: Replace Ending\n",
    "        # With the slicing index i, slice the sentence up to\n",
    "        # the matched string at the end and combine it with the new substring.\n",
    "\n",
    "\n",
    "\n",
    "\n",
    "    \n",
    "    # Step 6: Fallback\n",
    "    # If the old substring is not found at the end of the sentence,\n",
    "    # return the original sentence.\n",
    "\n",
    "\n",
    "\n",
    "# Step 7: Testing\n",
    "print(replace_ending(\"It's raining cats and cats\", \"cats\", \"dogs\"))\n",
    "# Should display \"It's raining cats and dogs\"\n",
    "print(replace_ending(\"She sells seashells by the seashore\", \"seashells\", \"donuts\"))\n",
    "# Should display \"She sells seashells by the seashore\"\n",
    "print(replace_ending(\"The weather is nice in May\", \"may\", \"april\"))\n",
    "# Should display \"The weather is nice in May\"\n",
    "print(replace_ending(\"The weather is nice in May\", \"May\", \"April\"))\n",
    "# Should display \"The weather is nice in April\"\n"
   ]
  },
  {
   "cell_type": "markdown",
   "metadata": {},
   "source": [
    "***"
   ]
  },
  {
   "cell_type": "code",
   "execution_count": null,
   "metadata": {},
   "outputs": [],
   "source": [
    "\n",
    "def replace_ending(sentence, old, new):\n",
    "    if sentence.endswith(old):\n",
    "        i = len(sentence) - len(old)\n",
    "        new_sentence = sentence[:i] + new\n",
    "        return new_sentence\n",
    "    return sentence\n",
    "\n",
    "print(replace_ending(\"It's raining cats and cats\", \"cats\", \"dogs\"))\n",
    "print(replace_ending(\"She sells seashells by the seashore\", \"seashells\", \"donuts\"))\n",
    "print(replace_ending(\"The weather is nice in May\", \"may\", \"april\"))\n",
    "print(replace_ending(\"The weather is nice in May\", \"May\", \"April\"))\n"
   ]
  }
 ],
 "metadata": {
  "kernelspec": {
   "display_name": "Python 3 (ipykernel)",
   "language": "python",
   "name": "python3"
  },
  "language_info": {
   "codemirror_mode": {
    "name": "ipython",
    "version": 3
   },
   "file_extension": ".py",
   "mimetype": "text/x-python",
   "name": "python",
   "nbconvert_exporter": "python",
   "pygments_lexer": "ipython3",
   "version": "3.12.2"
  }
 },
 "nbformat": 4,
 "nbformat_minor": 4
}
