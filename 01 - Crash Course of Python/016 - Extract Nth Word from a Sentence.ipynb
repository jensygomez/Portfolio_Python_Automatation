{
 "cells": [
  {
   "cell_type": "markdown",
   "metadata": {},
   "source": [
    "**Author:**       Jensy Gregorio Gómez \n",
    "---------------------------------------\n",
    "**Profession:**  IT Support Analyst and Automatation with Python\n",
    "\n",
    "**Date:**         17 March 2024     \n",
    "\n",
    "**Location:**     Vila Izabel, Curitiba/PR  \n",
    "\n",
    "\n",
    "---\n",
    "\n",
    "**Contacto:**\n",
    "\n",
    "- **Email:** [contact@jensygomez.us](mailto:contact@jensygomez.us)\n",
    "- **YouTube:** [Tu Canal de YouTube](https://www.youtube.com/@systechcwb826)\n",
    "- **LinkedIn:** [Tu Perfil de LinkedIn](https://www.linkedin.com/in/jensygomez/)\n",
    "\n",
    "\n"
   ]
  },
  {
   "cell_type": "markdown",
   "metadata": {},
   "source": [
    "\n",
    "### Title:\n",
    "# Extract Nth Word from a Sentence\n",
    "\n",
    "### Statement:\n",
    "The provided code extracts the Nth word from a given sentence. It ensures that N is a positive integer and within the range of the number of words in the sentence. If the conditions are met, it returns the Nth word; otherwise, it returns an empty string.\n",
    "\n",
    "### Step-by-step:\n",
    "1. **Define the function:**\n",
    "   - Create a function named `get_word` that takes two parameters: `sentence` (a string representing the input sentence) and `n` (an integer representing the position of the word to extract).\n",
    "   \n",
    "2. **Check if N is positive:**\n",
    "   - If `n` is greater than 0, proceed; otherwise, return an empty string.\n",
    "   \n",
    "3. **Split the sentence into words:**\n",
    "   - Use the `split()` method on the `sentence` string to separate it into individual words and store them in a list named `words`.\n",
    "   \n",
    "4. **Check if N is within range:**\n",
    "   - If `n` is less than or equal to the length of `words`, proceed; otherwise, return an empty string.\n",
    "   \n",
    "5. **Return the Nth word:**\n",
    "   - Since indexing starts from 0 in Python, return the word at index `n - 1` from the `words` list.\n",
    "   \n",
    "6. **Handle edge cases:**\n",
    "   - If the conditions in steps 2 and 4 are not met, return an empty string.\n",
    "\n",
    "7. **Test the function:**\n",
    "   - Call the `get_word` function with different test cases:\n",
    "     - Example: `get_word(\"This is a lesson about lists\", 4)` - Should print: lesson\n",
    "     - Example: `get_word(\"This is a lesson about lists\", -4)` - Should return: Nothing\n",
    "     - Example: `get_word(\"Now we are cooking!\", 1)` - Should print: Now\n",
    "     - Example: `get_word(\"Now we are cooking!\", 5)` - Should return: Nothing"
   ]
  },
  {
   "cell_type": "code",
   "execution_count": null,
   "metadata": {},
   "outputs": [],
   "source": [
    "    # Step 1: Define the function:\n",
    "    # Create a function named `get_word` that takes two parameters: `sentence` (a string representing the input sentence)\n",
    "    # and `n` (an integer representing the position of the word to extract).\n",
    "    \n",
    "    \n",
    "    \n",
    "    # Step 2: Check if N is positive:\n",
    "    # If `n` is greater than 0, proceed; otherwise, return an empty string.\n",
    "\n",
    "\n",
    "        # Step 3: Split the sentence into words:\n",
    "        # Use the `split()` method on the `sentence` string to separate it into individual words and store them in a list named `words`.\n",
    "\n",
    "\n",
    "        \n",
    "        # Step 4: Check if N is within range:\n",
    "        # If `n` is less than or equal to the length of `words`, proceed; otherwise, return an empty string.\n",
    "\n",
    "\n",
    "            # Step 5: Return the Nth word:\n",
    "            # Since indexing starts from 0 in Python, return the word at index `n - 1` from the `words` list.\n",
    "\n",
    "\n",
    "    \n",
    "    # Step 6: Handle edge cases:\n",
    "    # If the conditions in steps 2 and 4 are not met, return an empty string.\n",
    "\n",
    "\n",
    "\n",
    "# Step 7: Test the function:\n",
    "# Call the `get_word` function with different test cases:\n",
    "# Example: `get_word(\"This is a lesson about lists\", 4)` - Should print: lesson\n",
    "# Example: `get_word(\"This is a lesson about lists\", -4)` - Should return: Nothing\n",
    "# Example: `get_word(\"Now we are cooking!\", 1)` - Should print: Now\n",
    "# Example: `get_word(\"Now we are cooking!\", 5)` - Should return: Nothing\n",
    "print(get_word(\"This is a lesson about lists\", 4))\n",
    "print(get_word(\"This is a lesson about lists\", -4))\n",
    "print(get_word(\"Now we are cooking!\", 1))\n",
    "print(get_word(\"Now we are cooking!\", 5))\n"
   ]
  },
  {
   "cell_type": "markdown",
   "metadata": {},
   "source": [
    "***"
   ]
  },
  {
   "cell_type": "code",
   "execution_count": null,
   "metadata": {},
   "outputs": [],
   "source": [
    "def get_word(sentence, n):\n",
    "    if n > 0:\n",
    "        words = sentence.split()\n",
    "        if n <= len(words):\n",
    "            return words[n - 1]\n",
    "    return \"\"\n",
    "\n",
    "print(get_word(\"This is a lesson about lists\", 4))\n",
    "print(get_word(\"This is a lesson about lists\", -4))\n",
    "print(get_word(\"Now we are cooking!\", 1))\n",
    "print(get_word(\"Now we are cooking!\", 5))\n"
   ]
  }
 ],
 "metadata": {
  "kernelspec": {
   "display_name": "Python 3 (ipykernel)",
   "language": "python",
   "name": "python3"
  },
  "language_info": {
   "codemirror_mode": {
    "name": "ipython",
    "version": 3
   },
   "file_extension": ".py",
   "mimetype": "text/x-python",
   "name": "python",
   "nbconvert_exporter": "python",
   "pygments_lexer": "ipython3",
   "version": "3.12.2"
  }
 },
 "nbformat": 4,
 "nbformat_minor": 4
}
