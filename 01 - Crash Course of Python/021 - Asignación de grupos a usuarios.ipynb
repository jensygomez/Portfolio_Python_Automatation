{
 "cells": [
  {
   "cell_type": "markdown",
   "metadata": {},
   "source": [
    "**Author:**       Jensy Gregorio Gómez \n",
    "---------------------------------------\n",
    "**Profession:**  IT Support Analyst and Automatation with Python\n",
    "\n",
    "**Date:**         21 March 2024     \n",
    "\n",
    "**Location:**     Vila Izabel, Curitiba/PR  \n",
    "\n",
    "\n",
    "---\n",
    "\n",
    "**Contacto:**\n",
    "\n",
    "- **Email:** [contact@jensygomez.us](mailto:contact@jensygomez.us)\n",
    "- **YouTube:** [Tu Canal de YouTube](https://www.youtube.com/@systechcwb826)\n",
    "- **LinkedIn:** [Tu Perfil de LinkedIn](https://www.linkedin.com/in/jensygomez/)\n",
    "\n",
    "\n"
   ]
  },
  {
   "cell_type": "markdown",
   "metadata": {},
   "source": [
    "***"
   ]
  },
  {
   "cell_type": "markdown",
   "metadata": {},
   "source": [
    "\n",
    "**Título:** \n",
    "# Asignación de grupos a usuarios\n",
    "\n",
    "**Escenario:** En un entorno de administración de sistemas, se requiere una función que tome un diccionario que asigna grupos a usuarios y devuelva un nuevo diccionario que muestre los grupos asociados a cada usuario.\n",
    "\n",
    "**Paso a paso:**\n",
    "1. Definir una función llamada `groups_per_user` que tome un diccionario `group_dictionary` como argumento.\n",
    "2. Inicializar un diccionario vacío llamado `user_groups` para almacenar los grupos asociados a cada usuario.\n",
    "3. Iterar sobre los elementos del diccionario `group_dictionary` usando el método `items()`.\n",
    "4. Para cada grupo y lista de usuarios asociados en el diccionario:\n",
    "   a. Iterar sobre la lista de usuarios.\n",
    "   b. Verificar si el usuario ya está en el diccionario `user_groups`.\n",
    "   c. Si el usuario está presente, agregar el grupo actual a la lista de grupos asociados con ese usuario.\n",
    "   d. Si el usuario no está presente, crear una nueva entrada en el diccionario `user_groups` con el usuario y asociar el grupo actual como su primer grupo.\n",
    "5. Devolver el diccionario `user_groups` que contiene los grupos asociados a cada usuario.\n",
    "\n",
    "***\n",
    "\n"
   ]
  },
  {
   "cell_type": "code",
   "execution_count": null,
   "metadata": {},
   "outputs": [],
   "source": [
    "# Definimos una funcion llamada groups_per_user que recibe un parametro group_dictionary\n",
    "\n",
    "\n",
    "    # Creamos un diccionario para almacenar los grupos por usuario - user_groups \n",
    "\n",
    "    \n",
    "    \n",
    "    # Iteramos sobre cada par (group, users) en el diccionario de grupos - group_dictionary\n",
    "\n",
    "\n",
    "        # Iteramos sobre cada usuario en la lista de usuarios del grupo actual\n",
    "\n",
    "\n",
    "            # Verificamos si el usuario ya está en el diccionario de grupos por usuario\n",
    "\n",
    "\n",
    "                # Si el usuario ya está en el diccionario, agregamos el grupo al que pertenece\n",
    "                \n",
    "            # Condicional else\n",
    "\n",
    "                # Si el usuario no está en el diccionario, creamos una nueva entrada\n",
    "                # con el usuario como clave y el grupo como valor en una lista\n",
    "\n",
    "    \n",
    "    # Devolvemos el diccionario de grupos por usuario\n",
    "\n",
    "\n",
    "# Ejemplo de uso de la función con un diccionario de grupos\n",
    "print(groups_per_user({\"local\": [\"admin\", \"userA\"],\n",
    "                       \"public\": [\"admin\", \"userB\"],\n",
    "                       \"administrator\": [\"admin\"] }))\n"
   ]
  },
  {
   "cell_type": "markdown",
   "metadata": {},
   "source": [
    "***"
   ]
  },
  {
   "cell_type": "code",
   "execution_count": 1,
   "metadata": {},
   "outputs": [
    {
     "name": "stdout",
     "output_type": "stream",
     "text": [
      "{'admin': ['local', 'public', 'administrator'], 'userA': ['local'], 'userB': ['public']}\n"
     ]
    }
   ],
   "source": [
    "def groups_per_user(group_dictionary):\n",
    "    user_groups = {}\n",
    "    for group, users in group_dictionary.items():\n",
    "        for user in users:\n",
    "            if user in user_groups:\n",
    "                user_groups[user].append(group)\n",
    "            else:\n",
    "                user_groups[user] = [group]\n",
    "    return user_groups\n",
    "\n",
    "print(groups_per_user({\"local\": [\"admin\", \"userA\"],\n",
    "                       \"public\": [\"admin\", \"userB\"],\n",
    "                       \"administrator\": [\"admin\"] }))\n"
   ]
  }
 ],
 "metadata": {
  "kernelspec": {
   "display_name": "Python 3 (ipykernel)",
   "language": "python",
   "name": "python3"
  },
  "language_info": {
   "codemirror_mode": {
    "name": "ipython",
    "version": 3
   },
   "file_extension": ".py",
   "mimetype": "text/x-python",
   "name": "python",
   "nbconvert_exporter": "python",
   "pygments_lexer": "ipython3",
   "version": "3.12.2"
  }
 },
 "nbformat": 4,
 "nbformat_minor": 4
}
