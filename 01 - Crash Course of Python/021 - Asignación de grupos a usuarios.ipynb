{
 "cells": [
  {
   "cell_type": "markdown",
   "metadata": {},
   "source": [
    "**Author:**       Jensy Gregorio Gómez \n",
    "---------------------------------------\n",
    "**Profession:**  IT Support Analyst and Automatation with Python\n",
    "\n",
    "**Date:**         21 March 2024     \n",
    "\n",
    "**Resolved** 26 March 2024 --> 11 April 2024\n",
    "\n",
    "**Location:**     Vila Izabel, Curitiba/PR  \n",
    "\n",
    "\n",
    "---\n",
    "\n",
    "**Contacto:**\n",
    "\n",
    "- **Email:** [contact@jensygomez.us](mailto:contact@jensygomez.us)\n",
    "- **YouTube:** [Tu Canal de YouTube](https://www.youtube.com/@systechcwb826)\n",
    "- **LinkedIn:** [Tu Perfil de LinkedIn](https://www.linkedin.com/in/jensygomez/)\n",
    "\n",
    "\n"
   ]
  },
  {
   "cell_type": "markdown",
   "metadata": {},
   "source": [
    "***"
   ]
  },
  {
   "cell_type": "markdown",
   "metadata": {},
   "source": [
    "\n",
    "**Título:** \n",
    "# Asignación de grupos a usuarios\n",
    "\n",
    "**Escenario:** En un entorno de administración de sistemas, se requiere una función que tome un diccionario que asigna grupos a usuarios y devuelva un nuevo diccionario que muestre los grupos asociados a cada usuario.\n",
    "\n",
    "**Paso a paso:**\n",
    "1. Definir una función llamada `groups_per_user` que tome un diccionario `group_dictionary` como argumento.\n",
    "2. Inicializar un diccionario vacío llamado `user_groups` para almacenar los grupos asociados a cada usuario.\n",
    "3. Iterar sobre los elementos del diccionario `group_dictionary` usando el método `items()`.\n",
    "4. Para cada grupo y lista de usuarios asociados en el diccionario:\n",
    "   a. Iterar sobre la lista de usuarios.\n",
    "   b. Verificar si el usuario ya está en el diccionario `user_groups`.\n",
    "   c. Si el usuario está presente, agregar el grupo actual a la lista de grupos asociados con ese usuario.\n",
    "   d. Si el usuario no está presente, crear una nueva entrada en el diccionario `user_groups` con el usuario y asociar el grupo actual como su primer grupo.\n",
    "5. Devolver el diccionario `user_groups` que contiene los grupos asociados a cada usuario.\n",
    "\n",
    "***\n",
    "\n"
   ]
  },
  {
   "cell_type": "code",
   "execution_count": 1,
   "metadata": {},
   "outputs": [
    {
     "name": "stdout",
     "output_type": "stream",
     "text": [
      "{'admin': ['local', 'public', 'administrator'], 'userA': ['local'], 'userB': ['public']}\n"
     ]
    }
   ],
   "source": [
    "# Definir una función llamada `groups_per_user` que tome un diccionario `group_dictionary` como argumento.\n",
    "\n",
    "\n",
    "    # Inicializar un diccionario vacío llamado `user_groups` para almacenar los grupos asociados a cada usuario.\n",
    "\n",
    "    # Iterar sobre \"group, users\". En los elementos del diccionario `group_dictionary` usando el método `items()`.\n",
    "\n",
    "        # Para cada grupo y lista de usuarios asociados en el diccionario:\n",
    "        # a. Iterar sobre \"user\". En la lista de usuarios (users).\n",
    "\n",
    "            # b. Verificar si el usuario (user) ya está en (in) el diccionario `user_groups`.\n",
    "\n",
    "                # c. Si el usuario está presente, agregar el grupo actual(user) \n",
    "                # a la lista de grupos asociados (user_groups) con ese usuario.\n",
    "                # usando el metodo .append()    \n",
    "\n",
    "\n",
    "            # d. Si el usuario no está presente, (else)\n",
    "\n",
    "                # crear una nueva entrada en el diccionario `user_groups` con el usuario\n",
    "                # y asociar el grupo actual como su primer grupo.\n",
    "\n",
    "\n",
    "    # 5. Devolver el diccionario `user_groups` que contiene los grupos asociados a cada usuario.        \n",
    "\n",
    "\n",
    "# Ejemplo de uso de la función con un diccionario de grupos"
   ]
  },
  {
   "cell_type": "markdown",
   "metadata": {},
   "source": [
    "***"
   ]
  },
  {
   "cell_type": "code",
   "execution_count": 2,
   "metadata": {},
   "outputs": [
    {
     "name": "stdout",
     "output_type": "stream",
     "text": [
      "{'admin': ['local', 'public', 'administrator'], 'userA': ['local'], 'userB': ['public']}\n"
     ]
    }
   ],
   "source": [
    "def groups_per_user(group_dictionary):\n",
    "    user_groups = {}\n",
    "    for group, users in group_dictionary.items():\n",
    "        for user in users:\n",
    "            if user in user_groups:\n",
    "                user_groups[user].append(group)\n",
    "            else:\n",
    "                user_groups[user] = [group]\n",
    "    return user_groups\n",
    "\n",
    "print(groups_per_user({\"local\": [\"admin\", \"userA\"],\n",
    "                       \"public\": [\"admin\", \"userB\"],\n",
    "                       \"administrator\": [\"admin\"] }))\n"
   ]
  }
 ],
 "metadata": {
  "kernelspec": {
   "display_name": "Python 3 (ipykernel)",
   "language": "python",
   "name": "python3"
  },
  "language_info": {
   "codemirror_mode": {
    "name": "ipython",
    "version": 3
   },
   "file_extension": ".py",
   "mimetype": "text/x-python",
   "name": "python",
   "nbconvert_exporter": "python",
   "pygments_lexer": "ipython3",
   "version": "3.11.7"
  }
 },
 "nbformat": 4,
 "nbformat_minor": 4
}
