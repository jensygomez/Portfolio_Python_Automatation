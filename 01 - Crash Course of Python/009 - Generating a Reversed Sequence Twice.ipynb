{
 "cells": [
  {
   "cell_type": "markdown",
   "metadata": {},
   "source": [
    "**Author:**       Jensy Gregorio Gómez \n",
    "---------------------------------------\n",
    "**Profession:**  IT Support Analyst and Automatation with Python\n",
    "\n",
    "**Date:**         11 March 2024     \n",
    "\n",
    "**Modified** 15 March 2024\n",
    "\n",
    "**Location:**     Vila Izabel, Curitiba/PR  \n",
    "\n",
    "\n",
    "---\n",
    "\n",
    "**Contacto:**\n",
    "\n",
    "- **Email:** [contact@jensygomez.us](mailto:contact@jensygomez.us)\n",
    "- **YouTube:** [Tu Canal de YouTube](https://www.youtube.com/@systechcwb826)\n",
    "- **LinkedIn:** [Tu Perfil de LinkedIn](https://www.linkedin.com/in/jensygomez/)\n",
    "\n",
    "\n"
   ]
  },
  {
   "cell_type": "markdown",
   "metadata": {},
   "source": [
    "# **Generating a Reversed Sequence Twice**\n",
    "\n",
    "### Prompt:\n",
    "You are tasked with creating a Python function called `sequence(low, high)` that prints a reversed sequence of numbers twice. The function should take two parameters, `low` and `high`, where `low` represents the starting number and `high` represents the ending number. The sequence should start from `high` and end at `low`, inclusive, printing each number separated by commas. Your task is to complete the function with the necessary loops and logic to achieve the desired output.\n",
    "\n",
    "### Step-by-Step Guide:\n",
    "1. Define a Python function called `sequence(low, high)` with two parameters: `low` and `high`.\n",
    "2. Begin an outer loop that runs twice, as indicated by the prompt. Use the `range()` function with an argument of `2` to accomplish this.\n",
    "3. Inside the outer loop, initiate an inner loop using the `range()` function. This loop should iterate from `high` down to `low`, inclusive. To achieve this, set the starting value of the range as `high`, the ending value as `low - 1`, and the step as `-1` to decrement the loop.\n",
    "4. Within the inner loop, check if the current value (`y`) is equal to `low`. If it is, print `y` without a trailing comma, indicating the end of the sequence.\n",
    "5. If the current value is not equal to `low`, print `y` followed by a comma and a space to separate the numbers.\n",
    "6. After the inner loop completes, the function will print the reversed sequence twice, each separated by a newline character.\n",
    "\n",
    "Feel free to adjust the wording or formatting as needed!"
   ]
  },
  {
   "cell_type": "code",
   "execution_count": 8,
   "metadata": {},
   "outputs": [
    {
     "name": "stdout",
     "output_type": "stream",
     "text": [
      "3, 2, 1\n",
      "3, 2, 1\n"
     ]
    }
   ],
   "source": [
    "def sequence(low, high):\n",
    "        # 1. Complete the outer loop range to make the loop run twice\n",
    "        # to create two rows\n",
    "            \n",
    "                # 2. Complete the inner loop range to print the given variable\n",
    "                # numbers starting from \"high\" to \"low\"\n",
    "                # Hint: To decrement a range parameter, use negative numbers\n",
    "                        \n",
    "                            \n",
    "                        # 4. Don’t print a comma after the last item\n",
    "                                \n",
    "                                \n",
    "                        else:\n",
    "                                # 5. Print a comma and a space between numbers\n",
    "                                \n",
    "        # 6. Print an empty line after each sequence is printed\n",
    "        \n",
    "\n",
    "sequence(1, 3)\n",
    "# Should print the sequence 3, 2, 1 two times, as shown above.\n"
   ]
  },
  {
   "cell_type": "code",
   "execution_count": 7,
   "metadata": {},
   "outputs": [
    {
     "name": "stdout",
     "output_type": "stream",
     "text": [
      "5, 4, 3, 2, 1\n",
      "5, 4, 3, 2, 1\n"
     ]
    }
   ],
   "source": [
    "def sequence(low, high):\n",
    "    for _ in range(2):\n",
    "        for y in range(high, low - 1, -1):\n",
    "            if y == low:\n",
    "                print(y, end='')\n",
    "            else:\n",
    "                print(y, end=', ')\n",
    "        print()\n",
    "\n",
    "# Test the function\n",
    "sequence(1, 5)\n",
    "\n"
   ]
  }
 ],
 "metadata": {
  "kernelspec": {
   "display_name": "Python 3 (ipykernel)",
   "language": "python",
   "name": "python3"
  },
  "language_info": {
   "codemirror_mode": {
    "name": "ipython",
    "version": 3
   },
   "file_extension": ".py",
   "mimetype": "text/x-python",
   "name": "python",
   "nbconvert_exporter": "python",
   "pygments_lexer": "ipython3",
   "version": "3.10.12"
  }
 },
 "nbformat": 4,
 "nbformat_minor": 4
}
