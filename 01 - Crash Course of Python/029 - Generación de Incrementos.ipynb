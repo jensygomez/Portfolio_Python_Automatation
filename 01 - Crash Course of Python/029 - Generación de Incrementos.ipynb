{
 "cells": [
  {
   "cell_type": "markdown",
   "metadata": {},
   "source": [
    "**Author:**       Jensy Gregorio Gómez \n",
    "---------------------------------------\n",
    "**Profession:**  IT Support Analyst and Automatation with Python\n",
    "\n",
    "**Date:**         01 April 2024     \n",
    "\n",
    "**Modified** \n",
    "\n",
    "**Location:**     Vila Izabel, Curitiba/PR  \n",
    "\n",
    "\n",
    "---\n",
    "\n",
    "**Contacto:**\n",
    "\n",
    "- **Email:** [contact@jensygomez.us](mailto:contact@jensygomez.us)\n",
    "- **YouTube:** [Tu Canal de YouTube](https://www.youtube.com/@systechcwb826)\n",
    "- **LinkedIn:** [Tu Perfil de LinkedIn](https://www.linkedin.com/in/jensygomez/)\n",
    "\n",
    "\n"
   ]
  },
  {
   "cell_type": "markdown",
   "metadata": {},
   "source": [
    "***"
   ]
  },
  {
   "cell_type": "markdown",
   "metadata": {},
   "source": [
    "**Título:** \n",
    "# Generación de Incrementos\n",
    "\n",
    "Escenario: En un laboratorio de desarrollo de software, un equipo de programadores trabaja en una función que genere una lista de números incrementados por 2 dentro de un rango dado. Este código es parte de un módulo que se utilizará en un sistema de análisis de datos para manipular conjuntos de números de manera eficiente.\n",
    "\n",
    "Paso a paso del código:\n",
    "\n",
    "1. Definición de la función `increments(start, end)`: Esta función toma dos parámetros, `start` y `end`, que representan el inicio y el final del rango respectivamente.\n",
    "\n",
    "2. Dentro de la función, se utiliza una comprensión de lista para generar una lista de números incrementados por 2. Se itera sobre cada número en el rango desde `start` hasta `end + 1` (inclusive) usando `range(start, end + 1)`.\n",
    "\n",
    "3. Para cada número en el rango, se agrega 2 al número actual y se coloca en la lista resultante.\n",
    "\n",
    "4. Se devuelve la lista resultante que contiene los números incrementados por 2 dentro del rango dado.\n",
    "\n",
    "5. Se imprimen los resultados de la función `increments` con diferentes rangos utilizando la función `print`.\n",
    "\n",
    "Resultados esperados:\n",
    "\n",
    "- `increments(2, 3)`: Debería imprimir `[4, 5]`, ya que los números dentro del rango [2, 3] incrementados por 2 son 4 y 5.\n",
    "- `increments(1, 5)`: Debería imprimir `[3, 4, 5, 6, 7]`, ya que los números dentro del rango [1, 5] incrementados por 2 son 3, 4, 5, 6 y 7.\n",
    "- `increments(0, 10)`: Debería imprimir `[2, 3, 4, 5, 6, 7, 8, 9, 10, 11, 12]`, ya que los números dentro del rango [0, 10] incrementados por 2 son 2, 3, 4, 5, 6, 7, 8, 9, 10, 11 y 12."
   ]
  },
  {
   "cell_type": "code",
   "execution_count": 2,
   "metadata": {},
   "outputs": [
    {
     "name": "stdout",
     "output_type": "stream",
     "text": [
      "[4, 5]\n"
     ]
    }
   ],
   "source": [
    "# 1. Definición de la función `increments(start, end)`: Esta función toma dos parámetros, `start` y `end`, que representan el inicio y el final del rango respectivamente.\n",
    "\n",
    "    # 2.Dentro de la función, se utiliza una \"comprensión de lista\"\n",
    "    #   para generar una lista de números incrementados por 2. \n",
    "    #   Se itera sobre cada número en el rango desde `start` hasta `end + 1` (inclusive)\n",
    "    #   usando `range(start, end + 1)`.\n",
    "    # 3. Para cada número en el rango, se agrega 2 al número actual y se coloca en la lista resultante.\n",
    "\n",
    "    # 4. Se devuelve la lista resultante que contiene los números incrementados por 2 dentro del rango dado.\n",
    "\n",
    "# 5. Se imprimen los resultados de la función `increments` con diferentes rangos utilizando la función `print`.\n"
   ]
  },
  {
   "cell_type": "code",
   "execution_count": 1,
   "metadata": {},
   "outputs": [
    {
     "name": "stdout",
     "output_type": "stream",
     "text": [
      "[4, 5]\n",
      "[3, 4, 5, 6, 7]\n",
      "[2, 3, 4, 5, 6, 7, 8, 9, 10, 11, 12]\n"
     ]
    }
   ],
   "source": [
    "def increments(start, end):\n",
    "    return [num + 2 for num in range(start, end + 1)]\n",
    "\n",
    "print(increments(2, 3)) # Should print [4, 5]\n",
    "print(increments(1, 5)) # Should print [3, 4, 5, 6, 7]\n",
    "print(increments(0, 10)) # Should print [2, 3, 4, 5, 6, 7, 8, 9, 10, 11, 12]"
   ]
  }
 ],
 "metadata": {
  "kernelspec": {
   "display_name": "Python 3 (ipykernel)",
   "language": "python",
   "name": "python3"
  },
  "language_info": {
   "codemirror_mode": {
    "name": "ipython",
    "version": 3
   },
   "file_extension": ".py",
   "mimetype": "text/x-python",
   "name": "python",
   "nbconvert_exporter": "python",
   "pygments_lexer": "ipython3",
   "version": "3.11.7"
  }
 },
 "nbformat": 4,
 "nbformat_minor": 4
}
