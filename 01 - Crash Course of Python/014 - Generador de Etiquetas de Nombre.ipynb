{
 "cells": [
  {
   "cell_type": "markdown",
   "metadata": {},
   "source": [
    "**Author:**       Jensy Gregorio Gómez \n",
    "---------------------------------------\n",
    "**Profession:**  IT Support Analyst and Automatation with Python\n",
    "\n",
    "**Date:**         16 March 2024    \n",
    "\n",
    "**Resolved** 19 March 2024 30 March 2024\n",
    "\n",
    "**Location:**     Vila Izabel, Curitiba/PR  \n",
    "\n",
    "\n",
    "---\n",
    "\n",
    "**Contacto:**\n",
    "\n",
    "- **Email:** [contact@jensygomez.us](mailto:contact@jensygomez.us)\n",
    "- **YouTube:** [Tu Canal de YouTube](https://www.youtube.com/@systechcwb826)\n",
    "- **LinkedIn:** [Tu Perfil de LinkedIn](https://www.linkedin.com/in/jensygomez/)\n",
    "\n",
    "\n"
   ]
  },
  {
   "cell_type": "markdown",
   "metadata": {},
   "source": [
    "**Título:**\n",
    "# Generador de Etiquetas de Nombre\n",
    "\n",
    "**Escenario: Recepción de un Evento**\n",
    "\n",
    "**Paso a Paso:**\n",
    "\n",
    "1. **Definición de la Función:**\n",
    "   - Crear una función llamada `nametag` que toma dos parámetros: `first_name` (nombre) y `last_name` (apellido).\n",
    "   - Dentro de la función, formatear una cadena que contenga el nombre completo, pero solo la primera letra del apellido, seguida de un punto.\n",
    "   - Devolver esta cadena formateada.\n",
    "\n",
    "2. **Ejecución y Prueba:**\n",
    "   - Llamar a la función `nametag` con diferentes nombres y apellidos.\n",
    "   - Mostrar el resultado de cada llamada utilizando la función `print`."
   ]
  },
  {
   "cell_type": "code",
   "execution_count": 3,
   "metadata": {},
   "outputs": [
    {
     "name": "stdout",
     "output_type": "stream",
     "text": [
      "Jane S.\n",
      "Francesco R.\n",
      "Jean-Luc G.\n"
     ]
    }
   ],
   "source": [
    "\n",
    "# 1. Definición de la Función:\n",
    "#    - Crear una función llamada `nametag` que toma dos parámetros: `first_name` (nombre) y `last_name` (apellido).\n",
    "\n",
    "    #    - Devolver esta cadena formateada. formatear una cadena que contenga el nombre completo, pero solo la primera letra del apellido, seguida de un punto.\n",
    "\n",
    "\n",
    "# 2. Ejecución y Prueba:\n",
    "#    - Llamar a la función `nametag` con diferentes nombres y apellidos, utilizando la función `print`.\n",
    "print(nametag(\"Jane\", \"Smith\")) # Should display \"Jane S.\"\n",
    "print(nametag(\"Francesco\", \"Rinaldi\")) # Should display \"Francesco R.\"\n",
    "print(nametag(\"Jean-Luc\", \"Grand-Pierre\")) # Should display \"Jean-Luc G.\"\n",
    "\n"
   ]
  },
  {
   "cell_type": "code",
   "execution_count": 4,
   "metadata": {},
   "outputs": [
    {
     "name": "stdout",
     "output_type": "stream",
     "text": [
      "Jane S.\n",
      "Francesco R.\n",
      "Jean-Luc G.\n"
     ]
    }
   ],
   "source": [
    "def nametag(first_name, last_name):\n",
    "    return \"{} {}\".format(first_name, last_name[0] + \".\")\n",
    "\n",
    "print(nametag(\"Jane\", \"Smith\")) # Should display \"Jane S.\"\n",
    "print(nametag(\"Francesco\", \"Rinaldi\")) # Should display \"Francesco R.\"\n",
    "print(nametag(\"Jean-Luc\", \"Grand-Pierre\")) # Should display \"Jean-Luc G.\"\n",
    "\n"
   ]
  }
 ],
 "metadata": {
  "kernelspec": {
   "display_name": "Python 3 (ipykernel)",
   "language": "python",
   "name": "python3"
  },
  "language_info": {
   "codemirror_mode": {
    "name": "ipython",
    "version": 3
   },
   "file_extension": ".py",
   "mimetype": "text/x-python",
   "name": "python",
   "nbconvert_exporter": "python",
   "pygments_lexer": "ipython3",
   "version": "3.11.7"
  }
 },
 "nbformat": 4,
 "nbformat_minor": 4
}
