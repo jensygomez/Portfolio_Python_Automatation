{
 "cells": [
  {
   "cell_type": "markdown",
   "metadata": {},
   "source": [
    "**Author:**       Jensy Gregorio Gómez \n",
    "---------------------------------------\n",
    "**Profession:**  IT Support Analyst and Automatation with Python\n",
    "\n",
    "**Date:**         21 March 2024     \n",
    "\n",
    "**Modified** 26 March 2024 --> 05 April 2024 --> 06 May 2024\n",
    "\n",
    "**Location:**     Vila Izabel, Curitiba/PR  \n",
    "\n",
    "\n",
    "---\n",
    "\n",
    "**Contacto:**\n",
    "\n",
    "- **Email:** [contact@jensygomez.us](mailto:contact@jensygomez.us)\n",
    "- **YouTube:** [Tu Canal de YouTube](https://www.youtube.com/@systechcwb826)\n",
    "- **LinkedIn:** [Tu Perfil de LinkedIn](https://www.linkedin.com/in/jensygomez/)\n",
    "\n",
    "\n"
   ]
  },
  {
   "cell_type": "markdown",
   "metadata": {},
   "source": [
    "***"
   ]
  },
  {
   "cell_type": "markdown",
   "metadata": {},
   "source": [
    "**Título:** \n",
    "# Función para omitir elementos en una lista\n",
    "\n",
    "**Escenario:** Supongamos que deseamos crear una función llamada `skip_elements` que tome una lista como entrada y devuelva una nueva lista que contenga solo los elementos en posiciones impares de la lista original.\n",
    "\n",
    "**Paso a paso:**\n",
    "\n",
    "1. **Definición de la función `skip_elements`:**\n",
    "\n",
    "   Esta función toma una lista `elements` como argumento.\n",
    "\n",
    "2. **Devolver elementos en posiciones impares:**\n",
    "  \n",
    "   Utilizamos la técnica de slicing para seleccionar solo los elementos en posiciones impares de la lista `elements`.\n",
    "\n",
    "3. **Ejemplos de uso:**\n",
    "\n",
    "   Imprimimos los resultados de la función `skip_elements` con diferentes listas de entrada para verificar su funcionamiento."
   ]
  },
  {
   "cell_type": "code",
   "execution_count": 1,
   "metadata": {},
   "outputs": [
    {
     "name": "stdout",
     "output_type": "stream",
     "text": [
      "['hola', 'estas', 'No Soy']\n"
     ]
    }
   ],
   "source": [
    "# Definición de una función llamada \"skip_elements\" que toma una lista como argumento \"elements\"\n",
    "\n",
    "    # Retorna una lista que contiene solo los elementos en posiciones impares de la lista original\n",
    "    # En Python, esta línea de código significa que se está devolviendo una porción de la lista elements. \n",
    "    # La notación [::2] se usa para seleccionar elementos de la lista\n",
    "    # comenzando desde el principio hasta el final con un paso de 2. \n",
    "    # Esto significa que se seleccionarán solo los elementos en posiciones impares de la lista original.\n",
    "\n",
    "# Imprime el resultado de llamar a la función skip_elements con una lista como argumento\n",
    "# y verifica si el resultado es ['a', 'c', 'e', 'g']\n",
    "\n",
    "\n",
    "# Imprime el resultado de llamar a la función skip_elements con una lista como argumento\n",
    "# y verifica si el resultado es ['Orange', 'Strawberry', 'Peach']\n",
    "\n"
   ]
  },
  {
   "cell_type": "markdown",
   "metadata": {},
   "source": [
    "***"
   ]
  },
  {
   "cell_type": "code",
   "execution_count": null,
   "metadata": {},
   "outputs": [],
   "source": [
    "def skip_elements(elements):\n",
    "    return elements[::2]\n",
    "\n",
    "print(skip_elements([\"a\", \"b\", \"c\", \"d\", \"e\", \"f\", \"g\"]))                       # Should be ['a', 'c', 'e', 'g']\n",
    "print(skip_elements(['Orange', 'Pineapple', 'Strawberry', 'Kiwi', 'Peach']))    # Should be ['Orange', 'Strawberry', 'Peach']\n"
   ]
  }
 ],
 "metadata": {
  "kernelspec": {
   "display_name": "Python 3 (ipykernel)",
   "language": "python",
   "name": "python3"
  },
  "language_info": {
   "codemirror_mode": {
    "name": "ipython",
    "version": 3
   },
   "file_extension": ".py",
   "mimetype": "text/x-python",
   "name": "python",
   "nbconvert_exporter": "python",
   "pygments_lexer": "ipython3",
   "version": "3.11.7"
  }
 },
 "nbformat": 4,
 "nbformat_minor": 4
}
