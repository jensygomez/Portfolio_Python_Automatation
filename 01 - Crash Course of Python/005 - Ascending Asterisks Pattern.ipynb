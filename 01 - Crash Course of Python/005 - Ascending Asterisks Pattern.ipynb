{
 "cells": [
  {
   "cell_type": "markdown",
   "metadata": {},
   "source": [
    "**Author:**       Jensy Gregorio Gómez \n",
    "---------------------------------------\n",
    "**Profession:**  IT Support Analyst and Automatation with Python\n",
    "\n",
    "**Date:**         09 March 2024     \n",
    "\n",
    "**Resolved** 13 March 2024\n",
    "\n",
    "**Location:**     Vila Izabel, Curitiba/PR  \n",
    "\n",
    "\n",
    "---\n",
    "\n",
    "**Contacto:**\n",
    "\n",
    "- **Email:** [contact@jensygomez.us](mailto:contact@jensygomez.us)\n",
    "- **YouTube:** [Tu Canal de YouTube](https://www.youtube.com/@systechcwb826)\n",
    "- **LinkedIn:** [Tu Perfil de LinkedIn](https://www.linkedin.com/in/jensygomez/)\n",
    "\n",
    "\n"
   ]
  },
  {
   "cell_type": "markdown",
   "metadata": {},
   "source": [
    "\n",
    "# Ascending Asterisks Pattern\n",
    "\n",
    "#### Statement:\n",
    "Write a function called `print_ascending_asterisks` that prints an ascending pattern of **asterisks**. The function should take a single argument, `n`, which represents the number of **rows** of asterisks to be printed. Each row should have one more asterisk than the previous one, starting with a row of one asterisk and ending with a row of `n` asterisks. Implement this function and test printing the asterisks pattern with different values of `n`.\n",
    "\n",
    "#### Step-by-Step:\n",
    "\n",
    "1. **Define the function `print_ascending_asterisks` with one argument `n`**.\n",
    "2. **Use a `for` loop to iterate through the rows of the asterisks pattern**. The outer loop should iterate from 1 to `n` (inclusive) to print each row.\n",
    "3. **Inside the outer loop, use another `for` loop to print the asterisks in each row**. This inner loop should iterate from 1 to the current row number.\n",
    "4. **In each iteration of the inner loop, print an asterisk followed by a space** using the `print(\"*\", end=\" \")` function.\n",
    "5. **After printing all the asterisks in a row, add a new line** using the `print()` function.\n",
    "6. **Test the function by calling it with different values of `n`** to verify that it produces the expected asterisks pattern."
   ]
  },
  {
   "cell_type": "markdown",
   "metadata": {},
   "source": []
  },
  {
   "cell_type": "code",
   "execution_count": 3,
   "metadata": {},
   "outputs": [
    {
     "name": "stdout",
     "output_type": "stream",
     "text": [
      "Ascending Asterisks Pattern:\n",
      "* \n",
      "* * \n",
      "* * * \n",
      "* * * * \n",
      "* * * * * \n",
      "* \n",
      "* * \n",
      "* * * \n",
      "* * * * \n",
      "* * * * * \n",
      "* * * * * * \n",
      "* * * * * * * \n"
     ]
    }
   ],
   "source": [
    "# Step 1: Define the function with one argument 'n'\n",
    "\n",
    "\n",
    "    # Step 2: Use a 'for' loop to iterate through the rows\n",
    "    # The outer loop should iterate from 1 to 'n' (inclusive) to print each row\n",
    "\n",
    "              \n",
    "        # Step 3: Inside the outer loop, use another 'for' loop to print the asterisks\n",
    "        # This inner loop should iterate from 1 to the current row number\n",
    "\n",
    "\n",
    "            # Step 4: Print an asterisk followed by a space in each iteration\n",
    "\n",
    "\n",
    "        # Step 5: Add a new line after printing all the asterisks in a row\n",
    "\n",
    "\n",
    "\n",
    "# Testing the function with different values of 'n'\n",
    "print(\"Ascending Asterisks Pattern:\")\n",
    "print_ascending_asterisks(5)\n",
    "print_ascending_asterisks(7)\n",
    "\n"
   ]
  },
  {
   "cell_type": "code",
   "execution_count": null,
   "metadata": {},
   "outputs": [],
   "source": [
    "def print_ascending_asterisks(n):\n",
    "    for i in range(1, n + 1):\n",
    "        for x in range(1, i + 1):\n",
    "            print(\"*\", end=\" \")\n",
    "        print()\n",
    "\n",
    "print(\"Ascending Asterisks Pattern:\")\n",
    "print_ascending_asterisks(5)\n",
    "print_ascending_asterisks(7)\n"
   ]
  }
 ],
 "metadata": {
  "kernelspec": {
   "display_name": "Python 3 (ipykernel)",
   "language": "python",
   "name": "python3"
  },
  "language_info": {
   "codemirror_mode": {
    "name": "ipython",
    "version": 3
   },
   "file_extension": ".py",
   "mimetype": "text/x-python",
   "name": "python",
   "nbconvert_exporter": "python",
   "pygments_lexer": "ipython3",
   "version": "3.10.12"
  }
 },
 "nbformat": 4,
 "nbformat_minor": 4
}
