{
 "cells": [
  {
   "cell_type": "markdown",
   "metadata": {},
   "source": [
    "**Author:**       Jensy Gregorio Gómez \n",
    "---------------------------------------\n",
    "**Profession:**  IT Support Analyst and Automatation with Python\n",
    "\n",
    "**Date:**         10 March 2024     \n",
    "\n",
    "**Location:**     Vila Izabel, Curitiba/PR  \n",
    "\n",
    "\n",
    "---\n",
    "\n",
    "**Contacto:**\n",
    "\n",
    "- **Email:** [contact@jensygomez.us](mailto:contact@jensygomez.us)\n",
    "- **YouTube:** [Tu Canal de YouTube](https://www.youtube.com/@systechcwb826)\n",
    "- **LinkedIn:** [Tu Perfil de LinkedIn](https://www.linkedin.com/in/jensygomez/)\n",
    "\n",
    "\n"
   ]
  },
  {
   "cell_type": "markdown",
   "metadata": {},
   "source": [
    "\n",
    "# **Generating a String of Odd Numbers up to a Maximum Limit**\n",
    "\n",
    "**Statement:**\n",
    "Write a function called `odd_numbers(maximum)` that generates and returns a string of **odd numbers** separated by spaces, up to the value specified by the **argument** `maximum`.\n",
    "\n",
    "**Step-by-step:**\n",
    "1. **Define** a function named `odd_numbers` that takes a parameter `maximum`.\n",
    "2. **Initialize** a variable `return_string` as an empty string to store the **odd numbers**.\n",
    "3. **Use** a `for` loop to iterate over the **odd numbers** up to the maximum value.\n",
    "4. **Within** the loop, **append** each **odd number** to the `return_string` variable, followed by a space.\n",
    "5. **At the end** of the loop, **remove** any additional space around the string using the `strip()` method.\n",
    "6. **Return** the `return_string` string containing all the **odd numbers** up to the specified maximum.\n",
    "7. **Test** the function with different input values to ensure it returns the expected results."
   ]
  },
  {
   "cell_type": "code",
   "execution_count": null,
   "metadata": {},
   "outputs": [],
   "source": [
    "# Step 0: Define the function odd_numbers that takes a parameter maximum\n",
    "\n",
    "\n",
    "    # Step 1: Initializes variable as a string\n",
    "    \n",
    "    \n",
    "    # Step 2: Complete the for loop with a range that includes all\n",
    "    # odd numbers up to and including the \"maximum\" value.\n",
    "    \n",
    "    \n",
    "        # Step 4: Complete the body of the loop by appending the odd number\n",
    "        # followed by a space to the \"return_string\" variable.\n",
    "\n",
    "\n",
    "    # Step 5: This .strip command will remove the final \" \" space\n",
    "    # at the end of the \"return_string\".\n",
    "\n",
    "\n",
    "\n",
    "print(odd_numbers(6)) # Step 7: Should be 1 3 5\n",
    "print(odd_numbers(10)) # Step 7: Should be 1 3 5 7 9\n",
    "print(odd_numbers(1)) # Step 7: Should be 1\n",
    "print(odd_numbers(3)) # Step 7: Should be 1 3\n",
    "print(odd_numbers(0)) # Step 7: No numbers displayed\n"
   ]
  }
 ],
 "metadata": {
  "kernelspec": {
   "display_name": "Python 3 (ipykernel)",
   "language": "python",
   "name": "python3"
  },
  "language_info": {
   "codemirror_mode": {
    "name": "ipython",
    "version": 3
   },
   "file_extension": ".py",
   "mimetype": "text/x-python",
   "name": "python",
   "nbconvert_exporter": "python",
   "pygments_lexer": "ipython3",
   "version": "3.10.12"
  }
 },
 "nbformat": 4,
 "nbformat_minor": 4
}
