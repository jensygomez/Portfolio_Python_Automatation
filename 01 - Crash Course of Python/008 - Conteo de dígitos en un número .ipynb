{
 "cells": [
  {
   "cell_type": "markdown",
   "metadata": {},
   "source": [
    "**Author:**       Jensy Gregorio Gómez \n",
    "---------------------------------------\n",
    "**Profession:**  IT Support Analyst and Automatation with Python\n",
    "\n",
    "**Date:**         11 March 2024     \n",
    "\n",
    "**Modified** 15 March 2024\n",
    "\n",
    "**Location:**     Vila Izabel, Curitiba/PR  \n",
    "\n",
    "\n",
    "---\n",
    "\n",
    "**Contacto:**\n",
    "\n",
    "- **Email:** [contact@jensygomez.us](mailto:contact@jensygomez.us)\n",
    "- **YouTube:** [Tu Canal de YouTube](https://www.youtube.com/@systechcwb826)\n",
    "- **LinkedIn:** [Tu Perfil de LinkedIn](https://www.linkedin.com/in/jensygomez/)\n",
    "\n",
    "\n"
   ]
  },
  {
   "cell_type": "markdown",
   "metadata": {},
   "source": [
    "  \n",
    "**Título:** \n",
    "# Conteo de dígitos en un número \n",
    "\n",
    "**Escenario:** Se necesita un programa que cuente la cantidad de dígitos en un número dado.\n",
    "\n",
    "Paso a paso:\n",
    "\n",
    "1.  Definir una función llamada `digits` que toma un parámetro `n`, que representa el número del cual se contarán los dígitos.\n",
    "2.  Inicializar una variable `count` para almacenar el recuento de dígitos, estableciéndola en 0.\n",
    "3.  Verificar si `n` es igual a 0. Si es así, incrementar `count` en 1, ya que el número tiene un solo dígito, que es 0.\n",
    "4.  Utilizar un bucle `while` para continuar dividiendo `n` por 10 hasta que `n` sea igual a 0.\n",
    "    -   En cada iteración, dividir `n` por 10 usando el operador de división entera `//`.\n",
    "    -   Incrementar `count` en 1 en cada iteración para contar el dígito actual.\n",
    "5.  Devolver el valor de `count`, que representa la cantidad total de dígitos en el número `n`."
   ]
  },
  {
   "cell_type": "code",
   "execution_count": 2,
   "metadata": {},
   "outputs": [
    {
     "name": "stdout",
     "output_type": "stream",
     "text": [
      "2\n",
      "3\n",
      "4\n",
      "1\n"
     ]
    }
   ],
   "source": [
    "# 1.  Definir una función llamada `digits` que toma un parámetro `n`, que representa el número del cual se contarán los dígitos.\n",
    "\n",
    "# 2.  Inicializar una variable `count` para almacenar el recuento de dígitos, estableciéndola en 0.\n",
    "# 3.  Verificar si `n` es igual a 0. Si es así, incrementar `count` en 1, ya que el número tiene un solo dígito, que es 0.\n",
    "# 4.  Utilizar un bucle `while` para continuar dividiendo `n` por 10 hasta que `n` sea igual a 0.\n",
    "#    -   En cada iteración, dividir `n` por 10 usando el operador de división entera `//`.\n",
    "#    -   Incrementar `count` en 1 en cada iteración para contar el dígito actual.\n",
    "# 5.  Devolver el valor de `count`, que representa la cantidad total de dígitos en el número `n`.\n",
    "\n",
    "\n",
    "# Step 9: Test the digits function\n",
    "print(digits(25))    # Should print 2\n",
    "print(digits(144))   # Should print 3\n",
    "print(digits(1000))  # Should print 4\n",
    "print(digits(0))     # Should print 1\n"
   ]
  },
  {
   "cell_type": "code",
   "execution_count": 1,
   "metadata": {},
   "outputs": [
    {
     "name": "stdout",
     "output_type": "stream",
     "text": [
      "3\n",
      "1\n",
      "9\n"
     ]
    }
   ],
   "source": [
    "def digits(n):\n",
    "    count = 0\n",
    "    \n",
    "    if n == 0:\n",
    "        count += 1\n",
    "    \n",
    "    while n != 0:\n",
    "        n //= 10\n",
    "        count += 1\n",
    "    \n",
    "    return count\n",
    "\n",
    "# Test the function\n",
    "print(digits(123))  # Output should be 3\n",
    "print(digits(0))    # Output should be 1\n",
    "print(digits(987654321))  # Output should be 9\n"
   ]
  }
 ],
 "metadata": {
  "kernelspec": {
   "display_name": "Python 3 (ipykernel)",
   "language": "python",
   "name": "python3"
  },
  "language_info": {
   "codemirror_mode": {
    "name": "ipython",
    "version": 3
   },
   "file_extension": ".py",
   "mimetype": "text/x-python",
   "name": "python",
   "nbconvert_exporter": "python",
   "pygments_lexer": "ipython3",
   "version": "3.10.12"
  }
 },
 "nbformat": 4,
 "nbformat_minor": 4
}
