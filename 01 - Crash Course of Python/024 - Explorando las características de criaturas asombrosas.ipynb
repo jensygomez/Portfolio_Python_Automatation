{
 "cells": [
  {
   "cell_type": "markdown",
   "metadata": {},
   "source": [
    "**Author:**       Jensy Gregorio Gómez \n",
    "---------------------------------------\n",
    "**Profession:**  IT Support Analyst and Automatation with Python\n",
    "\n",
    "**Date:**         24 March 2024     \n",
    "\n",
    "**Modified** 27 March 2024 --> 04 April 2024 --> 2 May 2024\n",
    "\n",
    "**Location:**     Vila Izabel, Curitiba/PR  \n",
    "\n",
    "\n",
    "---\n",
    "\n",
    "**Contacto:**\n",
    "\n",
    "- **Email:** [contact@jensygomez.us](mailto:contact@jensygomez.us)\n",
    "- **YouTube:** [Tu Canal de YouTube](https://www.youtube.com/@systechcwb826)\n",
    "- **LinkedIn:** [Tu Perfil de LinkedIn](https://www.linkedin.com/in/jensygomez/)\n",
    "\n",
    "\n"
   ]
  },
  {
   "cell_type": "markdown",
   "metadata": {},
   "source": [
    "***"
   ]
  },
  {
   "cell_type": "markdown",
   "metadata": {},
   "source": [
    "\n",
    "\n",
    "**Título:**\n",
    "# Explorando las características de criaturas asombrosas\n",
    "\n",
    "### Escenario:\n",
    "Imagina que estás enseñando a un grupo de estudiantes sobre la diversidad de animales y sus características únicas. Decides utilizar un diccionario llamado \"cool_beasts\" que contiene nombres de animales como claves y sus características distintivas como valores.\n",
    "\n",
    "### Paso a paso:\n",
    "1. Define un diccionario llamado \"cool_beasts\" que incluya tres animales y sus características únicas: \"octopuses\" con \"tentacles\", \"dolphins\" con \"fins\", y \"rhinos\" con \"horns\".\n",
    "2. Utiliza un bucle \"for\" para recorrer el diccionario. Para cada elemento del diccionario, asigna la clave a la variable \"beast\" y el valor a la variable \"feature\".\n",
    "3. Dentro del bucle, imprime una frase que describa la característica de cada animal utilizando el método \"format()\" para insertar el nombre del animal y su característica en la cadena de texto.\n",
    "4. Ejecuta el código y observa cómo se imprime cada animal con su característica correspondiente."
   ]
  },
  {
   "cell_type": "code",
   "execution_count": null,
   "metadata": {},
   "outputs": [],
   "source": [
    "# 1. Define un diccionario llamado \"cool_beasts\" que incluya tres animales y sus características únicas:\n",
    "# \"octopuses\" con \"tentacles\", \"dolphins\" con \"fins\", y \"rhinos\" con \"horns\".\n",
    "\n",
    "# 2. Utiliza un bucle \"for\" (beast, feature) para recorrer el diccionario. Para cada elemento del diccionario, asigna la clave a la variable \"beast\" y el valor a la variable \"feature\".\n",
    "\n",
    "    # 3. Dentro del bucle, imprime una frase que describa la característica de cada animal utilizando el método \"format()\"\n",
    "    # para insertar el nombre del animal y su característica en la cadena de texto.\n",
    "\n",
    "\n"
   ]
  },
  {
   "cell_type": "markdown",
   "metadata": {},
   "source": [
    "***"
   ]
  },
  {
   "cell_type": "code",
   "execution_count": null,
   "metadata": {},
   "outputs": [],
   "source": [
    "cool_beasts = {\"octopuses\": \"tentacles\", \"dolphins\": \"fins\", \"rhinos\": \"horns\"}\n",
    "\n",
    "for beast, feature in cool_beasts.items():\n",
    "    print(\"{} have {}\".format(beast, feature))\n"
   ]
  }
 ],
 "metadata": {
  "kernelspec": {
   "display_name": "Python 3 (ipykernel)",
   "language": "python",
   "name": "python3"
  },
  "language_info": {
   "codemirror_mode": {
    "name": "ipython",
    "version": 3
   },
   "file_extension": ".py",
   "mimetype": "text/x-python",
   "name": "python",
   "nbconvert_exporter": "python",
   "pygments_lexer": "ipython3",
   "version": "3.11.7"
  }
 },
 "nbformat": 4,
 "nbformat_minor": 4
}
