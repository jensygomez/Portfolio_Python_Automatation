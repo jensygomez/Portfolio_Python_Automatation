{
 "cells": [
  {
   "cell_type": "markdown",
   "metadata": {},
   "source": [
    "**Author:**       Jensy Gregorio Gómez \n",
    "---------------------------------------\n",
    "**Profession:**  IT Support Analyst and Automatation with Python\n",
    "\n",
    "**Date:**         16 March 2024    \n",
    "\n",
    "**Resolved** 19 March 2024\n",
    "\n",
    "**Location:**     Vila Izabel, Curitiba/PR  \n",
    "\n",
    "\n",
    "---\n",
    "\n",
    "**Contacto:**\n",
    "\n",
    "- **Email:** [contact@jensygomez.us](mailto:contact@jensygomez.us)\n",
    "- **YouTube:** [Tu Canal de YouTube](https://www.youtube.com/@systechcwb826)\n",
    "- **LinkedIn:** [Tu Perfil de LinkedIn](https://www.linkedin.com/in/jensygomez/)\n",
    "\n",
    "\n"
   ]
  },
  {
   "cell_type": "markdown",
   "metadata": {},
   "source": [
    "\n",
    "**Title:**\n",
    "# Creating Nametags\n",
    "\n",
    "**Statement:**\n",
    "You want to create nametags using Python functions. Each nametag should display the first name followed by the first letter of the last name, followed by a period.\n",
    "\n",
    "**Step-by-Step Guide:**\n",
    "1. **Define a function:** Start by defining a function called `nametag` that takes two parameters: `first_name` and `last_name`.\n",
    "2. **Format the nametag:** Inside the function, use the `.format()` method to format the nametag string. Use `\"{} {}.\"` as the format string, where the first `{}` will be replaced by `first_name` and the second `{}` will be replaced by the first character of `last_name`.\n",
    "3. **Return the nametag:** After formatting, return the generated nametag string.\n",
    "4. **Test the function:** Outside the function definition, call the `nametag` function with different sets of names to ensure it produces the expected output. For example:\n",
    "   - `nametag(\"Jane\", \"Smith\")` should display \"Jane S.\"\n",
    "   - `nametag(\"Francesco\", \"Rinaldi\")` should display \"Francesco R.\"\n",
    "   - `nametag(\"Jean-Luc\", \"Grand-Pierre\")` should display \"Jean-Luc G.\""
   ]
  },
  {
   "cell_type": "code",
   "execution_count": 2,
   "metadata": {},
   "outputs": [
    {
     "name": "stdout",
     "output_type": "stream",
     "text": [
      "Jane S.\n",
      "Francesco R.\n",
      "Jean-Luc G.\n"
     ]
    }
   ],
   "source": [
    "# Step 1: Define a function\n",
    "def nametag(first_name, last_name):\n",
    "\n",
    "    # Step 2: Format the nametag\n",
    "    return \"{} {}.\".format(first_name, last_name[0])\n",
    "\n",
    "# Step 4: Test the function\n",
    "print(nametag(\"Jane\", \"Smith\")) # Should display \"Jane S.\"\n",
    "print(nametag(\"Francesco\", \"Rinaldi\")) # Should display \"Francesco R.\"\n",
    "print(nametag(\"Jean-Luc\", \"Grand-Pierre\")) # Should display \"Jean-Luc G.\"\n",
    "\n"
   ]
  },
  {
   "cell_type": "code",
   "execution_count": 5,
   "metadata": {},
   "outputs": [
    {
     "name": "stdout",
     "output_type": "stream",
     "text": [
      "Jane S.\n",
      "Francesco R.\n",
      "Jean-Luc G.\n"
     ]
    }
   ],
   "source": [
    "def nametag(first_name, last_name):\n",
    "    return \"{} {}.\".format(first_name, last_name[0])\n",
    "\n",
    "print(nametag(\"Jane\", \"Smith\")) # Should display \"Jane S.\"\n",
    "print(nametag(\"Francesco\", \"Rinaldi\")) # Should display \"Francesco R.\"\n",
    "print(nametag(\"Jean-Luc\", \"Grand-Pierre\")) # Should display \"Jean-Luc G.\"\n",
    "\n"
   ]
  }
 ],
 "metadata": {
  "kernelspec": {
   "display_name": "Python 3 (ipykernel)",
   "language": "python",
   "name": "python3"
  },
  "language_info": {
   "codemirror_mode": {
    "name": "ipython",
    "version": 3
   },
   "file_extension": ".py",
   "mimetype": "text/x-python",
   "name": "python",
   "nbconvert_exporter": "python",
   "pygments_lexer": "ipython3",
   "version": "3.10.12"
  }
 },
 "nbformat": 4,
 "nbformat_minor": 4
}
