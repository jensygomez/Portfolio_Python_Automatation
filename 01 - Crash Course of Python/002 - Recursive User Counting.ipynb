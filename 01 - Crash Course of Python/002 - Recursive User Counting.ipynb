{
 "cells": [
  {
   "cell_type": "code",
   "execution_count": null,
   "metadata": {},
   "outputs": [],
   "source": []
  },
  {
   "cell_type": "markdown",
   "metadata": {},
   "source": [
    "**Author:**       Jensy Gregorio Gómez \n",
    "---------------------------------------\n",
    "**Profession:**  IT Support Analyst and Automatation with Python\n",
    "\n",
    "**Date:**         06 March 2024     \n",
    "\n",
    "**Location:**     Vila Izabel, Curitiba/PR  \n",
    "\n",
    "\n",
    "---\n",
    "\n",
    "**Contacto:**\n",
    "\n",
    "- **Email:** [contact@jensygomez.us](mailto:contact@jensygomez.us)\n",
    "- **YouTube:** [Tu Canal de YouTube](https://www.youtube.com/@systechcwb826)\n",
    "- **LinkedIn:** [Tu Perfil de LinkedIn](https://www.linkedin.com/in/jensygomez/)\n",
    "\n",
    "\n"
   ]
  },
  {
   "cell_type": "markdown",
   "metadata": {},
   "source": [
    "## Exercise Title:  Recursive User Counting\n",
    "\n",
    "**Exercise Description:**\n",
    "\n",
    "Exercise: Write a Python function called `count_users` that counts the total number of users in a group, considering that a group can contain other user groups. Use the function `get_members(group)` to get the members of a group and the function `is_group(member)` to check if a member is a group. Then, test the function with the groups \"sales\", \"engineering\", and \"everyone\" and print the expected results.\n"
   ]
  },
  {
   "cell_type": "markdown",
   "metadata": {},
   "source": [
    "# Step by Step:"
   ]
  },
  {
   "cell_type": "markdown",
   "metadata": {},
   "source": [
    "### **Step 1**: Define a function called `is_power_of` that takes two parameters: **number** and **base**.\n",
    "\n",
    "Defining the function **is_power_of** that will determine if a number is a power of another number. It takes two parameters: number (the number to be tested) and base (the base number).\n",
    "\n"
   ]
  },
  {
   "cell_type": "code",
   "execution_count": null,
   "metadata": {},
   "outputs": [],
   "source": [
    "# Step 1: define a funtion count_users\n",
    "\n",
    "\n",
    "    # Step 2: Iterate through each member in the group\n",
    "        \n",
    "\n",
    "        # Step 3: Check if the member is a subgroup\n",
    "            \n",
    "            \n",
    "            # Step 4: Recursively count users in the subgroup\n",
    "\n",
    "        \n",
    "            # Step 5: If the member is not a subgroup, increment the count by 1\n",
    "\n",
    "  \n",
    "    # Step 6: Return the total count\n",
    "\n",
    "print(count_users(\"sales\"))  # Should be 3\n",
    "print(count_users(\"engineering\"))  # Should be 8\n",
    "print(count_users(\"everyone\"))  # Should be 18"
   ]
  }
 ],
 "metadata": {
  "kernelspec": {
   "display_name": "Python 3 (ipykernel)",
   "language": "python",
   "name": "python3"
  },
  "language_info": {
   "codemirror_mode": {
    "name": "ipython",
    "version": 3
   },
   "file_extension": ".py",
   "mimetype": "text/x-python",
   "name": "python",
   "nbconvert_exporter": "python",
   "pygments_lexer": "ipython3",
   "version": "3.12.2"
  }
 },
 "nbformat": 4,
 "nbformat_minor": 2
}
