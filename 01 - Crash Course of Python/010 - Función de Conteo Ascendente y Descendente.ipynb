{
 "cells": [
  {
   "cell_type": "markdown",
   "metadata": {},
   "source": [
    "**Author:**       Jensy Gregorio Gómez \n",
    "---------------------------------------\n",
    "**Profession:**  IT Support Analyst and Automatation with Python\n",
    "\n",
    "**Date:**         12 March 2024     \n",
    "\n",
    "**Modified** 17 March 2024 --> 03 April 2024\n",
    "\n",
    "**Location:**     Vila Izabel, Curitiba/PR  \n",
    "\n",
    "\n",
    "---\n",
    "\n",
    "**Contacto:**\n",
    "\n",
    "- **Email:** [contact@jensygomez.us](mailto:contact@jensygomez.us)\n",
    "- **YouTube:** [Tu Canal de YouTube](https://www.youtube.com/@systechcwb826)\n",
    "- **LinkedIn:** [Tu Perfil de LinkedIn](https://www.linkedin.com/in/jensygomez/)\n",
    "\n",
    "\n"
   ]
  },
  {
   "cell_type": "markdown",
   "metadata": {},
   "source": [
    "**Título:** \n",
    "# Función de Conteo Ascendente y Descendente  \n",
    "\n",
    "**Escenario:** Un programa que cuenta desde un número inicial hasta un número final, ya sea en orden ascendente o descendente, dependiendo de los parámetros de entrada.  \n",
    "Paso a paso:\n",
    "\n",
    "1. Define una función llamada `counter` que toma dos parámetros, `start` y `stop`, que representan el número inicial y final respectivamente.\n",
    "2. Comprueba si `start` es mayor que `stop`. Si es así, inicializa la variable `return_string` con \"Counting down: \".\n",
    "3. Entra en un bucle `while` que continúa mientras `start` sea mayor o igual que `stop`.\n",
    "4. En cada iteración del bucle, convierte el valor de `start` a cadena y lo agrega a `return_string`.\n",
    "5. Si `start` es mayor que `stop`, agrega una coma a `return_string`.\n",
    "6. Reduce el valor de `start` en 1 en cada iteración del bucle.\n",
    "7. Si `start` no es mayor que `stop`, significa que `start` es menor o igual a `stop`. En este caso, inicializa `return_string` con \"Counting up: \".\n",
    "8. Entra en un bucle `while` que continúa mientras `start` sea menor o igual que `stop`.\n",
    "9. En cada iteración del bucle, convierte el valor de `start` a cadena y lo agrega a `return_string`.\n",
    "10. Si `start` es menor que `stop`, agrega una coma a `return_string`.\n",
    "11. Aumenta el valor de `start` en 1 en cada iteración del bucle.\n",
    "12. Retorna `return_string` que contendrá la cadena resultante del conteo ascendente o descendente.\n",
    "13. Imprime el resultado de llamar a `counter` con diferentes conjuntos de parámetros: `print(counter(1, 10))`, `print(counter(2, 1))` y `print(counter(5, 5))`.\n"
   ]
  },
  {
   "cell_type": "code",
   "execution_count": 7,
   "metadata": {},
   "outputs": [
    {
     "name": "stdout",
     "output_type": "stream",
     "text": [
      "Counting UP: 1, 2, 3, 4, 5, 6, 7, 8, 9, 10\n",
      "Counting down: 2, 1\n",
      "Counting UP: 5\n"
     ]
    }
   ],
   "source": [
    "# 1. Define una función llamada `counter` que toma dos parámetros, `start` y `stop`, que representan el número inicial y final respectivamente.\n",
    "\n",
    "    # 2. Comprueba si `start` es mayor que `stop`. Si es así, inicializa la variable `return_string` con \"Counting down: \".\n",
    "\n",
    "\n",
    "        # 3. Entra en un bucle `while` que continúa mientras `start` sea mayor o igual que `stop`.\n",
    "\n",
    "            # 4. En cada iteración del bucle, convierte el valor de `start` a cadena y lo agrega a `return_string`.\n",
    "\n",
    "            # 5. Si `start` es mayor que `stop`, agrega una coma a `return_string`.\n",
    "\n",
    "\n",
    "            # 6. Reduce el valor de `start` en 1 en cada iteración del bucle.\n",
    "\n",
    "    # 7. Si `start` no es mayor que `stop`, significa que `start` es menor o igual a `stop`. En este caso, inicializa `return_string` con \"Counting up: \".\n",
    "\n",
    "\n",
    "        # 8. Entra en un bucle `while` que continúa mientras `start` sea menor o igual que `stop`.\n",
    "\n",
    "            # 9. En cada iteración del bucle, convierte el valor de `start` a cadena y lo agrega a `return_string`.\n",
    "\n",
    "            # 10. Si `start` es menor que `stop`, agrega una coma a `return_string`.\n",
    "\n",
    "\n",
    "            # 11. Aumenta el valor de `start` en 1 en cada iteración del bucle.\n",
    "\n",
    "        # 12. Retorna `return_string` que contendrá la cadena resultante del conteo ascendente o descendente.\n",
    "\n",
    "# 13. Imprime el resultado de llamar a `counter` con diferentes conjuntos de parámetros: `print(counter(1, 10))`, `print(counter(2, 1))` y `print(counter(5, 5))`.\n",
    "print(counter(1, 10))  \n",
    "print(counter(2, 1))   \n",
    "print(counter(5, 5))\n",
    "\n"
   ]
  },
  {
   "cell_type": "code",
   "execution_count": 3,
   "metadata": {},
   "outputs": [
    {
     "name": "stdout",
     "output_type": "stream",
     "text": [
      "Counting up: 1,2,3,4,5,6,7,8,9,10\n",
      "Counting down: 2,1\n",
      "Counting up: 5\n"
     ]
    }
   ],
   "source": [
    "def counter(start, stop):\n",
    "    if start > stop:\n",
    "        return_string = \"Counting down: \"\n",
    "        while start >= stop:  \n",
    "            return_string += str(start)  \n",
    "            if start > stop:\n",
    "                return_string += \",\"\n",
    "            start -= 1  \n",
    "    else:\n",
    "        return_string = \"Counting up: \"\n",
    "        while start <= stop:  \n",
    "            return_string += str(start)  \n",
    "            if start < stop:\n",
    "                return_string += \",\"\n",
    "            start += 1  \n",
    "    return return_string\n",
    "\n",
    "print(counter(1, 10))  \n",
    "print(counter(2, 1))   \n",
    "print(counter(5, 5))   \n"
   ]
  }
 ],
 "metadata": {
  "kernelspec": {
   "display_name": "Python 3 (ipykernel)",
   "language": "python",
   "name": "python3"
  },
  "language_info": {
   "codemirror_mode": {
    "name": "ipython",
    "version": 3
   },
   "file_extension": ".py",
   "mimetype": "text/x-python",
   "name": "python",
   "nbconvert_exporter": "python",
   "pygments_lexer": "ipython3",
   "version": "3.11.7"
  }
 },
 "nbformat": 4,
 "nbformat_minor": 4
}
