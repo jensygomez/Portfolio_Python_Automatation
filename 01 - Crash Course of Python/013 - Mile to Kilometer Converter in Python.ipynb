{
 "cells": [
  {
   "cell_type": "markdown",
   "metadata": {},
   "source": [
    "**Author:**       Jensy Gregorio Gómez \n",
    "---------------------------------------\n",
    "**Profession:**  IT Support Analyst and Automatation with Python\n",
    "\n",
    "**Date:**         12 March 2024     \n",
    "\n",
    "**Location:**     Vila Izabel, Curitiba/PR  \n",
    "\n",
    "\n",
    "---\n",
    "\n",
    "**Contacto:**\n",
    "\n",
    "- **Email:** [contact@jensygomez.us](mailto:contact@jensygomez.us)\n",
    "- **YouTube:** [Tu Canal de YouTube](https://www.youtube.com/@systechcwb826)\n",
    "- **LinkedIn:** [Tu Perfil de LinkedIn](https://www.linkedin.com/in/jensygomez/)\n",
    "\n",
    "\n"
   ]
  },
  {
   "cell_type": "markdown",
   "metadata": {},
   "source": [
    "\n",
    "**Title:** \n",
    "# Mile to Kilometer Converter in Python\n",
    "\n",
    "**Statement:** \n",
    "Write a Python function called `convert_distance` that converts a given distance in miles to kilometers. The function will take a single parameter, `miles`, representing the distance in miles. It will then display a message indicating how many kilometers are equivalent to that amount of miles.\n",
    "\n",
    "**Step-by-Step:**\n",
    "1. Define a function named `convert_distance` that takes a parameter `miles`.\n",
    "2. Inside the function, calculate the equivalence in kilometers by multiplying the number of miles by 1.6 (since 1 mile is approximately equal to 1.6 kilometers).\n",
    "3. Use string formatting method to create a message indicating the conversion. The message should have the format `\"{} miles equals {} km\"`, where the first blank space will be replaced by the number of miles and the second blank space will be replaced by the equivalence in kilometers.\n",
    "4. Return the resulting message.\n",
    "5. Test the function by calling it with different values of miles and display the expected results."
   ]
  },
  {
   "cell_type": "code",
   "execution_count": 2,
   "metadata": {},
   "outputs": [
    {
     "name": "stdout",
     "output_type": "stream",
     "text": [
      "12 miles equals 19.2 km\n",
      "5.5 miles equals 8.8 km\n",
      "11 miles equals 17.6 km\n"
     ]
    }
   ],
   "source": [
    "# Step 1: Define a function named convert_distance that takes a parameter miles\n",
    "    \n",
    "    # Step 2: Convert miles to kilometers and round to one decimal place\n",
    "\n",
    "    \n",
    "    # Step 3: Format the result message\n",
    "\n",
    "    \n",
    "    # Step 4: Return the formatted message\n",
    "\n",
    "\n",
    "\n",
    "# Testing the function with different values and displaying expected results\n",
    "print(convert_distance(12))  # Should be: 12 miles equals 19.2 km\n",
    "print(convert_distance(5.5))  # Should be: 5.5 miles equals 8.8 km\n",
    "print(convert_distance(11))   # Should be: 11 miles equals 17.6 km\n",
    "\n"
   ]
  },
  {
   "cell_type": "code",
   "execution_count": 3,
   "metadata": {},
   "outputs": [
    {
     "name": "stdout",
     "output_type": "stream",
     "text": [
      "12 miles equals 19.2 km\n",
      "5.5 miles equals 8.8 km\n",
      "11 miles equals 17.6 km\n"
     ]
    }
   ],
   "source": [
    "def convert_distance(miles):\n",
    "    km = round(miles * 1.6, 1)\n",
    "    result = \"{} miles equals {} km\".format(miles, km)\n",
    "    return result\n",
    "\n",
    "print(convert_distance(12))  # Should be: 12 miles equals 19.2 km\n",
    "print(convert_distance(5.5))  # Should be: 5.5 miles equals 8.8 km\n",
    "print(convert_distance(11))   # Should be: 11 miles equals 17.6 km\n"
   ]
  }
 ],
 "metadata": {
  "kernelspec": {
   "display_name": "Python 3 (ipykernel)",
   "language": "python",
   "name": "python3"
  },
  "language_info": {
   "codemirror_mode": {
    "name": "ipython",
    "version": 3
   },
   "file_extension": ".py",
   "mimetype": "text/x-python",
   "name": "python",
   "nbconvert_exporter": "python",
   "pygments_lexer": "ipython3",
   "version": "3.10.12"
  }
 },
 "nbformat": 4,
 "nbformat_minor": 4
}
