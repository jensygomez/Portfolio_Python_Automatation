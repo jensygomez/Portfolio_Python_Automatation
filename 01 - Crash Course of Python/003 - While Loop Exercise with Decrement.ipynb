{
 "cells": [
  {
   "cell_type": "code",
   "execution_count": null,
   "metadata": {},
   "outputs": [],
   "source": []
  },
  {
   "cell_type": "markdown",
   "metadata": {},
   "source": [
    "**Author:**       Jensy Gregorio Gómez \n",
    "---------------------------------------\n",
    "**Profession:**  IT Support Analyst and Automatation with Python\n",
    "\n",
    "**Date:**         07 March 2024 \n",
    "\n",
    "**Modifided** 10-03-24 --> 22 March 2024\n",
    "\n",
    "**Location:**     Vila Izabel, Curitiba/PR  \n",
    "\n",
    "\n",
    "---\n",
    "\n",
    "**Contacto:**\n",
    "\n",
    "- **Email:** [contact@jensygomez.us](mailto:contact@jensygomez.us)\n",
    "- **YouTube:** [Tu Canal de YouTube](https://www.youtube.com/@systechcwb826)\n",
    "- **LinkedIn:** [Tu Perfil de LinkedIn](https://www.linkedin.com/in/jensygomez/)\n",
    "\n",
    "\n"
   ]
  },
  {
   "cell_type": "markdown",
   "metadata": {},
   "source": [
    "# Exercise: While Loop with Decrement\n"
   ]
  },
  {
   "cell_type": "markdown",
   "metadata": {},
   "source": [
    "Imaginemos que estamos trabajando en el desarrollo de un software de gestión financiera personalizado para usuarios que desean tener un control **detallado** de sus **gastos mensuales**. En este contexto, un escenario común sería cuando un usuario desea revisar sus gastos de los últimos **tres meses**. Para facilitar esta tarea, implementamos un **bucle** similar al ejercicio proporcionado. El programa recorre los últimos tres meses, comenzando desde el **mes más reciente** y retrocediendo **mes a mes** hasta el **tercer mes atrás**. Durante cada **iteración** del bucle, se calcula y muestra el **total de gastos** del mes correspondiente. Al finalizar el bucle, el usuario obtiene un **resumen claro y conciso** de sus gastos mensuales, lo que facilita el **seguimiento** de sus **finanzas** y la **toma de decisiones informadas** sobre su **presupuesto** y gastos futuros.\n"
   ]
  },
  {
   "cell_type": "markdown",
   "metadata": {},
   "source": [
    "\n",
    "**Instructions:**\n",
    "Write a program that uses a `while` loop to print a sequence of numbers starting from **15** and **decreasing** in steps of **5** until reaching **5**. The program should print the numbers **15, 10,** and **5**.\n",
    "\n",
    "**Step-by-step:**\n",
    "1. **Initialize** a variable named `number` with the value of **15**.\n",
    "2. Create a `while` loop with the condition that `number` is **greater than or equal to 5**.\n",
    "3. Inside the loop, **print** the value of `number`.\n",
    "4. **Decrement** `number` by **5** in each iteration.\n",
    "5. The loop will continue until `number` is **less than 5**.\n"
   ]
  },
  {
   "cell_type": "code",
   "execution_count": 2,
   "metadata": {
    "scrolled": true
   },
   "outputs": [
    {
     "name": "stdout",
     "output_type": "stream",
     "text": [
      "20\n",
      "15\n",
      "10\n",
      "5\n"
     ]
    }
   ],
   "source": [
    "## Exercise: While Loop with Decrement\n",
    "\n",
    "# Step 1: Initialize a variable named `number` with the value of 15.\n",
    "\n",
    "\n",
    "# Step 2: Create a `while` loop with the condition that `number` is greater than or equal to 5.\n",
    "\n",
    "    \n",
    "    # Step 3: Inside the loop, print the value of `number`.\n",
    "\n",
    "    # Step 4: Decrement `number` by 5 in each iteration.\n",
    "\n",
    "\n",
    "# Step 5: The loop will continue until `number` is less than 5.\n",
    "\n"
   ]
  },
  {
   "cell_type": "code",
   "execution_count": null,
   "metadata": {},
   "outputs": [],
   "source": [
    "number = 15\n",
    "\n",
    "while number >= 5:\n",
    "    print(number)\n",
    "    number -= 5\n"
   ]
  }
 ],
 "metadata": {
  "kernelspec": {
   "display_name": "Python 3 (ipykernel)",
   "language": "python",
   "name": "python3"
  },
  "language_info": {
   "codemirror_mode": {
    "name": "ipython",
    "version": 3
   },
   "file_extension": ".py",
   "mimetype": "text/x-python",
   "name": "python",
   "nbconvert_exporter": "python",
   "pygments_lexer": "ipython3",
   "version": "3.12.2"
  }
 },
 "nbformat": 4,
 "nbformat_minor": 4
}
