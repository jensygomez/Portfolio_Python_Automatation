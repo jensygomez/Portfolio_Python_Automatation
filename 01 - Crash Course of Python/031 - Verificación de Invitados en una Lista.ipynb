{
 "cells": [
  {
   "cell_type": "markdown",
   "metadata": {},
   "source": [
    "**Author:**       Jensy Gregorio Gómez \n",
    "---------------------------------------\n",
    "**Profession:**  IT Support Analyst and Automatation with Python\n",
    "\n",
    "**Date:**         03 April 2024     \n",
    "\n",
    "**Modified** \n",
    "\n",
    "**Location:**     Vila Izabel, Curitiba/PR  \n",
    "\n",
    "\n",
    "---\n",
    "\n",
    "**Contacto:**\n",
    "\n",
    "- **Email:** [contact@jensygomez.us](mailto:contact@jensygomez.us)\n",
    "- **YouTube:** [Tu Canal de YouTube](https://www.youtube.com/@systechcwb826)\n",
    "- **LinkedIn:** [Tu Perfil de LinkedIn](https://www.linkedin.com/in/jensygomez/)\n",
    "\n",
    "\n"
   ]
  },
  {
   "cell_type": "markdown",
   "metadata": {},
   "source": [
    "***"
   ]
  },
  {
   "cell_type": "markdown",
   "metadata": {},
   "source": [
    "**Título:** \n",
    "# Verificación de Invitados en una Lista  \n",
    "\n",
    "**Escenario:** \n",
    "Un programa que verifica si un invitado está en una lista de invitados y devuelve el número de invitaciones que tiene ese invitado. Si el invitado no está en la lista, devuelve 0.  \n",
    "Paso a paso:\n",
    "\n",
    "1. Define una función llamada `check_guests` que toma dos parámetros: `guest_list`, que es un diccionario que contiene los nombres de los invitados como claves y el número de invitaciones como valores, y `guest`, que es el nombre del invitado que se desea verificar.\n",
    "2. Utiliza el método `get()` del diccionario `guest_list` para obtener el valor asociado con la clave `guest`. Si `guest` está en `guest_list`, devuelve el número de invitaciones que tiene ese invitado. Si `guest` no está en `guest_list`, devuelve 0.\n",
    "3. Declara un diccionario llamado `guest_list` que contiene los nombres de los invitados y el número de invitaciones que tienen.\n",
    "4. Imprime el resultado de llamar a `check_guests` con diferentes nombres de invitados como parámetros, por ejemplo, `print(check_guests(guest_list, \"Adam\"))`, `print(check_guests(guest_list, \"Sakira\"))` y `print(check_guests(guest_list, \"Charley\"))`. Esto debería imprimir el número de invitaciones que tienen los invitados especificados en la lista `guest_list`."
   ]
  },
  {
   "cell_type": "code",
   "execution_count": 4,
   "metadata": {},
   "outputs": [
    {
     "name": "stdout",
     "output_type": "stream",
     "text": [
      "6\n"
     ]
    }
   ],
   "source": [
    "# 1. Define una función llamada `check_guests` que toma dos parámetros:\n",
    "# `guest_list`, que es un diccionario que contiene los nombres de los invitados como claves y el número de invitaciones como valores,\n",
    "# y `guest`, que es el nombre del invitado que se desea verificar.\n",
    "\n",
    "    # 2. Utiliza el método `get()` del diccionario `guest_list` para obtener el valor asociado con la clave `guest`. \n",
    "    # Si `guest` está en `guest_list`, devuelve el número de invitaciones que tiene ese invitado. Si `guest` no está en `guest_list`, devuelve 0.\n",
    "\n",
    "# 3. Declara un diccionario llamado `guest_list` que contiene los nombres de los invitados y el número de invitaciones que tienen.\n",
    "\n",
    "# 4. Imprime el resultado de llamar a `check_guests` con diferentes nombres de invitados como parámetros, por ejemplo, `print(check_guests(guest_list, \"Adam\"))`, `print(check_guests(guest_list, \"Sakira\"))` y `print(check_guests(guest_list, \"Charley\"))`. Esto debería imprimir el número de invitaciones que tienen los invitados especificados en la lista `guest_list`.\n",
    "\n"
   ]
  },
  {
   "cell_type": "code",
   "execution_count": null,
   "metadata": {},
   "outputs": [],
   "source": [
    "def check_guests(guest_list, guest):\n",
    "    return guest_list.get(guest, 0)  # Return the value for the given key, defaulting to 0 if the guest is not found\n",
    "\n",
    "guest_list = { \"Adam\":3, \"Camila\":3, \"David\":5, \"Jamal\":3, \"Charley\":2, \"Titus\":1, \"Raj\":6, \"Noemi\":1, \"Sakira\":3, \"Chidi\":5}\n",
    "\n",
    "print(check_guests(guest_list, \"Adam\"))    # Should print 3\n",
    "print(check_guests(guest_list, \"Sakira\"))  # Should print 3\n",
    "print(check_guests(guest_list, \"Charley\")) # Should print 2"
   ]
  }
 ],
 "metadata": {
  "kernelspec": {
   "display_name": "Python 3 (ipykernel)",
   "language": "python",
   "name": "python3"
  },
  "language_info": {
   "codemirror_mode": {
    "name": "ipython",
    "version": 3
   },
   "file_extension": ".py",
   "mimetype": "text/x-python",
   "name": "python",
   "nbconvert_exporter": "python",
   "pygments_lexer": "ipython3",
   "version": "3.11.7"
  }
 },
 "nbformat": 4,
 "nbformat_minor": 4
}
