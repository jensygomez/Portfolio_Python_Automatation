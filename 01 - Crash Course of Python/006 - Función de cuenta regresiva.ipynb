{
 "cells": [
  {
   "cell_type": "markdown",
   "metadata": {},
   "source": [
    "**Author:**       Jensy Gregorio Gómez \n",
    "---------------------------------------\n",
    "**Profession:**  IT Support Analyst and Automatation with Python\n",
    "\n",
    "**Date:**         09 March 2024   \n",
    "\n",
    "**Modified** 12 March 2024 -> 20 March 2024 --> 18 April 2024\n",
    "\n",
    "**Location:**     Vila Izabel, Curitiba/PR  \n",
    "\n",
    "\n",
    "---\n",
    "\n",
    "**Contacto:**\n",
    "\n",
    "- **Email:** [contact@jensygomez.us](mailto:contact@jensygomez.us)\n",
    "- **YouTube:** [Tu Canal de YouTube](https://www.youtube.com/@systechcwb826)\n",
    "- **LinkedIn:** [Tu Perfil de LinkedIn](https://www.linkedin.com/in/jensygomez/)\n",
    "\n",
    "\n"
   ]
  },
  {
   "cell_type": "markdown",
   "metadata": {},
   "source": [
    "**Título:** \n",
    "# Función de cuenta regresiva\n",
    "\n",
    "**Enunciado:** La función `countdown(start)` toma un número entero `start` como argumento y devuelve una cadena que cuenta desde ese número hasta 0. Si el número es positivo, cuenta regresivamente mostrando cada número separado por comas, y finaliza con 0. Si el número es menor o igual a 0, devuelve \"Cannot count down to 0\".\n",
    "\n",
    "**Paso a paso:**\n",
    "1. Define una función llamada `countdown` que toma un parámetro `start`.\n",
    "2. Asigna el valor de `start` a una variable `x`.\n",
    "3. Verifica si `x` es mayor que 0:\n",
    "   - Si es así, crea una cadena llamada `return_string` inicializada con \"Counting down to 0: \".\n",
    "   - Entra en un bucle `while` que se ejecuta mientras `x` sea mayor que 0.\n",
    "   - En cada iteración, agrega el valor de `x` convertido a cadena a `return_string`.\n",
    "   - Si `x` es mayor que 1, agrega una coma y un espacio a `return_string`.\n",
    "   - Reduce `x` en 1 en cada iteración del bucle.\n",
    "4. Si `x` es menor o igual a 0, asigna \"Cannot count down to 0\" a `return_string`.\n",
    "5. Devuelve `return_string` al final de la función.\n",
    "6. Imprime el resultado de la función `countdown` para los valores 10, 2 y 0 utilizando `print`."
   ]
  },
  {
   "cell_type": "code",
   "execution_count": 5,
   "metadata": {},
   "outputs": [
    {
     "name": "stdout",
     "output_type": "stream",
     "text": [
      "Counting down to 0: 10, 9, 8, 7, 6, 5, 4, 3, 2, 1\n"
     ]
    }
   ],
   "source": [
    "# 1. Define una función llamada `countdown` que toma un parámetro `start`.\n",
    "\n",
    "    # 2. Asigna el valor de `start` a una variable `x`.\n",
    "\n",
    "    # 3. Verifica si `x` es mayor que 0:\n",
    "\n",
    "        # Si es así, crea una cadena llamada `return_string` inicializada con \"Counting down to 0: \".\n",
    "\n",
    "        # Entra en un bucle `while` que se ejecuta mientras `x` sea mayor que 0.\n",
    "\n",
    "            # En cada iteración, agrega el valor de `x` convertido a cadena a `return_string`.\n",
    "\n",
    "            # Si `x` es mayor que 1, agrega una coma y un espacio a `return_string`.\n",
    "\n",
    "\n",
    "            # Reduce `x` en 1 en cada iteración del bucle.\n",
    "\n",
    "    # 4. En caso contrario, Si `x` es menor o igual a 0, asigna \"Cannot count down to 0\" a `return_string`. \n",
    "\n",
    "\n",
    "    # 5. Devuelve `return_string` al final de la función.\n",
    "\n",
    "# 6. Imprime el resultado de la función `countdown` para los valores 10, 2 y 0 utilizando `print`.\n",
    "\n"
   ]
  },
  {
   "cell_type": "code",
   "execution_count": null,
   "metadata": {},
   "outputs": [],
   "source": [
    "def countdown(start):\n",
    "    x = start\n",
    "    if x > 0:\n",
    "        return_string = \"Counting down to 0: \"\n",
    "        while x > 0:\n",
    "            return_string += str(x)\n",
    "            if x > 1:\n",
    "                return_string += \", \"\n",
    "            x -= 1\n",
    "    else:\n",
    "        return_string = \"Cannot count down to 0\"\n",
    "    return return_string\n",
    "\n",
    "print(countdown(10))  # Should be \"Counting down to 0: 10, 9, 8, 7, 6, 5, 4, 3, 2, 1, 0\"\n",
    "print(countdown(2))   # Should be \"Counting down to 0: 2, 1, 0\"\n",
    "print(countdown(0))   # Should be \"Cannot count down to 0\"\n"
   ]
  }
 ],
 "metadata": {
  "kernelspec": {
   "display_name": "Python 3 (ipykernel)",
   "language": "python",
   "name": "python3"
  },
  "language_info": {
   "codemirror_mode": {
    "name": "ipython",
    "version": 3
   },
   "file_extension": ".py",
   "mimetype": "text/x-python",
   "name": "python",
   "nbconvert_exporter": "python",
   "pygments_lexer": "ipython3",
   "version": "3.11.7"
  }
 },
 "nbformat": 4,
 "nbformat_minor": 4
}
