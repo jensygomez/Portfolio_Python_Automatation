{
 "cells": [
  {
   "cell_type": "markdown",
   "metadata": {},
   "source": [
    "**Author:**       Jensy Gregorio Gómez \n",
    "---------------------------------------\n",
    "**Profession:**  IT Support Analyst and Automatation with Python\n",
    "\n",
    "**Date:**         22 March 2024     \n",
    "\n",
    "**Reolved** 27 March 2024 --> 15 April\n",
    "\n",
    "**Location:**     Vila Izabel, Curitiba/PR  \n",
    "\n",
    "\n",
    "---\n",
    "\n",
    "**Contacto:**\n",
    "\n",
    "- **Email:** [contact@jensygomez.us](mailto:contact@jensygomez.us)\n",
    "- **YouTube:** [Tu Canal de YouTube](https://www.youtube.com/@systechcwb826)\n",
    "- **LinkedIn:** [Tu Perfil de LinkedIn](https://www.linkedin.com/in/jensygomez/)\n",
    "\n",
    "\n"
   ]
  },
  {
   "cell_type": "markdown",
   "metadata": {},
   "source": [
    "***"
   ]
  },
  {
   "cell_type": "markdown",
   "metadata": {},
   "source": [
    "**Título:**\n",
    "# Calculadora de Total de Compras\n",
    "\n",
    "**Escenario:**\n",
    "Imagina que estás trabajando en una aplicación para ayudar a las personas a calcular el total de sus compras de supermercado. Quieres crear una función que sume los precios de los diferentes artículos en su carrito de compras y devuelva el total.\n",
    "\n",
    "**Pasos a seguir:**\n",
    "\n",
    "1. Define una función llamada `add_prices` que tome un diccionario que represente el carrito de compras como argumento.\n",
    "   \n",
    "2. Inicializa una variable llamada `total` con un valor de 0. Esta variable se utilizará para realizar el cálculo del total de los precios de los artículos en el carrito.\n",
    "\n",
    "3. Itera a través de los valores del diccionario utilizando un bucle `for`. Cada valor representa el precio de un artículo en el carrito.\n",
    "\n",
    "4. Dentro del bucle, agrega el precio de cada artículo al total utilizando el operador `+=`.\n",
    "\n",
    "5. Después de sumar todos los precios, redondea el total a 2 decimales utilizando la función `round()`.\n",
    "\n",
    "6. Devuelve el total calculado.\n",
    "\n",
    "7. Define un diccionario llamado `groceries` que contenga los nombres de los artículos como claves y sus respectivos precios como valores.\n",
    "\n",
    "8. Llama a la función `add_prices` pasando el diccionario `groceries` como argumento.\n",
    "\n",
    "9. Imprime el resultado devuelto por la función. Deberías ver el total de las compras.\n"
   ]
  },
  {
   "cell_type": "code",
   "execution_count": 1,
   "metadata": {},
   "outputs": [
    {
     "name": "stdout",
     "output_type": "stream",
     "text": [
      "10.0\n"
     ]
    }
   ],
   "source": [
    "# Esta función toma un diccionario de productos y precios y devuelve la suma de los precios\n",
    "# Inicializa la funcion \"add_prices\" que recibe un argumento \"basket\"\n",
    "\n",
    "\n",
    "    # Inicializa el \"total\" en cero\n",
    "\n",
    "\n",
    "    # Itera sobre (price) que son los valores del diccionario (los precios de los productos)\n",
    "\n",
    "\n",
    "        # Suma el precio actual al \"total\"\n",
    "\n",
    "    # Redondea el total a dos decimales y lo devuelve\n",
    "\n",
    "\n",
    "# Diccionario que contiene los productos y sus precios\n",
    "\n",
    "# Imprime el resultado de la función add_prices con el diccionario de compras como argumento\n",
    "\n"
   ]
  },
  {
   "cell_type": "markdown",
   "metadata": {},
   "source": [
    "***"
   ]
  },
  {
   "cell_type": "code",
   "execution_count": 4,
   "metadata": {},
   "outputs": [
    {
     "name": "stdout",
     "output_type": "stream",
     "text": [
      "28.44\n"
     ]
    }
   ],
   "source": [
    "def add_prices(basket):\n",
    "    total = 0\n",
    "    for price in basket.values():\n",
    "        total += price\n",
    "    return round(total, 2)\n",
    "\n",
    "groceries = {\"bananas\": 1.56, \"apples\": 2.50, \"oranges\": 0.99, \"bread\": 4.59,\n",
    "    \"coffee\": 6.99, \"milk\": 3.39, \"eggs\": 2.98, \"cheese\": 5.44}\n",
    "\n",
    "print(add_prices(groceries))\n"
   ]
  }
 ],
 "metadata": {
  "kernelspec": {
   "display_name": "Python 3 (ipykernel)",
   "language": "python",
   "name": "python3"
  },
  "language_info": {
   "codemirror_mode": {
    "name": "ipython",
    "version": 3
   },
   "file_extension": ".py",
   "mimetype": "text/x-python",
   "name": "python",
   "nbconvert_exporter": "python",
   "pygments_lexer": "ipython3",
   "version": "3.11.7"
  }
 },
 "nbformat": 4,
 "nbformat_minor": 4
}
