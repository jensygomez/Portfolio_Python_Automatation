{
 "cells": [
  {
   "cell_type": "markdown",
   "metadata": {},
   "source": [
    "**Author:**       Jensy Gregorio Gómez \n",
    "---------------------------------------\n",
    "**Profession:**  IT Support Analyst and Automatation with Python\n",
    "\n",
    "**Date:**         23 March 2024     \n",
    "\n",
    "**Resolved** 28 March 2024 --> 12 April 2024\n",
    "\n",
    "**Location:**     Vila Izabel, Curitiba/PR  \n",
    "\n",
    "\n",
    "---\n",
    "\n",
    "**Contacto:**\n",
    "\n",
    "- **Email:** [contact@jensygomez.us](mailto:contact@jensygomez.us)\n",
    "- **YouTube:** [Tu Canal de YouTube](https://www.youtube.com/@systechcwb826)\n",
    "- **LinkedIn:** [Tu Perfil de LinkedIn](https://www.linkedin.com/in/jensygomez/)\n",
    "\n",
    "\n"
   ]
  },
  {
   "cell_type": "markdown",
   "metadata": {},
   "source": [
    "***"
   ]
  },
  {
   "cell_type": "markdown",
   "metadata": {},
   "source": [
    "**Título:** \n",
    "# Generador de Números Impares\n",
    "\n",
    "**Escenario:** Un programa que genera una lista de números impares hasta un cierto límite especificado por el usuario.\n",
    "\n",
    "Paso a paso:\n",
    "1. Define una función llamada `odd_numbers` que tome un parámetro `n` que representará el límite superior hasta el cual se generarán números impares.\n",
    "2. Dentro de la función, utiliza una comprensión de lista para generar una lista de números impares en el rango de 1 a `n`, inclusive, utilizando la expresión `x % 2 != 0` para filtrar los números impares.\n",
    "3. Retorna la lista de números impares generados.\n",
    "4. Fuera de la función, prueba la función `odd_numbers` con diferentes valores y muestra los resultados con la función `print`.\n"
   ]
  },
  {
   "cell_type": "code",
   "execution_count": null,
   "metadata": {},
   "outputs": [],
   "source": [
    "# 1. - Definición de la función:\n",
    "#    - Define una función llamada (odd_numbers) que toma un parámetro (n).\n",
    "\n",
    "    # 2. - Generar números impares:\n",
    "    #    - Utiliza una comprensión de lista para generar una lista de números desde 1 hasta n (inclusive) utilizando range(1, n + 1).\n",
    "    #    - Filtra los números utilizando una condición para mantener solo aquellos que son impares utilizando el operador de módulo %.\n",
    "\n",
    "# 3. - Retorno de la lista de números impares:\n",
    "#    - Retorna la lista de números impares generada en el paso anterior.\n",
    "\n",
    "# 4. - Impresión de los resultados:\n",
    "#    - Llama a la función odd_numbers con diferentes valores de n para probarla.\n",
    "#    - Imprime los resultados para verificar que la función esté funcionando correctamente.\n",
    "\n",
    "print(odd_numbers(5))   # Debería imprimir [1, 3, 5]\n",
    "print(odd_numbers(10))  # Debería imprimir [1, 3, 5, 7, 9]\n",
    "print(odd_numbers(11))  # Debería imprimir [1, 3, 5, 7, 9, 11]\n",
    "print(odd_numbers(1))   # Debería imprimir [1]\n",
    "print(odd_numbers(-1))  # Debería imprimir []"
   ]
  },
  {
   "cell_type": "code",
   "execution_count": 1,
   "metadata": {},
   "outputs": [
    {
     "name": "stdout",
     "output_type": "stream",
     "text": [
      "[1, 3, 5]\n",
      "[1, 3, 5, 7, 9]\n",
      "[1, 3, 5, 7, 9, 11]\n",
      "[1]\n",
      "[]\n"
     ]
    }
   ],
   "source": [
    "\n",
    "def odd_numbers(n):\n",
    "    return [x for x in range(1, n + 1) if x % 2 != 0]\n",
    "\n",
    "print(odd_numbers(5))   # Debería imprimir [1, 3, 5]\n",
    "print(odd_numbers(10))  # Debería imprimir [1, 3, 5, 7, 9]\n",
    "print(odd_numbers(11))  # Debería imprimir [1, 3, 5, 7, 9, 11]\n",
    "print(odd_numbers(1))   # Debería imprimir [1]\n",
    "print(odd_numbers(-1))  # Debería imprimir []\n",
    "\n",
    "\n"
   ]
  }
 ],
 "metadata": {
  "kernelspec": {
   "display_name": "Python 3 (ipykernel)",
   "language": "python",
   "name": "python3"
  },
  "language_info": {
   "codemirror_mode": {
    "name": "ipython",
    "version": 3
   },
   "file_extension": ".py",
   "mimetype": "text/x-python",
   "name": "python",
   "nbconvert_exporter": "python",
   "pygments_lexer": "ipython3",
   "version": "3.11.8"
  }
 },
 "nbformat": 4,
 "nbformat_minor": 4
}
