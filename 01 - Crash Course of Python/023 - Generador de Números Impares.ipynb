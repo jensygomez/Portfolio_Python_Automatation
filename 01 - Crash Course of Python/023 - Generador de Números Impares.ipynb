{
 "cells": [
  {
   "cell_type": "markdown",
   "metadata": {},
   "source": [
    "**Author:**       Jensy Gregorio Gómez \n",
    "---------------------------------------\n",
    "**Profession:**  IT Support Analyst and Automatation with Python\n",
    "\n",
    "**Date:**         23 March 2024     \n",
    "\n",
    "**Location:**     Vila Izabel, Curitiba/PR  \n",
    "\n",
    "\n",
    "---\n",
    "\n",
    "**Contacto:**\n",
    "\n",
    "- **Email:** [contact@jensygomez.us](mailto:contact@jensygomez.us)\n",
    "- **YouTube:** [Tu Canal de YouTube](https://www.youtube.com/@systechcwb826)\n",
    "- **LinkedIn:** [Tu Perfil de LinkedIn](https://www.linkedin.com/in/jensygomez/)\n",
    "\n",
    "\n"
   ]
  },
  {
   "cell_type": "markdown",
   "metadata": {},
   "source": [
    "***"
   ]
  },
  {
   "cell_type": "markdown",
   "metadata": {},
   "source": [
    "**Título:** \n",
    "# Generador de Números Impares\n",
    "\n",
    "**Escenario:** Un programa que genera una lista de números impares hasta un cierto límite especificado por el usuario.\n",
    "\n",
    "Paso a paso:\n",
    "1. Define una función llamada `odd_numbers` que tome un parámetro `n` que representará el límite superior hasta el cual se generarán números impares.\n",
    "2. Dentro de la función, utiliza una comprensión de lista para generar una lista de números impares en el rango de 1 a `n`, inclusive, utilizando la expresión `x % 2 != 0` para filtrar los números impares.\n",
    "3. Retorna la lista de números impares generados.\n",
    "4. Fuera de la función, prueba la función `odd_numbers` con diferentes valores y muestra los resultados con la función `print`.\n"
   ]
  },
  {
   "cell_type": "code",
   "execution_count": null,
   "metadata": {},
   "outputs": [],
   "source": [
    "\n",
    "# Definición de la función \"odd_numbers\" que toma un argumento \"n\"\n",
    "\n",
    "    # Retorna una lista de números impares dentro del rango [1, n] usando una comprensión de lista.\n",
    "\n",
    "print(odd_numbers(5))   # Debería imprimir [1, 3, 5]\n",
    "print(odd_numbers(10))  # Debería imprimir [1, 3, 5, 7, 9]\n",
    "print(odd_numbers(11))  # Debería imprimir [1, 3, 5, 7, 9, 11]\n",
    "print(odd_numbers(1))   # Debería imprimir [1]\n",
    "print(odd_numbers(-1))  # Debería imprimir []"
   ]
  },
  {
   "cell_type": "code",
   "execution_count": 1,
   "metadata": {},
   "outputs": [
    {
     "name": "stdout",
     "output_type": "stream",
     "text": [
      "[1, 3, 5]\n",
      "[1, 3, 5, 7, 9]\n",
      "[1, 3, 5, 7, 9, 11]\n",
      "[1]\n",
      "[]\n"
     ]
    }
   ],
   "source": [
    "\n",
    "def odd_numbers(n):\n",
    "    return [x for x in range(1, n + 1) if x % 2 != 0]\n",
    "\n",
    "print(odd_numbers(5))   # Debería imprimir [1, 3, 5]\n",
    "print(odd_numbers(10))  # Debería imprimir [1, 3, 5, 7, 9]\n",
    "print(odd_numbers(11))  # Debería imprimir [1, 3, 5, 7, 9, 11]\n",
    "print(odd_numbers(1))   # Debería imprimir [1]\n",
    "print(odd_numbers(-1))  # Debería imprimir []\n",
    "\n",
    "\n"
   ]
  }
 ],
 "metadata": {
  "kernelspec": {
   "display_name": "Python 3 (ipykernel)",
   "language": "python",
   "name": "python3"
  },
  "language_info": {
   "codemirror_mode": {
    "name": "ipython",
    "version": 3
   },
   "file_extension": ".py",
   "mimetype": "text/x-python",
   "name": "python",
   "nbconvert_exporter": "python",
   "pygments_lexer": "ipython3",
   "version": "3.12.2"
  }
 },
 "nbformat": 4,
 "nbformat_minor": 4
}
