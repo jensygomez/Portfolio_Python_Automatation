{
 "cells": [
  {
   "cell_type": "markdown",
   "metadata": {},
   "source": [
    "**Author:**       Jensy Gregorio Gómez \n",
    "---------------------------------------\n",
    "**Profession:**  IT Support Analyst and Automatation with Python\n",
    "\n",
    "**Date:**         12 March 2024     \n",
    "\n",
    "**Resolved** 19 March 2024\n",
    "\n",
    "**Location:**     Vila Izabel, Curitiba/PR  \n",
    "\n",
    "\n",
    "---\n",
    "\n",
    "**Contacto:**\n",
    "\n",
    "- **Email:** [contact@jensygomez.us](mailto:contact@jensygomez.us)\n",
    "- **YouTube:** [Tu Canal de YouTube](https://www.youtube.com/@systechcwb826)\n",
    "- **LinkedIn:** [Tu Perfil de LinkedIn](https://www.linkedin.com/in/jensygomez/)\n",
    "\n",
    "\n"
   ]
  },
  {
   "cell_type": "markdown",
   "metadata": {},
   "source": [
    "**Title:** \n",
    "# Palindrome Checker\n",
    "\n",
    "**Description:**\n",
    "You've been tasked with creating a function that determines whether a given string is a palindrome or not. A palindrome is a word, phrase, number, or other sequence of characters that reads the same forward and backward, disregarding spaces and considering case insensitively.\n",
    "\n",
    "**Step-by-Step Guide:**\n",
    "\n",
    "1. **Define the function:** Start by defining a function called `is_palindrome` which takes one parameter, `input_string`, representing the string to be checked for palindrome property.\n",
    "\n",
    "2. **Initialize variables:** Inside the function, initialize two empty strings, `new_string` and `reverse_string`, to hold the processed string and its reverse, respectively.\n",
    "\n",
    "3. **Iterate through the input string:** Use a for loop to iterate through each character in the `input_string`.\n",
    "\n",
    "4. **Process the characters:** Within the loop, check if the current character is not a space. If it's not a space, add it to both `new_string` and `reverse_string`.\n",
    "\n",
    "5. **Compare processed strings:** After processing the input string, compare `new_string` and `reverse_string`. Since palindromes are case-insensitive, convert both strings to lowercase before comparison.\n",
    "\n",
    "6. **Return the result:** If `new_string` is equal to `reverse_string`, return `True`, indicating that the input string is a palindrome. Otherwise, return `False`.\n",
    "\n",
    "7. **Test the function:** Outside the function definition, test the function with various inputs to ensure it behaves as expected."
   ]
  },
  {
   "cell_type": "code",
   "execution_count": 2,
   "metadata": {},
   "outputs": [
    {
     "name": "stdout",
     "output_type": "stream",
     "text": [
      "True\n",
      "False\n",
      "True\n",
      "True\n"
     ]
    }
   ],
   "source": [
    "# Step 1: Define the function `is_palindrome` which takes one parameter, `input_string`\n",
    "\n",
    "    \n",
    "    # Step 2: Initialize variables\n",
    "    #initialize two empty strings, `new_string` and `reverse_string`,\n",
    "\n",
    "    \n",
    "    \n",
    "    \n",
    "    # Step 3: Iterate through the input string\n",
    "    # Use a for loop to iterate through each character in the `input_string`.\n",
    "        \n",
    "        # Step 4: Process the characters\n",
    "        # Within the loop, check if the current character is not a space. If it's not a space, add it to both `new_string` and `reverse_string`.\n",
    "            \n",
    "            \n",
    "            # Add the letter to the end of new_string\n",
    "            \n",
    "            # Add the letter to the front of reverse_string\n",
    "            \n",
    "    # Step 5: Compare processed strings\n",
    "    # Compare `new_string` and `reverse_string`. \n",
    "    # Since palindromes are case-insensitive, convert both strings to lowercase before comparison.\n",
    "        \n",
    "        # Step 6: Return the result\n",
    "\n",
    "\n",
    "\n",
    "\n",
    "# Step 7: Test the function\n",
    "print(is_palindrome(\"Never Odd or Even\"))  # Should be True\n",
    "print(is_palindrome(\"abc\"))  # Should be False\n",
    "print(is_palindrome(\"kayak\"))  # Should be True\n",
    "print(is_palindrome(\"Anita lava la tina\"))# Should be True\n"
   ]
  },
  {
   "cell_type": "code",
   "execution_count": null,
   "metadata": {},
   "outputs": [],
   "source": [
    "def is_palindrome(input_string):\n",
    "    new_string = \"\"\n",
    "    reverse_string = \"\"\n",
    "    \n",
    "    for letter in input_string:\n",
    "        if letter != \" \":\n",
    "            new_string = new_string + letter\n",
    "            reverse_string = letter + reverse_string\n",
    "            \n",
    "    if new_string.lower() == reverse_string.lower():\n",
    "        return True\n",
    "    return False\n",
    "\n",
    "print(is_palindrome(\"Never Odd or Even\"))  # Should be True\n",
    "print(is_palindrome(\"abc\"))  # Should be False\n",
    "print(is_palindrome(\"kayak\"))  # Should be True\n"
   ]
  }
 ],
 "metadata": {
  "kernelspec": {
   "display_name": "Python 3 (ipykernel)",
   "language": "python",
   "name": "python3"
  },
  "language_info": {
   "codemirror_mode": {
    "name": "ipython",
    "version": 3
   },
   "file_extension": ".py",
   "mimetype": "text/x-python",
   "name": "python",
   "nbconvert_exporter": "python",
   "pygments_lexer": "ipython3",
   "version": "3.10.12"
  }
 },
 "nbformat": 4,
 "nbformat_minor": 4
}
