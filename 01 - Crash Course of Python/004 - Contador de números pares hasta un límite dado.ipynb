{
 "cells": [
  {
   "cell_type": "markdown",
   "metadata": {},
   "source": [
    "**Author:**       Jensy Gregorio Gómez \n",
    "---------------------------------------\n",
    "**Profession:**  IT Support Analyst and Automatation with Python\n",
    "\n",
    "**Date:**         08 March 2024  \n",
    "\n",
    "**Modified** 12 March 2024 --> 25 March 2024\n",
    "\n",
    "**Location:**     Vila Izabel, Curitiba/PR  \n",
    "\n",
    "\n",
    "---\n",
    "\n",
    "**Contacto:**\n",
    "\n",
    "- **Email:** [contact@jensygomez.us](mailto:contact@jensygomez.us)\n",
    "- **YouTube:** [Tu Canal de YouTube](https://www.youtube.com/@systechcwb826)\n",
    "- **LinkedIn:** [Tu Perfil de LinkedIn](https://www.linkedin.com/in/jensygomez/)\n",
    "\n",
    "\n"
   ]
  },
  {
   "cell_type": "markdown",
   "metadata": {},
   "source": [
    "\n",
    "**Título:** \n",
    "# Contador de números pares hasta un límite dado\n",
    "\n",
    "**Escenario:** Un programa para contar la cantidad de números pares dentro de un rango dado.\n",
    "\n",
    "**Paso a paso:**\n",
    "1. Definir una función llamada `even_numbers` que tome un parámetro `n`.\n",
    "2. Inicializar dos variables locales dentro de la función: `count` para contar los números pares y `current_number` para representar el número actual en el ciclo.\n",
    "3. Utilizar un bucle `while` para iterar a través de los números desde 0 hasta `n`, inclusivo.\n",
    "4. Dentro del bucle, verificar si el `current_number` es par mediante el operador de módulo `%`. Si el residuo de dividir `current_number` entre 2 es 0, incrementar el contador `count`.\n",
    "5. Incrementar `current_number` en cada iteración del bucle.\n",
    "6. Retornar el valor de `count` después de salir del bucle.\n",
    "7. Fuera de la función, llamar a `even_numbers` con diferentes valores de entrada e imprimir los resultados esperados para verificar su funcionamiento."
   ]
  },
  {
   "cell_type": "code",
   "execution_count": 1,
   "metadata": {},
   "outputs": [
    {
     "name": "stdout",
     "output_type": "stream",
     "text": [
      "13\n",
      "73\n",
      "501\n",
      "1\n"
     ]
    }
   ],
   "source": [
    "# Definir una función llamada `even_numbers` que tome un parámetro `n`.\n",
    "\n",
    " \n",
    "    # Inicializar dos variables locales dentro de la función: `count` para contar los números pares\n",
    "    # y `current_number` para representar el número actual en el ciclo.\n",
    "    \n",
    "\n",
    "    # Utilizar un bucle `while` para iterar a través de los números desde 0 hasta `n`, inclusivo.\n",
    "\n",
    "\n",
    "        # Dentro del bucle, verificar si el `current_number` es par mediante el operador de módulo `%`. \n",
    "        # Si el residuo de dividir `current_number` entre 2 es 0, incrementar el contador `count`.\n",
    "\n",
    "\n",
    "            \n",
    "            # Incrementa el contador si el número actual es par\n",
    "        \n",
    "        # Incrementar `current_number` en cada iteración del bucle.\n",
    "       \n",
    "    \n",
    "    # Retornar el valor de `count` después de salir del bucle.\n",
    "\n",
    "\n",
    "\n",
    "# Step 8: Test the function with different values of n to ensure it works correctly.\n",
    "print(even_numbers(25))    # Should print 13\n",
    "print(even_numbers(144))   # Should print 73\n",
    "print(even_numbers(1000))  # Should print 501\n",
    "print(even_numbers(0))     # Should print 1\n"
   ]
  },
  {
   "cell_type": "code",
   "execution_count": 1,
   "metadata": {},
   "outputs": [
    {
     "name": "stdout",
     "output_type": "stream",
     "text": [
      "13\n",
      "73\n",
      "501\n",
      "1\n"
     ]
    }
   ],
   "source": [
    "def even_numbers(n):\n",
    "    count = 0\n",
    "    current_number = 0\n",
    "    \n",
    "    while current_number <= n:\n",
    "        if current_number % 2 == 0:\n",
    "            count += 1\n",
    "        current_number += 1\n",
    "    \n",
    "    return count\n",
    "\n",
    "print(even_numbers(25))    # Should print 13\n",
    "print(even_numbers(144))   # Should print 73\n",
    "print(even_numbers(1000))  # Should print 501\n",
    "print(even_numbers(0))     # Should print 1\n"
   ]
  }
 ],
 "metadata": {
  "kernelspec": {
   "display_name": "Python 3 (ipykernel)",
   "language": "python",
   "name": "python3"
  },
  "language_info": {
   "codemirror_mode": {
    "name": "ipython",
    "version": 3
   },
   "file_extension": ".py",
   "mimetype": "text/x-python",
   "name": "python",
   "nbconvert_exporter": "python",
   "pygments_lexer": "ipython3",
   "version": "3.11.7"
  }
 },
 "nbformat": 4,
 "nbformat_minor": 4
}
