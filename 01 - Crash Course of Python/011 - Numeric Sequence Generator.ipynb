{
 "cells": [
  {
   "cell_type": "markdown",
   "metadata": {},
   "source": [
    "**Author:**       Jensy Gregorio Gómez \n",
    "---------------------------------------\n",
    "**Profession:**  IT Support Analyst and Automatation with Python\n",
    "\n",
    "**Date:**         12 March 2024     \n",
    "\n",
    "**Location:**     Vila Izabel, Curitiba/PR  \n",
    "\n",
    "\n",
    "---\n",
    "\n",
    "**Contacto:**\n",
    "\n",
    "- **Email:** [contact@jensygomez.us](mailto:contact@jensygomez.us)\n",
    "- **YouTube:** [Tu Canal de YouTube](https://www.youtube.com/@systechcwb826)\n",
    "- **LinkedIn:** [Tu Perfil de LinkedIn](https://www.linkedin.com/in/jensygomez/)\n",
    "\n",
    "\n"
   ]
  },
  {
   "cell_type": "markdown",
   "metadata": {},
   "source": [
    "\n",
    "# **Title: Numeric Sequence Generator**\n",
    "\n",
    "**Statement:** Write a function called `generate_numeric_sequence` that takes two integers, `start` and `end`, and returns a string containing all the integers in the range from `start` to `end`, both inclusive, separated by a space.\n",
    "\n",
    "**Step-by-step:**\n",
    "\n",
    "1.  Define a function called `generate_numeric_sequence` that takes two parameters: `start` and `end`.\n",
    "2.  Initialize a variable named `numeric_string` as an empty string.\n",
    "3.  Use a `for` loop to iterate over the range of numbers from `start` to `end`, inclusive. You can use the `range(start, end+1)` function to ensure that the end number is included in the sequence.\n",
    "4.  Inside the loop, convert each number to a string using the `str()` function and then concatenate it to the `numeric_string` variable. Make sure to add a space after each concatenated number.\n",
    "5.  After exiting the loop, use the `.strip()` method to remove any extra space at the end of the string.\n",
    "6.  Finally, return the `numeric_string`.\n"
   ]
  },
  {
   "cell_type": "code",
   "execution_count": null,
   "metadata": {},
   "outputs": [],
   "source": [
    "# Step 0: Define a function called \"all_numbers\" that takes two parameters: \"minimum\" and \"maximum\".\n",
    "\n",
    "    \n",
    "    \n",
    "\n",
    "    \n",
    "    # Initializes variable as a string\n",
    "    # Step 1: Complete the for loop with a range that includes all\n",
    "    # numbers up to and including the \"maximum\" value.\n",
    "\n",
    "        \n",
    "        \n",
    "        # Step 2: Complete the body of the loop by appending the number\n",
    "        # followed by a space to the \"return_string\" variable.\n",
    "\n",
    "        \n",
    "        \n",
    "    # Step 3: This .strip command will remove the final \" \" space\n",
    "    # at the end of the \"return_string\".\n",
    "\n",
    "\n",
    "\n",
    "\n",
    "print(all_numbers(2,6)) # Should be 2 3 4 5 6\n",
    "print(all_numbers(3,10)) # Should be 3 4 5 6 7 8 9 10\n",
    "print(all_numbers(-1,1)) # Should be -1 0 1\n",
    "print(all_numbers(0,5)) # Should be 0 1 2 3 4 5\n",
    "print(all_numbers(0,0)) # Should be 0\n",
    "\n"
   ]
  },
  {
   "cell_type": "code",
   "execution_count": null,
   "metadata": {},
   "outputs": [],
   "source": [
    "def all_numbers(minimum, maximum):\n",
    "    return_string = \"\"\n",
    "    for i in range(minimum, maximum+1):\n",
    "        return_string += str(i) + \" \"\n",
    "    return return_string.strip()\n",
    "\n",
    "print(all_numbers(2,6)) # Should be 2 3 4 5 6\n",
    "print(all_numbers(3,10)) # Should be 3 4 5 6 7 8 9 10\n",
    "print(all_numbers(-1,1)) # Should be -1 0 1\n",
    "print(all_numbers(0,5)) # Should be 0 1 2 3 4 5\n",
    "print(all_numbers(0,0)) # Should be 0\n"
   ]
  }
 ],
 "metadata": {
  "kernelspec": {
   "display_name": "Python 3 (ipykernel)",
   "language": "python",
   "name": "python3"
  },
  "language_info": {
   "codemirror_mode": {
    "name": "ipython",
    "version": 3
   },
   "file_extension": ".py",
   "mimetype": "text/x-python",
   "name": "python",
   "nbconvert_exporter": "python",
   "pygments_lexer": "ipython3",
   "version": "3.10.12"
  }
 },
 "nbformat": 4,
 "nbformat_minor": 4
}
