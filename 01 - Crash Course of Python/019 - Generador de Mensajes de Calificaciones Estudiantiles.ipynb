{
 "cells": [
  {
   "cell_type": "markdown",
   "metadata": {},
   "source": [
    "**Author:**       Jensy Gregorio Gómez \n",
    "---------------------------------------\n",
    "**Profession:**  IT Support Analyst and Automatation with Python\n",
    "\n",
    "**Date:**         17 March 2024     \n",
    "\n",
    "**Location:**     Vila Izabel, Curitiba/PR  \n",
    "\n",
    "\n",
    "---\n",
    "\n",
    "**Contacto:**\n",
    "\n",
    "- **Email:** [contact@jensygomez.us](mailto:contact@jensygomez.us)\n",
    "- **YouTube:** [Tu Canal de YouTube](https://www.youtube.com/@systechcwb826)\n",
    "- **LinkedIn:** [Tu Perfil de LinkedIn](https://www.linkedin.com/in/jensygomez/)\n",
    "\n",
    "\n"
   ]
  },
  {
   "cell_type": "markdown",
   "metadata": {},
   "source": [
    "***"
   ]
  },
  {
   "cell_type": "markdown",
   "metadata": {},
   "source": [
    "\n",
    "**Título:**\n",
    "# Generador de Mensajes de Calificaciones Estudiantiles\n",
    "\n",
    "**Enunciado:**\n",
    "Este código genera un mensaje de calificación para un estudiante en un examen. Utiliza el formato de cadena para producir una frase que indique el nombre del estudiante y el porcentaje obtenido en el examen.\n",
    "\n",
    "**Pasos a seguir:**\n",
    "1. Define una función llamada `student_grade` que toma dos parámetros: `name` para el nombre del estudiante y `grade` para el porcentaje de calificación obtenido en el examen.\n",
    "2. Dentro de la función, utiliza el método `format` para crear un mensaje de salida. El formato del mensaje debe ser \"{} received {}% on the exam\", donde el primer par de llaves `{}` se reemplaza por el nombre del estudiante y el segundo par de llaves `{}` se reemplaza por el porcentaje de calificación.\n",
    "3. Devuelve el mensaje generado.\n",
    "4. Ejemplo de uso: Llama a la función `student_grade` con el nombre del estudiante y su calificación en el examen como argumentos. Por ejemplo, `print(student_grade(\"Reed\", 80))`.\n",
    "5. El resultado será una frase que indica el nombre del estudiante y el porcentaje obtenido en el examen, como \"Reed received 80% on the exam\"."
   ]
  },
  {
   "cell_type": "code",
   "execution_count": 1,
   "metadata": {},
   "outputs": [
    {
     "name": "stdout",
     "output_type": "stream",
     "text": [
      "Reed received 80% on the exam\n",
      "Reed received 80% on the exam\n",
      "Paige received 92% on the exam\n",
      "Samuel received 85% on the exam\n"
     ]
    }
   ],
   "source": [
    "# Paso 1: Define una función llamada student_grade que toma dos parámetros: name para el nombre del estudiante y grade para el porcentaje de calificación obtenido en el examen.\n",
    "\n",
    "\n",
    "    # Paso 2: Dentro de la función, utiliza el método format para crear un mensaje de salida. El formato del mensaje debe ser \"{} received {}% on the exam\", donde el primer par de llaves {} se reemplaza por el nombre del estudiante y el segundo par de llaves {} se reemplaza por el porcentaje de calificación.\n",
    "\n",
    "\n",
    "\n",
    "# Paso 4: Ejemplo de uso: Llama a la función student_grade con el nombre del estudiante y su calificación en el examen como argumentos. Por ejemplo, print(student_grade(\"Reed\", 80)).\n",
    "# Paso 5: El resultado será una frase que indica el nombre del estudiante y el porcentaje obtenido en el examen, como \"Reed received 80% on the exam\".\n",
    "# Example usage:\n",
    "print(student_grade(\"Reed\", 80))\n",
    "print(student_grade(\"Reed\", 80))\n",
    "print(student_grade(\"Paige\", 92))\n",
    "print(student_grade(\"Samuel\", 85))\n"
   ]
  },
  {
   "cell_type": "markdown",
   "metadata": {},
   "source": [
    "***"
   ]
  },
  {
   "cell_type": "code",
   "execution_count": null,
   "metadata": {},
   "outputs": [],
   "source": [
    "def student_grade(name, grade):\n",
    "    return \"{} received {}% on the exam\".format(name, grade)\n",
    "\n",
    "print(student_grade(\"Reed\", 80))\n",
    "print(student_grade(\"Reed\", 80))\n",
    "print(student_grade(\"Paige\", 92))\n",
    "print(student_grade(\"Samuel\", 85))\n"
   ]
  }
 ],
 "metadata": {
  "kernelspec": {
   "display_name": "Python 3 (ipykernel)",
   "language": "python",
   "name": "python3"
  },
  "language_info": {
   "codemirror_mode": {
    "name": "ipython",
    "version": 3
   },
   "file_extension": ".py",
   "mimetype": "text/x-python",
   "name": "python",
   "nbconvert_exporter": "python",
   "pygments_lexer": "ipython3",
   "version": "3.10.12"
  }
 },
 "nbformat": 4,
 "nbformat_minor": 4
}
