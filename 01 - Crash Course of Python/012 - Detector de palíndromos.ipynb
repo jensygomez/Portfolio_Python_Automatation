{
 "cells": [
  {
   "cell_type": "markdown",
   "metadata": {},
   "source": [
    "**Author:**       Jensy Gregorio Gómez \n",
    "---------------------------------------\n",
    "**Profession:**  IT Support Analyst and Automatation with Python\n",
    "\n",
    "**Date:**         12 March 2024     \n",
    "\n",
    "**Resolved** 19 March 2024 --> 07 April 2024\n",
    "\n",
    "**Location:**     Vila Izabel, Curitiba/PR  \n",
    "\n",
    "\n",
    "---\n",
    "\n",
    "**Contacto:**\n",
    "\n",
    "- **Email:** [contact@jensygomez.us](mailto:contact@jensygomez.us)\n",
    "- **YouTube:** [Tu Canal de YouTube](https://www.youtube.com/@systechcwb826)\n",
    "- **LinkedIn:** [Tu Perfil de LinkedIn](https://www.linkedin.com/in/jensygomez/)\n",
    "\n",
    "\n"
   ]
  },
  {
   "cell_type": "markdown",
   "metadata": {},
   "source": [
    "**Título:** \n",
    "# Detector de palíndromos\n",
    "\n",
    "**Escenario:** Un programador desea crear una función en Python que determine si una cadena de texto es un palíndromo o no. Un palíndromo es una palabra, frase, número u otra secuencia de caracteres que se lee igual hacia adelante que hacia atrás.\n",
    "\n",
    "Paso a paso:\n",
    "\n",
    "1. Define una función llamada `is_palindrome` que acepte un parámetro `input_string`.\n",
    "2. Inicializa dos variables dentro de la función: `new_string` y `reverse_string`, ambas asignadas a cadenas de texto vacías.\n",
    "3. Itera sobre cada letra en la cadena de entrada (`input_string`) utilizando un bucle `for`.\n",
    "4. Dentro del bucle, verifica si la letra actual no es un espacio en blanco. Si es así, añádela a las cadenas `new_string` y `reverse_string`.\n",
    "5. Para `new_string`, agrega la letra normalmente al final de la cadena.\n",
    "6. Para `reverse_string`, añade la letra al principio de la cadena, invirtiendo así la cadena original.\n",
    "7. Después de salir del bucle, compara `new_string` y `reverse_string`, ignorando las diferencias de mayúsculas y minúsculas.\n",
    "8. Si son iguales, devuelve `True`, indicando que la cadena es un palíndromo. De lo contrario, devuelve `False`.\n",
    "9. Fuera de la función, realiza algunas pruebas imprimiendo el resultado de la función `is_palindrome` con diferentes cadenas de texto, como \"Never Odd or Even\", \"abc\" y \"kayak\".\n",
    "\n"
   ]
  },
  {
   "cell_type": "code",
   "execution_count": null,
   "metadata": {},
   "outputs": [],
   "source": [
    "# 1. Define una función llamada `is_palindrome` que acepte un parámetro `input_string`.\n",
    "\n",
    "    # 2. Inicializa dos variables dentro de la función: `new_string` y `reverse_string`, ambas asignadas a cadenas de texto vacías.\n",
    "\n",
    "\n",
    "    # 3. Itera sobre cada letra (letter) en la cadena de entrada (`input_string`) utilizando un bucle `for`.\n",
    "\n",
    "        # 4. Dentro del bucle, verifica SI la letra actual no es un espacio en blanco.\n",
    "        # Si es así, añádela a las cadenas `new_string` y `reverse_string`.\n",
    "\n",
    "            # 5. Para `new_string`, agrega la letra normalmente al final de la cadena.\n",
    "\n",
    "            # 6. Para `reverse_string`, añade la letra al principio de la cadena, invirtiendo así la cadena original.\n",
    "\n",
    "    # 7. Después de salir del bucle (for), compara `new_string` y `reverse_string`, \n",
    "    # ignorando las diferencias de mayúsculas y minúsculas.\n",
    "\n",
    "        # 8. Si son iguales, devuelve `True`, indicando que la cadena es un palíndromo.\n",
    "\n",
    "    # De lo contrario, devuelve `False`.\n",
    "\n",
    "# 9. Fuera de la función, realiza algunas pruebas imprimiendo el resultado de la función `is_palindrome` con diferentes cadenas de texto, como \"Never Odd or Even\", \"abc\" y \"kayak\".\n",
    "\n",
    "\n"
   ]
  },
  {
   "cell_type": "code",
   "execution_count": null,
   "metadata": {},
   "outputs": [],
   "source": [
    "def is_palindrome(input_string):\n",
    "    new_string = \"\"\n",
    "    reverse_string = \"\"\n",
    "    \n",
    "    for letter in input_string:\n",
    "        if letter != \" \":\n",
    "            new_string = new_string + letter\n",
    "            reverse_string = letter + reverse_string\n",
    "            \n",
    "    if new_string.lower() == reverse_string.lower():\n",
    "        return True\n",
    "    return False\n",
    "\n",
    "print(is_palindrome(\"Never Odd or Even\"))  # Should be True\n",
    "print(is_palindrome(\"abc\"))  # Should be False\n",
    "print(is_palindrome(\"kayak\"))  # Should be True\n"
   ]
  }
 ],
 "metadata": {
  "kernelspec": {
   "display_name": "Python 3 (ipykernel)",
   "language": "python",
   "name": "python3"
  },
  "language_info": {
   "codemirror_mode": {
    "name": "ipython",
    "version": 3
   },
   "file_extension": ".py",
   "mimetype": "text/x-python",
   "name": "python",
   "nbconvert_exporter": "python",
   "pygments_lexer": "ipython3",
   "version": "3.11.7"
  }
 },
 "nbformat": 4,
 "nbformat_minor": 4
}
