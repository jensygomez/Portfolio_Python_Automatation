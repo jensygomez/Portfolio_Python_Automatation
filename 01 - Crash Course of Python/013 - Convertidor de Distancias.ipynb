{
 "cells": [
  {
   "cell_type": "markdown",
   "metadata": {},
   "source": [
    "**Author:**       Jensy Gregorio Gómez \n",
    "---------------------------------------\n",
    "**Profession:**  IT Support Analyst and Automatation with Python\n",
    "\n",
    "**Date:**         12 March 2024    \n",
    "\n",
    "**Modified** 18 March 2024 --> 30 March 2024\n",
    "\n",
    "**Location:**     Vila Izabel, Curitiba/PR  \n",
    "\n",
    "\n",
    "---\n",
    "\n",
    "**Contacto:**\n",
    "\n",
    "- **Email:** [contact@jensygomez.us](mailto:contact@jensygomez.us)\n",
    "- **YouTube:** [Tu Canal de YouTube](https://www.youtube.com/@systechcwb826)\n",
    "- **LinkedIn:** [Tu Perfil de LinkedIn](https://www.linkedin.com/in/jensygomez/)\n",
    "\n",
    "\n"
   ]
  },
  {
   "cell_type": "markdown",
   "metadata": {},
   "source": [
    "**Título:** \n",
    "# Convertidor de Distancias\n",
    "\n",
    "**Escenario: Cálculo de Distancias en Kilómetros desde Millas**\n",
    "\n",
    "**Paso a Paso:**\n",
    "\n",
    "1. **Definición de la Función:**\n",
    "   - Crear una función llamada `convert_distance` que toma un parámetro `miles`, que representa la distancia en millas.\n",
    "   - Dentro de la función, calcular la distancia equivalente en kilómetros multiplicando las millas por 1.6 y redondeando el resultado a un decimal.\n",
    "   - Formatear una cadena que indique la distancia en millas y kilómetros.\n",
    "   - Devolver esta cadena formateada.\n",
    "\n",
    "2. **Ejecución y Prueba:**\n",
    "   - Llamar a la función `convert_distance` con diferentes valores de millas.\n",
    "   - Mostrar el resultado de cada llamada utilizando la función `print`.\n",
    "\n",
    "3. **Resultados Esperados:**\n",
    "   - Para 12 millas, se espera \"12 miles equals 19.2 km\".\n",
    "   - Para 5.5 millas, se espera \"5.5 miles equals 8.8 km\".\n",
    "   - Para 11 millas, se espera \"11 miles equals 17.6 km\"."
   ]
  },
  {
   "cell_type": "code",
   "execution_count": 2,
   "metadata": {},
   "outputs": [
    {
     "name": "stdout",
     "output_type": "stream",
     "text": [
      "124 miles is equal to 198.4 Kilometerss\n",
      "5.5 miles is equal to 8.8 Kilometerss\n",
      "11 miles is equal to 17.6 Kilometerss\n"
     ]
    }
   ],
   "source": [
    "# 1. Definición de la Función:\n",
    "#    - Crear una función llamada `convert_distance` que toma un parámetro `miles`, que representa la distancia en millas.\n",
    "\n",
    "    #    - Dentro de la función, calcular la distancia equivalente en kilómetros (km) multiplicando las millas por 1.6 y redondeando el resultado a un decimal.\n",
    "\n",
    "    #    - Asignale a la variable (result) Formatear una cadena que indique la distancia en millas y kilómetros.\n",
    "\n",
    "#    - Devolver esta cadena formateada.\n",
    "\n",
    "# 2. **Ejecución y Prueba:**\n",
    "#    - Llamar a la función `convert_distance` con diferentes valores de millas.\n",
    "#   - Mostrar el resultado de cada llamada utilizando la función `print`.\n",
    "\n",
    "\n",
    "\n",
    "print(convert_distance(124))  # Should be: 12 miles equals 19.2 km\n",
    "print(convert_distance(5.5))  # Should be: 5.5 miles equals 8.8 km\n",
    "print(convert_distance(11))   # Should be: 11 miles equals 17.6 km\n",
    "\n"
   ]
  },
  {
   "cell_type": "code",
   "execution_count": null,
   "metadata": {},
   "outputs": [],
   "source": [
    "def convert_distance(miles):\n",
    "    km = round(miles * 1.6, 1)\n",
    "    result = \"{} miles equals {} km\".format(miles, km)\n",
    "    return result\n",
    "\n",
    "print(convert_distance(12))  # Should be: 12 miles equals 19.2 km\n",
    "print(convert_distance(5.5))  # Should be: 5.5 miles equals 8.8 km\n",
    "print(convert_distance(11))   # Should be: 11 miles equals 17.6 km\n"
   ]
  }
 ],
 "metadata": {
  "kernelspec": {
   "display_name": "Python 3 (ipykernel)",
   "language": "python",
   "name": "python3"
  },
  "language_info": {
   "codemirror_mode": {
    "name": "ipython",
    "version": 3
   },
   "file_extension": ".py",
   "mimetype": "text/x-python",
   "name": "python",
   "nbconvert_exporter": "python",
   "pygments_lexer": "ipython3",
   "version": "3.11.7"
  }
 },
 "nbformat": 4,
 "nbformat_minor": 4
}
