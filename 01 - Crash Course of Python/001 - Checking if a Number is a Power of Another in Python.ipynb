{
 "cells": [
  {
   "cell_type": "code",
   "execution_count": null,
   "metadata": {},
   "outputs": [],
   "source": []
  },
  {
   "cell_type": "markdown",
   "metadata": {},
   "source": [
    "**Author:**       Jensy Gregorio Gómez \n",
    "---------------------------------------\n",
    "**Profession:**  IT Support Analyst and Automatation with Python\n",
    "\n",
    "**Date:**         06 March 2024\n",
    "\n",
    "**Revision**      09 March 2024\n",
    "\n",
    "**Location:**     Vila Izabel, Curitiba/PR  \n",
    "\n",
    "\n",
    "---\n",
    "\n",
    "**Contacto:**\n",
    "\n",
    "- **Email:** [contact@jensygomez.us](mailto:contact@jensygomez.us)\n",
    "- **YouTube:** [Tu Canal de YouTube](https://www.youtube.com/@systechcwb826)\n",
    "- **LinkedIn:** [Tu Perfil de LinkedIn](https://www.linkedin.com/in/jensygomez/)\n",
    "\n",
    "\n"
   ]
  },
  {
   "cell_type": "markdown",
   "metadata": {},
   "source": [
    "## Exercise Title: Checking if a Number is a Power of Another in Python\n",
    "\n",
    "**Exercise Description:**\n",
    "\n",
    "Write a Python function named `is_power_of` that takes two parameters: `number` and `base`. This function should determine if **number** is a power of **base**. The function should return `True` if **number** is a power of **base**, otherwise, it should return `False`.\n",
    "\n",
    "**Step-by-Step Solution:**\n",
    "\n",
    "1. Define a function called `is_power_of` that takes two parameters: **number** and **base**.\n",
    "2. In the function body, establish a base case: if **number** is less than **base**, check if **number** is equal to 1. If so, return `True`, as any number raised to 0 equals 1.\n",
    "3. If **number** is not less than **base**, make a recursive call to `is_power_of` by dividing **number** by **base**. This is done to check if **number** can be reduced to 1 through repeated division by **base**.\n",
    "4. Continue repeating step 3 until **number** is less than **base**.\n",
    "5. Finally, if the number is reduced to 1, return `True`, indicating that **number** is a power of **base**. Otherwise, return `False`.\n",
    "\n",
    "This approach utilizes recursion to divide the original number by the base until one of the base conditions is met, determining whether the number is a power of the base or not.\n"
   ]
  },
  {
   "cell_type": "markdown",
   "metadata": {},
   "source": [
    "# Step by Step:"
   ]
  },
  {
   "cell_type": "markdown",
   "metadata": {},
   "source": [
    "### **Step 1**: Define a function called `is_power_of` that takes two parameters: **number** and **base**.\n",
    "\n",
    "Defining the function **is_power_of** that will determine if a number is a power of another number. It takes two parameters: number (the number to be tested) and base (the base number).\n",
    "\n"
   ]
  },
  {
   "cell_type": "code",
   "execution_count": null,
   "metadata": {},
   "outputs": [],
   "source": [
    "# STEP 1: Define a function called is_power_of that takes two parameters: number and base.\n",
    "def is_power_of(number, base):\n",
    "\n",
    "    # STEP 2: Establish a base case: if number is less than base, check if number is equal to 1\n",
    "    if number < base:\n",
    "            \n",
    "        \n",
    "        # If number is equal to 1, return True, as any number raised to 0 equals 1.\n",
    "        number == 1\n",
    "        return True\n",
    "\n",
    "\n",
    "\n",
    "    # STEP 3: If number is not less than base, make a recursive call to is_power_of by dividing number by base.\n",
    "    else:\n",
    "        return is_power_of(number/base, base)\n",
    "\n",
    "\n",
    "# STEP 4: Continue repeating step 3 until number is less than base.\n",
    "\n",
    "    \n",
    "# STEP 5: Finally, if the number is reduced to 1, return True, indicating that number is a power of base. Otherwise, return False.\n",
    "\n",
    "print(is_power_of(8,2)) # Should be True\n",
    "print(is_power_of(64,4)) # Should be True\n",
    "print(is_power_of(70,10)) # Should be False\n"
   ]
  }
 ],
 "metadata": {
  "kernelspec": {
   "display_name": "Python 3 (ipykernel)",
   "language": "python",
   "name": "python3"
  },
  "language_info": {
   "codemirror_mode": {
    "name": "ipython",
    "version": 3
   },
   "file_extension": ".py",
   "mimetype": "text/x-python",
   "name": "python",
   "nbconvert_exporter": "python",
   "pygments_lexer": "ipython3",
   "version": "3.12.2"
  }
 },
 "nbformat": 4,
 "nbformat_minor": 4
}
