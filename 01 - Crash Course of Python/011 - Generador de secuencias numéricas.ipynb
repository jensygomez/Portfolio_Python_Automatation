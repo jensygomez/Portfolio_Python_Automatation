{
 "cells": [
  {
   "cell_type": "markdown",
   "metadata": {},
   "source": [
    "**Author:**       Jensy Gregorio Gómez \n",
    "---------------------------------------\n",
    "**Profession:**  IT Support Analyst and Automatation with Python\n",
    "\n",
    "**Date:**         12 March 2024  \n",
    "\n",
    "**Modified** 15 March 2024 --> 27 March 2024 --> 03 April 2024\n",
    "\n",
    "**Location:**     Vila Izabel, Curitiba/PR  \n",
    "\n",
    "\n",
    "---\n",
    "\n",
    "**Contacto:**\n",
    "\n",
    "- **Email:** [contact@jensygomez.us](mailto:contact@jensygomez.us)\n",
    "- **YouTube:** [Tu Canal de YouTube](https://www.youtube.com/@systechcwb826)\n",
    "- **LinkedIn:** [Tu Perfil de LinkedIn](https://www.linkedin.com/in/jensygomez/)\n",
    "\n",
    "\n"
   ]
  },
  {
   "cell_type": "markdown",
   "metadata": {},
   "source": [
    "**Título:** \n",
    "# Generador de secuencias numéricas\n",
    "\n",
    "**Escenario:** En el ámbito de la programación, a menudo es necesario generar secuencias de números dentro de un rango específico. Este script proporciona una función que genera una secuencia de números enteros dentro de un rango dado.\n",
    "\n",
    "**Pasos a seguir:**\n",
    "1. **Definición de la función:** Se define una función llamada `all_numbers` que toma dos parámetros: `minimum` (mínimo) y `maximum` (máximo), que representan el inicio y el final de la secuencia respectivamente.\n",
    "   \n",
    "2. **Inicialización de la cadena de retorno:** Se inicializa una cadena vacía llamada `return_string` que se utilizará para almacenar los números generados en formato de cadena.\n",
    "   \n",
    "3. **Generación de la secuencia:** Se utiliza un bucle `for` para iterar sobre todos los números en el rango desde `minimum` hasta `maximum+1`. Se suma 1 a `maximum` para asegurar que el número máximo esté incluido en la secuencia.\n",
    "   \n",
    "4. **Concatenación de números:** En cada iteración del bucle, el número actual se convierte en una cadena utilizando `str(i)` y luego se concatena con un espacio en blanco a la cadena `return_string`.\n",
    "   \n",
    "5. **Eliminación de espacio adicional:** Después de que se han agregado todos los números a la cadena `return_string`, se utiliza el método `strip()` para eliminar cualquier espacio en blanco adicional al principio o al final de la cadena.\n",
    "   \n",
    "6. **Retorno de la cadena de números:** Se devuelve la cadena de números generada.\n",
    "   \n",
    "7. **Ejemplo de uso:** Se realizan varias llamadas de ejemplo a la función `all_numbers` con diferentes rangos de números y se imprime el resultado."
   ]
  },
  {
   "cell_type": "code",
   "execution_count": null,
   "metadata": {},
   "outputs": [],
   "source": [
    "# 1. Se define una función llamada `all_numbers` que toma dos parámetros: `minimum` (mínimo) y `maximum` (máximo), \n",
    "# que representan el inicio y el final de la secuencia respectivamente.\n",
    "\n",
    "\n",
    "    # 2. Se inicializa una cadena vacía llamada `return_string` que se utilizará para almacenar los números generados en formato de cadena.\n",
    "\n",
    "    # 3. Se utiliza un bucle `for` (i) para iterar sobre todos los números en el rango desde `minimum` hasta `maximum+1`. \n",
    "    # Se suma 1 a `maximum` para asegurar que el número máximo esté incluido en la secuencia.\n",
    "\n",
    "        # 4. En cada iteración del bucle, el número actual se convierte en una cadena utilizando `str(i)`\n",
    "        # y luego se concatena con un espacio en blanco a la cadena `return_string`.\n",
    "\n",
    "    # 5. Después de que se han agregado todos los números a la cadena `return_string`, \n",
    "    # Se devuelve la cadena de números generada., y se utiliza el método `strip()` para eliminar cualquier espacio en blanco adicional al principio o al final de la cadena.\n",
    "\n",
    "   \n",
    "print(all_numbers(2,6)) # Should be 2 3 4 5 6\n",
    "print(all_numbers(3,10)) # Should be 3 4 5 6 7 8 9 10\n",
    "print(all_numbers(-1,1)) # Should be -1 0 1\n",
    "print(all_numbers(0,5)) # Should be 0 1 2 3 4 5\n",
    "print(all_numbers(0,0)) # Should be 0\n",
    "\n"
   ]
  },
  {
   "cell_type": "code",
   "execution_count": null,
   "metadata": {},
   "outputs": [],
   "source": [
    "def all_numbers(minimum, maximum):\n",
    "    return_string = \"\"\n",
    "    for i in range(minimum, maximum+1):\n",
    "        return_string += str(i) + \" \"\n",
    "    return return_string.strip()\n",
    "\n",
    "print(all_numbers(2,6)) # Should be 2 3 4 5 6\n",
    "print(all_numbers(3,10)) # Should be 3 4 5 6 7 8 9 10\n",
    "print(all_numbers(-1,1)) # Should be -1 0 1\n",
    "print(all_numbers(0,5)) # Should be 0 1 2 3 4 5\n",
    "print(all_numbers(0,0)) # Should be 0\n"
   ]
  }
 ],
 "metadata": {
  "kernelspec": {
   "display_name": "Python 3 (ipykernel)",
   "language": "python",
   "name": "python3"
  },
  "language_info": {
   "codemirror_mode": {
    "name": "ipython",
    "version": 3
   },
   "file_extension": ".py",
   "mimetype": "text/x-python",
   "name": "python",
   "nbconvert_exporter": "python",
   "pygments_lexer": "ipython3",
   "version": "3.11.7"
  }
 },
 "nbformat": 4,
 "nbformat_minor": 4
}
