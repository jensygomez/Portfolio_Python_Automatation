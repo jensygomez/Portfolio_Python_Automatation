{
 "cells": [
  {
   "cell_type": "markdown",
   "metadata": {},
   "source": [
    "**Author:**       Jensy Gregorio Gómez \n",
    "---------------------------------------\n",
    "**Profession:**  IT Support Analyst and Automatation with Python\n",
    "\n",
    "**Date:**         20 March 2024     \n",
    "\n",
    "**Resolved** 23 March 2024 --> 31 March 2024 --> 26 April 2024\n",
    "\n",
    "**Location:**     Vila Izabel, Curitiba/PR  \n",
    "\n",
    "\n",
    "---\n",
    "\n",
    "**Contacto:**\n",
    "\n",
    "- **Email:** [contact@jensygomez.us](mailto:contact@jensygomez.us)\n",
    "- **YouTube:** [Tu Canal de YouTube](https://www.youtube.com/@systechcwb826)\n",
    "- **LinkedIn:** [Tu Perfil de LinkedIn](https://www.linkedin.com/in/jensygomez/)\n",
    "\n",
    "\n"
   ]
  },
  {
   "cell_type": "markdown",
   "metadata": {},
   "source": [
    "***"
   ]
  },
  {
   "cell_type": "markdown",
   "metadata": {},
   "source": [
    "# Generador de Correos Electronicos\n",
    "\n",
    "**Eres un desarrollador** en **DigitalConnect**, una **empresa de marketing digital**. Tu **jefe** te pide **generar direcciones de correo electrónico** para una **lista de clientes potenciales** que solo incluye sus **nombres de usuario**. Necesitan estas direcciones para **enviar campañas de correo electrónico** y **convertir** a estos **clientes potenciales en clientes reales**.\n",
    "\n",
    "Para resolver este problema, **desarrollas un programa** que **combina los nombres de usuario** con el **dominio de correo electrónico** de **DigitalConnect** para **generar direcciones de correo electrónico completas**. Después de **escribir y probar el código**, lo **entregas al equipo de marketing**, permitiéndoles **crear fácilmente listas de correo electrónico** para sus **campañas de marketing digital**.\n",
    "\n",
    "Con esta **herramienta**, **DigitalConnect** puede **optimizar su proceso** de **generación de listas de correo electrónico**, lo que les permite **enviar campañas más efectivas** y **alcanzar a su audiencia** de manera más **rápida y eficiente**.\n",
    "\n",
    "**Paso a Paso**\n",
    "\n",
    "1. Define una función llamada `email_list` que toma un diccionario llamado `domains` como argumento.\n",
    "\n",
    "2. Inicializa una lista vacía llamada `emails`.\n",
    "\n",
    "3. Itera sobre cada par clave-valor en el diccionario `domains` utilizando el método `items()`. El primer valor (domain) es el dominio del correo electrónico, y el segundo valor (list_users) es una lista de usuarios asociados con ese dominio.\n",
    "\n",
    "4. Dentro del bucle externo, iteras sobre cada usuario en la lista de usuarios asociados con el dominio actual.\n",
    "\n",
    "5. Concatena el usuario y el dominio utilizando el carácter `@` y agrega este correo electrónico resultante a la lista `emails`.\n",
    "\n",
    "6. Después de que se han iterado todos los usuarios asociados con un dominio, el bucle exterior pasa al siguiente dominio y repite el proceso.\n",
    "\n",
    "7. Una vez que se han procesado todos los dominios y usuarios, la función devuelve la lista completa de correos electrónicos.\n",
    "\n",
    "8. Finalmente, imprime la lista de correos electrónicos devuelta por la función `email_list` utilizando un diccionario de ejemplo como argumento para `domains`.\n",
    "\n",
    "Entonces, la salida del código será una lista de correos electrónicos que combinan los usuarios con los dominios dados. Por ejemplo:\n",
    "\n",
    "```\n",
    "['clark.kent@gmail.com', 'diana.prince@gmail.com', 'peter.parker@gmail.com', 'barbara.gordon@yahoo.com', 'jean.grey@yahoo.com', 'bruce.wayne@hotmail.com']\n",
    "```\n"
   ]
  },
  {
   "cell_type": "code",
   "execution_count": 2,
   "metadata": {},
   "outputs": [
    {
     "name": "stdout",
     "output_type": "stream",
     "text": [
      "['clark.kent@systech.com', 'diana.prince@systech.com', 'peter.parker@systech.com', 'barbara.gordon@yahoo.com', 'jean.grey@yahoo.com', 'bruce.wayne@hotmail.com']\n"
     ]
    }
   ],
   "source": [
    "# 1. Define una función llamada `email_list` que toma un diccionario llamado `domains` como argumento.\n",
    "\n",
    "    # 2. Inicializa una lista vacía llamada `emails`.\n",
    "\n",
    "    # 3. Itera sobre cada par clave-valor en el diccionario `domains` utilizando el método `items()`. \n",
    "    # El primer valor (domain) es el dominio del correo electrónico, y el segundo valor (list_users) es una lista de usuarios asociados con ese dominio.\n",
    "\n",
    "        # 4. Dentro del bucle externo, iteras sobre cada usuario en la lista de usuarios asociados con el dominio actual.\n",
    "\n",
    "            # 5. Concatena el usuario y el dominio utilizando el carácter `@` y agrega este correo electrónico resultante a la lista `emails`.\n",
    "\n",
    "    # 6. Después de que se han iterado todos los usuarios asociados con un dominio, el bucle exterior pasa al siguiente dominio y repite el proceso.\n",
    "\n",
    "    # 7. Una vez que se han procesado todos los dominios y usuarios, la función devuelve la lista completa de correos electrónicos.\n",
    "\n",
    "\n",
    "# 8. Finalmente, imprime la lista de correos electrónicos devuelta por la función `email_list` utilizando un diccionario de ejemplo como argumento para `domains`.\n",
    "# Entonces, la salida del código será una lista de correos electrónicos que combinan los usuarios con los dominios dados. Por ejemplo:\n",
    "\n"
   ]
  },
  {
   "cell_type": "markdown",
   "metadata": {},
   "source": [
    "***"
   ]
  },
  {
   "cell_type": "code",
   "execution_count": 3,
   "metadata": {},
   "outputs": [
    {
     "name": "stdout",
     "output_type": "stream",
     "text": [
      "['clark.kent@gmail.com', 'diana.prince@gmail.com', 'peter.parker@gmail.com', 'barbara.gordon@yahoo.com', 'jean.grey@yahoo.com', 'bruce.wayne@hotmail.com']\n"
     ]
    }
   ],
   "source": [
    "def email_list(domains):\n",
    "    emails = []\n",
    "    for domain, list_users in domains.items():\n",
    "        for user in list_users:\n",
    "            emails.append(user + \"@\" + domain)\n",
    "    return emails\n",
    "\n",
    "print(email_list({\"gmail.com\": [\"clark.kent\", \"diana.prince\", \"peter.parker\"], \"yahoo.com\": [\"barbara.gordon\", \"jean.grey\"], \"hotmail.com\": [\"bruce.wayne\"]}))\n"
   ]
  }
 ],
 "metadata": {
  "kernelspec": {
   "display_name": "Python 3 (ipykernel)",
   "language": "python",
   "name": "python3"
  },
  "language_info": {
   "codemirror_mode": {
    "name": "ipython",
    "version": 3
   },
   "file_extension": ".py",
   "mimetype": "text/x-python",
   "name": "python",
   "nbconvert_exporter": "python",
   "pygments_lexer": "ipython3",
   "version": "3.11.7"
  }
 },
 "nbformat": 4,
 "nbformat_minor": 4
}
