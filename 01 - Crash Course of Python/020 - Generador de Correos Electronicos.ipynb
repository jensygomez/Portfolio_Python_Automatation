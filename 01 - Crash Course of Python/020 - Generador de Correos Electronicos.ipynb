{
 "cells": [
  {
   "cell_type": "markdown",
   "metadata": {},
   "source": [
    "**Author:**       Jensy Gregorio Gómez \n",
    "---------------------------------------\n",
    "**Profession:**  IT Support Analyst and Automatation with Python\n",
    "\n",
    "**Date:**         20 March 2024     \n",
    "\n",
    "**Resolved** 23 March 2024\n",
    "\n",
    "**Location:**     Vila Izabel, Curitiba/PR  \n",
    "\n",
    "\n",
    "---\n",
    "\n",
    "**Contacto:**\n",
    "\n",
    "- **Email:** [contact@jensygomez.us](mailto:contact@jensygomez.us)\n",
    "- **YouTube:** [Tu Canal de YouTube](https://www.youtube.com/@systechcwb826)\n",
    "- **LinkedIn:** [Tu Perfil de LinkedIn](https://www.linkedin.com/in/jensygomez/)\n",
    "\n",
    "\n"
   ]
  },
  {
   "cell_type": "markdown",
   "metadata": {},
   "source": [
    "***"
   ]
  },
  {
   "cell_type": "markdown",
   "metadata": {},
   "source": [
    "# Generador de Correos Electronicos\n",
    "\n",
    "**Eres un desarrollador** en **DigitalConnect**, una **empresa de marketing digital**. Tu **jefe** te pide **generar direcciones de correo electrónico** para una **lista de clientes potenciales** que solo incluye sus **nombres de usuario**. Necesitan estas direcciones para **enviar campañas de correo electrónico** y **convertir** a estos **clientes potenciales en clientes reales**.\n",
    "\n",
    "Para resolver este problema, **desarrollas un programa** que **combina los nombres de usuario** con el **dominio de correo electrónico** de **DigitalConnect** para **generar direcciones de correo electrónico completas**. Después de **escribir y probar el código**, lo **entregas al equipo de marketing**, permitiéndoles **crear fácilmente listas de correo electrónico** para sus **campañas de marketing digital**.\n",
    "\n",
    "Con esta **herramienta**, **DigitalConnect** puede **optimizar su proceso** de **generación de listas de correo electrónico**, lo que les permite **enviar campañas más efectivas** y **alcanzar a su audiencia** de manera más **rápida y eficiente**.\n"
   ]
  },
  {
   "cell_type": "code",
   "execution_count": 1,
   "metadata": {},
   "outputs": [
    {
     "name": "stdout",
     "output_type": "stream",
     "text": [
      "['clark.kent@gmail.com', 'diana.prince@gmail.com', 'peter.parker@gmail.com', 'barbara.gordon@yahoo.com', 'jean.grey@yahoo.com', 'bruce.wayne@hotmail.com']\n"
     ]
    }
   ],
   "source": [
    "# Define la función \"email_list\" que toma como argumento \"domains\" un diccionario de dominios y nombres de usuario como entrada\n",
    "\n",
    "\n",
    "    # Inicializa una lista vacía \"emails\", para almacenar las direcciones de correo electrónico\n",
    "\n",
    "\n",
    "    # Itera sobre cada par clave-valor en el diccionario (domain, list_users)\n",
    "\n",
    "\n",
    "        # Itera sobre cada usuario en la lista de usuarios para el dominio actual\n",
    "\n",
    "\n",
    "            # Concatena el nombre de usuario con el dominio y lo agrega a la lista de correos electrónicos \"emails\"\n",
    "\n",
    "\n",
    "    # Devuelve la lista de direcciones de correo electrónico\n",
    "\n",
    "\n",
    "# Llama a la función email_list con un diccionario de ejemplo y luego imprime el resultado\n",
    "print(email_list({\"gmail.com\": [\"clark.kent\", \"diana.prince\", \"peter.parker\"], \"yahoo.com\": [\"barbara.gordon\", \"jean.grey\"], \"hotmail.com\": [\"bruce.wayne\"]}))\n"
   ]
  },
  {
   "cell_type": "markdown",
   "metadata": {},
   "source": [
    "***"
   ]
  },
  {
   "cell_type": "code",
   "execution_count": null,
   "metadata": {},
   "outputs": [],
   "source": [
    "def email_list(domains):\n",
    "    emails = []\n",
    "    for domain, list_users in domains.items():\n",
    "        for user in list_users:\n",
    "            emails.append(user + \"@\" + domain)\n",
    "    return emails\n",
    "\n",
    "print(email_list({\"gmail.com\": [\"clark.kent\", \"diana.prince\", \"peter.parker\"], \"yahoo.com\": [\"barbara.gordon\", \"jean.grey\"], \"hotmail.com\": [\"bruce.wayne\"]}))\n"
   ]
  }
 ],
 "metadata": {
  "kernelspec": {
   "display_name": "Python 3 (ipykernel)",
   "language": "python",
   "name": "python3"
  },
  "language_info": {
   "codemirror_mode": {
    "name": "ipython",
    "version": 3
   },
   "file_extension": ".py",
   "mimetype": "text/x-python",
   "name": "python",
   "nbconvert_exporter": "python",
   "pygments_lexer": "ipython3",
   "version": "3.12.2"
  }
 },
 "nbformat": 4,
 "nbformat_minor": 4
}
