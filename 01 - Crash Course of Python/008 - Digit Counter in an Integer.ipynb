{
 "cells": [
  {
   "cell_type": "markdown",
   "metadata": {},
   "source": [
    "**Author:**       Jensy Gregorio Gómez \n",
    "---------------------------------------\n",
    "**Profession:**  IT Support Analyst and Automatation with Python\n",
    "\n",
    "**Date:**         11 March 2024     \n",
    "\n",
    "**Location:**     Vila Izabel, Curitiba/PR  \n",
    "\n",
    "\n",
    "---\n",
    "\n",
    "**Contacto:**\n",
    "\n",
    "- **Email:** [contact@jensygomez.us](mailto:contact@jensygomez.us)\n",
    "- **YouTube:** [Tu Canal de YouTube](https://www.youtube.com/@systechcwb826)\n",
    "- **LinkedIn:** [Tu Perfil de LinkedIn](https://www.linkedin.com/in/jensygomez/)\n",
    "\n",
    "\n"
   ]
  },
  {
   "cell_type": "markdown",
   "metadata": {},
   "source": [
    "\n",
    "# **Digit Counter in an Integer**\n",
    "\n",
    "**Statement:**\n",
    "Develop a Python function called `digits` that counts the number of **digits** in a given integer. This function should return the number of **digits** present in the given number.\n",
    "\n",
    "**Step-by-step:**\n",
    "1. Begin by defining a function named `digits` that takes a parameter `n`, representing the integer from which the **digits** will be counted.\n",
    "2. Initialize a variable `count` with the value 0. This variable will be used to keep track of the **digits**.\n",
    "3. Implement a condition to check if `n` equals 0. If so, increment `count` by 1, as 0 has a single **digit**.\n",
    "4. Use a `while` loop to continue dividing `n` by 10 until `n` becomes 0.\n",
    "5. In each iteration of the `while` loop, divide `n` by 10 using integer division `//`.\n",
    "6. Increment `count` by 1 in each iteration of the `while` loop.\n",
    "7. Once `n` has become 0, exit the `while` loop.\n",
    "8. Return the value of `count`, which now represents the number of **digits** in the original given number.\n",
    "9. Test the `digits` function with different integers to verify its correct operation."
   ]
  },
  {
   "cell_type": "code",
   "execution_count": 1,
   "metadata": {},
   "outputs": [
    {
     "name": "stdout",
     "output_type": "stream",
     "text": [
      "2\n",
      "3\n",
      "4\n",
      "1\n"
     ]
    }
   ],
   "source": [
    "# Step 1: Define a function called digits that takes a parameter 'n'\n",
    "\n",
    "    \n",
    "    # Step 2: Initialize a variable to count digits\n",
    "    \n",
    "    # Step 3: Check if the number is 0\n",
    "    \n",
    "        # Increment count by 1 if the number is 0\n",
    "        \n",
    "    # Step 4: Continue loop until n becomes 0\n",
    "    \n",
    "        # Step 5: Divide n by 10 in each iteration\n",
    "        \n",
    "        # Step 6: Increment count by 1 in each iteration\n",
    "        \n",
    "    # Step 8: Return the count of digits\n",
    "\n",
    "# Step 9: Test the digits function\n",
    "print(digits(25))    # Should print 2\n",
    "print(digits(144))   # Should print 3\n",
    "print(digits(1000))  # Should print 4\n",
    "print(digits(0))     # Should print 1\n"
   ]
  }
 ],
 "metadata": {
  "kernelspec": {
   "display_name": "Python 3 (ipykernel)",
   "language": "python",
   "name": "python3"
  },
  "language_info": {
   "codemirror_mode": {
    "name": "ipython",
    "version": 3
   },
   "file_extension": ".py",
   "mimetype": "text/x-python",
   "name": "python",
   "nbconvert_exporter": "python",
   "pygments_lexer": "ipython3",
   "version": "3.10.12"
  }
 },
 "nbformat": 4,
 "nbformat_minor": 4
}
