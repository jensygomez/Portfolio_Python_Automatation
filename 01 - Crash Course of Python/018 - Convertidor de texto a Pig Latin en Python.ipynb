{
 "cells": [
  {
   "cell_type": "markdown",
   "metadata": {},
   "source": [
    "**Author:**       Jensy Gregorio Gómez \n",
    "---------------------------------------\n",
    "**Profession:**  IT Support Analyst and Automatation with Python\n",
    "\n",
    "**Date:**         17 March 2024 \n",
    "\n",
    "**Resolved** 21 March 2024\n",
    "\n",
    "**Location:**     Vila Izabel, Curitiba/PR  \n",
    "\n",
    "\n",
    "---\n",
    "\n",
    "**Contacto:**\n",
    "\n",
    "- **Email:** [contact@jensygomez.us](mailto:contact@jensygomez.us)\n",
    "- **YouTube:** [Tu Canal de YouTube](https://www.youtube.com/@systechcwb826)\n",
    "- **LinkedIn:** [Tu Perfil de LinkedIn](https://www.linkedin.com/in/jensygomez/)\n",
    "\n",
    "\n"
   ]
  },
  {
   "cell_type": "markdown",
   "metadata": {},
   "source": [
    "***"
   ]
  },
  {
   "cell_type": "markdown",
   "metadata": {},
   "source": [
    "### Título:\n",
    "Convertidor de texto a Pig Latin en Python\n",
    "\n",
    "\n",
    "**Escenario:**  Imagina que estás trabajando en un proyecto para desarrollar un programa que traduzca texto común al lenguaje Pig Latin. El Pig Latin es un juego de palabras que se utiliza comúnmente en inglés. En este juego, se toma la primera letra de cada palabra, se coloca al final de la palabra, se agrega \"ay\", y luego se elimina la primera letra original. Por ejemplo, la palabra \"hello\" se convierte en \"ellohay\". Para hacerlo, has decidido crear una función en Python llamada `pig_latin`.\n",
    "\n",
    "### Enunciado o Descripción:\n",
    "Este programa toma una cadena de texto como entrada y la convierte en Pig Latin, un juego de palabras popularmente utilizado. En Pig Latin, las palabras se transforman moviendo la primera letra al final de la palabra y agregando \"ay\". Por ejemplo, la palabra \"hello\" se convierte en \"ellohay\". Este programa implementa esta conversión para una cadena de texto completa.\n",
    "\n",
    "### Step-by-Step:\n",
    "\n",
    "1. **Definir la función `pig_latin(text)`:**\n",
    "   - Esta función toma una cadena de texto como entrada y devuelve la versión convertida a Pig Latin.\n",
    "   \n",
    "2. **Inicializar una cadena vacía `say`:**\n",
    "   - Esta cadena se usará para almacenar el resultado final de la conversión.\n",
    "   \n",
    "3. **Separar el texto en palabras:**\n",
    "   - Utilizamos el método `split()` para dividir la cadena en una lista de palabras.\n",
    "\n",
    "4. **Iterar sobre cada palabra en la lista `words`:**\n",
    "   - Para cada palabra en la lista, realizaremos la conversión a Pig Latin.\n",
    "   \n",
    "5. **Crear la palabra en Pig Latin y agregarla a la cadena `say`:**\n",
    "   - Para cada palabra, movemos la primera letra al final de la palabra, luego agregamos \"ay\" al final.\n",
    "   - Concatenamos la palabra convertida a la cadena `say`.\n",
    "   \n",
    "6. **Retornar la cadena finalizada:**\n",
    "   - Después de terminar el procesamiento de todas las palabras, eliminamos cualquier espacio adicional y retornamos la cadena resultante.\n",
    "\n",
    "7. **Imprimir los resultados:**\n",
    "   - Ejecutamos la función `pig_latin()` con algunas cadenas de prueba e imprimimos los resultados para verificar la conversión correcta a Pig Latin.\n",
    "\n",
    "Con este programa, puedes convertir fácilmente una cadena de texto en Pig Latin y explorar este juego de palabras divertido y educativo."
   ]
  },
  {
   "cell_type": "code",
   "execution_count": 4,
   "metadata": {},
   "outputs": [
    {
     "name": "stdout",
     "output_type": "stream",
     "text": [
      "ellohay owhay reaay ouyay\n",
      "rogrammingpay niay ythonpay siay unfay\n"
     ]
    }
   ],
   "source": [
    "\n",
    "# Paso 1: Definir la función `pig_latin(text)`:\n",
    "# Esta función toma una cadena de texto como entrada y devuelve la versión convertida a Pig Latin.\n",
    "\n",
    "\n",
    "    # Paso 2: Inicializar una cadena vacía `say`:\n",
    "    # Esta cadena se usará para almacenar el resultado final de la conversión.\n",
    "\n",
    "    \n",
    "\n",
    "    # Paso 3: Separar el texto en palabras:\n",
    "    # Utilizamos el método `split()` para dividir la cadena en una lista de palabras. \n",
    "    # Inicializa la variable \"words\", que almacena el parametro de la funcion (text)\n",
    "\n",
    "\n",
    "    # Paso 4: Iterar sobre cada palabra (word) en la lista `words`:\n",
    "    # Para cada palabra en la lista, realizaremos la conversión a Pig Latin.\n",
    "\n",
    "            \n",
    "        # Paso 5: Crear la palabra en Pig Latin y agregarla a la cadena `say`:\n",
    "        # Para cada palabra, movemos la primera letra al final de la palabra, luego agregamos \"ay\" al final.\n",
    "        # Concatenamos la palabra convertida a la cadena `say`.\n",
    "\n",
    " \n",
    "    # Paso 6: Retornar la cadena finalizada:\n",
    "    # Después de terminar el procesamiento de todas las palabras, eliminamos cualquier espacio adicional y retornamos la cadena resultante.\n",
    "\n",
    "\n",
    "print(pig_latin(\"hello how are you\")) # Debería ser \"ellohay owhay reaay ouyay\"\n",
    "print(pig_latin(\"programming in python is fun\")) # Debería ser \"rogrammingpay niay ythonpay siay unfay\"\n"
   ]
  },
  {
   "cell_type": "code",
   "execution_count": 1,
   "metadata": {},
   "outputs": [
    {
     "name": "stdout",
     "output_type": "stream",
     "text": [
      "ellohay owhay reaay ouyay\n",
      "rogrammingpay niay ythonpay siay unfay\n"
     ]
    }
   ],
   "source": [
    "def pig_latin(text):\n",
    "    say = \"\"\n",
    "    words = text.split()\n",
    "    for word in words:\n",
    "        say += word[1:] + word[0] + \"ay\" + \" \"\n",
    "    return say.strip()\n",
    "\n",
    "print(pig_latin(\"hello how are you\")) \n",
    "print(pig_latin(\"programming in python is fun\"))\n"
   ]
  }
 ],
 "metadata": {
  "kernelspec": {
   "display_name": "Python 3 (ipykernel)",
   "language": "python",
   "name": "python3"
  },
  "language_info": {
   "codemirror_mode": {
    "name": "ipython",
    "version": 3
   },
   "file_extension": ".py",
   "mimetype": "text/x-python",
   "name": "python",
   "nbconvert_exporter": "python",
   "pygments_lexer": "ipython3",
   "version": "3.11.7"
  }
 },
 "nbformat": 4,
 "nbformat_minor": 4
}
