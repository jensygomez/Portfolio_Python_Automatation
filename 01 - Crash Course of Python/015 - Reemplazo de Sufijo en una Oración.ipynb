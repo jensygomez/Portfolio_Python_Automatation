{
 "cells": [
  {
   "cell_type": "markdown",
   "metadata": {},
   "source": [
    "**Author:**       Jensy Gregorio Gómez \n",
    "---------------------------------------\n",
    "**Profession:**  IT Support Analyst and Automatation with Python\n",
    "\n",
    "**Date:**         16 March 2024     \n",
    "\n",
    "**Resolved** 19 March 2024 --> 28 March 2024\n",
    "\n",
    "**Location:**     Vila Izabel, Curitiba/PR  \n",
    "\n",
    "\n",
    "---\n",
    "\n",
    "**Contacto:**\n",
    "\n",
    "- **Email:** [contact@jensygomez.us](mailto:contact@jensygomez.us)\n",
    "- **YouTube:** [Tu Canal de YouTube](https://www.youtube.com/@systechcwb826)\n",
    "- **LinkedIn:** [Tu Perfil de LinkedIn](https://www.linkedin.com/in/jensygomez/)\n",
    "\n",
    "\n"
   ]
  },
  {
   "cell_type": "markdown",
   "metadata": {},
   "source": [
    "**Título:**\n",
    "# Reemplazo de Sufijo en una Oración\n",
    "\n",
    "**Escenario:**\n",
    "Supongamos que estás desarrollando una función en Python llamada `replace_ending` que toma una oración, un sufijo antiguo y un sufijo nuevo. Esta función tiene como objetivo reemplazar el sufijo antiguo por el nuevo, solo si el sufijo antiguo es el último conjunto de caracteres en la oración.\n",
    "\n",
    "**Paso a Paso:**\n",
    "\n",
    "1. **Definición de la función:**  \n",
    "   - Define una función llamada `replace_ending` que toma tres parámetros: `sentence` (la oración original), `old` (el sufijo antiguo que se desea reemplazar) y `new` (el sufijo nuevo que se utilizará como reemplazo).\n",
    "\n",
    "2. **Verificar si la oración termina con el sufijo antiguo:**\n",
    "   - Utiliza el método `endswith()` para verificar si `sentence` termina con el sufijo `old`.\n",
    "   - Si la oración termina con el sufijo antiguo, continúa con el siguiente paso. De lo contrario, retorna la oración original sin cambios.\n",
    "\n",
    "3. **Determinar la posición del sufijo antiguo:**\n",
    "   - Calcula la posición en la oración donde comienza el sufijo antiguo restando la longitud del sufijo antiguo (`old`) de la longitud total de la oración.\n",
    "\n",
    "4. **Crear la nueva oración:**\n",
    "   - Utiliza la porción de la oración desde el inicio hasta la posición calculada del sufijo antiguo.\n",
    "   - Concatena esta porción con el sufijo nuevo (`new`).\n",
    "\n",
    "5. **Retornar la nueva oración:**\n",
    "   - Devuelve la nueva oración obtenida después de reemplazar el sufijo antiguo con el sufijo nuevo.\n",
    "\n",
    "6. **Imprimir los resultados:**\n",
    "   - Llama a la función `replace_ending` con diferentes oraciones y sufijos antiguos y nuevos para probarla.\n",
    "   - Imprime los resultados para verificar que la función esté funcionando correctamente.\n",
    "\n"
   ]
  },
  {
   "cell_type": "code",
   "execution_count": null,
   "metadata": {},
   "outputs": [],
   "source": [
    "# 1. Definición de la función:  \n",
    "#   - Define una función llamada `replace_ending` que toma tres parámetros:\n",
    "# `sentence` (la oración original), `old` (el sufijo antiguo que se desea reemplazar) y `new` (el sufijo nuevo que se utilizará como reemplazo).\n",
    "\n",
    "   \n",
    "    #2. Verificar si la oración termina con el sufijo antiguo:\n",
    "    #   - Utiliza el método `endswith()` para verificar si `sentence` termina con el sufijo `old`.\n",
    "    #   - Si la oración termina con el sufijo antiguo, continúa con el siguiente paso. De lo contrario, retorna la oración original sin cambios.\n",
    "\n",
    "        # 3. Determinar la posición del sufijo antiguo:\n",
    "        #   - Asignale a la variable (i) la posición en la oración (sentence) donde comienza el sufijo antiguo\n",
    "        # restando la longitud del sufijo antiguo (`old`) de la longitud total de la oración.\n",
    "\n",
    "        #4. Crear la nueva oración:\n",
    "        # - Asignale a la variable (new_sentence) la porción de la oración desde el inicio hasta la posición calculada del sufijo antiguo.\n",
    "        # - Concatena esta porción con el sufijo nuevo (`new`).\n",
    "\n",
    "        # 5. Retornar la nueva oración:\n",
    "\n",
    "\n",
    "    # - Devuelve la nueva oración obtenida después de reemplazar el sufijo antiguo con el sufijo nuevo.\n",
    "\n",
    "\n",
    "\n",
    "# 6. Imprimir los resultados:\n",
    "# - Llama a la función `replace_ending` con diferentes oraciones y sufijos antiguos y nuevos para probarla.\n",
    "# - Imprime los resultados para verificar que la función esté funcionando correctamente.\n",
    "print(replace_ending(\"It's raining cats and cats\", \"cats\", \"dogs\")) # Should display \"It's raining cats and dogs\"\n",
    "print(replace_ending(\"She sells seashells by the seashore\", \"seashells\", \"donuts\")) # Should display \"She sells seashells by the seashore\"\n",
    "print(replace_ending(\"The weather is nice in May\", \"may\", \"april\")) # Should display \"The weather is nice in May\"\n",
    "print(replace_ending(\"The weather is nice in May\", \"May\", \"April\")) # Should display \"The weather is nice in April\"\n"
   ]
  },
  {
   "cell_type": "markdown",
   "metadata": {},
   "source": [
    "***"
   ]
  },
  {
   "cell_type": "code",
   "execution_count": null,
   "metadata": {},
   "outputs": [],
   "source": [
    "\n",
    "def replace_ending(sentence, old, new):\n",
    "    if sentence.endswith(old):\n",
    "        i = len(sentence) - len(old)\n",
    "        new_sentence = sentence[:i] + new\n",
    "        return new_sentence\n",
    "    return sentence\n",
    "\n",
    "print(replace_ending(\"It's raining cats and cats\", \"cats\", \"dogs\"))\n",
    "print(replace_ending(\"She sells seashells by the seashore\", \"seashells\", \"donuts\"))\n",
    "print(replace_ending(\"The weather is nice in May\", \"may\", \"april\"))\n",
    "print(replace_ending(\"The weather is nice in May\", \"May\", \"April\"))\n"
   ]
  }
 ],
 "metadata": {
  "kernelspec": {
   "display_name": "Python 3 (ipykernel)",
   "language": "python",
   "name": "python3"
  },
  "language_info": {
   "codemirror_mode": {
    "name": "ipython",
    "version": 3
   },
   "file_extension": ".py",
   "mimetype": "text/x-python",
   "name": "python",
   "nbconvert_exporter": "python",
   "pygments_lexer": "ipython3",
   "version": "3.11.7"
  }
 },
 "nbformat": 4,
 "nbformat_minor": 4
}
