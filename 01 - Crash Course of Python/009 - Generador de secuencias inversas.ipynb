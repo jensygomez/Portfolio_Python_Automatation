{
 "cells": [
  {
   "cell_type": "markdown",
   "metadata": {},
   "source": [
    "**Author:**       Jensy Gregorio Gómez \n",
    "---------------------------------------\n",
    "**Profession:**  IT Support Analyst and Automatation with Python\n",
    "\n",
    "**Date:**         11 March 2024     \n",
    "\n",
    "**Modified** 15 March 2024 --> 27 March 2024 --> 05 May 2025\n",
    "\n",
    "**Location:**     Vila Izabel, Curitiba/PR  \n",
    "\n",
    "\n",
    "---\n",
    "\n",
    "**Contacto:**\n",
    "\n",
    "- **Email:** [contact@jensygomez.us](mailto:contact@jensygomez.us)\n",
    "- **YouTube:** [Tu Canal de YouTube](https://www.youtube.com/@systechcwb826)\n",
    "- **LinkedIn:** [Tu Perfil de LinkedIn](https://www.linkedin.com/in/jensygomez/)\n",
    "\n",
    "\n"
   ]
  },
  {
   "cell_type": "markdown",
   "metadata": {},
   "source": [
    "**Título:** \n",
    "# Generador de secuencias inversas\n",
    "\n",
    "**Escenario:** En un mundo digital donde las secuencias numéricas son fundamentales para diversas aplicaciones, se necesita un generador de secuencias inversas que produzca series descendentes de números desde un valor alto hasta un valor bajo. Este generador puede ser útil en situaciones donde se requiere imprimir o visualizar secuencias numéricas en orden inverso.\n",
    "\n",
    "\n",
    "\n",
    "**Pasos a seguir:**\n",
    "1. **Definición de la función:** Se define una función llamada `sequence` que toma dos parámetros: `low` (bajo) y `high` (alto), que representan los límites inferior y superior de la secuencia respectivamente.\n",
    "   \n",
    "2. **Iteración para imprimir la secuencia inversa:** Dentro de la función `sequence`, hay un bucle for que se ejecuta dos veces. Esto se hace para imprimir dos líneas de secuencia inversa.\n",
    "   \n",
    "3. **Bucle interno:** Dentro del bucle externo, hay otro bucle for que itera sobre los valores de `high` a `low`, imprimiendo cada valor en orden inverso.\n",
    "   \n",
    "4. **Impresión de los valores:** Cada valor de la secuencia se imprime seguido de una coma y un espacio, excepto el último valor que se imprime sin coma adicional. Se incluye una condición `if` para verificar si el valor actual es igual a `low`, en cuyo caso no se imprime la coma y el espacio adicionales.\n",
    "   \n",
    "5. **Nueva línea:** Después de imprimir todos los valores de la secuencia en una línea, se imprime una nueva línea para separar las dos líneas de secuencia.\n",
    "   \n",
    "6. **Prueba de la función:** Se realiza una prueba de la función `sequence` con los parámetros `1` y `5`, lo que debería generar dos líneas de secuencia inversa: una desde `5` hasta `1`, y otra desde `5` hasta `1` nuevamente."
   ]
  },
  {
   "cell_type": "code",
   "execution_count": 1,
   "metadata": {},
   "outputs": [
    {
     "name": "stdout",
     "output_type": "stream",
     "text": [
      "10, 9, 8, 7, 6, 5, 4, 3, 2, 1\n",
      "10, 9, 8, 7, 6, 5, 4, 3, 2, 1\n"
     ]
    }
   ],
   "source": [
    "\n",
    "# 1.Se define una función llamada `sequence` que toma dos parámetros: `low` (bajo) y `high` (alto),\n",
    "# que representan los límites inferior y superior de la secuencia respectivamente.\n",
    "\n",
    "    # 2. Dentro de la función `sequence`, hay un bucle for  (x) que se ejecuta dos veces. Esto se hace para imprimir dos líneas de secuencia inversa.\n",
    "\n",
    "        # 3. Dentro del bucle externo, hay otro bucle for (y) que itera sobre los valores de `high` a `low`, imprimiendo cada valor en orden inverso.\n",
    "\n",
    "            # Se incluye una condición `if` para verificar si el valor actual es igual a `low`, en cuyo caso no se imprime la coma y el espacio adicionales.\n",
    "\n",
    "\n",
    "            # en cao contrario (else)\n",
    "\n",
    "                # 4. Cada valor de la secuencia se imprime seguido de una coma y un espacio, excepto el último valor que se imprime sin coma adicional. \n",
    "\n",
    "            \n",
    "        # 5. Después de imprimir todos los valores de la secuencia en una línea, \n",
    "        # se imprime una nueva línea para separar las dos líneas de secuencia.\n",
    "\n",
    "# 6. Se realiza una prueba de la función `sequence` con los parámetros `1` y `5`, lo que debería generar dos líneas de secuencia inversa: una desde `5` hasta `1`, y otra desde `5` hasta `1` nuevamente.       \n",
    "\n",
    "\n",
    "# Should print the sequence 3, 2, 1 two times, as shown above.\n"
   ]
  },
  {
   "cell_type": "code",
   "execution_count": 7,
   "metadata": {},
   "outputs": [
    {
     "name": "stdout",
     "output_type": "stream",
     "text": [
      "5, 4, 3, 2, 1\n",
      "5, 4, 3, 2, 1\n"
     ]
    }
   ],
   "source": [
    "def sequence(low, high):\n",
    "    for _ in range(2):\n",
    "        for y in range(high, low - 1, -1):\n",
    "            if y == low:\n",
    "                print(y, end='')\n",
    "            else:\n",
    "                print(y, end=', ')\n",
    "        print()\n",
    "\n",
    "# Test the function\n",
    "sequence(1, 5)\n",
    "\n"
   ]
  }
 ],
 "metadata": {
  "kernelspec": {
   "display_name": "Python 3 (ipykernel)",
   "language": "python",
   "name": "python3"
  },
  "language_info": {
   "codemirror_mode": {
    "name": "ipython",
    "version": 3
   },
   "file_extension": ".py",
   "mimetype": "text/x-python",
   "name": "python",
   "nbconvert_exporter": "python",
   "pygments_lexer": "ipython3",
   "version": "3.11.7"
  }
 },
 "nbformat": 4,
 "nbformat_minor": 4
}
