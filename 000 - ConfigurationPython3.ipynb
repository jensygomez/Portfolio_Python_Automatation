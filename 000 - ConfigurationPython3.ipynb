{
 "cells": [
  {
   "cell_type": "markdown",
   "id": "1e1451c9-7299-4a2a-9fc1-7ff00355c0e5",
   "metadata": {},
   "source": [
    "### Step 1: Update the system"
   ]
  },
  {
   "cell_type": "code",
   "execution_count": null,
   "id": "a500992a-bcfa-4c48-bb52-275764965958",
   "metadata": {},
   "outputs": [],
   "source": [
    "sudo apt update\n",
    "sudo apt upgrade"
   ]
  },
  {
   "cell_type": "code",
   "execution_count": null,
   "id": "2311438f-aa8f-4496-8c9f-31ace56aaef9",
   "metadata": {},
   "outputs": [],
   "source": []
  },
  {
   "cell_type": "markdown",
   "id": "06ad5848-1437-48dc-a141-b6c73778099c",
   "metadata": {},
   "source": [
    "### Step 2: Install Python 3 and pip"
   ]
  },
  {
   "cell_type": "code",
   "execution_count": null,
   "id": "dbffef2a-9abb-4e2a-936e-a5fbb0fd9b99",
   "metadata": {},
   "outputs": [],
   "source": [
    "sudo apt install python3\n",
    "sudo apt install python3-pip"
   ]
  },
  {
   "cell_type": "code",
   "execution_count": null,
   "id": "7e84f9ee-91a5-499e-811c-20e2d3176294",
   "metadata": {},
   "outputs": [],
   "source": []
  },
  {
   "cell_type": "markdown",
   "id": "26490971-2604-4fb1-a089-6a753cdbb048",
   "metadata": {},
   "source": [
    "### Step 3: Verify Python 3 installation"
   ]
  },
  {
   "cell_type": "code",
   "execution_count": null,
   "id": "1ac9016c-ba6e-4152-8548-99aa3aa7a2a4",
   "metadata": {},
   "outputs": [],
   "source": [
    "python3 --version"
   ]
  },
  {
   "cell_type": "code",
   "execution_count": null,
   "id": "fc5488da-89ed-48b3-8634-e1d0e3b12a44",
   "metadata": {},
   "outputs": [],
   "source": []
  },
  {
   "cell_type": "markdown",
   "id": "6b6e5181-273e-4fa6-aed3-8d9bd93f8288",
   "metadata": {},
   "source": [
    "### Step 4: Verify pip installation"
   ]
  },
  {
   "cell_type": "code",
   "execution_count": null,
   "id": "c4ae5aa0-a450-4383-a97a-18a82bdd3d59",
   "metadata": {},
   "outputs": [],
   "source": [
    "pip3 --version"
   ]
  },
  {
   "cell_type": "code",
   "execution_count": null,
   "id": "2620479c-1b92-4235-978d-7d7af7a0d258",
   "metadata": {},
   "outputs": [],
   "source": []
  },
  {
   "cell_type": "markdown",
   "id": "e8ed1d6d-ce51-4664-a6c2-185e5151023e",
   "metadata": {},
   "source": [
    "### Step 5: Install Pandas"
   ]
  },
  {
   "cell_type": "code",
   "execution_count": null,
   "id": "768b7d06-a229-423e-bd94-bb4c64a17007",
   "metadata": {},
   "outputs": [],
   "source": [
    "pip3 install pandas"
   ]
  },
  {
   "cell_type": "code",
   "execution_count": null,
   "id": "749a13e0-2949-4995-9e5e-892ad5cc42c1",
   "metadata": {},
   "outputs": [],
   "source": []
  }
 ],
 "metadata": {
  "kernelspec": {
   "display_name": "Python 3 (ipykernel)",
   "language": "python",
   "name": "python3"
  },
  "language_info": {
   "codemirror_mode": {
    "name": "ipython",
    "version": 3
   },
   "file_extension": ".py",
   "mimetype": "text/x-python",
   "name": "python",
   "nbconvert_exporter": "python",
   "pygments_lexer": "ipython3",
   "version": "3.11.7"
  }
 },
 "nbformat": 4,
 "nbformat_minor": 5
}
